{
 "cells": [
  {
   "cell_type": "code",
   "execution_count": 1,
   "id": "7de9b657",
   "metadata": {
    "_cell_guid": "b1076dfc-b9ad-4769-8c92-a6c4dae69d19",
    "_uuid": "8f2839f25d086af736a60e9eeb907d3b93b6e0e5",
    "execution": {
     "iopub.execute_input": "2022-03-16T04:04:45.258073Z",
     "iopub.status.busy": "2022-03-16T04:04:45.256724Z",
     "iopub.status.idle": "2022-03-16T04:04:45.277083Z",
     "shell.execute_reply": "2022-03-16T04:04:45.278064Z",
     "shell.execute_reply.started": "2022-03-16T02:53:27.884985Z"
    },
    "papermill": {
     "duration": 0.061211,
     "end_time": "2022-03-16T04:04:45.278418",
     "exception": false,
     "start_time": "2022-03-16T04:04:45.217207",
     "status": "completed"
    },
    "tags": []
   },
   "outputs": [],
   "source": [
    "import numpy as np # linear algebra\n",
    "import pandas as pd # data processing, CSV file I/O (e.g. pd.read_csv)\\\n",
    "pd.set_option('display.max_columns', None)\n"
   ]
  },
  {
   "cell_type": "code",
   "execution_count": 2,
   "id": "6f6238fd",
   "metadata": {
    "execution": {
     "iopub.execute_input": "2022-03-16T04:04:45.356998Z",
     "iopub.status.busy": "2022-03-16T04:04:45.356122Z",
     "iopub.status.idle": "2022-03-16T04:04:50.561151Z",
     "shell.execute_reply": "2022-03-16T04:04:50.560439Z",
     "shell.execute_reply.started": "2022-03-16T02:53:27.929426Z"
    },
    "papermill": {
     "duration": 5.245385,
     "end_time": "2022-03-16T04:04:50.561314",
     "exception": false,
     "start_time": "2022-03-16T04:04:45.315929",
     "status": "completed"
    },
    "tags": []
   },
   "outputs": [],
   "source": [
    "df = pd.read_csv('../input/creditcardfraud/creditcard.csv')"
   ]
  },
  {
   "cell_type": "code",
   "execution_count": 3,
   "id": "14b99872",
   "metadata": {
    "execution": {
     "iopub.execute_input": "2022-03-16T04:04:50.638107Z",
     "iopub.status.busy": "2022-03-16T04:04:50.637143Z",
     "iopub.status.idle": "2022-03-16T04:04:50.678149Z",
     "shell.execute_reply": "2022-03-16T04:04:50.677495Z",
     "shell.execute_reply.started": "2022-03-16T02:53:31.909209Z"
    },
    "papermill": {
     "duration": 0.084091,
     "end_time": "2022-03-16T04:04:50.678297",
     "exception": false,
     "start_time": "2022-03-16T04:04:50.594206",
     "status": "completed"
    },
    "tags": []
   },
   "outputs": [
    {
     "data": {
      "text/html": [
       "<div>\n",
       "<style scoped>\n",
       "    .dataframe tbody tr th:only-of-type {\n",
       "        vertical-align: middle;\n",
       "    }\n",
       "\n",
       "    .dataframe tbody tr th {\n",
       "        vertical-align: top;\n",
       "    }\n",
       "\n",
       "    .dataframe thead th {\n",
       "        text-align: right;\n",
       "    }\n",
       "</style>\n",
       "<table border=\"1\" class=\"dataframe\">\n",
       "  <thead>\n",
       "    <tr style=\"text-align: right;\">\n",
       "      <th></th>\n",
       "      <th>Time</th>\n",
       "      <th>V1</th>\n",
       "      <th>V2</th>\n",
       "      <th>V3</th>\n",
       "      <th>V4</th>\n",
       "      <th>V5</th>\n",
       "      <th>V6</th>\n",
       "      <th>V7</th>\n",
       "      <th>V8</th>\n",
       "      <th>V9</th>\n",
       "      <th>V10</th>\n",
       "      <th>V11</th>\n",
       "      <th>V12</th>\n",
       "      <th>V13</th>\n",
       "      <th>V14</th>\n",
       "      <th>V15</th>\n",
       "      <th>V16</th>\n",
       "      <th>V17</th>\n",
       "      <th>V18</th>\n",
       "      <th>V19</th>\n",
       "      <th>V20</th>\n",
       "      <th>V21</th>\n",
       "      <th>V22</th>\n",
       "      <th>V23</th>\n",
       "      <th>V24</th>\n",
       "      <th>V25</th>\n",
       "      <th>V26</th>\n",
       "      <th>V27</th>\n",
       "      <th>V28</th>\n",
       "      <th>Amount</th>\n",
       "      <th>Class</th>\n",
       "    </tr>\n",
       "  </thead>\n",
       "  <tbody>\n",
       "    <tr>\n",
       "      <th>0</th>\n",
       "      <td>0.0</td>\n",
       "      <td>-1.359807</td>\n",
       "      <td>-0.072781</td>\n",
       "      <td>2.536347</td>\n",
       "      <td>1.378155</td>\n",
       "      <td>-0.338321</td>\n",
       "      <td>0.462388</td>\n",
       "      <td>0.239599</td>\n",
       "      <td>0.098698</td>\n",
       "      <td>0.363787</td>\n",
       "      <td>0.090794</td>\n",
       "      <td>-0.551600</td>\n",
       "      <td>-0.617801</td>\n",
       "      <td>-0.991390</td>\n",
       "      <td>-0.311169</td>\n",
       "      <td>1.468177</td>\n",
       "      <td>-0.470401</td>\n",
       "      <td>0.207971</td>\n",
       "      <td>0.025791</td>\n",
       "      <td>0.403993</td>\n",
       "      <td>0.251412</td>\n",
       "      <td>-0.018307</td>\n",
       "      <td>0.277838</td>\n",
       "      <td>-0.110474</td>\n",
       "      <td>0.066928</td>\n",
       "      <td>0.128539</td>\n",
       "      <td>-0.189115</td>\n",
       "      <td>0.133558</td>\n",
       "      <td>-0.021053</td>\n",
       "      <td>149.62</td>\n",
       "      <td>0</td>\n",
       "    </tr>\n",
       "    <tr>\n",
       "      <th>1</th>\n",
       "      <td>0.0</td>\n",
       "      <td>1.191857</td>\n",
       "      <td>0.266151</td>\n",
       "      <td>0.166480</td>\n",
       "      <td>0.448154</td>\n",
       "      <td>0.060018</td>\n",
       "      <td>-0.082361</td>\n",
       "      <td>-0.078803</td>\n",
       "      <td>0.085102</td>\n",
       "      <td>-0.255425</td>\n",
       "      <td>-0.166974</td>\n",
       "      <td>1.612727</td>\n",
       "      <td>1.065235</td>\n",
       "      <td>0.489095</td>\n",
       "      <td>-0.143772</td>\n",
       "      <td>0.635558</td>\n",
       "      <td>0.463917</td>\n",
       "      <td>-0.114805</td>\n",
       "      <td>-0.183361</td>\n",
       "      <td>-0.145783</td>\n",
       "      <td>-0.069083</td>\n",
       "      <td>-0.225775</td>\n",
       "      <td>-0.638672</td>\n",
       "      <td>0.101288</td>\n",
       "      <td>-0.339846</td>\n",
       "      <td>0.167170</td>\n",
       "      <td>0.125895</td>\n",
       "      <td>-0.008983</td>\n",
       "      <td>0.014724</td>\n",
       "      <td>2.69</td>\n",
       "      <td>0</td>\n",
       "    </tr>\n",
       "    <tr>\n",
       "      <th>2</th>\n",
       "      <td>1.0</td>\n",
       "      <td>-1.358354</td>\n",
       "      <td>-1.340163</td>\n",
       "      <td>1.773209</td>\n",
       "      <td>0.379780</td>\n",
       "      <td>-0.503198</td>\n",
       "      <td>1.800499</td>\n",
       "      <td>0.791461</td>\n",
       "      <td>0.247676</td>\n",
       "      <td>-1.514654</td>\n",
       "      <td>0.207643</td>\n",
       "      <td>0.624501</td>\n",
       "      <td>0.066084</td>\n",
       "      <td>0.717293</td>\n",
       "      <td>-0.165946</td>\n",
       "      <td>2.345865</td>\n",
       "      <td>-2.890083</td>\n",
       "      <td>1.109969</td>\n",
       "      <td>-0.121359</td>\n",
       "      <td>-2.261857</td>\n",
       "      <td>0.524980</td>\n",
       "      <td>0.247998</td>\n",
       "      <td>0.771679</td>\n",
       "      <td>0.909412</td>\n",
       "      <td>-0.689281</td>\n",
       "      <td>-0.327642</td>\n",
       "      <td>-0.139097</td>\n",
       "      <td>-0.055353</td>\n",
       "      <td>-0.059752</td>\n",
       "      <td>378.66</td>\n",
       "      <td>0</td>\n",
       "    </tr>\n",
       "    <tr>\n",
       "      <th>3</th>\n",
       "      <td>1.0</td>\n",
       "      <td>-0.966272</td>\n",
       "      <td>-0.185226</td>\n",
       "      <td>1.792993</td>\n",
       "      <td>-0.863291</td>\n",
       "      <td>-0.010309</td>\n",
       "      <td>1.247203</td>\n",
       "      <td>0.237609</td>\n",
       "      <td>0.377436</td>\n",
       "      <td>-1.387024</td>\n",
       "      <td>-0.054952</td>\n",
       "      <td>-0.226487</td>\n",
       "      <td>0.178228</td>\n",
       "      <td>0.507757</td>\n",
       "      <td>-0.287924</td>\n",
       "      <td>-0.631418</td>\n",
       "      <td>-1.059647</td>\n",
       "      <td>-0.684093</td>\n",
       "      <td>1.965775</td>\n",
       "      <td>-1.232622</td>\n",
       "      <td>-0.208038</td>\n",
       "      <td>-0.108300</td>\n",
       "      <td>0.005274</td>\n",
       "      <td>-0.190321</td>\n",
       "      <td>-1.175575</td>\n",
       "      <td>0.647376</td>\n",
       "      <td>-0.221929</td>\n",
       "      <td>0.062723</td>\n",
       "      <td>0.061458</td>\n",
       "      <td>123.50</td>\n",
       "      <td>0</td>\n",
       "    </tr>\n",
       "    <tr>\n",
       "      <th>4</th>\n",
       "      <td>2.0</td>\n",
       "      <td>-1.158233</td>\n",
       "      <td>0.877737</td>\n",
       "      <td>1.548718</td>\n",
       "      <td>0.403034</td>\n",
       "      <td>-0.407193</td>\n",
       "      <td>0.095921</td>\n",
       "      <td>0.592941</td>\n",
       "      <td>-0.270533</td>\n",
       "      <td>0.817739</td>\n",
       "      <td>0.753074</td>\n",
       "      <td>-0.822843</td>\n",
       "      <td>0.538196</td>\n",
       "      <td>1.345852</td>\n",
       "      <td>-1.119670</td>\n",
       "      <td>0.175121</td>\n",
       "      <td>-0.451449</td>\n",
       "      <td>-0.237033</td>\n",
       "      <td>-0.038195</td>\n",
       "      <td>0.803487</td>\n",
       "      <td>0.408542</td>\n",
       "      <td>-0.009431</td>\n",
       "      <td>0.798278</td>\n",
       "      <td>-0.137458</td>\n",
       "      <td>0.141267</td>\n",
       "      <td>-0.206010</td>\n",
       "      <td>0.502292</td>\n",
       "      <td>0.219422</td>\n",
       "      <td>0.215153</td>\n",
       "      <td>69.99</td>\n",
       "      <td>0</td>\n",
       "    </tr>\n",
       "  </tbody>\n",
       "</table>\n",
       "</div>"
      ],
      "text/plain": [
       "   Time        V1        V2        V3        V4        V5        V6        V7  \\\n",
       "0   0.0 -1.359807 -0.072781  2.536347  1.378155 -0.338321  0.462388  0.239599   \n",
       "1   0.0  1.191857  0.266151  0.166480  0.448154  0.060018 -0.082361 -0.078803   \n",
       "2   1.0 -1.358354 -1.340163  1.773209  0.379780 -0.503198  1.800499  0.791461   \n",
       "3   1.0 -0.966272 -0.185226  1.792993 -0.863291 -0.010309  1.247203  0.237609   \n",
       "4   2.0 -1.158233  0.877737  1.548718  0.403034 -0.407193  0.095921  0.592941   \n",
       "\n",
       "         V8        V9       V10       V11       V12       V13       V14  \\\n",
       "0  0.098698  0.363787  0.090794 -0.551600 -0.617801 -0.991390 -0.311169   \n",
       "1  0.085102 -0.255425 -0.166974  1.612727  1.065235  0.489095 -0.143772   \n",
       "2  0.247676 -1.514654  0.207643  0.624501  0.066084  0.717293 -0.165946   \n",
       "3  0.377436 -1.387024 -0.054952 -0.226487  0.178228  0.507757 -0.287924   \n",
       "4 -0.270533  0.817739  0.753074 -0.822843  0.538196  1.345852 -1.119670   \n",
       "\n",
       "        V15       V16       V17       V18       V19       V20       V21  \\\n",
       "0  1.468177 -0.470401  0.207971  0.025791  0.403993  0.251412 -0.018307   \n",
       "1  0.635558  0.463917 -0.114805 -0.183361 -0.145783 -0.069083 -0.225775   \n",
       "2  2.345865 -2.890083  1.109969 -0.121359 -2.261857  0.524980  0.247998   \n",
       "3 -0.631418 -1.059647 -0.684093  1.965775 -1.232622 -0.208038 -0.108300   \n",
       "4  0.175121 -0.451449 -0.237033 -0.038195  0.803487  0.408542 -0.009431   \n",
       "\n",
       "        V22       V23       V24       V25       V26       V27       V28  \\\n",
       "0  0.277838 -0.110474  0.066928  0.128539 -0.189115  0.133558 -0.021053   \n",
       "1 -0.638672  0.101288 -0.339846  0.167170  0.125895 -0.008983  0.014724   \n",
       "2  0.771679  0.909412 -0.689281 -0.327642 -0.139097 -0.055353 -0.059752   \n",
       "3  0.005274 -0.190321 -1.175575  0.647376 -0.221929  0.062723  0.061458   \n",
       "4  0.798278 -0.137458  0.141267 -0.206010  0.502292  0.219422  0.215153   \n",
       "\n",
       "   Amount  Class  \n",
       "0  149.62      0  \n",
       "1    2.69      0  \n",
       "2  378.66      0  \n",
       "3  123.50      0  \n",
       "4   69.99      0  "
      ]
     },
     "execution_count": 3,
     "metadata": {},
     "output_type": "execute_result"
    }
   ],
   "source": [
    "df.head()"
   ]
  },
  {
   "cell_type": "code",
   "execution_count": 4,
   "id": "623673cb",
   "metadata": {
    "execution": {
     "iopub.execute_input": "2022-03-16T04:04:50.750976Z",
     "iopub.status.busy": "2022-03-16T04:04:50.748529Z",
     "iopub.status.idle": "2022-03-16T04:04:50.754689Z",
     "shell.execute_reply": "2022-03-16T04:04:50.755269Z",
     "shell.execute_reply.started": "2022-03-16T02:53:31.947094Z"
    },
    "papermill": {
     "duration": 0.044246,
     "end_time": "2022-03-16T04:04:50.755497",
     "exception": false,
     "start_time": "2022-03-16T04:04:50.711251",
     "status": "completed"
    },
    "tags": []
   },
   "outputs": [
    {
     "data": {
      "text/plain": [
       "(284807, 31)"
      ]
     },
     "execution_count": 4,
     "metadata": {},
     "output_type": "execute_result"
    }
   ],
   "source": [
    "df.shape"
   ]
  },
  {
   "cell_type": "code",
   "execution_count": 5,
   "id": "90db3a60",
   "metadata": {
    "execution": {
     "iopub.execute_input": "2022-03-16T04:04:50.836105Z",
     "iopub.status.busy": "2022-03-16T04:04:50.834206Z",
     "iopub.status.idle": "2022-03-16T04:04:50.885491Z",
     "shell.execute_reply": "2022-03-16T04:04:50.884633Z",
     "shell.execute_reply.started": "2022-03-16T02:53:31.955604Z"
    },
    "papermill": {
     "duration": 0.095666,
     "end_time": "2022-03-16T04:04:50.885739",
     "exception": false,
     "start_time": "2022-03-16T04:04:50.790073",
     "status": "completed"
    },
    "tags": []
   },
   "outputs": [
    {
     "name": "stdout",
     "output_type": "stream",
     "text": [
      "<class 'pandas.core.frame.DataFrame'>\n",
      "RangeIndex: 284807 entries, 0 to 284806\n",
      "Data columns (total 31 columns):\n",
      " #   Column  Non-Null Count   Dtype  \n",
      "---  ------  --------------   -----  \n",
      " 0   Time    284807 non-null  float64\n",
      " 1   V1      284807 non-null  float64\n",
      " 2   V2      284807 non-null  float64\n",
      " 3   V3      284807 non-null  float64\n",
      " 4   V4      284807 non-null  float64\n",
      " 5   V5      284807 non-null  float64\n",
      " 6   V6      284807 non-null  float64\n",
      " 7   V7      284807 non-null  float64\n",
      " 8   V8      284807 non-null  float64\n",
      " 9   V9      284807 non-null  float64\n",
      " 10  V10     284807 non-null  float64\n",
      " 11  V11     284807 non-null  float64\n",
      " 12  V12     284807 non-null  float64\n",
      " 13  V13     284807 non-null  float64\n",
      " 14  V14     284807 non-null  float64\n",
      " 15  V15     284807 non-null  float64\n",
      " 16  V16     284807 non-null  float64\n",
      " 17  V17     284807 non-null  float64\n",
      " 18  V18     284807 non-null  float64\n",
      " 19  V19     284807 non-null  float64\n",
      " 20  V20     284807 non-null  float64\n",
      " 21  V21     284807 non-null  float64\n",
      " 22  V22     284807 non-null  float64\n",
      " 23  V23     284807 non-null  float64\n",
      " 24  V24     284807 non-null  float64\n",
      " 25  V25     284807 non-null  float64\n",
      " 26  V26     284807 non-null  float64\n",
      " 27  V27     284807 non-null  float64\n",
      " 28  V28     284807 non-null  float64\n",
      " 29  Amount  284807 non-null  float64\n",
      " 30  Class   284807 non-null  int64  \n",
      "dtypes: float64(30), int64(1)\n",
      "memory usage: 67.4 MB\n"
     ]
    }
   ],
   "source": [
    "df.info()"
   ]
  },
  {
   "cell_type": "code",
   "execution_count": 6,
   "id": "4d14d297",
   "metadata": {
    "execution": {
     "iopub.execute_input": "2022-03-16T04:04:50.963322Z",
     "iopub.status.busy": "2022-03-16T04:04:50.962679Z",
     "iopub.status.idle": "2022-03-16T04:04:50.966289Z",
     "shell.execute_reply": "2022-03-16T04:04:50.965650Z",
     "shell.execute_reply.started": "2022-03-16T02:53:32.011703Z"
    },
    "papermill": {
     "duration": 0.045146,
     "end_time": "2022-03-16T04:04:50.966429",
     "exception": false,
     "start_time": "2022-03-16T04:04:50.921283",
     "status": "completed"
    },
    "tags": []
   },
   "outputs": [
    {
     "data": {
      "text/plain": [
       "0    284315\n",
       "1       492\n",
       "Name: Class, dtype: int64"
      ]
     },
     "execution_count": 6,
     "metadata": {},
     "output_type": "execute_result"
    }
   ],
   "source": [
    "df.Class.value_counts()"
   ]
  },
  {
   "cell_type": "code",
   "execution_count": 7,
   "id": "5b972878",
   "metadata": {
    "execution": {
     "iopub.execute_input": "2022-03-16T04:04:51.037456Z",
     "iopub.status.busy": "2022-03-16T04:04:51.036792Z",
     "iopub.status.idle": "2022-03-16T04:04:51.040312Z",
     "shell.execute_reply": "2022-03-16T04:04:51.039705Z",
     "shell.execute_reply.started": "2022-03-16T02:53:32.022211Z"
    },
    "papermill": {
     "duration": 0.039478,
     "end_time": "2022-03-16T04:04:51.040478",
     "exception": false,
     "start_time": "2022-03-16T04:04:51.001000",
     "status": "completed"
    },
    "tags": []
   },
   "outputs": [],
   "source": [
    "### Data is highly imbalanced as can be seen above, we'll try using SMOTE technique"
   ]
  },
  {
   "cell_type": "code",
   "execution_count": 8,
   "id": "d1d873ae",
   "metadata": {
    "execution": {
     "iopub.execute_input": "2022-03-16T04:04:51.148133Z",
     "iopub.status.busy": "2022-03-16T04:04:51.147186Z",
     "iopub.status.idle": "2022-03-16T04:04:51.150621Z",
     "shell.execute_reply": "2022-03-16T04:04:51.150003Z",
     "shell.execute_reply.started": "2022-03-16T02:53:32.036426Z"
    },
    "papermill": {
     "duration": 0.076839,
     "end_time": "2022-03-16T04:04:51.150822",
     "exception": false,
     "start_time": "2022-03-16T04:04:51.073983",
     "status": "completed"
    },
    "tags": []
   },
   "outputs": [],
   "source": [
    "## Split the data into dependent and independent features\n",
    "\n",
    "X = df.iloc[:, :-1]\n",
    "y = df.iloc[:,-1]"
   ]
  },
  {
   "cell_type": "code",
   "execution_count": 9,
   "id": "04a3c097",
   "metadata": {
    "execution": {
     "iopub.execute_input": "2022-03-16T04:04:51.230611Z",
     "iopub.status.busy": "2022-03-16T04:04:51.229825Z",
     "iopub.status.idle": "2022-03-16T04:04:52.496882Z",
     "shell.execute_reply": "2022-03-16T04:04:52.496210Z",
     "shell.execute_reply.started": "2022-03-16T03:14:54.886206Z"
    },
    "papermill": {
     "duration": 1.309165,
     "end_time": "2022-03-16T04:04:52.497024",
     "exception": false,
     "start_time": "2022-03-16T04:04:51.187859",
     "status": "completed"
    },
    "tags": []
   },
   "outputs": [],
   "source": [
    "## normalizing amount column\n",
    "\n",
    "from sklearn.preprocessing import StandardScaler\n",
    "\n",
    "df['normalAmount'] = StandardScaler().fit_transform(np.array(df['Amount']).reshape(-1,1))"
   ]
  },
  {
   "cell_type": "code",
   "execution_count": 10,
   "id": "11b8358d",
   "metadata": {
    "execution": {
     "iopub.execute_input": "2022-03-16T04:04:52.578677Z",
     "iopub.status.busy": "2022-03-16T04:04:52.577883Z",
     "iopub.status.idle": "2022-03-16T04:04:52.604164Z",
     "shell.execute_reply": "2022-03-16T04:04:52.604828Z",
     "shell.execute_reply.started": "2022-03-16T03:15:16.832100Z"
    },
    "papermill": {
     "duration": 0.073391,
     "end_time": "2022-03-16T04:04:52.605010",
     "exception": false,
     "start_time": "2022-03-16T04:04:52.531619",
     "status": "completed"
    },
    "tags": []
   },
   "outputs": [
    {
     "data": {
      "text/html": [
       "<div>\n",
       "<style scoped>\n",
       "    .dataframe tbody tr th:only-of-type {\n",
       "        vertical-align: middle;\n",
       "    }\n",
       "\n",
       "    .dataframe tbody tr th {\n",
       "        vertical-align: top;\n",
       "    }\n",
       "\n",
       "    .dataframe thead th {\n",
       "        text-align: right;\n",
       "    }\n",
       "</style>\n",
       "<table border=\"1\" class=\"dataframe\">\n",
       "  <thead>\n",
       "    <tr style=\"text-align: right;\">\n",
       "      <th></th>\n",
       "      <th>Time</th>\n",
       "      <th>V1</th>\n",
       "      <th>V2</th>\n",
       "      <th>V3</th>\n",
       "      <th>V4</th>\n",
       "      <th>V5</th>\n",
       "      <th>V6</th>\n",
       "      <th>V7</th>\n",
       "      <th>V8</th>\n",
       "      <th>V9</th>\n",
       "      <th>V10</th>\n",
       "      <th>V11</th>\n",
       "      <th>V12</th>\n",
       "      <th>V13</th>\n",
       "      <th>V14</th>\n",
       "      <th>V15</th>\n",
       "      <th>V16</th>\n",
       "      <th>V17</th>\n",
       "      <th>V18</th>\n",
       "      <th>V19</th>\n",
       "      <th>V20</th>\n",
       "      <th>V21</th>\n",
       "      <th>V22</th>\n",
       "      <th>V23</th>\n",
       "      <th>V24</th>\n",
       "      <th>V25</th>\n",
       "      <th>V26</th>\n",
       "      <th>V27</th>\n",
       "      <th>V28</th>\n",
       "      <th>Amount</th>\n",
       "      <th>Class</th>\n",
       "      <th>normalAmount</th>\n",
       "    </tr>\n",
       "  </thead>\n",
       "  <tbody>\n",
       "    <tr>\n",
       "      <th>0</th>\n",
       "      <td>0.0</td>\n",
       "      <td>-1.359807</td>\n",
       "      <td>-0.072781</td>\n",
       "      <td>2.536347</td>\n",
       "      <td>1.378155</td>\n",
       "      <td>-0.338321</td>\n",
       "      <td>0.462388</td>\n",
       "      <td>0.239599</td>\n",
       "      <td>0.098698</td>\n",
       "      <td>0.363787</td>\n",
       "      <td>0.090794</td>\n",
       "      <td>-0.551600</td>\n",
       "      <td>-0.617801</td>\n",
       "      <td>-0.991390</td>\n",
       "      <td>-0.311169</td>\n",
       "      <td>1.468177</td>\n",
       "      <td>-0.470401</td>\n",
       "      <td>0.207971</td>\n",
       "      <td>0.025791</td>\n",
       "      <td>0.403993</td>\n",
       "      <td>0.251412</td>\n",
       "      <td>-0.018307</td>\n",
       "      <td>0.277838</td>\n",
       "      <td>-0.110474</td>\n",
       "      <td>0.066928</td>\n",
       "      <td>0.128539</td>\n",
       "      <td>-0.189115</td>\n",
       "      <td>0.133558</td>\n",
       "      <td>-0.021053</td>\n",
       "      <td>149.62</td>\n",
       "      <td>0</td>\n",
       "      <td>0.244964</td>\n",
       "    </tr>\n",
       "    <tr>\n",
       "      <th>1</th>\n",
       "      <td>0.0</td>\n",
       "      <td>1.191857</td>\n",
       "      <td>0.266151</td>\n",
       "      <td>0.166480</td>\n",
       "      <td>0.448154</td>\n",
       "      <td>0.060018</td>\n",
       "      <td>-0.082361</td>\n",
       "      <td>-0.078803</td>\n",
       "      <td>0.085102</td>\n",
       "      <td>-0.255425</td>\n",
       "      <td>-0.166974</td>\n",
       "      <td>1.612727</td>\n",
       "      <td>1.065235</td>\n",
       "      <td>0.489095</td>\n",
       "      <td>-0.143772</td>\n",
       "      <td>0.635558</td>\n",
       "      <td>0.463917</td>\n",
       "      <td>-0.114805</td>\n",
       "      <td>-0.183361</td>\n",
       "      <td>-0.145783</td>\n",
       "      <td>-0.069083</td>\n",
       "      <td>-0.225775</td>\n",
       "      <td>-0.638672</td>\n",
       "      <td>0.101288</td>\n",
       "      <td>-0.339846</td>\n",
       "      <td>0.167170</td>\n",
       "      <td>0.125895</td>\n",
       "      <td>-0.008983</td>\n",
       "      <td>0.014724</td>\n",
       "      <td>2.69</td>\n",
       "      <td>0</td>\n",
       "      <td>-0.342475</td>\n",
       "    </tr>\n",
       "    <tr>\n",
       "      <th>2</th>\n",
       "      <td>1.0</td>\n",
       "      <td>-1.358354</td>\n",
       "      <td>-1.340163</td>\n",
       "      <td>1.773209</td>\n",
       "      <td>0.379780</td>\n",
       "      <td>-0.503198</td>\n",
       "      <td>1.800499</td>\n",
       "      <td>0.791461</td>\n",
       "      <td>0.247676</td>\n",
       "      <td>-1.514654</td>\n",
       "      <td>0.207643</td>\n",
       "      <td>0.624501</td>\n",
       "      <td>0.066084</td>\n",
       "      <td>0.717293</td>\n",
       "      <td>-0.165946</td>\n",
       "      <td>2.345865</td>\n",
       "      <td>-2.890083</td>\n",
       "      <td>1.109969</td>\n",
       "      <td>-0.121359</td>\n",
       "      <td>-2.261857</td>\n",
       "      <td>0.524980</td>\n",
       "      <td>0.247998</td>\n",
       "      <td>0.771679</td>\n",
       "      <td>0.909412</td>\n",
       "      <td>-0.689281</td>\n",
       "      <td>-0.327642</td>\n",
       "      <td>-0.139097</td>\n",
       "      <td>-0.055353</td>\n",
       "      <td>-0.059752</td>\n",
       "      <td>378.66</td>\n",
       "      <td>0</td>\n",
       "      <td>1.160686</td>\n",
       "    </tr>\n",
       "    <tr>\n",
       "      <th>3</th>\n",
       "      <td>1.0</td>\n",
       "      <td>-0.966272</td>\n",
       "      <td>-0.185226</td>\n",
       "      <td>1.792993</td>\n",
       "      <td>-0.863291</td>\n",
       "      <td>-0.010309</td>\n",
       "      <td>1.247203</td>\n",
       "      <td>0.237609</td>\n",
       "      <td>0.377436</td>\n",
       "      <td>-1.387024</td>\n",
       "      <td>-0.054952</td>\n",
       "      <td>-0.226487</td>\n",
       "      <td>0.178228</td>\n",
       "      <td>0.507757</td>\n",
       "      <td>-0.287924</td>\n",
       "      <td>-0.631418</td>\n",
       "      <td>-1.059647</td>\n",
       "      <td>-0.684093</td>\n",
       "      <td>1.965775</td>\n",
       "      <td>-1.232622</td>\n",
       "      <td>-0.208038</td>\n",
       "      <td>-0.108300</td>\n",
       "      <td>0.005274</td>\n",
       "      <td>-0.190321</td>\n",
       "      <td>-1.175575</td>\n",
       "      <td>0.647376</td>\n",
       "      <td>-0.221929</td>\n",
       "      <td>0.062723</td>\n",
       "      <td>0.061458</td>\n",
       "      <td>123.50</td>\n",
       "      <td>0</td>\n",
       "      <td>0.140534</td>\n",
       "    </tr>\n",
       "    <tr>\n",
       "      <th>4</th>\n",
       "      <td>2.0</td>\n",
       "      <td>-1.158233</td>\n",
       "      <td>0.877737</td>\n",
       "      <td>1.548718</td>\n",
       "      <td>0.403034</td>\n",
       "      <td>-0.407193</td>\n",
       "      <td>0.095921</td>\n",
       "      <td>0.592941</td>\n",
       "      <td>-0.270533</td>\n",
       "      <td>0.817739</td>\n",
       "      <td>0.753074</td>\n",
       "      <td>-0.822843</td>\n",
       "      <td>0.538196</td>\n",
       "      <td>1.345852</td>\n",
       "      <td>-1.119670</td>\n",
       "      <td>0.175121</td>\n",
       "      <td>-0.451449</td>\n",
       "      <td>-0.237033</td>\n",
       "      <td>-0.038195</td>\n",
       "      <td>0.803487</td>\n",
       "      <td>0.408542</td>\n",
       "      <td>-0.009431</td>\n",
       "      <td>0.798278</td>\n",
       "      <td>-0.137458</td>\n",
       "      <td>0.141267</td>\n",
       "      <td>-0.206010</td>\n",
       "      <td>0.502292</td>\n",
       "      <td>0.219422</td>\n",
       "      <td>0.215153</td>\n",
       "      <td>69.99</td>\n",
       "      <td>0</td>\n",
       "      <td>-0.073403</td>\n",
       "    </tr>\n",
       "  </tbody>\n",
       "</table>\n",
       "</div>"
      ],
      "text/plain": [
       "   Time        V1        V2        V3        V4        V5        V6        V7  \\\n",
       "0   0.0 -1.359807 -0.072781  2.536347  1.378155 -0.338321  0.462388  0.239599   \n",
       "1   0.0  1.191857  0.266151  0.166480  0.448154  0.060018 -0.082361 -0.078803   \n",
       "2   1.0 -1.358354 -1.340163  1.773209  0.379780 -0.503198  1.800499  0.791461   \n",
       "3   1.0 -0.966272 -0.185226  1.792993 -0.863291 -0.010309  1.247203  0.237609   \n",
       "4   2.0 -1.158233  0.877737  1.548718  0.403034 -0.407193  0.095921  0.592941   \n",
       "\n",
       "         V8        V9       V10       V11       V12       V13       V14  \\\n",
       "0  0.098698  0.363787  0.090794 -0.551600 -0.617801 -0.991390 -0.311169   \n",
       "1  0.085102 -0.255425 -0.166974  1.612727  1.065235  0.489095 -0.143772   \n",
       "2  0.247676 -1.514654  0.207643  0.624501  0.066084  0.717293 -0.165946   \n",
       "3  0.377436 -1.387024 -0.054952 -0.226487  0.178228  0.507757 -0.287924   \n",
       "4 -0.270533  0.817739  0.753074 -0.822843  0.538196  1.345852 -1.119670   \n",
       "\n",
       "        V15       V16       V17       V18       V19       V20       V21  \\\n",
       "0  1.468177 -0.470401  0.207971  0.025791  0.403993  0.251412 -0.018307   \n",
       "1  0.635558  0.463917 -0.114805 -0.183361 -0.145783 -0.069083 -0.225775   \n",
       "2  2.345865 -2.890083  1.109969 -0.121359 -2.261857  0.524980  0.247998   \n",
       "3 -0.631418 -1.059647 -0.684093  1.965775 -1.232622 -0.208038 -0.108300   \n",
       "4  0.175121 -0.451449 -0.237033 -0.038195  0.803487  0.408542 -0.009431   \n",
       "\n",
       "        V22       V23       V24       V25       V26       V27       V28  \\\n",
       "0  0.277838 -0.110474  0.066928  0.128539 -0.189115  0.133558 -0.021053   \n",
       "1 -0.638672  0.101288 -0.339846  0.167170  0.125895 -0.008983  0.014724   \n",
       "2  0.771679  0.909412 -0.689281 -0.327642 -0.139097 -0.055353 -0.059752   \n",
       "3  0.005274 -0.190321 -1.175575  0.647376 -0.221929  0.062723  0.061458   \n",
       "4  0.798278 -0.137458  0.141267 -0.206010  0.502292  0.219422  0.215153   \n",
       "\n",
       "   Amount  Class  normalAmount  \n",
       "0  149.62      0      0.244964  \n",
       "1    2.69      0     -0.342475  \n",
       "2  378.66      0      1.160686  \n",
       "3  123.50      0      0.140534  \n",
       "4   69.99      0     -0.073403  "
      ]
     },
     "execution_count": 10,
     "metadata": {},
     "output_type": "execute_result"
    }
   ],
   "source": [
    "df.head(5)"
   ]
  },
  {
   "cell_type": "code",
   "execution_count": 11,
   "id": "8dee839a",
   "metadata": {
    "execution": {
     "iopub.execute_input": "2022-03-16T04:04:52.679625Z",
     "iopub.status.busy": "2022-03-16T04:04:52.676697Z",
     "iopub.status.idle": "2022-03-16T04:04:52.789861Z",
     "shell.execute_reply": "2022-03-16T04:04:52.789142Z",
     "shell.execute_reply.started": "2022-03-16T03:16:25.455088Z"
    },
    "papermill": {
     "duration": 0.149529,
     "end_time": "2022-03-16T04:04:52.790017",
     "exception": false,
     "start_time": "2022-03-16T04:04:52.640488",
     "status": "completed"
    },
    "tags": []
   },
   "outputs": [],
   "source": [
    "## Now dropping Time and Amount as they'll be irrelevant for our prediction\n",
    "\n",
    "df = df.drop(['Amount', 'Time'], axis = 1)"
   ]
  },
  {
   "cell_type": "code",
   "execution_count": 12,
   "id": "7e6bb98d",
   "metadata": {
    "execution": {
     "iopub.execute_input": "2022-03-16T04:04:52.888754Z",
     "iopub.status.busy": "2022-03-16T04:04:52.883345Z",
     "iopub.status.idle": "2022-03-16T04:04:52.896151Z",
     "shell.execute_reply": "2022-03-16T04:04:52.895149Z",
     "shell.execute_reply.started": "2022-03-16T03:16:28.789671Z"
    },
    "papermill": {
     "duration": 0.071593,
     "end_time": "2022-03-16T04:04:52.896337",
     "exception": false,
     "start_time": "2022-03-16T04:04:52.824744",
     "status": "completed"
    },
    "tags": []
   },
   "outputs": [
    {
     "data": {
      "text/html": [
       "<div>\n",
       "<style scoped>\n",
       "    .dataframe tbody tr th:only-of-type {\n",
       "        vertical-align: middle;\n",
       "    }\n",
       "\n",
       "    .dataframe tbody tr th {\n",
       "        vertical-align: top;\n",
       "    }\n",
       "\n",
       "    .dataframe thead th {\n",
       "        text-align: right;\n",
       "    }\n",
       "</style>\n",
       "<table border=\"1\" class=\"dataframe\">\n",
       "  <thead>\n",
       "    <tr style=\"text-align: right;\">\n",
       "      <th></th>\n",
       "      <th>V1</th>\n",
       "      <th>V2</th>\n",
       "      <th>V3</th>\n",
       "      <th>V4</th>\n",
       "      <th>V5</th>\n",
       "      <th>V6</th>\n",
       "      <th>V7</th>\n",
       "      <th>V8</th>\n",
       "      <th>V9</th>\n",
       "      <th>V10</th>\n",
       "      <th>V11</th>\n",
       "      <th>V12</th>\n",
       "      <th>V13</th>\n",
       "      <th>V14</th>\n",
       "      <th>V15</th>\n",
       "      <th>V16</th>\n",
       "      <th>V17</th>\n",
       "      <th>V18</th>\n",
       "      <th>V19</th>\n",
       "      <th>V20</th>\n",
       "      <th>V21</th>\n",
       "      <th>V22</th>\n",
       "      <th>V23</th>\n",
       "      <th>V24</th>\n",
       "      <th>V25</th>\n",
       "      <th>V26</th>\n",
       "      <th>V27</th>\n",
       "      <th>V28</th>\n",
       "      <th>Class</th>\n",
       "      <th>normalAmount</th>\n",
       "    </tr>\n",
       "  </thead>\n",
       "  <tbody>\n",
       "    <tr>\n",
       "      <th>0</th>\n",
       "      <td>-1.359807</td>\n",
       "      <td>-0.072781</td>\n",
       "      <td>2.536347</td>\n",
       "      <td>1.378155</td>\n",
       "      <td>-0.338321</td>\n",
       "      <td>0.462388</td>\n",
       "      <td>0.239599</td>\n",
       "      <td>0.098698</td>\n",
       "      <td>0.363787</td>\n",
       "      <td>0.090794</td>\n",
       "      <td>-0.551600</td>\n",
       "      <td>-0.617801</td>\n",
       "      <td>-0.991390</td>\n",
       "      <td>-0.311169</td>\n",
       "      <td>1.468177</td>\n",
       "      <td>-0.470401</td>\n",
       "      <td>0.207971</td>\n",
       "      <td>0.025791</td>\n",
       "      <td>0.403993</td>\n",
       "      <td>0.251412</td>\n",
       "      <td>-0.018307</td>\n",
       "      <td>0.277838</td>\n",
       "      <td>-0.110474</td>\n",
       "      <td>0.066928</td>\n",
       "      <td>0.128539</td>\n",
       "      <td>-0.189115</td>\n",
       "      <td>0.133558</td>\n",
       "      <td>-0.021053</td>\n",
       "      <td>0</td>\n",
       "      <td>0.244964</td>\n",
       "    </tr>\n",
       "    <tr>\n",
       "      <th>1</th>\n",
       "      <td>1.191857</td>\n",
       "      <td>0.266151</td>\n",
       "      <td>0.166480</td>\n",
       "      <td>0.448154</td>\n",
       "      <td>0.060018</td>\n",
       "      <td>-0.082361</td>\n",
       "      <td>-0.078803</td>\n",
       "      <td>0.085102</td>\n",
       "      <td>-0.255425</td>\n",
       "      <td>-0.166974</td>\n",
       "      <td>1.612727</td>\n",
       "      <td>1.065235</td>\n",
       "      <td>0.489095</td>\n",
       "      <td>-0.143772</td>\n",
       "      <td>0.635558</td>\n",
       "      <td>0.463917</td>\n",
       "      <td>-0.114805</td>\n",
       "      <td>-0.183361</td>\n",
       "      <td>-0.145783</td>\n",
       "      <td>-0.069083</td>\n",
       "      <td>-0.225775</td>\n",
       "      <td>-0.638672</td>\n",
       "      <td>0.101288</td>\n",
       "      <td>-0.339846</td>\n",
       "      <td>0.167170</td>\n",
       "      <td>0.125895</td>\n",
       "      <td>-0.008983</td>\n",
       "      <td>0.014724</td>\n",
       "      <td>0</td>\n",
       "      <td>-0.342475</td>\n",
       "    </tr>\n",
       "    <tr>\n",
       "      <th>2</th>\n",
       "      <td>-1.358354</td>\n",
       "      <td>-1.340163</td>\n",
       "      <td>1.773209</td>\n",
       "      <td>0.379780</td>\n",
       "      <td>-0.503198</td>\n",
       "      <td>1.800499</td>\n",
       "      <td>0.791461</td>\n",
       "      <td>0.247676</td>\n",
       "      <td>-1.514654</td>\n",
       "      <td>0.207643</td>\n",
       "      <td>0.624501</td>\n",
       "      <td>0.066084</td>\n",
       "      <td>0.717293</td>\n",
       "      <td>-0.165946</td>\n",
       "      <td>2.345865</td>\n",
       "      <td>-2.890083</td>\n",
       "      <td>1.109969</td>\n",
       "      <td>-0.121359</td>\n",
       "      <td>-2.261857</td>\n",
       "      <td>0.524980</td>\n",
       "      <td>0.247998</td>\n",
       "      <td>0.771679</td>\n",
       "      <td>0.909412</td>\n",
       "      <td>-0.689281</td>\n",
       "      <td>-0.327642</td>\n",
       "      <td>-0.139097</td>\n",
       "      <td>-0.055353</td>\n",
       "      <td>-0.059752</td>\n",
       "      <td>0</td>\n",
       "      <td>1.160686</td>\n",
       "    </tr>\n",
       "    <tr>\n",
       "      <th>3</th>\n",
       "      <td>-0.966272</td>\n",
       "      <td>-0.185226</td>\n",
       "      <td>1.792993</td>\n",
       "      <td>-0.863291</td>\n",
       "      <td>-0.010309</td>\n",
       "      <td>1.247203</td>\n",
       "      <td>0.237609</td>\n",
       "      <td>0.377436</td>\n",
       "      <td>-1.387024</td>\n",
       "      <td>-0.054952</td>\n",
       "      <td>-0.226487</td>\n",
       "      <td>0.178228</td>\n",
       "      <td>0.507757</td>\n",
       "      <td>-0.287924</td>\n",
       "      <td>-0.631418</td>\n",
       "      <td>-1.059647</td>\n",
       "      <td>-0.684093</td>\n",
       "      <td>1.965775</td>\n",
       "      <td>-1.232622</td>\n",
       "      <td>-0.208038</td>\n",
       "      <td>-0.108300</td>\n",
       "      <td>0.005274</td>\n",
       "      <td>-0.190321</td>\n",
       "      <td>-1.175575</td>\n",
       "      <td>0.647376</td>\n",
       "      <td>-0.221929</td>\n",
       "      <td>0.062723</td>\n",
       "      <td>0.061458</td>\n",
       "      <td>0</td>\n",
       "      <td>0.140534</td>\n",
       "    </tr>\n",
       "    <tr>\n",
       "      <th>4</th>\n",
       "      <td>-1.158233</td>\n",
       "      <td>0.877737</td>\n",
       "      <td>1.548718</td>\n",
       "      <td>0.403034</td>\n",
       "      <td>-0.407193</td>\n",
       "      <td>0.095921</td>\n",
       "      <td>0.592941</td>\n",
       "      <td>-0.270533</td>\n",
       "      <td>0.817739</td>\n",
       "      <td>0.753074</td>\n",
       "      <td>-0.822843</td>\n",
       "      <td>0.538196</td>\n",
       "      <td>1.345852</td>\n",
       "      <td>-1.119670</td>\n",
       "      <td>0.175121</td>\n",
       "      <td>-0.451449</td>\n",
       "      <td>-0.237033</td>\n",
       "      <td>-0.038195</td>\n",
       "      <td>0.803487</td>\n",
       "      <td>0.408542</td>\n",
       "      <td>-0.009431</td>\n",
       "      <td>0.798278</td>\n",
       "      <td>-0.137458</td>\n",
       "      <td>0.141267</td>\n",
       "      <td>-0.206010</td>\n",
       "      <td>0.502292</td>\n",
       "      <td>0.219422</td>\n",
       "      <td>0.215153</td>\n",
       "      <td>0</td>\n",
       "      <td>-0.073403</td>\n",
       "    </tr>\n",
       "  </tbody>\n",
       "</table>\n",
       "</div>"
      ],
      "text/plain": [
       "         V1        V2        V3        V4        V5        V6        V7  \\\n",
       "0 -1.359807 -0.072781  2.536347  1.378155 -0.338321  0.462388  0.239599   \n",
       "1  1.191857  0.266151  0.166480  0.448154  0.060018 -0.082361 -0.078803   \n",
       "2 -1.358354 -1.340163  1.773209  0.379780 -0.503198  1.800499  0.791461   \n",
       "3 -0.966272 -0.185226  1.792993 -0.863291 -0.010309  1.247203  0.237609   \n",
       "4 -1.158233  0.877737  1.548718  0.403034 -0.407193  0.095921  0.592941   \n",
       "\n",
       "         V8        V9       V10       V11       V12       V13       V14  \\\n",
       "0  0.098698  0.363787  0.090794 -0.551600 -0.617801 -0.991390 -0.311169   \n",
       "1  0.085102 -0.255425 -0.166974  1.612727  1.065235  0.489095 -0.143772   \n",
       "2  0.247676 -1.514654  0.207643  0.624501  0.066084  0.717293 -0.165946   \n",
       "3  0.377436 -1.387024 -0.054952 -0.226487  0.178228  0.507757 -0.287924   \n",
       "4 -0.270533  0.817739  0.753074 -0.822843  0.538196  1.345852 -1.119670   \n",
       "\n",
       "        V15       V16       V17       V18       V19       V20       V21  \\\n",
       "0  1.468177 -0.470401  0.207971  0.025791  0.403993  0.251412 -0.018307   \n",
       "1  0.635558  0.463917 -0.114805 -0.183361 -0.145783 -0.069083 -0.225775   \n",
       "2  2.345865 -2.890083  1.109969 -0.121359 -2.261857  0.524980  0.247998   \n",
       "3 -0.631418 -1.059647 -0.684093  1.965775 -1.232622 -0.208038 -0.108300   \n",
       "4  0.175121 -0.451449 -0.237033 -0.038195  0.803487  0.408542 -0.009431   \n",
       "\n",
       "        V22       V23       V24       V25       V26       V27       V28  \\\n",
       "0  0.277838 -0.110474  0.066928  0.128539 -0.189115  0.133558 -0.021053   \n",
       "1 -0.638672  0.101288 -0.339846  0.167170  0.125895 -0.008983  0.014724   \n",
       "2  0.771679  0.909412 -0.689281 -0.327642 -0.139097 -0.055353 -0.059752   \n",
       "3  0.005274 -0.190321 -1.175575  0.647376 -0.221929  0.062723  0.061458   \n",
       "4  0.798278 -0.137458  0.141267 -0.206010  0.502292  0.219422  0.215153   \n",
       "\n",
       "   Class  normalAmount  \n",
       "0      0      0.244964  \n",
       "1      0     -0.342475  \n",
       "2      0      1.160686  \n",
       "3      0      0.140534  \n",
       "4      0     -0.073403  "
      ]
     },
     "execution_count": 12,
     "metadata": {},
     "output_type": "execute_result"
    }
   ],
   "source": [
    "df.head()"
   ]
  },
  {
   "cell_type": "code",
   "execution_count": 13,
   "id": "70224a6a",
   "metadata": {
    "execution": {
     "iopub.execute_input": "2022-03-16T04:04:52.975407Z",
     "iopub.status.busy": "2022-03-16T04:04:52.974539Z",
     "iopub.status.idle": "2022-03-16T04:04:53.152169Z",
     "shell.execute_reply": "2022-03-16T04:04:53.151431Z",
     "shell.execute_reply.started": "2022-03-16T03:17:59.813009Z"
    },
    "papermill": {
     "duration": 0.219853,
     "end_time": "2022-03-16T04:04:53.152352",
     "exception": false,
     "start_time": "2022-03-16T04:04:52.932499",
     "status": "completed"
    },
    "tags": []
   },
   "outputs": [],
   "source": [
    "## Now splitting the Data into train and test\n",
    "\n",
    "from sklearn.model_selection import train_test_split\n",
    "\n",
    "X_train, X_test, y_train, y_test = train_test_split(X,y, test_size = 0.25, random_state = 42)"
   ]
  },
  {
   "cell_type": "code",
   "execution_count": 14,
   "id": "3afd9f1e",
   "metadata": {
    "execution": {
     "iopub.execute_input": "2022-03-16T04:04:53.231187Z",
     "iopub.status.busy": "2022-03-16T04:04:53.229630Z",
     "iopub.status.idle": "2022-03-16T04:04:53.234138Z",
     "shell.execute_reply": "2022-03-16T04:04:53.234917Z",
     "shell.execute_reply.started": "2022-03-16T03:18:40.810055Z"
    },
    "papermill": {
     "duration": 0.046389,
     "end_time": "2022-03-16T04:04:53.235282",
     "exception": false,
     "start_time": "2022-03-16T04:04:53.188893",
     "status": "completed"
    },
    "tags": []
   },
   "outputs": [
    {
     "name": "stdout",
     "output_type": "stream",
     "text": [
      "(213605, 30) (71202, 30) (213605,) (71202,)\n"
     ]
    }
   ],
   "source": [
    "print(X_train.shape, X_test.shape, y_train.shape, y_test.shape)"
   ]
  },
  {
   "cell_type": "code",
   "execution_count": 15,
   "id": "2a3afeae",
   "metadata": {
    "execution": {
     "iopub.execute_input": "2022-03-16T04:04:53.317319Z",
     "iopub.status.busy": "2022-03-16T04:04:53.316551Z",
     "iopub.status.idle": "2022-03-16T04:04:53.572095Z",
     "shell.execute_reply": "2022-03-16T04:04:53.572565Z",
     "shell.execute_reply.started": "2022-03-16T03:21:42.705404Z"
    },
    "papermill": {
     "duration": 0.298958,
     "end_time": "2022-03-16T04:04:53.572788",
     "exception": false,
     "start_time": "2022-03-16T04:04:53.273830",
     "status": "completed"
    },
    "tags": []
   },
   "outputs": [],
   "source": [
    "## Now will try prediction first without handling imbalanced data\n",
    "\n",
    "from sklearn.ensemble import RandomForestClassifier"
   ]
  },
  {
   "cell_type": "code",
   "execution_count": 16,
   "id": "d4bdef73",
   "metadata": {
    "execution": {
     "iopub.execute_input": "2022-03-16T04:04:53.651364Z",
     "iopub.status.busy": "2022-03-16T04:04:53.647353Z",
     "iopub.status.idle": "2022-03-16T04:09:46.112444Z",
     "shell.execute_reply": "2022-03-16T04:09:46.113162Z",
     "shell.execute_reply.started": "2022-03-16T03:22:25.102144Z"
    },
    "papermill": {
     "duration": 292.505154,
     "end_time": "2022-03-16T04:09:46.113372",
     "exception": false,
     "start_time": "2022-03-16T04:04:53.608218",
     "status": "completed"
    },
    "tags": []
   },
   "outputs": [
    {
     "data": {
      "text/plain": [
       "RandomForestClassifier()"
      ]
     },
     "execution_count": 16,
     "metadata": {},
     "output_type": "execute_result"
    }
   ],
   "source": [
    "model = RandomForestClassifier()\n",
    "model.fit(X_train, y_train)"
   ]
  },
  {
   "cell_type": "code",
   "execution_count": 17,
   "id": "24a0f25a",
   "metadata": {
    "execution": {
     "iopub.execute_input": "2022-03-16T04:09:46.192401Z",
     "iopub.status.busy": "2022-03-16T04:09:46.191744Z",
     "iopub.status.idle": "2022-03-16T04:09:47.046419Z",
     "shell.execute_reply": "2022-03-16T04:09:47.045254Z",
     "shell.execute_reply.started": "2022-03-16T03:26:14.224116Z"
    },
    "papermill": {
     "duration": 0.896685,
     "end_time": "2022-03-16T04:09:47.046668",
     "exception": false,
     "start_time": "2022-03-16T04:09:46.149983",
     "status": "completed"
    },
    "tags": []
   },
   "outputs": [],
   "source": [
    "prediction = model.predict(X_test)"
   ]
  },
  {
   "cell_type": "code",
   "execution_count": 18,
   "id": "a8cadd1a",
   "metadata": {
    "execution": {
     "iopub.execute_input": "2022-03-16T04:09:47.125848Z",
     "iopub.status.busy": "2022-03-16T04:09:47.125032Z",
     "iopub.status.idle": "2022-03-16T04:09:47.128242Z",
     "shell.execute_reply": "2022-03-16T04:09:47.128844Z",
     "shell.execute_reply.started": "2022-03-16T03:27:01.921443Z"
    },
    "papermill": {
     "duration": 0.046339,
     "end_time": "2022-03-16T04:09:47.129287",
     "exception": false,
     "start_time": "2022-03-16T04:09:47.082948",
     "status": "completed"
    },
    "tags": []
   },
   "outputs": [],
   "source": [
    "from sklearn.metrics import accuracy_score, classification_report, confusion_matrix"
   ]
  },
  {
   "cell_type": "code",
   "execution_count": 19,
   "id": "5d1aac4f",
   "metadata": {
    "execution": {
     "iopub.execute_input": "2022-03-16T04:09:47.207181Z",
     "iopub.status.busy": "2022-03-16T04:09:47.206372Z",
     "iopub.status.idle": "2022-03-16T04:09:47.312665Z",
     "shell.execute_reply": "2022-03-16T04:09:47.313171Z",
     "shell.execute_reply.started": "2022-03-16T03:27:43.785616Z"
    },
    "papermill": {
     "duration": 0.147068,
     "end_time": "2022-03-16T04:09:47.313371",
     "exception": false,
     "start_time": "2022-03-16T04:09:47.166303",
     "status": "completed"
    },
    "tags": []
   },
   "outputs": [
    {
     "name": "stdout",
     "output_type": "stream",
     "text": [
      "0.9996067526193084\n",
      "              precision    recall  f1-score   support\n",
      "\n",
      "           0       1.00      1.00      1.00     71089\n",
      "           1       0.95      0.80      0.87       113\n",
      "\n",
      "    accuracy                           1.00     71202\n",
      "   macro avg       0.97      0.90      0.93     71202\n",
      "weighted avg       1.00      1.00      1.00     71202\n",
      "\n",
      "[[71084     5]\n",
      " [   23    90]]\n"
     ]
    }
   ],
   "source": [
    "print(accuracy_score(y_test, prediction))\n",
    "print(classification_report(y_test, prediction))\n",
    "print(confusion_matrix(y_test, prediction))"
   ]
  },
  {
   "cell_type": "code",
   "execution_count": 20,
   "id": "a8a57dc4",
   "metadata": {
    "execution": {
     "iopub.execute_input": "2022-03-16T04:09:47.390049Z",
     "iopub.status.busy": "2022-03-16T04:09:47.389297Z",
     "iopub.status.idle": "2022-03-16T04:09:47.393805Z",
     "shell.execute_reply": "2022-03-16T04:09:47.393235Z",
     "shell.execute_reply.started": "2022-03-16T03:32:21.745094Z"
    },
    "papermill": {
     "duration": 0.04465,
     "end_time": "2022-03-16T04:09:47.393966",
     "exception": false,
     "start_time": "2022-03-16T04:09:47.349316",
     "status": "completed"
    },
    "tags": []
   },
   "outputs": [],
   "source": [
    "## now as can be seen this model's accuracy comes out to be almost 100% but the recall of the minority class is pretty low, \n",
    "## this means model is more baised towards majority class, so this proves that this model is not the best.\n",
    "## Now we'll apply imbalanced data handling technique and will seee it's result\n"
   ]
  },
  {
   "cell_type": "code",
   "execution_count": 21,
   "id": "c785e574",
   "metadata": {
    "execution": {
     "iopub.execute_input": "2022-03-16T04:09:47.468396Z",
     "iopub.status.busy": "2022-03-16T04:09:47.467520Z",
     "iopub.status.idle": "2022-03-16T04:09:47.627776Z",
     "shell.execute_reply": "2022-03-16T04:09:47.626957Z",
     "shell.execute_reply.started": "2022-03-16T03:36:16.505288Z"
    },
    "papermill": {
     "duration": 0.200042,
     "end_time": "2022-03-16T04:09:47.628023",
     "exception": false,
     "start_time": "2022-03-16T04:09:47.427981",
     "status": "completed"
    },
    "tags": []
   },
   "outputs": [],
   "source": [
    "from imblearn.combine import SMOTETomek \n",
    "from collections import Counter"
   ]
  },
  {
   "cell_type": "code",
   "execution_count": 22,
   "id": "cd9e9506",
   "metadata": {
    "execution": {
     "iopub.execute_input": "2022-03-16T04:09:47.709395Z",
     "iopub.status.busy": "2022-03-16T04:09:47.708652Z",
     "iopub.status.idle": "2022-03-16T04:36:52.314282Z",
     "shell.execute_reply": "2022-03-16T04:36:52.315105Z",
     "shell.execute_reply.started": "2022-03-16T03:36:56.989205Z"
    },
    "papermill": {
     "duration": 1624.650274,
     "end_time": "2022-03-16T04:36:52.315389",
     "exception": false,
     "start_time": "2022-03-16T04:09:47.665115",
     "status": "completed"
    },
    "tags": []
   },
   "outputs": [
    {
     "name": "stderr",
     "output_type": "stream",
     "text": [
      "/opt/conda/lib/python3.7/site-packages/imblearn/utils/_validation.py:590: FutureWarning: Pass sampling_strategy=0.5 as keyword args. From version 0.9 passing these as positional arguments will result in an error\n",
      "  FutureWarning,\n"
     ]
    },
    {
     "name": "stdout",
     "output_type": "stream",
     "text": [
      "The number of classes before fit Counter({0: 213226, 1: 379})\n",
      "The number of classes after fit Counter({0: 212380, 1: 105767})\n"
     ]
    }
   ],
   "source": [
    "smk = SMOTETomek(0.5)\n",
    "X_train_smk, y_train_smk = smk.fit_resample(X_train, y_train)\n",
    "print(\"The number of classes before fit {}\".format(Counter(y_train)))\n",
    "print(\"The number of classes after fit {}\".format(Counter(y_train_smk)))"
   ]
  },
  {
   "cell_type": "code",
   "execution_count": 23,
   "id": "831ca6c5",
   "metadata": {
    "execution": {
     "iopub.execute_input": "2022-03-16T04:36:52.398404Z",
     "iopub.status.busy": "2022-03-16T04:36:52.397361Z",
     "iopub.status.idle": "2022-03-16T04:42:45.175807Z",
     "shell.execute_reply": "2022-03-16T04:42:45.176608Z",
     "shell.execute_reply.started": "2022-03-16T03:54:29.102141Z"
    },
    "papermill": {
     "duration": 352.822265,
     "end_time": "2022-03-16T04:42:45.176912",
     "exception": false,
     "start_time": "2022-03-16T04:36:52.354647",
     "status": "completed"
    },
    "tags": []
   },
   "outputs": [
    {
     "data": {
      "text/plain": [
       "RandomForestClassifier()"
      ]
     },
     "execution_count": 23,
     "metadata": {},
     "output_type": "execute_result"
    }
   ],
   "source": [
    "rfc = RandomForestClassifier()\n",
    "rfc.fit(X_train_smk, y_train_smk)"
   ]
  },
  {
   "cell_type": "code",
   "execution_count": 24,
   "id": "fdb3ac85",
   "metadata": {
    "execution": {
     "iopub.execute_input": "2022-03-16T04:42:45.263419Z",
     "iopub.status.busy": "2022-03-16T04:42:45.261948Z",
     "iopub.status.idle": "2022-03-16T04:42:46.256760Z",
     "shell.execute_reply": "2022-03-16T04:42:46.257253Z",
     "shell.execute_reply.started": "2022-03-16T04:01:01.007739Z"
    },
    "papermill": {
     "duration": 1.043144,
     "end_time": "2022-03-16T04:42:46.257459",
     "exception": false,
     "start_time": "2022-03-16T04:42:45.214315",
     "status": "completed"
    },
    "tags": []
   },
   "outputs": [],
   "source": [
    "preds = rfc.predict(X_test)"
   ]
  },
  {
   "cell_type": "code",
   "execution_count": 25,
   "id": "0bae6b96",
   "metadata": {
    "execution": {
     "iopub.execute_input": "2022-03-16T04:42:46.343261Z",
     "iopub.status.busy": "2022-03-16T04:42:46.342452Z",
     "iopub.status.idle": "2022-03-16T04:42:46.442445Z",
     "shell.execute_reply": "2022-03-16T04:42:46.443418Z",
     "shell.execute_reply.started": "2022-03-16T04:01:45.091255Z"
    },
    "papermill": {
     "duration": 0.14424,
     "end_time": "2022-03-16T04:42:46.443712",
     "exception": false,
     "start_time": "2022-03-16T04:42:46.299472",
     "status": "completed"
    },
    "tags": []
   },
   "outputs": [
    {
     "name": "stdout",
     "output_type": "stream",
     "text": [
      "0.9994663071262043\n",
      "              precision    recall  f1-score   support\n",
      "\n",
      "           0       1.00      1.00      1.00     71089\n",
      "           1       0.82      0.86      0.84       113\n",
      "\n",
      "    accuracy                           1.00     71202\n",
      "   macro avg       0.91      0.93      0.92     71202\n",
      "weighted avg       1.00      1.00      1.00     71202\n",
      "\n",
      "[[71067    22]\n",
      " [   16    97]]\n"
     ]
    }
   ],
   "source": [
    "print(accuracy_score(y_test, preds))\n",
    "print(classification_report(y_test, preds))\n",
    "print(confusion_matrix(y_test, preds))"
   ]
  },
  {
   "cell_type": "code",
   "execution_count": 26,
   "id": "85e84a7b",
   "metadata": {
    "execution": {
     "iopub.execute_input": "2022-03-16T04:42:46.530912Z",
     "iopub.status.busy": "2022-03-16T04:42:46.530121Z",
     "iopub.status.idle": "2022-03-16T04:42:46.534131Z",
     "shell.execute_reply": "2022-03-16T04:42:46.534630Z",
     "shell.execute_reply.started": "2022-03-16T04:03:06.728409Z"
    },
    "papermill": {
     "duration": 0.048,
     "end_time": "2022-03-16T04:42:46.534832",
     "exception": false,
     "start_time": "2022-03-16T04:42:46.486832",
     "status": "completed"
    },
    "tags": []
   },
   "outputs": [],
   "source": [
    "## As can be seen above after handling imbalanced dataset accuracy remains almost same and also the recall of minority class has increased than previous model.\n",
    "## Therefore, this model is better than the previous"
   ]
  },
  {
   "cell_type": "code",
   "execution_count": 27,
   "id": "c9d9e937",
   "metadata": {
    "execution": {
     "iopub.execute_input": "2022-03-16T04:42:46.618831Z",
     "iopub.status.busy": "2022-03-16T04:42:46.618061Z",
     "iopub.status.idle": "2022-03-16T04:42:46.629957Z",
     "shell.execute_reply": "2022-03-16T04:42:46.630466Z",
     "shell.execute_reply.started": "2022-03-16T04:03:36.358145Z"
    },
    "papermill": {
     "duration": 0.054413,
     "end_time": "2022-03-16T04:42:46.630686",
     "exception": false,
     "start_time": "2022-03-16T04:42:46.576273",
     "status": "completed"
    },
    "tags": []
   },
   "outputs": [
    {
     "data": {
      "text/html": [
       "<div>\n",
       "<style scoped>\n",
       "    .dataframe tbody tr th:only-of-type {\n",
       "        vertical-align: middle;\n",
       "    }\n",
       "\n",
       "    .dataframe tbody tr th {\n",
       "        vertical-align: top;\n",
       "    }\n",
       "\n",
       "    .dataframe thead th {\n",
       "        text-align: right;\n",
       "    }\n",
       "</style>\n",
       "<table border=\"1\" class=\"dataframe\">\n",
       "  <thead>\n",
       "    <tr style=\"text-align: right;\">\n",
       "      <th></th>\n",
       "      <th>Actual</th>\n",
       "      <th>Predicted</th>\n",
       "    </tr>\n",
       "  </thead>\n",
       "  <tbody>\n",
       "    <tr>\n",
       "      <th>43428</th>\n",
       "      <td>1</td>\n",
       "      <td>1</td>\n",
       "    </tr>\n",
       "    <tr>\n",
       "      <th>49906</th>\n",
       "      <td>0</td>\n",
       "      <td>0</td>\n",
       "    </tr>\n",
       "    <tr>\n",
       "      <th>29474</th>\n",
       "      <td>0</td>\n",
       "      <td>0</td>\n",
       "    </tr>\n",
       "    <tr>\n",
       "      <th>276481</th>\n",
       "      <td>0</td>\n",
       "      <td>0</td>\n",
       "    </tr>\n",
       "    <tr>\n",
       "      <th>278846</th>\n",
       "      <td>0</td>\n",
       "      <td>0</td>\n",
       "    </tr>\n",
       "    <tr>\n",
       "      <th>...</th>\n",
       "      <td>...</td>\n",
       "      <td>...</td>\n",
       "    </tr>\n",
       "    <tr>\n",
       "      <th>234953</th>\n",
       "      <td>0</td>\n",
       "      <td>0</td>\n",
       "    </tr>\n",
       "    <tr>\n",
       "      <th>235147</th>\n",
       "      <td>0</td>\n",
       "      <td>0</td>\n",
       "    </tr>\n",
       "    <tr>\n",
       "      <th>199459</th>\n",
       "      <td>0</td>\n",
       "      <td>0</td>\n",
       "    </tr>\n",
       "    <tr>\n",
       "      <th>172357</th>\n",
       "      <td>0</td>\n",
       "      <td>0</td>\n",
       "    </tr>\n",
       "    <tr>\n",
       "      <th>110731</th>\n",
       "      <td>0</td>\n",
       "      <td>0</td>\n",
       "    </tr>\n",
       "  </tbody>\n",
       "</table>\n",
       "<p>71202 rows × 2 columns</p>\n",
       "</div>"
      ],
      "text/plain": [
       "        Actual  Predicted\n",
       "43428        1          1\n",
       "49906        0          0\n",
       "29474        0          0\n",
       "276481       0          0\n",
       "278846       0          0\n",
       "...        ...        ...\n",
       "234953       0          0\n",
       "235147       0          0\n",
       "199459       0          0\n",
       "172357       0          0\n",
       "110731       0          0\n",
       "\n",
       "[71202 rows x 2 columns]"
      ]
     },
     "execution_count": 27,
     "metadata": {},
     "output_type": "execute_result"
    }
   ],
   "source": [
    "pd.DataFrame({'Actual':y_test, 'Predicted':preds})"
   ]
  },
  {
   "cell_type": "code",
   "execution_count": null,
   "id": "a4d0703b",
   "metadata": {
    "papermill": {
     "duration": 0.036818,
     "end_time": "2022-03-16T04:42:46.706712",
     "exception": false,
     "start_time": "2022-03-16T04:42:46.669894",
     "status": "completed"
    },
    "tags": []
   },
   "outputs": [],
   "source": []
  }
 ],
 "metadata": {
  "kernelspec": {
   "display_name": "Python 3 (ipykernel)",
   "language": "python",
   "name": "python3"
  },
  "language_info": {
   "codemirror_mode": {
    "name": "ipython",
    "version": 3
   },
   "file_extension": ".py",
   "mimetype": "text/x-python",
   "name": "python",
   "nbconvert_exporter": "python",
   "pygments_lexer": "ipython3",
   "version": "3.9.7"
  },
  "papermill": {
   "default_parameters": {},
   "duration": 2294.204294,
   "end_time": "2022-03-16T04:42:47.567706",
   "environment_variables": {},
   "exception": null,
   "input_path": "__notebook__.ipynb",
   "output_path": "__notebook__.ipynb",
   "parameters": {},
   "start_time": "2022-03-16T04:04:33.363412",
   "version": "2.3.3"
  }
 },
 "nbformat": 4,
 "nbformat_minor": 5
}
