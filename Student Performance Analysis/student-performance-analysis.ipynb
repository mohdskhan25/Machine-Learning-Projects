{
 "cells": [
  {
   "cell_type": "markdown",
   "id": "8ad47da5",
   "metadata": {
    "_cell_guid": "b1076dfc-b9ad-4769-8c92-a6c4dae69d19",
    "_uuid": "8f2839f25d086af736a60e9eeb907d3b93b6e0e5",
    "execution": {
     "iopub.execute_input": "2022-04-10T04:08:12.580397Z",
     "iopub.status.busy": "2022-04-10T04:08:12.579738Z",
     "iopub.status.idle": "2022-04-10T04:08:12.602417Z",
     "shell.execute_reply": "2022-04-10T04:08:12.601618Z",
     "shell.execute_reply.started": "2022-04-10T04:08:12.580255Z"
    },
    "papermill": {
     "duration": 0.080262,
     "end_time": "2022-04-12T04:35:57.971313",
     "exception": false,
     "start_time": "2022-04-12T04:35:57.891051",
     "status": "completed"
    },
    "tags": []
   },
   "source": [
    "## In this Project we'll analyze students performance based on some parameters"
   ]
  },
  {
   "cell_type": "code",
   "execution_count": 1,
   "id": "d5b3ff7b",
   "metadata": {
    "execution": {
     "iopub.execute_input": "2022-04-12T04:35:58.129199Z",
     "iopub.status.busy": "2022-04-12T04:35:58.127307Z",
     "iopub.status.idle": "2022-04-12T04:35:58.146633Z",
     "shell.execute_reply": "2022-04-12T04:35:58.147333Z",
     "shell.execute_reply.started": "2022-04-12T04:32:54.344315Z"
    },
    "papermill": {
     "duration": 0.099801,
     "end_time": "2022-04-12T04:35:58.147671",
     "exception": false,
     "start_time": "2022-04-12T04:35:58.047870",
     "status": "completed"
    },
    "tags": []
   },
   "outputs": [],
   "source": [
    "import numpy as np # linear algebra\n",
    "import pandas as pd # data processing, CSV file I/O (e.g. pd.read_csv)\n",
    "pd.set_option('display.max_columns', None)\n"
   ]
  },
  {
   "cell_type": "code",
   "execution_count": 2,
   "id": "43397b91",
   "metadata": {
    "execution": {
     "iopub.execute_input": "2022-04-12T04:35:58.304158Z",
     "iopub.status.busy": "2022-04-12T04:35:58.303153Z",
     "iopub.status.idle": "2022-04-12T04:36:13.802682Z",
     "shell.execute_reply": "2022-04-12T04:36:13.801557Z",
     "shell.execute_reply.started": "2022-04-12T04:32:54.355751Z"
    },
    "papermill": {
     "duration": 15.578359,
     "end_time": "2022-04-12T04:36:13.802997",
     "exception": false,
     "start_time": "2022-04-12T04:35:58.224638",
     "status": "completed"
    },
    "tags": []
   },
   "outputs": [
    {
     "name": "stdout",
     "output_type": "stream",
     "text": [
      "Collecting dabl\r\n",
      "  Downloading dabl-0.2.2-py3-none-any.whl (558 kB)\r\n",
      "     |████████████████████████████████| 558 kB 929 kB/s            \r\n",
      "\u001b[?25hRequirement already satisfied: numpy in /opt/conda/lib/python3.7/site-packages (from dabl) (1.20.3)\r\n",
      "Requirement already satisfied: pandas in /opt/conda/lib/python3.7/site-packages (from dabl) (1.3.5)\r\n",
      "Requirement already satisfied: scipy in /opt/conda/lib/python3.7/site-packages (from dabl) (1.7.3)\r\n",
      "Requirement already satisfied: scikit-learn>=0.24.0 in /opt/conda/lib/python3.7/site-packages (from dabl) (1.0.1)\r\n",
      "Requirement already satisfied: seaborn in /opt/conda/lib/python3.7/site-packages (from dabl) (0.11.2)\r\n",
      "Requirement already satisfied: matplotlib in /opt/conda/lib/python3.7/site-packages (from dabl) (3.5.1)\r\n",
      "Requirement already satisfied: threadpoolctl>=2.0.0 in /opt/conda/lib/python3.7/site-packages (from scikit-learn>=0.24.0->dabl) (3.0.0)\r\n",
      "Requirement already satisfied: joblib>=0.11 in /opt/conda/lib/python3.7/site-packages (from scikit-learn>=0.24.0->dabl) (1.1.0)\r\n",
      "Requirement already satisfied: cycler>=0.10 in /opt/conda/lib/python3.7/site-packages (from matplotlib->dabl) (0.11.0)\r\n",
      "Requirement already satisfied: kiwisolver>=1.0.1 in /opt/conda/lib/python3.7/site-packages (from matplotlib->dabl) (1.3.2)\r\n",
      "Requirement already satisfied: fonttools>=4.22.0 in /opt/conda/lib/python3.7/site-packages (from matplotlib->dabl) (4.28.4)\r\n",
      "Requirement already satisfied: pyparsing>=2.2.1 in /opt/conda/lib/python3.7/site-packages (from matplotlib->dabl) (3.0.6)\r\n",
      "Requirement already satisfied: packaging>=20.0 in /opt/conda/lib/python3.7/site-packages (from matplotlib->dabl) (21.3)\r\n",
      "Requirement already satisfied: python-dateutil>=2.7 in /opt/conda/lib/python3.7/site-packages (from matplotlib->dabl) (2.8.2)\r\n",
      "Requirement already satisfied: pillow>=6.2.0 in /opt/conda/lib/python3.7/site-packages (from matplotlib->dabl) (8.2.0)\r\n",
      "Requirement already satisfied: pytz>=2017.3 in /opt/conda/lib/python3.7/site-packages (from pandas->dabl) (2021.3)\r\n",
      "Requirement already satisfied: six>=1.5 in /opt/conda/lib/python3.7/site-packages (from python-dateutil>=2.7->matplotlib->dabl) (1.16.0)\r\n",
      "Installing collected packages: dabl\r\n",
      "Successfully installed dabl-0.2.2\r\n",
      "\u001b[33mWARNING: Running pip as the 'root' user can result in broken permissions and conflicting behaviour with the system package manager. It is recommended to use a virtual environment instead: https://pip.pypa.io/warnings/venv\u001b[0m\r\n"
     ]
    },
    {
     "name": "stderr",
     "output_type": "stream",
     "text": [
      "/opt/conda/lib/python3.7/site-packages/sklearn/experimental/enable_hist_gradient_boosting.py:17: UserWarning: Since version 1.0, it is not needed to import enable_hist_gradient_boosting anymore. HistGradientBoostingClassifier and HistGradientBoostingRegressor are now stable and can be normally imported from sklearn.ensemble.\n",
      "  \"Since version 1.0, \"\n"
     ]
    }
   ],
   "source": [
    "## Import Libraries for visualizations\n",
    "\n",
    "import matplotlib.pyplot as plt\n",
    "import seaborn as sns\n",
    "import plotly.express as px\n",
    "\n",
    "!pip install dabl\n",
    "import dabl     ## for providing simple interface for data exploration"
   ]
  },
  {
   "cell_type": "code",
   "execution_count": 3,
   "id": "14125247",
   "metadata": {
    "execution": {
     "iopub.execute_input": "2022-04-12T04:36:13.972376Z",
     "iopub.status.busy": "2022-04-12T04:36:13.971638Z",
     "iopub.status.idle": "2022-04-12T04:36:14.013338Z",
     "shell.execute_reply": "2022-04-12T04:36:14.013943Z",
     "shell.execute_reply.started": "2022-04-12T04:33:01.917938Z"
    },
    "papermill": {
     "duration": 0.130319,
     "end_time": "2022-04-12T04:36:14.014168",
     "exception": false,
     "start_time": "2022-04-12T04:36:13.883849",
     "status": "completed"
    },
    "tags": []
   },
   "outputs": [
    {
     "data": {
      "text/html": [
       "<div>\n",
       "<style scoped>\n",
       "    .dataframe tbody tr th:only-of-type {\n",
       "        vertical-align: middle;\n",
       "    }\n",
       "\n",
       "    .dataframe tbody tr th {\n",
       "        vertical-align: top;\n",
       "    }\n",
       "\n",
       "    .dataframe thead th {\n",
       "        text-align: right;\n",
       "    }\n",
       "</style>\n",
       "<table border=\"1\" class=\"dataframe\">\n",
       "  <thead>\n",
       "    <tr style=\"text-align: right;\">\n",
       "      <th></th>\n",
       "      <th>gender</th>\n",
       "      <th>race/ethnicity</th>\n",
       "      <th>parental level of education</th>\n",
       "      <th>lunch</th>\n",
       "      <th>test preparation course</th>\n",
       "      <th>math score</th>\n",
       "      <th>reading score</th>\n",
       "      <th>writing score</th>\n",
       "    </tr>\n",
       "  </thead>\n",
       "  <tbody>\n",
       "    <tr>\n",
       "      <th>0</th>\n",
       "      <td>female</td>\n",
       "      <td>group B</td>\n",
       "      <td>bachelor's degree</td>\n",
       "      <td>standard</td>\n",
       "      <td>none</td>\n",
       "      <td>72</td>\n",
       "      <td>72</td>\n",
       "      <td>74</td>\n",
       "    </tr>\n",
       "    <tr>\n",
       "      <th>1</th>\n",
       "      <td>female</td>\n",
       "      <td>group C</td>\n",
       "      <td>some college</td>\n",
       "      <td>standard</td>\n",
       "      <td>completed</td>\n",
       "      <td>69</td>\n",
       "      <td>90</td>\n",
       "      <td>88</td>\n",
       "    </tr>\n",
       "    <tr>\n",
       "      <th>2</th>\n",
       "      <td>female</td>\n",
       "      <td>group B</td>\n",
       "      <td>master's degree</td>\n",
       "      <td>standard</td>\n",
       "      <td>none</td>\n",
       "      <td>90</td>\n",
       "      <td>95</td>\n",
       "      <td>93</td>\n",
       "    </tr>\n",
       "    <tr>\n",
       "      <th>3</th>\n",
       "      <td>male</td>\n",
       "      <td>group A</td>\n",
       "      <td>associate's degree</td>\n",
       "      <td>free/reduced</td>\n",
       "      <td>none</td>\n",
       "      <td>47</td>\n",
       "      <td>57</td>\n",
       "      <td>44</td>\n",
       "    </tr>\n",
       "    <tr>\n",
       "      <th>4</th>\n",
       "      <td>male</td>\n",
       "      <td>group C</td>\n",
       "      <td>some college</td>\n",
       "      <td>standard</td>\n",
       "      <td>none</td>\n",
       "      <td>76</td>\n",
       "      <td>78</td>\n",
       "      <td>75</td>\n",
       "    </tr>\n",
       "  </tbody>\n",
       "</table>\n",
       "</div>"
      ],
      "text/plain": [
       "   gender race/ethnicity parental level of education         lunch  \\\n",
       "0  female        group B           bachelor's degree      standard   \n",
       "1  female        group C                some college      standard   \n",
       "2  female        group B             master's degree      standard   \n",
       "3    male        group A          associate's degree  free/reduced   \n",
       "4    male        group C                some college      standard   \n",
       "\n",
       "  test preparation course  math score  reading score  writing score  \n",
       "0                    none          72             72             74  \n",
       "1               completed          69             90             88  \n",
       "2                    none          90             95             93  \n",
       "3                    none          47             57             44  \n",
       "4                    none          76             78             75  "
      ]
     },
     "execution_count": 3,
     "metadata": {},
     "output_type": "execute_result"
    }
   ],
   "source": [
    "## Load the dataset\n",
    "\n",
    "df = pd.read_csv('../input/student-performance-data/StudentsPerformance.csv')\n",
    "df.head()"
   ]
  },
  {
   "cell_type": "code",
   "execution_count": 4,
   "id": "6f0d2ba9",
   "metadata": {
    "execution": {
     "iopub.execute_input": "2022-04-12T04:36:14.184675Z",
     "iopub.status.busy": "2022-04-12T04:36:14.183953Z",
     "iopub.status.idle": "2022-04-12T04:36:14.187869Z",
     "shell.execute_reply": "2022-04-12T04:36:14.187115Z",
     "shell.execute_reply.started": "2022-04-12T04:33:01.943854Z"
    },
    "papermill": {
     "duration": 0.090939,
     "end_time": "2022-04-12T04:36:14.188036",
     "exception": false,
     "start_time": "2022-04-12T04:36:14.097097",
     "status": "completed"
    },
    "tags": []
   },
   "outputs": [
    {
     "data": {
      "text/plain": [
       "(1000, 8)"
      ]
     },
     "execution_count": 4,
     "metadata": {},
     "output_type": "execute_result"
    }
   ],
   "source": [
    "df.shape"
   ]
  },
  {
   "cell_type": "markdown",
   "id": "fea6577a",
   "metadata": {
    "papermill": {
     "duration": 0.081607,
     "end_time": "2022-04-12T04:36:14.353062",
     "exception": false,
     "start_time": "2022-04-12T04:36:14.271455",
     "status": "completed"
    },
    "tags": []
   },
   "source": [
    "### Descriptive Statistics"
   ]
  },
  {
   "cell_type": "code",
   "execution_count": 5,
   "id": "cb23afcc",
   "metadata": {
    "execution": {
     "iopub.execute_input": "2022-04-12T04:36:14.535880Z",
     "iopub.status.busy": "2022-04-12T04:36:14.535077Z",
     "iopub.status.idle": "2022-04-12T04:36:14.564165Z",
     "shell.execute_reply": "2022-04-12T04:36:14.563542Z",
     "shell.execute_reply.started": "2022-04-12T04:33:01.952428Z"
    },
    "papermill": {
     "duration": 0.123022,
     "end_time": "2022-04-12T04:36:14.564345",
     "exception": false,
     "start_time": "2022-04-12T04:36:14.441323",
     "status": "completed"
    },
    "tags": []
   },
   "outputs": [
    {
     "data": {
      "text/html": [
       "<div>\n",
       "<style scoped>\n",
       "    .dataframe tbody tr th:only-of-type {\n",
       "        vertical-align: middle;\n",
       "    }\n",
       "\n",
       "    .dataframe tbody tr th {\n",
       "        vertical-align: top;\n",
       "    }\n",
       "\n",
       "    .dataframe thead th {\n",
       "        text-align: right;\n",
       "    }\n",
       "</style>\n",
       "<table border=\"1\" class=\"dataframe\">\n",
       "  <thead>\n",
       "    <tr style=\"text-align: right;\">\n",
       "      <th></th>\n",
       "      <th>math score</th>\n",
       "      <th>reading score</th>\n",
       "      <th>writing score</th>\n",
       "    </tr>\n",
       "  </thead>\n",
       "  <tbody>\n",
       "    <tr>\n",
       "      <th>count</th>\n",
       "      <td>1000.00000</td>\n",
       "      <td>1000.000000</td>\n",
       "      <td>1000.000000</td>\n",
       "    </tr>\n",
       "    <tr>\n",
       "      <th>mean</th>\n",
       "      <td>66.08900</td>\n",
       "      <td>69.169000</td>\n",
       "      <td>68.054000</td>\n",
       "    </tr>\n",
       "    <tr>\n",
       "      <th>std</th>\n",
       "      <td>15.16308</td>\n",
       "      <td>14.600192</td>\n",
       "      <td>15.195657</td>\n",
       "    </tr>\n",
       "    <tr>\n",
       "      <th>min</th>\n",
       "      <td>0.00000</td>\n",
       "      <td>17.000000</td>\n",
       "      <td>10.000000</td>\n",
       "    </tr>\n",
       "    <tr>\n",
       "      <th>25%</th>\n",
       "      <td>57.00000</td>\n",
       "      <td>59.000000</td>\n",
       "      <td>57.750000</td>\n",
       "    </tr>\n",
       "    <tr>\n",
       "      <th>50%</th>\n",
       "      <td>66.00000</td>\n",
       "      <td>70.000000</td>\n",
       "      <td>69.000000</td>\n",
       "    </tr>\n",
       "    <tr>\n",
       "      <th>75%</th>\n",
       "      <td>77.00000</td>\n",
       "      <td>79.000000</td>\n",
       "      <td>79.000000</td>\n",
       "    </tr>\n",
       "    <tr>\n",
       "      <th>max</th>\n",
       "      <td>100.00000</td>\n",
       "      <td>100.000000</td>\n",
       "      <td>100.000000</td>\n",
       "    </tr>\n",
       "  </tbody>\n",
       "</table>\n",
       "</div>"
      ],
      "text/plain": [
       "       math score  reading score  writing score\n",
       "count  1000.00000    1000.000000    1000.000000\n",
       "mean     66.08900      69.169000      68.054000\n",
       "std      15.16308      14.600192      15.195657\n",
       "min       0.00000      17.000000      10.000000\n",
       "25%      57.00000      59.000000      57.750000\n",
       "50%      66.00000      70.000000      69.000000\n",
       "75%      77.00000      79.000000      79.000000\n",
       "max     100.00000     100.000000     100.000000"
      ]
     },
     "execution_count": 5,
     "metadata": {},
     "output_type": "execute_result"
    }
   ],
   "source": [
    "## some stats of the data\n",
    "\n",
    "df.describe()"
   ]
  },
  {
   "cell_type": "code",
   "execution_count": 6,
   "id": "661942c8",
   "metadata": {
    "execution": {
     "iopub.execute_input": "2022-04-12T04:36:14.743021Z",
     "iopub.status.busy": "2022-04-12T04:36:14.742218Z",
     "iopub.status.idle": "2022-04-12T04:36:14.750899Z",
     "shell.execute_reply": "2022-04-12T04:36:14.750183Z",
     "shell.execute_reply.started": "2022-04-12T04:33:01.979364Z"
    },
    "papermill": {
     "duration": 0.100425,
     "end_time": "2022-04-12T04:36:14.751069",
     "exception": false,
     "start_time": "2022-04-12T04:36:14.650644",
     "status": "completed"
    },
    "tags": []
   },
   "outputs": [
    {
     "data": {
      "text/plain": [
       "gender                         2\n",
       "race/ethnicity                 5\n",
       "parental level of education    6\n",
       "lunch                          2\n",
       "test preparation course        2\n",
       "dtype: int64"
      ]
     },
     "execution_count": 6,
     "metadata": {},
     "output_type": "execute_result"
    }
   ],
   "source": [
    "## Now, let's check the number of unique items present in the categorical columns\n",
    "\n",
    "df.select_dtypes('object').nunique()"
   ]
  },
  {
   "cell_type": "code",
   "execution_count": 7,
   "id": "bbf5d7c1",
   "metadata": {
    "execution": {
     "iopub.execute_input": "2022-04-12T04:36:14.932946Z",
     "iopub.status.busy": "2022-04-12T04:36:14.932104Z",
     "iopub.status.idle": "2022-04-12T04:36:14.935908Z",
     "shell.execute_reply": "2022-04-12T04:36:14.935337Z",
     "shell.execute_reply.started": "2022-04-12T04:33:01.992394Z"
    },
    "papermill": {
     "duration": 0.099714,
     "end_time": "2022-04-12T04:36:14.936078",
     "exception": false,
     "start_time": "2022-04-12T04:36:14.836364",
     "status": "completed"
    },
    "tags": []
   },
   "outputs": [
    {
     "data": {
      "text/plain": [
       "gender                         0\n",
       "race/ethnicity                 0\n",
       "parental level of education    0\n",
       "lunch                          0\n",
       "test preparation course        0\n",
       "math score                     0\n",
       "reading score                  0\n",
       "writing score                  0\n",
       "dtype: int64"
      ]
     },
     "execution_count": 7,
     "metadata": {},
     "output_type": "execute_result"
    }
   ],
   "source": [
    "## Let's check if there is any missing data \n",
    "\n",
    "df.isnull().sum()"
   ]
  },
  {
   "cell_type": "code",
   "execution_count": 8,
   "id": "d3d61ac8",
   "metadata": {
    "execution": {
     "iopub.execute_input": "2022-04-12T04:36:15.118628Z",
     "iopub.status.busy": "2022-04-12T04:36:15.117914Z",
     "iopub.status.idle": "2022-04-12T04:36:17.254671Z",
     "shell.execute_reply": "2022-04-12T04:36:17.255289Z",
     "shell.execute_reply.started": "2022-04-12T04:33:02.005102Z"
    },
    "papermill": {
     "duration": 2.232789,
     "end_time": "2022-04-12T04:36:17.255507",
     "exception": false,
     "start_time": "2022-04-12T04:36:15.022718",
     "status": "completed"
    },
    "tags": []
   },
   "outputs": [
    {
     "name": "stdout",
     "output_type": "stream",
     "text": [
      "Target looks like regression\n"
     ]
    },
    {
     "name": "stderr",
     "output_type": "stream",
     "text": [
      "/opt/conda/lib/python3.7/site-packages/dabl/plot/utils.py:376: UserWarning: FixedFormatter should only be used together with FixedLocator\n",
      "  for t in ax.get_xticklabels()]\n",
      "/opt/conda/lib/python3.7/site-packages/dabl/plot/utils.py:376: UserWarning: FixedFormatter should only be used together with FixedLocator\n",
      "  for t in ax.get_xticklabels()]\n",
      "/opt/conda/lib/python3.7/site-packages/dabl/plot/utils.py:376: UserWarning: FixedFormatter should only be used together with FixedLocator\n",
      "  for t in ax.get_xticklabels()]\n",
      "/opt/conda/lib/python3.7/site-packages/dabl/plot/utils.py:376: UserWarning: FixedFormatter should only be used together with FixedLocator\n",
      "  for t in ax.get_xticklabels()]\n",
      "/opt/conda/lib/python3.7/site-packages/dabl/plot/utils.py:376: UserWarning: FixedFormatter should only be used together with FixedLocator\n",
      "  for t in ax.get_xticklabels()]\n"
     ]
    },
    {
     "data": {
      "text/plain": [
       "[array([[<AxesSubplot:title={'center':'F=2.01E+03'}, xlabel='reading score', ylabel='math score'>,\n",
       "         <AxesSubplot:title={'center':'F=1.81E+03'}, xlabel='writing score'>]],\n",
       "       dtype=object),\n",
       " array([[<AxesSubplot:title={'center':'F=6.64E-02'}, xlabel='math score', ylabel='gender'>,\n",
       "         <AxesSubplot:title={'center':'F=3.49E-02'}, xlabel='math score', ylabel='race/ethnicity'>,\n",
       "         <AxesSubplot:title={'center':'F=2.39E-02'}, xlabel='math score', ylabel='parental level of...'>,\n",
       "         <AxesSubplot:title={'center':'F=1.15E-02'}, xlabel='math score', ylabel='lunch'>,\n",
       "         <AxesSubplot:title={'center':'F=2.95E-03'}, xlabel='math score', ylabel='test preparation ...'>]],\n",
       "       dtype=object)]"
      ]
     },
     "execution_count": 8,
     "metadata": {},
     "output_type": "execute_result"
    },
    {
     "data": {
      "image/png": "[encoded data removed]",
      "text/plain": [
       "<Figure size 1080x432 with 1 Axes>"
      ]
     },
     "metadata": {
      "needs_background": "light"
     },
     "output_type": "display_data"
    },
    {
     "data": {
      "image/png": "[encoded data removed]",
      "text/plain": [
       "<Figure size 576x216 with 2 Axes>"
      ]
     },
     "metadata": {
      "needs_background": "light"
     },
     "output_type": "display_data"
    },
    {
     "data": {
      "image/png": "[encoded data removed]",
      "text/plain": [
       "<Figure size 1440x360 with 5 Axes>"
      ]
     },
     "metadata": {
      "needs_background": "light"
     },
     "output_type": "display_data"
    }
   ],
   "source": [
    "## Now, we'll compare all the other attributes w.r.t math score\n",
    "\n",
    "plt.figure(figsize = (15,6))\n",
    "dabl.plot(df, target_col = 'math score')"
   ]
  },
  {
   "cell_type": "code",
   "execution_count": 9,
   "id": "ec7935b9",
   "metadata": {
    "execution": {
     "iopub.execute_input": "2022-04-12T04:36:17.472170Z",
     "iopub.status.busy": "2022-04-12T04:36:17.464184Z",
     "iopub.status.idle": "2022-04-12T04:36:19.644705Z",
     "shell.execute_reply": "2022-04-12T04:36:19.643754Z",
     "shell.execute_reply.started": "2022-04-12T04:33:03.817012Z"
    },
    "papermill": {
     "duration": 2.295001,
     "end_time": "2022-04-12T04:36:19.644864",
     "exception": false,
     "start_time": "2022-04-12T04:36:17.349863",
     "status": "completed"
    },
    "tags": []
   },
   "outputs": [
    {
     "name": "stdout",
     "output_type": "stream",
     "text": [
      "Target looks like regression\n"
     ]
    },
    {
     "name": "stderr",
     "output_type": "stream",
     "text": [
      "/opt/conda/lib/python3.7/site-packages/dabl/plot/utils.py:376: UserWarning: FixedFormatter should only be used together with FixedLocator\n",
      "  for t in ax.get_xticklabels()]\n",
      "/opt/conda/lib/python3.7/site-packages/dabl/plot/utils.py:376: UserWarning: FixedFormatter should only be used together with FixedLocator\n",
      "  for t in ax.get_xticklabels()]\n",
      "/opt/conda/lib/python3.7/site-packages/dabl/plot/utils.py:376: UserWarning: FixedFormatter should only be used together with FixedLocator\n",
      "  for t in ax.get_xticklabels()]\n",
      "/opt/conda/lib/python3.7/site-packages/dabl/plot/utils.py:376: UserWarning: FixedFormatter should only be used together with FixedLocator\n",
      "  for t in ax.get_xticklabels()]\n",
      "/opt/conda/lib/python3.7/site-packages/dabl/plot/utils.py:376: UserWarning: FixedFormatter should only be used together with FixedLocator\n",
      "  for t in ax.get_xticklabels()]\n"
     ]
    },
    {
     "data": {
      "text/plain": [
       "[array([[<AxesSubplot:title={'center':'F=1.02E+04'}, xlabel='writing score', ylabel='reading score'>,\n",
       "         <AxesSubplot:title={'center':'F=2.01E+03'}, xlabel='math score'>]],\n",
       "       dtype=object),\n",
       " array([[<AxesSubplot:title={'center':'F=5.49E-02'}, xlabel='reading score', ylabel='gender'>,\n",
       "         <AxesSubplot:title={'center':'F=4.04E-02'}, xlabel='reading score', ylabel='race/ethnicity'>,\n",
       "         <AxesSubplot:title={'center':'F=2.71E-02'}, xlabel='reading score', ylabel='parental level of...'>,\n",
       "         <AxesSubplot:title={'center':'F=1.16E-02'}, xlabel='reading score', ylabel='lunch'>,\n",
       "         <AxesSubplot:title={'center':'F=6.11E-04'}, xlabel='reading score', ylabel='test preparation ...'>]],\n",
       "       dtype=object)]"
      ]
     },
     "execution_count": 9,
     "metadata": {},
     "output_type": "execute_result"
    },
    {
     "data": {
      "image/png": "[encoded data removed]",
      "text/plain": [
       "<Figure size 1080x432 with 1 Axes>"
      ]
     },
     "metadata": {
      "needs_background": "light"
     },
     "output_type": "display_data"
    },
    {
     "data": {
      "image/png": "[encoded data removed]",
      "text/plain": [
       "<Figure size 576x216 with 2 Axes>"
      ]
     },
     "metadata": {
      "needs_background": "light"
     },
     "output_type": "display_data"
    },
    {
     "data": {
      "image/png": "[encoded data removed]",
      "text/plain": [
       "<Figure size 1440x360 with 5 Axes>"
      ]
     },
     "metadata": {
      "needs_background": "light"
     },
     "output_type": "display_data"
    }
   ],
   "source": [
    "## Now, we'll compare other attributes w.r.t reading marks\n",
    "\n",
    "plt.figure(figsize = (15,6))\n",
    "dabl.plot(df, target_col = 'reading score')"
   ]
  },
  {
   "cell_type": "code",
   "execution_count": 10,
   "id": "4b78eacc",
   "metadata": {
    "execution": {
     "iopub.execute_input": "2022-04-12T04:36:19.846416Z",
     "iopub.status.busy": "2022-04-12T04:36:19.845404Z",
     "iopub.status.idle": "2022-04-12T04:36:21.742653Z",
     "shell.execute_reply": "2022-04-12T04:36:21.743188Z",
     "shell.execute_reply.started": "2022-04-12T04:33:05.525896Z"
    },
    "papermill": {
     "duration": 2.004571,
     "end_time": "2022-04-12T04:36:21.743372",
     "exception": false,
     "start_time": "2022-04-12T04:36:19.738801",
     "status": "completed"
    },
    "tags": []
   },
   "outputs": [
    {
     "name": "stdout",
     "output_type": "stream",
     "text": [
      "Target looks like regression\n"
     ]
    },
    {
     "name": "stderr",
     "output_type": "stream",
     "text": [
      "/opt/conda/lib/python3.7/site-packages/dabl/plot/utils.py:376: UserWarning: FixedFormatter should only be used together with FixedLocator\n",
      "  for t in ax.get_xticklabels()]\n",
      "/opt/conda/lib/python3.7/site-packages/dabl/plot/utils.py:376: UserWarning: FixedFormatter should only be used together with FixedLocator\n",
      "  for t in ax.get_xticklabels()]\n",
      "/opt/conda/lib/python3.7/site-packages/dabl/plot/utils.py:376: UserWarning: FixedFormatter should only be used together with FixedLocator\n",
      "  for t in ax.get_xticklabels()]\n",
      "/opt/conda/lib/python3.7/site-packages/dabl/plot/utils.py:376: UserWarning: FixedFormatter should only be used together with FixedLocator\n",
      "  for t in ax.get_xticklabels()]\n",
      "/opt/conda/lib/python3.7/site-packages/dabl/plot/utils.py:376: UserWarning: FixedFormatter should only be used together with FixedLocator\n",
      "  for t in ax.get_xticklabels()]\n"
     ]
    },
    {
     "data": {
      "text/plain": [
       "[array([[<AxesSubplot:title={'center':'F=1.02E+04'}, xlabel='reading score', ylabel='writing score'>,\n",
       "         <AxesSubplot:title={'center':'F=1.81E+03'}, xlabel='math score'>]],\n",
       "       dtype=object),\n",
       " array([[<AxesSubplot:title={'center':'F=7.93E-02'}, xlabel='writing score', ylabel='gender'>,\n",
       "         <AxesSubplot:title={'center':'F=6.24E-02'}, xlabel='writing score', ylabel='race/ethnicity'>,\n",
       "         <AxesSubplot:title={'center':'F=6.07E-02'}, xlabel='writing score', ylabel='parental level of...'>,\n",
       "         <AxesSubplot:title={'center':'F=2.81E-02'}, xlabel='writing score', ylabel='lunch'>,\n",
       "         <AxesSubplot:title={'center':'F=1.98E-02'}, xlabel='writing score', ylabel='test preparation ...'>]],\n",
       "       dtype=object)]"
      ]
     },
     "execution_count": 10,
     "metadata": {},
     "output_type": "execute_result"
    },
    {
     "data": {
      "image/png": "[encoded data removed]",
      "text/plain": [
       "<Figure size 1080x432 with 1 Axes>"
      ]
     },
     "metadata": {
      "needs_background": "light"
     },
     "output_type": "display_data"
    },
    {
     "data": {
      "image/png": "[encoded data removed]",
      "text/plain": [
       "<Figure size 576x216 with 2 Axes>"
      ]
     },
     "metadata": {
      "needs_background": "light"
     },
     "output_type": "display_data"
    },
    {
     "data": {
      "image/png": "[encoded data removed]",
      "text/plain": [
       "<Figure size 1440x360 with 5 Axes>"
      ]
     },
     "metadata": {
      "needs_background": "light"
     },
     "output_type": "display_data"
    }
   ],
   "source": [
    "## Now, we'll compare all other attributes w.r.t writing scores\n",
    "\n",
    "plt.figure(figsize = (15,6))\n",
    "dabl.plot(df, target_col = 'writing score')"
   ]
  },
  {
   "cell_type": "code",
   "execution_count": 11,
   "id": "c6c1a271",
   "metadata": {
    "execution": {
     "iopub.execute_input": "2022-04-12T04:36:21.948932Z",
     "iopub.status.busy": "2022-04-12T04:36:21.948273Z",
     "iopub.status.idle": "2022-04-12T04:36:21.951517Z",
     "shell.execute_reply": "2022-04-12T04:36:21.952169Z",
     "shell.execute_reply.started": "2022-04-12T04:33:07.646460Z"
    },
    "papermill": {
     "duration": 0.107914,
     "end_time": "2022-04-12T04:36:21.952349",
     "exception": false,
     "start_time": "2022-04-12T04:36:21.844435",
     "status": "completed"
    },
    "tags": []
   },
   "outputs": [],
   "source": [
    "## So, we've seen the descriptive stats of our data, now, we'll look for inferential stats"
   ]
  },
  {
   "cell_type": "markdown",
   "id": "075c3081",
   "metadata": {
    "papermill": {
     "duration": 0.100883,
     "end_time": "2022-04-12T04:36:22.153328",
     "exception": false,
     "start_time": "2022-04-12T04:36:22.052445",
     "status": "completed"
    },
    "tags": []
   },
   "source": [
    "### Inferential Statistics"
   ]
  },
  {
   "cell_type": "markdown",
   "id": "2a43b1f6",
   "metadata": {
    "papermill": {
     "duration": 0.104726,
     "end_time": "2022-04-12T04:36:22.360558",
     "exception": false,
     "start_time": "2022-04-12T04:36:22.255832",
     "status": "completed"
    },
    "tags": []
   },
   "source": [
    "#### * Let's check the probability of students scoring more than 50 marks in maths, reading and writing"
   ]
  },
  {
   "cell_type": "code",
   "execution_count": 12,
   "id": "c59425be",
   "metadata": {
    "execution": {
     "iopub.execute_input": "2022-04-12T04:36:22.565112Z",
     "iopub.status.busy": "2022-04-12T04:36:22.564337Z",
     "iopub.status.idle": "2022-04-12T04:36:22.570938Z",
     "shell.execute_reply": "2022-04-12T04:36:22.572204Z",
     "shell.execute_reply.started": "2022-04-12T04:33:07.651415Z"
    },
    "papermill": {
     "duration": 0.111822,
     "end_time": "2022-04-12T04:36:22.572489",
     "exception": false,
     "start_time": "2022-04-12T04:36:22.460667",
     "status": "completed"
    },
    "tags": []
   },
   "outputs": [
    {
     "name": "stdout",
     "output_type": "stream",
     "text": [
      "Probability of students scoring more than 50 marks in maths is : 85.0\n"
     ]
    }
   ],
   "source": [
    "total_students = df.shape[0]\n",
    "student_more_than_50_marks = df[df['math score'] > 50].shape[0]\n",
    "\n",
    "probability_of_students_scoring_more_than_50_marks_maths = (student_more_than_50_marks/total_students)*100\n",
    "\n",
    "print('Probability of students scoring more than 50 marks in maths is :', probability_of_students_scoring_more_than_50_marks_maths)"
   ]
  },
  {
   "cell_type": "code",
   "execution_count": 13,
   "id": "d85850a2",
   "metadata": {
    "execution": {
     "iopub.execute_input": "2022-04-12T04:36:22.779896Z",
     "iopub.status.busy": "2022-04-12T04:36:22.779157Z",
     "iopub.status.idle": "2022-04-12T04:36:22.785635Z",
     "shell.execute_reply": "2022-04-12T04:36:22.786274Z",
     "shell.execute_reply.started": "2022-04-12T04:33:07.666479Z"
    },
    "papermill": {
     "duration": 0.110647,
     "end_time": "2022-04-12T04:36:22.786488",
     "exception": false,
     "start_time": "2022-04-12T04:36:22.675841",
     "status": "completed"
    },
    "tags": []
   },
   "outputs": [
    {
     "name": "stdout",
     "output_type": "stream",
     "text": [
      "Probability of students scoring more than 50 marks in reading is : 90.3\n"
     ]
    }
   ],
   "source": [
    "total_students = df.shape[0]\n",
    "students_score_more_than_50_reading = df[df['reading score'] > 50].shape[0]\n",
    "\n",
    "probability_of_students_scoring_more_than_50_reading = (students_score_more_than_50_reading/total_students) * 100\n",
    "\n",
    "print('Probability of students scoring more than 50 marks in reading is :', probability_of_students_scoring_more_than_50_reading)"
   ]
  },
  {
   "cell_type": "code",
   "execution_count": 14,
   "id": "48ffd997",
   "metadata": {
    "execution": {
     "iopub.execute_input": "2022-04-12T04:36:22.995438Z",
     "iopub.status.busy": "2022-04-12T04:36:22.994678Z",
     "iopub.status.idle": "2022-04-12T04:36:23.002058Z",
     "shell.execute_reply": "2022-04-12T04:36:23.001351Z",
     "shell.execute_reply.started": "2022-04-12T04:33:07.680496Z"
    },
    "papermill": {
     "duration": 0.112415,
     "end_time": "2022-04-12T04:36:23.002244",
     "exception": false,
     "start_time": "2022-04-12T04:36:22.889829",
     "status": "completed"
    },
    "tags": []
   },
   "outputs": [
    {
     "name": "stdout",
     "output_type": "stream",
     "text": [
      "Probability of students scoring more than 50 marks in writing is : 87.6\n"
     ]
    }
   ],
   "source": [
    "total_sudents = df.shape[0]\n",
    "students_score_more_than_50_writing = df[df['writing score'] > 50].shape[0]\n",
    "\n",
    "probabilty_of_students_scoring_more_than_50_writing = (students_score_more_than_50_writing/total_students) * 100\n",
    "\n",
    "print('Probability of students scoring more than 50 marks in writing is :',probabilty_of_students_scoring_more_than_50_writing)"
   ]
  },
  {
   "cell_type": "markdown",
   "id": "b192bb8d",
   "metadata": {
    "papermill": {
     "duration": 0.103821,
     "end_time": "2022-04-12T04:36:23.214906",
     "exception": false,
     "start_time": "2022-04-12T04:36:23.111085",
     "status": "completed"
    },
    "tags": []
   },
   "source": [
    "#### * Let's also check the probability of students passing in all three subjects"
   ]
  },
  {
   "cell_type": "code",
   "execution_count": 15,
   "id": "0470ef80",
   "metadata": {
    "execution": {
     "iopub.execute_input": "2022-04-12T04:36:23.423620Z",
     "iopub.status.busy": "2022-04-12T04:36:23.422899Z",
     "iopub.status.idle": "2022-04-12T04:36:23.431378Z",
     "shell.execute_reply": "2022-04-12T04:36:23.430665Z",
     "shell.execute_reply.started": "2022-04-12T04:33:07.695647Z"
    },
    "papermill": {
     "duration": 0.114479,
     "end_time": "2022-04-12T04:36:23.431548",
     "exception": false,
     "start_time": "2022-04-12T04:36:23.317069",
     "status": "completed"
    },
    "tags": []
   },
   "outputs": [
    {
     "name": "stdout",
     "output_type": "stream",
     "text": [
      "Probability of Students passing in all subjects are :93.90%\n"
     ]
    }
   ],
   "source": [
    "total_students = df.shape[0]\n",
    "number_of_students_passing_in_all_subjects = df[(df['math score'] > 40) &\n",
    "                                               (df['reading score'] > 40) &\n",
    "                                               (df['writing score'] > 40)].shape[0]\n",
    "\n",
    "probability_of_students_passing_in_all_subjects = (number_of_students_passing_in_all_subjects/total_students) * 100\n",
    "\n",
    "print('Probability of Students passing in all subjects are :{0:.2f}%'.format(probability_of_students_passing_in_all_subjects))"
   ]
  },
  {
   "cell_type": "markdown",
   "id": "979fe538",
   "metadata": {
    "papermill": {
     "duration": 0.101725,
     "end_time": "2022-04-12T04:36:23.634868",
     "exception": false,
     "start_time": "2022-04-12T04:36:23.533143",
     "status": "completed"
    },
    "tags": []
   },
   "source": [
    "#### * Let's check the probabilty of students scoring more than 90 in all three subjects"
   ]
  },
  {
   "cell_type": "code",
   "execution_count": 16,
   "id": "0acf10e4",
   "metadata": {
    "execution": {
     "iopub.execute_input": "2022-04-12T04:36:23.845957Z",
     "iopub.status.busy": "2022-04-12T04:36:23.844843Z",
     "iopub.status.idle": "2022-04-12T04:36:23.853616Z",
     "shell.execute_reply": "2022-04-12T04:36:23.854167Z",
     "shell.execute_reply.started": "2022-04-12T04:33:07.713728Z"
    },
    "papermill": {
     "duration": 0.115762,
     "end_time": "2022-04-12T04:36:23.854378",
     "exception": false,
     "start_time": "2022-04-12T04:36:23.738616",
     "status": "completed"
    },
    "tags": []
   },
   "outputs": [
    {
     "name": "stdout",
     "output_type": "stream",
     "text": [
      "Probability of Students passing in all subjects are :2.30%\n"
     ]
    }
   ],
   "source": [
    "total_students = df.shape[0]\n",
    "number_of_students_scoring_more_than_90_in_all_subjects = df[(df['math score'] > 90) &\n",
    "                                               (df['reading score'] > 90) &\n",
    "                                               (df['writing score'] > 90)].shape[0]\n",
    "\n",
    "probability_of_students_scoring_more_than_90_in_all_subjects = (number_of_students_scoring_more_than_90_in_all_subjects/total_students) * 100\n",
    "\n",
    "print('Probability of Students passing in all subjects are :{0:.2f}%'.format(probability_of_students_scoring_more_than_90_in_all_subjects))"
   ]
  },
  {
   "cell_type": "markdown",
   "id": "4db5ca20",
   "metadata": {
    "execution": {
     "iopub.execute_input": "2022-04-09T03:42:57.530075Z",
     "iopub.status.busy": "2022-04-09T03:42:57.529563Z",
     "iopub.status.idle": "2022-04-09T03:42:57.534763Z",
     "shell.execute_reply": "2022-04-09T03:42:57.533828Z",
     "shell.execute_reply.started": "2022-04-09T03:42:57.529978Z"
    },
    "papermill": {
     "duration": 0.106071,
     "end_time": "2022-04-12T04:36:24.062649",
     "exception": false,
     "start_time": "2022-04-12T04:36:23.956578",
     "status": "completed"
    },
    "tags": []
   },
   "source": [
    "#### * Now, we'll be checking if maths, reading and writing scores are skewed"
   ]
  },
  {
   "cell_type": "code",
   "execution_count": 17,
   "id": "b3681bf3",
   "metadata": {
    "execution": {
     "iopub.execute_input": "2022-04-12T04:36:24.295571Z",
     "iopub.status.busy": "2022-04-12T04:36:24.292819Z",
     "iopub.status.idle": "2022-04-12T04:36:24.890732Z",
     "shell.execute_reply": "2022-04-12T04:36:24.890098Z",
     "shell.execute_reply.started": "2022-04-12T04:33:07.727835Z"
    },
    "papermill": {
     "duration": 0.725689,
     "end_time": "2022-04-12T04:36:24.890908",
     "exception": false,
     "start_time": "2022-04-12T04:36:24.165219",
     "status": "completed"
    },
    "tags": []
   },
   "outputs": [
    {
     "name": "stderr",
     "output_type": "stream",
     "text": [
      "/opt/conda/lib/python3.7/site-packages/seaborn/distributions.py:2619: FutureWarning: `distplot` is a deprecated function and will be removed in a future version. Please adapt your code to use either `displot` (a figure-level function with similar flexibility) or `histplot` (an axes-level function for histograms).\n",
      "  warnings.warn(msg, FutureWarning)\n",
      "/opt/conda/lib/python3.7/site-packages/seaborn/distributions.py:2619: FutureWarning: `distplot` is a deprecated function and will be removed in a future version. Please adapt your code to use either `displot` (a figure-level function with similar flexibility) or `histplot` (an axes-level function for histograms).\n",
      "  warnings.warn(msg, FutureWarning)\n",
      "/opt/conda/lib/python3.7/site-packages/seaborn/distributions.py:2619: FutureWarning: `distplot` is a deprecated function and will be removed in a future version. Please adapt your code to use either `displot` (a figure-level function with similar flexibility) or `histplot` (an axes-level function for histograms).\n",
      "  warnings.warn(msg, FutureWarning)\n"
     ]
    },
    {
     "data": {
      "image/png": "[encoded data removed]",
      "text/plain": [
       "<Figure size 1296x432 with 3 Axes>"
      ]
     },
     "metadata": {
      "needs_background": "light"
     },
     "output_type": "display_data"
    }
   ],
   "source": [
    "plt.figure(figsize = (18,6))\n",
    "plt.subplot(1, 3, 1)\n",
    "sns.distplot(df['math score'])\n",
    "\n",
    "plt.subplot(1, 3, 2)\n",
    "sns.distplot(df['reading score'])\n",
    "\n",
    "plt.subplot(1, 3, 3)\n",
    "sns.distplot(df['writing score'])\n",
    "\n",
    "plt.suptitle('Checking for Skewness', fontsize = 15)\n",
    "plt.show()"
   ]
  },
  {
   "cell_type": "markdown",
   "id": "a511745e",
   "metadata": {
    "execution": {
     "iopub.execute_input": "2022-04-09T03:46:50.823682Z",
     "iopub.status.busy": "2022-04-09T03:46:50.823011Z",
     "iopub.status.idle": "2022-04-09T03:46:50.82773Z",
     "shell.execute_reply": "2022-04-09T03:46:50.826668Z",
     "shell.execute_reply.started": "2022-04-09T03:46:50.823638Z"
    },
    "papermill": {
     "duration": 0.105991,
     "end_time": "2022-04-12T04:36:25.102485",
     "exception": false,
     "start_time": "2022-04-12T04:36:24.996494",
     "status": "completed"
    },
    "tags": []
   },
   "source": [
    "##### from the above plot we can conclude, that it is very much clear that there is no skewness in the Target columns"
   ]
  },
  {
   "cell_type": "markdown",
   "id": "5a442c4a",
   "metadata": {
    "papermill": {
     "duration": 0.105862,
     "end_time": "2022-04-12T04:36:25.320002",
     "exception": false,
     "start_time": "2022-04-12T04:36:25.214140",
     "status": "completed"
    },
    "tags": []
   },
   "source": [
    "#### * Now, let's check for inference"
   ]
  },
  {
   "cell_type": "code",
   "execution_count": 18,
   "id": "b73d2c15",
   "metadata": {
    "execution": {
     "iopub.execute_input": "2022-04-12T04:36:25.541563Z",
     "iopub.status.busy": "2022-04-12T04:36:25.540860Z",
     "iopub.status.idle": "2022-04-12T04:36:25.548566Z",
     "shell.execute_reply": "2022-04-12T04:36:25.547534Z",
     "shell.execute_reply.started": "2022-04-12T04:33:08.288023Z"
    },
    "papermill": {
     "duration": 0.122608,
     "end_time": "2022-04-12T04:36:25.548809",
     "exception": false,
     "start_time": "2022-04-12T04:36:25.426201",
     "status": "completed"
    },
    "tags": []
   },
   "outputs": [
    {
     "name": "stdout",
     "output_type": "stream",
     "text": [
      "Sample mean for maths score : 63.12\n",
      "Population mean for math score : 66.089\n",
      "\n",
      "Sample mean for reading score : 68.5\n",
      "population mean for reading score : 69.169\n",
      "\n",
      "Sample mean for writing score : 71.46\n",
      "Population mean for writing score : 68.054\n"
     ]
    }
   ],
   "source": [
    "## we'll take seed so that everytime the random values comes out to be constant\n",
    "\n",
    "np.random.seed(6)\n",
    "\n",
    "## let's take 100 samples from the dataset of 1000 values for math score\n",
    "sample_math_marks = np.random.choice(a = df['math score'], size = 100)\n",
    "\n",
    "## compute sample mean\n",
    "print('Sample mean for maths score :', sample_math_marks.mean())\n",
    "\n",
    "## compute the population mean\n",
    "print('Population mean for math score :', df['math score'].mean())\n",
    "\n",
    "## let's take 100 sample values from the dataset of 1000 values for reading score\n",
    "sample_reading_marks = np.random.choice(a = df['reading score'], size = 100)\n",
    "\n",
    "## compute sample mean\n",
    "print('\\nSample mean for reading score :', sample_reading_marks.mean())\n",
    "\n",
    "## compute the population mean\n",
    "print('population mean for reading score :', df['reading score'].mean())\n",
    "\n",
    "## Let's take the 100 sample values from the dataset of 1000 values for writing score\n",
    "sample_writing_score = np.random.choice(a = df['writing score'], size = 100)\n",
    "\n",
    "## compute sample mean\n",
    "print('\\nSample mean for writing score :', sample_writing_score.mean())\n",
    "\n",
    "## compute the population mean\n",
    "print('Population mean for writing score :', df['writing score'].mean())"
   ]
  },
  {
   "cell_type": "code",
   "execution_count": 19,
   "id": "9ec450fa",
   "metadata": {
    "execution": {
     "iopub.execute_input": "2022-04-12T04:36:25.770191Z",
     "iopub.status.busy": "2022-04-12T04:36:25.769485Z",
     "iopub.status.idle": "2022-04-12T04:36:25.779050Z",
     "shell.execute_reply": "2022-04-12T04:36:25.779802Z",
     "shell.execute_reply.started": "2022-04-12T04:33:08.300796Z"
    },
    "papermill": {
     "duration": 0.126312,
     "end_time": "2022-04-12T04:36:25.780065",
     "exception": false,
     "start_time": "2022-04-12T04:36:25.653753",
     "status": "completed"
    },
    "tags": []
   },
   "outputs": [
    {
     "name": "stdout",
     "output_type": "stream",
     "text": [
      "z-critical value : 1.6448536269514722\n",
      "65.616\n",
      "Population Standard Deviation 15.163080096009468\n",
      "Margin of error is : 0.7887051667167276\n",
      "Confidence Interval : (64.82729483328328, 66.40470516671672)\n",
      "True mean: 66.089\n"
     ]
    }
   ],
   "source": [
    "#### * Now, let's check the confidence interval for math score\n",
    "\n",
    "## firstly, we'll import scipy package\n",
    "import scipy.stats as stats\n",
    "import math\n",
    "\n",
    "## Let's seed the random values\n",
    "np.random.seed(10)\n",
    "\n",
    "## Let's take a sample size \n",
    "sample_size = 1000\n",
    "sample = np.random.choice(a = df['math score'], size = sample_size)\n",
    "\n",
    "## compute sample mean\n",
    "sample_mean = sample.mean()\n",
    "\n",
    "## Get the z critical value\n",
    "z_critical = stats.norm.ppf(q = 0.95)\n",
    "\n",
    "## Check the z-critical value\n",
    "print('z-critical value :', z_critical)\n",
    "\n",
    "## compute the population standard deviation\n",
    "pop_stdev = df['math score'].std()\n",
    "\n",
    "## compute the margin of error\n",
    "margin_of_error = z_critical * (pop_stdev/math.sqrt(sample_size))\n",
    "\n",
    "## definig our confidence interval\n",
    "confidence_interval = (sample_mean - margin_of_error, sample_mean + margin_of_error)\n",
    "\n",
    "## Let's print the results\n",
    "print(sample_mean)\n",
    "print('Population Standard Deviation', pop_stdev)\n",
    "print('Margin of error is :', margin_of_error)\n",
    "print('Confidence Interval :', confidence_interval)\n",
    "print('True mean: {}'.format(df['math score'].mean()))"
   ]
  },
  {
   "cell_type": "markdown",
   "id": "b2d1bfa9",
   "metadata": {
    "papermill": {
     "duration": 0.106088,
     "end_time": "2022-04-12T04:36:25.996271",
     "exception": false,
     "start_time": "2022-04-12T04:36:25.890183",
     "status": "completed"
    },
    "tags": []
   },
   "source": [
    "#### * likewise, also check the confidence interval for reading score\n",
    "\n"
   ]
  },
  {
   "cell_type": "code",
   "execution_count": 20,
   "id": "838ead6b",
   "metadata": {
    "execution": {
     "iopub.execute_input": "2022-04-12T04:36:26.220430Z",
     "iopub.status.busy": "2022-04-12T04:36:26.219755Z",
     "iopub.status.idle": "2022-04-12T04:36:26.224470Z",
     "shell.execute_reply": "2022-04-12T04:36:26.223908Z",
     "shell.execute_reply.started": "2022-04-12T04:33:08.316849Z"
    },
    "papermill": {
     "duration": 0.12213,
     "end_time": "2022-04-12T04:36:26.224613",
     "exception": false,
     "start_time": "2022-04-12T04:36:26.102483",
     "status": "completed"
    },
    "tags": []
   },
   "outputs": [
    {
     "name": "stdout",
     "output_type": "stream",
     "text": [
      "z-critical value:  1.6448536269514722\n",
      "68.517\n",
      "Population Standard Deviation : 14.60019193725222\n",
      "Margin of Error : 0.7594266298835454\n",
      "Confidence interval : (67.75757337011645, 69.27642662988355)\n",
      "True mean: 69.169\n"
     ]
    }
   ],
   "source": [
    "# lets import the scipy package\n",
    "import scipy.stats as stats\n",
    "import math\n",
    "\n",
    "# lets seed the random values\n",
    "np.random.seed(10)\n",
    "\n",
    "# lets take a sample size\n",
    "sample_size = 1000\n",
    "sample = np.random.choice(a= df['reading score'],\n",
    "                          size = sample_size)\n",
    "sample_mean = sample.mean()\n",
    "\n",
    "# Get the z-critical value*\n",
    "z_critical = stats.norm.ppf(q = 0.95)  \n",
    "\n",
    " # Check the z-critical value  \n",
    "print(\"z-critical value: \",z_critical)                                \n",
    "\n",
    "# Get the population standard deviation\n",
    "pop_stdev = df['reading score'].std()  \n",
    "\n",
    "# checking the margin of error\n",
    "margin_of_error = z_critical * (pop_stdev/math.sqrt(sample_size)) \n",
    "\n",
    "# defining our confidence interval\n",
    "confidence_interval = (sample_mean - margin_of_error,\n",
    "                       sample_mean + margin_of_error)  \n",
    "\n",
    "# lets print the results\n",
    "print(sample_mean)\n",
    "print('Population Standard Deviation :', pop_stdev)\n",
    "print('Margin of Error :', margin_of_error)\n",
    "print(\"Confidence interval :\", confidence_interval)\n",
    "\n",
    "print(\"True mean: {}\".format(df['reading score'].mean()))"
   ]
  },
  {
   "cell_type": "markdown",
   "id": "a50e012e",
   "metadata": {
    "papermill": {
     "duration": 0.110558,
     "end_time": "2022-04-12T04:36:26.441296",
     "exception": false,
     "start_time": "2022-04-12T04:36:26.330738",
     "status": "completed"
    },
    "tags": []
   },
   "source": [
    "#### * Now, let's also check the confidence interval for writing score"
   ]
  },
  {
   "cell_type": "code",
   "execution_count": 21,
   "id": "a154a81d",
   "metadata": {
    "execution": {
     "iopub.execute_input": "2022-04-12T04:36:26.673563Z",
     "iopub.status.busy": "2022-04-12T04:36:26.672801Z",
     "iopub.status.idle": "2022-04-12T04:36:26.676336Z",
     "shell.execute_reply": "2022-04-12T04:36:26.675798Z",
     "shell.execute_reply.started": "2022-04-12T04:33:08.338723Z"
    },
    "papermill": {
     "duration": 0.125127,
     "end_time": "2022-04-12T04:36:26.676493",
     "exception": false,
     "start_time": "2022-04-12T04:36:26.551366",
     "status": "completed"
    },
    "tags": []
   },
   "outputs": [
    {
     "name": "stdout",
     "output_type": "stream",
     "text": [
      "z-critical values : 1.6448536269514722\n",
      "67.6\n",
      "Population Standard Deviation : 15.195657010869642\n",
      "Margin of Error : 0.7903996496913755\n",
      "Confidence Interval : (66.80960035030861, 68.39039964969137)\n",
      "True Mean : 68.054\n"
     ]
    }
   ],
   "source": [
    "## Let's seed the random values\n",
    "np.random.seed(10)\n",
    "\n",
    "## Let's take a sample size \n",
    "sample_size = 1000\n",
    "sample = np.random.choice(a = df['writing score'], size = sample_size)\n",
    "sample_mean = sample.mean()\n",
    "\n",
    "## compute the z-critical values\n",
    "z_critical = stats.norm.ppf(q = 0.95)\n",
    "\n",
    "## check the z-critical value\n",
    "print('z-critical values :', z_critical)\n",
    "\n",
    "## compute the population standard deviation\n",
    "pop_stdev = df['writing score'].std()\n",
    "\n",
    "## compute the margin of error\n",
    "margin_of_error = z_critical * (pop_stdev/math.sqrt(sample_size))\n",
    "\n",
    "## definig our confidence interval\n",
    "confidence_interval = (sample_mean - margin_of_error, sample_mean + margin_of_error)\n",
    "\n",
    "## Let's print the results\n",
    "print(sample_mean)\n",
    "print('Population Standard Deviation :', pop_stdev)\n",
    "print('Margin of Error :', margin_of_error)\n",
    "print('Confidence Interval :', confidence_interval)\n",
    "print('True Mean :', df['writing score'].mean())"
   ]
  },
  {
   "cell_type": "markdown",
   "id": "df2294f3",
   "metadata": {
    "papermill": {
     "duration": 0.110579,
     "end_time": "2022-04-12T04:36:26.894781",
     "exception": false,
     "start_time": "2022-04-12T04:36:26.784202",
     "status": "completed"
    },
    "tags": []
   },
   "source": [
    "##### * from the above computation we've seen that true mean is contained in our interval.\n",
    "##### * A confidence interval of 95% would mean that if we take many samples and create confidence intervals for each one of them, 95% of our samples' confidence intervals will contain true population mean\n",
    "##### * Now, let's create several confidence intervals and plot them to get a better sense of what it means to 'capture' the true mean"
   ]
  },
  {
   "cell_type": "markdown",
   "id": "6d16bd98",
   "metadata": {
    "papermill": {
     "duration": 0.106516,
     "end_time": "2022-04-12T04:36:27.110078",
     "exception": false,
     "start_time": "2022-04-12T04:36:27.003562",
     "status": "completed"
    },
    "tags": []
   },
   "source": [
    "### Grouping Operartions"
   ]
  },
  {
   "cell_type": "code",
   "execution_count": 22,
   "id": "20d2bfba",
   "metadata": {
    "execution": {
     "iopub.execute_input": "2022-04-12T04:36:27.348588Z",
     "iopub.status.busy": "2022-04-12T04:36:27.347883Z",
     "iopub.status.idle": "2022-04-12T04:36:27.351558Z",
     "shell.execute_reply": "2022-04-12T04:36:27.351031Z",
     "shell.execute_reply.started": "2022-04-12T04:33:08.358493Z"
    },
    "papermill": {
     "duration": 0.133148,
     "end_time": "2022-04-12T04:36:27.351754",
     "exception": false,
     "start_time": "2022-04-12T04:36:27.218606",
     "status": "completed"
    },
    "tags": []
   },
   "outputs": [
    {
     "data": {
      "text/html": [
       "<div>\n",
       "<style scoped>\n",
       "    .dataframe tbody tr th:only-of-type {\n",
       "        vertical-align: middle;\n",
       "    }\n",
       "\n",
       "    .dataframe tbody tr th {\n",
       "        vertical-align: top;\n",
       "    }\n",
       "\n",
       "    .dataframe thead th {\n",
       "        text-align: right;\n",
       "    }\n",
       "</style>\n",
       "<table border=\"1\" class=\"dataframe\">\n",
       "  <thead>\n",
       "    <tr style=\"text-align: right;\">\n",
       "      <th></th>\n",
       "      <th>gender</th>\n",
       "      <th>race/ethnicity</th>\n",
       "      <th>parental level of education</th>\n",
       "      <th>lunch</th>\n",
       "      <th>test preparation course</th>\n",
       "      <th>math score</th>\n",
       "      <th>reading score</th>\n",
       "      <th>writing score</th>\n",
       "    </tr>\n",
       "  </thead>\n",
       "  <tbody>\n",
       "    <tr>\n",
       "      <th>114</th>\n",
       "      <td>female</td>\n",
       "      <td>group E</td>\n",
       "      <td>bachelor's degree</td>\n",
       "      <td>standard</td>\n",
       "      <td>completed</td>\n",
       "      <td>99</td>\n",
       "      <td>100</td>\n",
       "      <td>100</td>\n",
       "    </tr>\n",
       "    <tr>\n",
       "      <th>165</th>\n",
       "      <td>female</td>\n",
       "      <td>group C</td>\n",
       "      <td>bachelor's degree</td>\n",
       "      <td>standard</td>\n",
       "      <td>completed</td>\n",
       "      <td>96</td>\n",
       "      <td>100</td>\n",
       "      <td>100</td>\n",
       "    </tr>\n",
       "    <tr>\n",
       "      <th>179</th>\n",
       "      <td>female</td>\n",
       "      <td>group D</td>\n",
       "      <td>some high school</td>\n",
       "      <td>standard</td>\n",
       "      <td>completed</td>\n",
       "      <td>97</td>\n",
       "      <td>100</td>\n",
       "      <td>100</td>\n",
       "    </tr>\n",
       "    <tr>\n",
       "      <th>451</th>\n",
       "      <td>female</td>\n",
       "      <td>group E</td>\n",
       "      <td>some college</td>\n",
       "      <td>standard</td>\n",
       "      <td>none</td>\n",
       "      <td>100</td>\n",
       "      <td>92</td>\n",
       "      <td>97</td>\n",
       "    </tr>\n",
       "    <tr>\n",
       "      <th>458</th>\n",
       "      <td>female</td>\n",
       "      <td>group E</td>\n",
       "      <td>bachelor's degree</td>\n",
       "      <td>standard</td>\n",
       "      <td>none</td>\n",
       "      <td>100</td>\n",
       "      <td>100</td>\n",
       "      <td>100</td>\n",
       "    </tr>\n",
       "    <tr>\n",
       "      <th>546</th>\n",
       "      <td>female</td>\n",
       "      <td>group A</td>\n",
       "      <td>some high school</td>\n",
       "      <td>standard</td>\n",
       "      <td>completed</td>\n",
       "      <td>92</td>\n",
       "      <td>100</td>\n",
       "      <td>97</td>\n",
       "    </tr>\n",
       "    <tr>\n",
       "      <th>566</th>\n",
       "      <td>female</td>\n",
       "      <td>group E</td>\n",
       "      <td>bachelor's degree</td>\n",
       "      <td>free/reduced</td>\n",
       "      <td>completed</td>\n",
       "      <td>92</td>\n",
       "      <td>100</td>\n",
       "      <td>100</td>\n",
       "    </tr>\n",
       "    <tr>\n",
       "      <th>594</th>\n",
       "      <td>female</td>\n",
       "      <td>group C</td>\n",
       "      <td>bachelor's degree</td>\n",
       "      <td>standard</td>\n",
       "      <td>completed</td>\n",
       "      <td>92</td>\n",
       "      <td>100</td>\n",
       "      <td>99</td>\n",
       "    </tr>\n",
       "    <tr>\n",
       "      <th>685</th>\n",
       "      <td>female</td>\n",
       "      <td>group E</td>\n",
       "      <td>master's degree</td>\n",
       "      <td>standard</td>\n",
       "      <td>completed</td>\n",
       "      <td>94</td>\n",
       "      <td>99</td>\n",
       "      <td>100</td>\n",
       "    </tr>\n",
       "    <tr>\n",
       "      <th>712</th>\n",
       "      <td>female</td>\n",
       "      <td>group D</td>\n",
       "      <td>some college</td>\n",
       "      <td>standard</td>\n",
       "      <td>none</td>\n",
       "      <td>98</td>\n",
       "      <td>100</td>\n",
       "      <td>99</td>\n",
       "    </tr>\n",
       "    <tr>\n",
       "      <th>717</th>\n",
       "      <td>female</td>\n",
       "      <td>group C</td>\n",
       "      <td>associate's degree</td>\n",
       "      <td>standard</td>\n",
       "      <td>completed</td>\n",
       "      <td>96</td>\n",
       "      <td>96</td>\n",
       "      <td>99</td>\n",
       "    </tr>\n",
       "    <tr>\n",
       "      <th>855</th>\n",
       "      <td>female</td>\n",
       "      <td>group B</td>\n",
       "      <td>bachelor's degree</td>\n",
       "      <td>standard</td>\n",
       "      <td>none</td>\n",
       "      <td>97</td>\n",
       "      <td>97</td>\n",
       "      <td>96</td>\n",
       "    </tr>\n",
       "    <tr>\n",
       "      <th>886</th>\n",
       "      <td>female</td>\n",
       "      <td>group E</td>\n",
       "      <td>associate's degree</td>\n",
       "      <td>standard</td>\n",
       "      <td>completed</td>\n",
       "      <td>93</td>\n",
       "      <td>100</td>\n",
       "      <td>95</td>\n",
       "    </tr>\n",
       "    <tr>\n",
       "      <th>903</th>\n",
       "      <td>female</td>\n",
       "      <td>group D</td>\n",
       "      <td>bachelor's degree</td>\n",
       "      <td>free/reduced</td>\n",
       "      <td>completed</td>\n",
       "      <td>93</td>\n",
       "      <td>100</td>\n",
       "      <td>100</td>\n",
       "    </tr>\n",
       "    <tr>\n",
       "      <th>957</th>\n",
       "      <td>female</td>\n",
       "      <td>group D</td>\n",
       "      <td>master's degree</td>\n",
       "      <td>standard</td>\n",
       "      <td>none</td>\n",
       "      <td>92</td>\n",
       "      <td>100</td>\n",
       "      <td>100</td>\n",
       "    </tr>\n",
       "    <tr>\n",
       "      <th>962</th>\n",
       "      <td>female</td>\n",
       "      <td>group E</td>\n",
       "      <td>associate's degree</td>\n",
       "      <td>standard</td>\n",
       "      <td>none</td>\n",
       "      <td>100</td>\n",
       "      <td>100</td>\n",
       "      <td>100</td>\n",
       "    </tr>\n",
       "    <tr>\n",
       "      <th>979</th>\n",
       "      <td>female</td>\n",
       "      <td>group C</td>\n",
       "      <td>associate's degree</td>\n",
       "      <td>standard</td>\n",
       "      <td>none</td>\n",
       "      <td>91</td>\n",
       "      <td>95</td>\n",
       "      <td>94</td>\n",
       "    </tr>\n",
       "  </tbody>\n",
       "</table>\n",
       "</div>"
      ],
      "text/plain": [
       "     gender race/ethnicity parental level of education         lunch  \\\n",
       "114  female        group E           bachelor's degree      standard   \n",
       "165  female        group C           bachelor's degree      standard   \n",
       "179  female        group D            some high school      standard   \n",
       "451  female        group E                some college      standard   \n",
       "458  female        group E           bachelor's degree      standard   \n",
       "546  female        group A            some high school      standard   \n",
       "566  female        group E           bachelor's degree  free/reduced   \n",
       "594  female        group C           bachelor's degree      standard   \n",
       "685  female        group E             master's degree      standard   \n",
       "712  female        group D                some college      standard   \n",
       "717  female        group C          associate's degree      standard   \n",
       "855  female        group B           bachelor's degree      standard   \n",
       "886  female        group E          associate's degree      standard   \n",
       "903  female        group D           bachelor's degree  free/reduced   \n",
       "957  female        group D             master's degree      standard   \n",
       "962  female        group E          associate's degree      standard   \n",
       "979  female        group C          associate's degree      standard   \n",
       "\n",
       "    test preparation course  math score  reading score  writing score  \n",
       "114               completed          99            100            100  \n",
       "165               completed          96            100            100  \n",
       "179               completed          97            100            100  \n",
       "451                    none         100             92             97  \n",
       "458                    none         100            100            100  \n",
       "546               completed          92            100             97  \n",
       "566               completed          92            100            100  \n",
       "594               completed          92            100             99  \n",
       "685               completed          94             99            100  \n",
       "712                    none          98            100             99  \n",
       "717               completed          96             96             99  \n",
       "855                    none          97             97             96  \n",
       "886               completed          93            100             95  \n",
       "903               completed          93            100            100  \n",
       "957                    none          92            100            100  \n",
       "962                    none         100            100            100  \n",
       "979                    none          91             95             94  "
      ]
     },
     "execution_count": 22,
     "metadata": {},
     "output_type": "execute_result"
    }
   ],
   "source": [
    "## Number of Girls scoring 90 in all subjects\n",
    "\n",
    "df[(df['gender'] == 'female') &\n",
    "  (df['math score'] > 90) &\n",
    "  (df['reading score'] > 90) &\n",
    "  (df['writing score'] > 90)]"
   ]
  },
  {
   "cell_type": "markdown",
   "id": "bb63f816",
   "metadata": {
    "papermill": {
     "duration": 0.111135,
     "end_time": "2022-04-12T04:36:27.574268",
     "exception": false,
     "start_time": "2022-04-12T04:36:27.463133",
     "status": "completed"
    },
    "tags": []
   },
   "source": [
    "#### * Now let's compare the scores secured by Boys and Girls"
   ]
  },
  {
   "cell_type": "code",
   "execution_count": 23,
   "id": "e7b88794",
   "metadata": {
    "execution": {
     "iopub.execute_input": "2022-04-12T04:36:27.805897Z",
     "iopub.status.busy": "2022-04-12T04:36:27.803998Z",
     "iopub.status.idle": "2022-04-12T04:36:27.832380Z",
     "shell.execute_reply": "2022-04-12T04:36:27.833025Z",
     "shell.execute_reply.started": "2022-04-12T04:33:08.380201Z"
    },
    "papermill": {
     "duration": 0.14904,
     "end_time": "2022-04-12T04:36:27.833238",
     "exception": false,
     "start_time": "2022-04-12T04:36:27.684198",
     "status": "completed"
    },
    "tags": []
   },
   "outputs": [
    {
     "data": {
      "text/html": [
       "<div>\n",
       "<style scoped>\n",
       "    .dataframe tbody tr th:only-of-type {\n",
       "        vertical-align: middle;\n",
       "    }\n",
       "\n",
       "    .dataframe tbody tr th {\n",
       "        vertical-align: top;\n",
       "    }\n",
       "\n",
       "    .dataframe thead tr th {\n",
       "        text-align: left;\n",
       "    }\n",
       "\n",
       "    .dataframe thead tr:last-of-type th {\n",
       "        text-align: right;\n",
       "    }\n",
       "</style>\n",
       "<table border=\"1\" class=\"dataframe\">\n",
       "  <thead>\n",
       "    <tr>\n",
       "      <th></th>\n",
       "      <th colspan=\"3\" halign=\"left\">math score</th>\n",
       "      <th colspan=\"3\" halign=\"left\">reading score</th>\n",
       "      <th colspan=\"3\" halign=\"left\">writing score</th>\n",
       "    </tr>\n",
       "    <tr>\n",
       "      <th></th>\n",
       "      <th>min</th>\n",
       "      <th>median</th>\n",
       "      <th>max</th>\n",
       "      <th>min</th>\n",
       "      <th>median</th>\n",
       "      <th>max</th>\n",
       "      <th>min</th>\n",
       "      <th>median</th>\n",
       "      <th>max</th>\n",
       "    </tr>\n",
       "    <tr>\n",
       "      <th>gender</th>\n",
       "      <th></th>\n",
       "      <th></th>\n",
       "      <th></th>\n",
       "      <th></th>\n",
       "      <th></th>\n",
       "      <th></th>\n",
       "      <th></th>\n",
       "      <th></th>\n",
       "      <th></th>\n",
       "    </tr>\n",
       "  </thead>\n",
       "  <tbody>\n",
       "    <tr>\n",
       "      <th>female</th>\n",
       "      <td>0</td>\n",
       "      <td>65.0</td>\n",
       "      <td>100</td>\n",
       "      <td>17</td>\n",
       "      <td>73.0</td>\n",
       "      <td>100</td>\n",
       "      <td>10</td>\n",
       "      <td>74.0</td>\n",
       "      <td>100</td>\n",
       "    </tr>\n",
       "    <tr>\n",
       "      <th>male</th>\n",
       "      <td>27</td>\n",
       "      <td>69.0</td>\n",
       "      <td>100</td>\n",
       "      <td>23</td>\n",
       "      <td>66.0</td>\n",
       "      <td>100</td>\n",
       "      <td>15</td>\n",
       "      <td>64.0</td>\n",
       "      <td>100</td>\n",
       "    </tr>\n",
       "  </tbody>\n",
       "</table>\n",
       "</div>"
      ],
      "text/plain": [
       "       math score             reading score             writing score         \\\n",
       "              min median  max           min median  max           min median   \n",
       "gender                                                                         \n",
       "female          0   65.0  100            17   73.0  100            10   74.0   \n",
       "male           27   69.0  100            23   66.0  100            15   64.0   \n",
       "\n",
       "             \n",
       "        max  \n",
       "gender       \n",
       "female  100  \n",
       "male    100  "
      ]
     },
     "execution_count": 23,
     "metadata": {},
     "output_type": "execute_result"
    }
   ],
   "source": [
    "df.groupby(['gender']).agg(['min', 'median', 'max'])"
   ]
  },
  {
   "cell_type": "markdown",
   "id": "a8e2499e",
   "metadata": {
    "execution": {
     "iopub.execute_input": "2022-04-10T04:15:02.959353Z",
     "iopub.status.busy": "2022-04-10T04:15:02.959008Z",
     "iopub.status.idle": "2022-04-10T04:15:02.984303Z",
     "shell.execute_reply": "2022-04-10T04:15:02.983375Z",
     "shell.execute_reply.started": "2022-04-10T04:15:02.959322Z"
    },
    "papermill": {
     "duration": 0.110154,
     "end_time": "2022-04-12T04:36:28.057218",
     "exception": false,
     "start_time": "2022-04-12T04:36:27.947064",
     "status": "completed"
    },
    "tags": []
   },
   "source": [
    "#### * Let's check the effect of lunch on student's performance"
   ]
  },
  {
   "cell_type": "code",
   "execution_count": 24,
   "id": "966385da",
   "metadata": {
    "execution": {
     "iopub.execute_input": "2022-04-12T04:36:28.307791Z",
     "iopub.status.busy": "2022-04-12T04:36:28.306945Z",
     "iopub.status.idle": "2022-04-12T04:36:28.318523Z",
     "shell.execute_reply": "2022-04-12T04:36:28.319087Z",
     "shell.execute_reply.started": "2022-04-12T04:33:08.415388Z"
    },
    "papermill": {
     "duration": 0.133073,
     "end_time": "2022-04-12T04:36:28.319343",
     "exception": false,
     "start_time": "2022-04-12T04:36:28.186270",
     "status": "completed"
    },
    "tags": []
   },
   "outputs": [
    {
     "data": {
      "text/html": [
       "<div>\n",
       "<style scoped>\n",
       "    .dataframe tbody tr th:only-of-type {\n",
       "        vertical-align: middle;\n",
       "    }\n",
       "\n",
       "    .dataframe tbody tr th {\n",
       "        vertical-align: top;\n",
       "    }\n",
       "\n",
       "    .dataframe thead th {\n",
       "        text-align: right;\n",
       "    }\n",
       "</style>\n",
       "<table border=\"1\" class=\"dataframe\">\n",
       "  <thead>\n",
       "    <tr style=\"text-align: right;\">\n",
       "      <th></th>\n",
       "      <th></th>\n",
       "      <th>math score</th>\n",
       "      <th>reading score</th>\n",
       "      <th>writing score</th>\n",
       "    </tr>\n",
       "    <tr>\n",
       "      <th>lunch</th>\n",
       "      <th>gender</th>\n",
       "      <th></th>\n",
       "      <th></th>\n",
       "      <th></th>\n",
       "    </tr>\n",
       "  </thead>\n",
       "  <tbody>\n",
       "    <tr>\n",
       "      <th rowspan=\"2\" valign=\"top\">free/reduced</th>\n",
       "      <th>female</th>\n",
       "      <td>57.0</td>\n",
       "      <td>67.0</td>\n",
       "      <td>68.0</td>\n",
       "    </tr>\n",
       "    <tr>\n",
       "      <th>male</th>\n",
       "      <td>62.0</td>\n",
       "      <td>61.0</td>\n",
       "      <td>59.0</td>\n",
       "    </tr>\n",
       "    <tr>\n",
       "      <th rowspan=\"2\" valign=\"top\">standard</th>\n",
       "      <th>female</th>\n",
       "      <td>67.0</td>\n",
       "      <td>75.0</td>\n",
       "      <td>76.0</td>\n",
       "    </tr>\n",
       "    <tr>\n",
       "      <th>male</th>\n",
       "      <td>72.0</td>\n",
       "      <td>67.5</td>\n",
       "      <td>67.0</td>\n",
       "    </tr>\n",
       "  </tbody>\n",
       "</table>\n",
       "</div>"
      ],
      "text/plain": [
       "                     math score  reading score  writing score\n",
       "lunch        gender                                          \n",
       "free/reduced female        57.0           67.0           68.0\n",
       "             male          62.0           61.0           59.0\n",
       "standard     female        67.0           75.0           76.0\n",
       "             male          72.0           67.5           67.0"
      ]
     },
     "execution_count": 24,
     "metadata": {},
     "output_type": "execute_result"
    }
   ],
   "source": [
    "df[['lunch', 'gender', 'math score', 'reading score', 'writing score']].groupby(['lunch', 'gender']).agg('median')"
   ]
  },
  {
   "cell_type": "markdown",
   "id": "aa21f457",
   "metadata": {
    "papermill": {
     "duration": 0.109936,
     "end_time": "2022-04-12T04:36:28.549529",
     "exception": false,
     "start_time": "2022-04-12T04:36:28.439593",
     "status": "completed"
    },
    "tags": []
   },
   "source": [
    "#### * Let's check the effect of Test Preparation Course on scores"
   ]
  },
  {
   "cell_type": "code",
   "execution_count": 25,
   "id": "1454a809",
   "metadata": {
    "execution": {
     "iopub.execute_input": "2022-04-12T04:36:28.772155Z",
     "iopub.status.busy": "2022-04-12T04:36:28.771325Z",
     "iopub.status.idle": "2022-04-12T04:36:28.787340Z",
     "shell.execute_reply": "2022-04-12T04:36:28.787904Z",
     "shell.execute_reply.started": "2022-04-12T04:33:08.432937Z"
    },
    "papermill": {
     "duration": 0.128518,
     "end_time": "2022-04-12T04:36:28.788114",
     "exception": false,
     "start_time": "2022-04-12T04:36:28.659596",
     "status": "completed"
    },
    "tags": []
   },
   "outputs": [
    {
     "data": {
      "text/html": [
       "<div>\n",
       "<style scoped>\n",
       "    .dataframe tbody tr th:only-of-type {\n",
       "        vertical-align: middle;\n",
       "    }\n",
       "\n",
       "    .dataframe tbody tr th {\n",
       "        vertical-align: top;\n",
       "    }\n",
       "\n",
       "    .dataframe thead th {\n",
       "        text-align: right;\n",
       "    }\n",
       "</style>\n",
       "<table border=\"1\" class=\"dataframe\">\n",
       "  <thead>\n",
       "    <tr style=\"text-align: right;\">\n",
       "      <th></th>\n",
       "      <th></th>\n",
       "      <th>math score</th>\n",
       "      <th>reading score</th>\n",
       "      <th>writing score</th>\n",
       "    </tr>\n",
       "    <tr>\n",
       "      <th>test preparation course</th>\n",
       "      <th>gender</th>\n",
       "      <th></th>\n",
       "      <th></th>\n",
       "      <th></th>\n",
       "    </tr>\n",
       "  </thead>\n",
       "  <tbody>\n",
       "    <tr>\n",
       "      <th rowspan=\"2\" valign=\"top\">completed</th>\n",
       "      <th>female</th>\n",
       "      <td>67.0</td>\n",
       "      <td>78.0</td>\n",
       "      <td>79.0</td>\n",
       "    </tr>\n",
       "    <tr>\n",
       "      <th>male</th>\n",
       "      <td>73.0</td>\n",
       "      <td>71.0</td>\n",
       "      <td>70.0</td>\n",
       "    </tr>\n",
       "    <tr>\n",
       "      <th rowspan=\"2\" valign=\"top\">none</th>\n",
       "      <th>female</th>\n",
       "      <td>62.0</td>\n",
       "      <td>71.0</td>\n",
       "      <td>70.0</td>\n",
       "    </tr>\n",
       "    <tr>\n",
       "      <th>male</th>\n",
       "      <td>67.0</td>\n",
       "      <td>63.0</td>\n",
       "      <td>60.0</td>\n",
       "    </tr>\n",
       "  </tbody>\n",
       "</table>\n",
       "</div>"
      ],
      "text/plain": [
       "                                math score  reading score  writing score\n",
       "test preparation course gender                                          \n",
       "completed               female        67.0           78.0           79.0\n",
       "                        male          73.0           71.0           70.0\n",
       "none                    female        62.0           71.0           70.0\n",
       "                        male          67.0           63.0           60.0"
      ]
     },
     "execution_count": 25,
     "metadata": {},
     "output_type": "execute_result"
    }
   ],
   "source": [
    "df[['test preparation course', \n",
    "   'gender', \n",
    "   'math score', \n",
    "   'reading score', \n",
    "   'writing score']].groupby(['test preparation course', 'gender']).agg('median')"
   ]
  },
  {
   "cell_type": "markdown",
   "id": "53ba6d65",
   "metadata": {
    "papermill": {
     "duration": 0.109015,
     "end_time": "2022-04-12T04:36:29.009650",
     "exception": false,
     "start_time": "2022-04-12T04:36:28.900635",
     "status": "completed"
    },
    "tags": []
   },
   "source": [
    "#### * Let's check the effect of race and ethnicity on student's performance"
   ]
  },
  {
   "cell_type": "code",
   "execution_count": 26,
   "id": "cca483ad",
   "metadata": {
    "execution": {
     "iopub.execute_input": "2022-04-12T04:36:29.234793Z",
     "iopub.status.busy": "2022-04-12T04:36:29.233799Z",
     "iopub.status.idle": "2022-04-12T04:36:29.251841Z",
     "shell.execute_reply": "2022-04-12T04:36:29.251260Z",
     "shell.execute_reply.started": "2022-04-12T04:33:08.452643Z"
    },
    "papermill": {
     "duration": 0.130743,
     "end_time": "2022-04-12T04:36:29.252003",
     "exception": false,
     "start_time": "2022-04-12T04:36:29.121260",
     "status": "completed"
    },
    "tags": []
   },
   "outputs": [
    {
     "data": {
      "text/html": [
       "<div>\n",
       "<style scoped>\n",
       "    .dataframe tbody tr th:only-of-type {\n",
       "        vertical-align: middle;\n",
       "    }\n",
       "\n",
       "    .dataframe tbody tr th {\n",
       "        vertical-align: top;\n",
       "    }\n",
       "\n",
       "    .dataframe thead th {\n",
       "        text-align: right;\n",
       "    }\n",
       "</style>\n",
       "<table border=\"1\" class=\"dataframe\">\n",
       "  <thead>\n",
       "    <tr style=\"text-align: right;\">\n",
       "      <th></th>\n",
       "      <th>math score</th>\n",
       "      <th>reading score</th>\n",
       "      <th>writing score</th>\n",
       "    </tr>\n",
       "    <tr>\n",
       "      <th>race/ethnicity</th>\n",
       "      <th></th>\n",
       "      <th></th>\n",
       "      <th></th>\n",
       "    </tr>\n",
       "  </thead>\n",
       "  <tbody>\n",
       "    <tr>\n",
       "      <th>group A</th>\n",
       "      <td>61.0</td>\n",
       "      <td>64.0</td>\n",
       "      <td>62.0</td>\n",
       "    </tr>\n",
       "    <tr>\n",
       "      <th>group B</th>\n",
       "      <td>63.0</td>\n",
       "      <td>67.0</td>\n",
       "      <td>67.0</td>\n",
       "    </tr>\n",
       "    <tr>\n",
       "      <th>group C</th>\n",
       "      <td>65.0</td>\n",
       "      <td>71.0</td>\n",
       "      <td>68.0</td>\n",
       "    </tr>\n",
       "    <tr>\n",
       "      <th>group D</th>\n",
       "      <td>69.0</td>\n",
       "      <td>71.0</td>\n",
       "      <td>72.0</td>\n",
       "    </tr>\n",
       "    <tr>\n",
       "      <th>group E</th>\n",
       "      <td>74.5</td>\n",
       "      <td>74.0</td>\n",
       "      <td>72.0</td>\n",
       "    </tr>\n",
       "  </tbody>\n",
       "</table>\n",
       "</div>"
      ],
      "text/plain": [
       "                math score  reading score  writing score\n",
       "race/ethnicity                                          \n",
       "group A               61.0           64.0           62.0\n",
       "group B               63.0           67.0           67.0\n",
       "group C               65.0           71.0           68.0\n",
       "group D               69.0           71.0           72.0\n",
       "group E               74.5           74.0           72.0"
      ]
     },
     "execution_count": 26,
     "metadata": {},
     "output_type": "execute_result"
    }
   ],
   "source": [
    "df[['race/ethnicity',\n",
    "   'math score', \n",
    "   'reading score',\n",
    "   'writing score']].groupby(['race/ethnicity']).agg('median')"
   ]
  },
  {
   "cell_type": "markdown",
   "id": "9246d24e",
   "metadata": {
    "papermill": {
     "duration": 0.11301,
     "end_time": "2022-04-12T04:36:29.473960",
     "exception": false,
     "start_time": "2022-04-12T04:36:29.360950",
     "status": "completed"
    },
    "tags": []
   },
   "source": [
    "### Data Visualizations"
   ]
  },
  {
   "cell_type": "code",
   "execution_count": 27,
   "id": "ba9a3d55",
   "metadata": {
    "execution": {
     "iopub.execute_input": "2022-04-12T04:36:29.702035Z",
     "iopub.status.busy": "2022-04-12T04:36:29.701046Z",
     "iopub.status.idle": "2022-04-12T04:36:29.866302Z",
     "shell.execute_reply": "2022-04-12T04:36:29.866779Z",
     "shell.execute_reply.started": "2022-04-12T04:33:08.472296Z"
    },
    "papermill": {
     "duration": 0.282992,
     "end_time": "2022-04-12T04:36:29.866972",
     "exception": false,
     "start_time": "2022-04-12T04:36:29.583980",
     "status": "completed"
    },
    "tags": []
   },
   "outputs": [
    {
     "name": "stderr",
     "output_type": "stream",
     "text": [
      "/opt/conda/lib/python3.7/site-packages/seaborn/_decorators.py:43: FutureWarning: Pass the following variable as a keyword arg: x. From version 0.12, the only valid positional argument will be `data`, and passing other arguments without an explicit keyword will result in an error or misinterpretation.\n",
      "  FutureWarning\n"
     ]
    },
    {
     "data": {
      "image/png": "[encoded data removed]",
      "text/plain": [
       "<Figure size 720x432 with 1 Axes>"
      ]
     },
     "metadata": {
      "needs_background": "light"
     },
     "output_type": "display_data"
    }
   ],
   "source": [
    "## visualizing the number of male and female in dataset\n",
    "\n",
    "plt.figure(figsize = (10,6))\n",
    "sns.countplot(df['gender'])\n",
    "plt.title('Countplot of males and females')\n",
    "plt.xlabel('Gender')\n",
    "plt.ylabel('count')\n",
    "plt.show()"
   ]
  },
  {
   "cell_type": "code",
   "execution_count": 28,
   "id": "c137fa62",
   "metadata": {
    "execution": {
     "iopub.execute_input": "2022-04-12T04:36:30.099175Z",
     "iopub.status.busy": "2022-04-12T04:36:30.098487Z",
     "iopub.status.idle": "2022-04-12T04:36:30.305145Z",
     "shell.execute_reply": "2022-04-12T04:36:30.305677Z",
     "shell.execute_reply.started": "2022-04-12T04:33:08.647275Z"
    },
    "papermill": {
     "duration": 0.326904,
     "end_time": "2022-04-12T04:36:30.305868",
     "exception": false,
     "start_time": "2022-04-12T04:36:29.978964",
     "status": "completed"
    },
    "tags": []
   },
   "outputs": [
    {
     "name": "stderr",
     "output_type": "stream",
     "text": [
      "/opt/conda/lib/python3.7/site-packages/seaborn/_decorators.py:43: FutureWarning: Pass the following variable as a keyword arg: x. From version 0.12, the only valid positional argument will be `data`, and passing other arguments without an explicit keyword will result in an error or misinterpretation.\n",
      "  FutureWarning\n"
     ]
    },
    {
     "data": {
      "image/png": "[encoded data removed]",
      "text/plain": [
       "<Figure size 1080x432 with 1 Axes>"
      ]
     },
     "metadata": {
      "needs_background": "light"
     },
     "output_type": "display_data"
    }
   ],
   "source": [
    "## Visualizing the different groups in the dataset\n",
    "\n",
    "plt.figure(figsize = (15,6))\n",
    "\n",
    "sns.countplot(df['race/ethnicity'])\n",
    "plt.title('Comparison of various groups')\n",
    "plt.xlabel('Groups')\n",
    "plt.ylabel('count')\n",
    "plt.show()"
   ]
  },
  {
   "cell_type": "code",
   "execution_count": 29,
   "id": "74f6aed5",
   "metadata": {
    "execution": {
     "iopub.execute_input": "2022-04-12T04:36:30.535589Z",
     "iopub.status.busy": "2022-04-12T04:36:30.534898Z",
     "iopub.status.idle": "2022-04-12T04:36:30.738752Z",
     "shell.execute_reply": "2022-04-12T04:36:30.739235Z",
     "shell.execute_reply.started": "2022-04-12T04:33:08.845830Z"
    },
    "papermill": {
     "duration": 0.322441,
     "end_time": "2022-04-12T04:36:30.739445",
     "exception": false,
     "start_time": "2022-04-12T04:36:30.417004",
     "status": "completed"
    },
    "tags": []
   },
   "outputs": [
    {
     "name": "stderr",
     "output_type": "stream",
     "text": [
      "/opt/conda/lib/python3.7/site-packages/seaborn/_decorators.py:43: FutureWarning: Pass the following variable as a keyword arg: x. From version 0.12, the only valid positional argument will be `data`, and passing other arguments without an explicit keyword will result in an error or misinterpretation.\n",
      "  FutureWarning\n"
     ]
    },
    {
     "data": {
      "image/png": "[encoded data removed]",
      "text/plain": [
       "<Figure size 1080x432 with 1 Axes>"
      ]
     },
     "metadata": {
      "needs_background": "light"
     },
     "output_type": "display_data"
    }
   ],
   "source": [
    "## Visualizing the different parental education levels\n",
    "\n",
    "plt.figure(figsize = (15,6))\n",
    "\n",
    "sns.countplot(df['parental level of education'])\n",
    "plt.title('Comparison of different parental education levels')\n",
    "plt.xlabel('Degree')\n",
    "plt.ylabel('count')\n",
    "plt.show()"
   ]
  },
  {
   "cell_type": "code",
   "execution_count": 30,
   "id": "72db0585",
   "metadata": {
    "execution": {
     "iopub.execute_input": "2022-04-12T04:36:30.981358Z",
     "iopub.status.busy": "2022-04-12T04:36:30.977729Z",
     "iopub.status.idle": "2022-04-12T04:36:31.157919Z",
     "shell.execute_reply": "2022-04-12T04:36:31.158455Z",
     "shell.execute_reply.started": "2022-04-12T04:33:09.051383Z"
    },
    "papermill": {
     "duration": 0.305542,
     "end_time": "2022-04-12T04:36:31.158672",
     "exception": false,
     "start_time": "2022-04-12T04:36:30.853130",
     "status": "completed"
    },
    "tags": []
   },
   "outputs": [
    {
     "name": "stderr",
     "output_type": "stream",
     "text": [
      "/opt/conda/lib/python3.7/site-packages/seaborn/_decorators.py:43: FutureWarning: Pass the following variable as a keyword arg: x. From version 0.12, the only valid positional argument will be `data`, and passing other arguments without an explicit keyword will result in an error or misinterpretation.\n",
      "  FutureWarning\n"
     ]
    },
    {
     "data": {
      "image/png": "[encoded data removed]",
      "text/plain": [
       "<Figure size 1080x432 with 1 Axes>"
      ]
     },
     "metadata": {
      "needs_background": "light"
     },
     "output_type": "display_data"
    }
   ],
   "source": [
    "## Visualization of different types of lunch\n",
    "\n",
    "plt.figure(figsize = (15,6))\n",
    "sns.countplot(df['lunch'])\n",
    "plt.title('Comparison of different types of lunch')\n",
    "plt.xlabel('types of lunch')\n",
    "plt.ylabel('count')\n",
    "plt.show()"
   ]
  },
  {
   "cell_type": "code",
   "execution_count": 31,
   "id": "22e0a7c4",
   "metadata": {
    "execution": {
     "iopub.execute_input": "2022-04-12T04:36:31.409963Z",
     "iopub.status.busy": "2022-04-12T04:36:31.409143Z",
     "iopub.status.idle": "2022-04-12T04:36:32.404051Z",
     "shell.execute_reply": "2022-04-12T04:36:32.404595Z",
     "shell.execute_reply.started": "2022-04-12T04:33:09.231007Z"
    },
    "papermill": {
     "duration": 1.123495,
     "end_time": "2022-04-12T04:36:32.404831",
     "exception": false,
     "start_time": "2022-04-12T04:36:31.281336",
     "status": "completed"
    },
    "tags": []
   },
   "outputs": [
    {
     "name": "stderr",
     "output_type": "stream",
     "text": [
      "/opt/conda/lib/python3.7/site-packages/seaborn/_decorators.py:43: FutureWarning: Pass the following variable as a keyword arg: x. From version 0.12, the only valid positional argument will be `data`, and passing other arguments without an explicit keyword will result in an error or misinterpretation.\n",
      "  FutureWarning\n"
     ]
    },
    {
     "data": {
      "image/png": "[encoded data removed]",
      "text/plain": [
       "<Figure size 1080x648 with 1 Axes>"
      ]
     },
     "metadata": {
      "needs_background": "light"
     },
     "output_type": "display_data"
    }
   ],
   "source": [
    "## Visualizing maths score\n",
    "\n",
    "plt.rcParams['figure.figsize'] = (15,9)\n",
    "plt.style.use('seaborn-colorblind')\n",
    "\n",
    "sns.countplot(df['math score'])\n",
    "plt.title('Comparison of math scores')\n",
    "plt.xlabel('score')\n",
    "plt.ylabel('count')\n",
    "plt.xticks(rotation = 90)\n",
    "plt.show()"
   ]
  },
  {
   "cell_type": "code",
   "execution_count": 32,
   "id": "3fd9acf8",
   "metadata": {
    "execution": {
     "iopub.execute_input": "2022-04-12T04:36:32.654331Z",
     "iopub.status.busy": "2022-04-12T04:36:32.653649Z",
     "iopub.status.idle": "2022-04-12T04:36:33.618856Z",
     "shell.execute_reply": "2022-04-12T04:36:33.619670Z",
     "shell.execute_reply.started": "2022-04-12T04:33:10.133333Z"
    },
    "papermill": {
     "duration": 1.088573,
     "end_time": "2022-04-12T04:36:33.619962",
     "exception": false,
     "start_time": "2022-04-12T04:36:32.531389",
     "status": "completed"
    },
    "tags": []
   },
   "outputs": [
    {
     "name": "stderr",
     "output_type": "stream",
     "text": [
      "/opt/conda/lib/python3.7/site-packages/seaborn/_decorators.py:43: FutureWarning: Pass the following variable as a keyword arg: x. From version 0.12, the only valid positional argument will be `data`, and passing other arguments without an explicit keyword will result in an error or misinterpretation.\n",
      "  FutureWarning\n"
     ]
    },
    {
     "data": {
      "image/png": "[encoded data removed]",
      "text/plain": [
       "<Figure size 1080x648 with 1 Axes>"
      ]
     },
     "metadata": {
      "needs_background": "light"
     },
     "output_type": "display_data"
    }
   ],
   "source": [
    "## Visualizing reading score\n",
    "\n",
    "plt.rcParams['figure.figsize'] = (15,9)\n",
    "plt.style.use('tableau-colorblind10')\n",
    "\n",
    "sns.countplot(df['reading score'], palette = 'BuPu')\n",
    "plt.title('Comparison of reading score')\n",
    "plt.xlabel('score')\n",
    "plt.ylabel('count')\n",
    "plt.xticks(rotation = 90)\n",
    "plt.show()"
   ]
  },
  {
   "cell_type": "code",
   "execution_count": 33,
   "id": "42f664c0",
   "metadata": {
    "execution": {
     "iopub.execute_input": "2022-04-12T04:36:33.866046Z",
     "iopub.status.busy": "2022-04-12T04:36:33.865133Z",
     "iopub.status.idle": "2022-04-12T04:36:35.169600Z",
     "shell.execute_reply": "2022-04-12T04:36:35.170129Z",
     "shell.execute_reply.started": "2022-04-12T04:33:10.965122Z"
    },
    "papermill": {
     "duration": 1.427357,
     "end_time": "2022-04-12T04:36:35.170333",
     "exception": false,
     "start_time": "2022-04-12T04:36:33.742976",
     "status": "completed"
    },
    "tags": []
   },
   "outputs": [
    {
     "name": "stderr",
     "output_type": "stream",
     "text": [
      "/opt/conda/lib/python3.7/site-packages/seaborn/_decorators.py:43: FutureWarning: Pass the following variable as a keyword arg: x. From version 0.12, the only valid positional argument will be `data`, and passing other arguments without an explicit keyword will result in an error or misinterpretation.\n",
      "  FutureWarning\n"
     ]
    },
    {
     "data": {
      "image/png": "[encoded data removed]",
      "text/plain": [
       "<Figure size 1080x648 with 1 Axes>"
      ]
     },
     "metadata": {
      "needs_background": "light"
     },
     "output_type": "display_data"
    }
   ],
   "source": [
    "## Visualizing writing scores\n",
    "\n",
    "plt.rcParams['figure.figsize'] = (15,9)\n",
    "plt.style.use('seaborn-dark-palette')\n",
    "\n",
    "sns.countplot(df['writing score'], palette = 'prism')\n",
    "plt.title('Comparison of Writing score')\n",
    "plt.xlabel('score')\n",
    "plt.ylabel('count')\n",
    "plt.xticks(rotation = 90)\n",
    "plt.show()"
   ]
  },
  {
   "cell_type": "code",
   "execution_count": 34,
   "id": "84e444f0",
   "metadata": {
    "execution": {
     "iopub.execute_input": "2022-04-12T04:36:35.433150Z",
     "iopub.status.busy": "2022-04-12T04:36:35.432016Z",
     "iopub.status.idle": "2022-04-12T04:36:35.716648Z",
     "shell.execute_reply": "2022-04-12T04:36:35.716114Z",
     "shell.execute_reply.started": "2022-04-12T04:33:11.837068Z"
    },
    "papermill": {
     "duration": 0.418813,
     "end_time": "2022-04-12T04:36:35.716829",
     "exception": false,
     "start_time": "2022-04-12T04:36:35.298016",
     "status": "completed"
    },
    "tags": []
   },
   "outputs": [
    {
     "data": {
      "image/png": "[encoded data removed]",
      "text/plain": [
       "<Figure size 1080x648 with 1 Axes>"
      ]
     },
     "metadata": {
      "needs_background": "light"
     },
     "output_type": "display_data"
    }
   ],
   "source": [
    "## Gender vs race/enthnicity\n",
    "\n",
    "plt.rcParams['figure.figsize'] = (15,9)\n",
    "x = pd.crosstab(df['gender'], df['race/ethnicity'])\n",
    "x.div(x.sum(1).astype(float), axis = 0).plot(kind = 'bar', stacked = False)\n",
    "plt.title('Gender vs Race/Ethnicity')\n",
    "plt.show()"
   ]
  },
  {
   "cell_type": "code",
   "execution_count": 35,
   "id": "fb02a0a3",
   "metadata": {
    "execution": {
     "iopub.execute_input": "2022-04-12T04:36:35.978511Z",
     "iopub.status.busy": "2022-04-12T04:36:35.972662Z",
     "iopub.status.idle": "2022-04-12T04:36:36.317132Z",
     "shell.execute_reply": "2022-04-12T04:36:36.317665Z",
     "shell.execute_reply.started": "2022-04-12T04:33:12.107935Z"
    },
    "papermill": {
     "duration": 0.475594,
     "end_time": "2022-04-12T04:36:36.317887",
     "exception": false,
     "start_time": "2022-04-12T04:36:35.842293",
     "status": "completed"
    },
    "tags": []
   },
   "outputs": [
    {
     "data": {
      "image/png": "[encoded data removed]",
      "text/plain": [
       "<Figure size 1080x648 with 1 Axes>"
      ]
     },
     "metadata": {
      "needs_background": "light"
     },
     "output_type": "display_data"
    }
   ],
   "source": [
    "## Race/Ethnicity vs Parental Education Level\n",
    "\n",
    "plt.rcParams['figure.figsize'] = (15,9)\n",
    "x = pd.crosstab(df['race/ethnicity'], df['parental level of education'])\n",
    "x.div(x.sum(1).astype(float), axis = 0).plot(kind = 'bar', stacked = 'True')\n",
    "plt.title('Race/Ethnicity vs Parental Education Level')\n",
    "plt.show()"
   ]
  },
  {
   "cell_type": "code",
   "execution_count": 36,
   "id": "7e957673",
   "metadata": {
    "execution": {
     "iopub.execute_input": "2022-04-12T04:36:36.576094Z",
     "iopub.status.busy": "2022-04-12T04:36:36.569430Z",
     "iopub.status.idle": "2022-04-12T04:36:36.861144Z",
     "shell.execute_reply": "2022-04-12T04:36:36.860465Z",
     "shell.execute_reply.started": "2022-04-12T04:33:12.422124Z"
    },
    "papermill": {
     "duration": 0.417691,
     "end_time": "2022-04-12T04:36:36.861289",
     "exception": false,
     "start_time": "2022-04-12T04:36:36.443598",
     "status": "completed"
    },
    "tags": []
   },
   "outputs": [
    {
     "data": {
      "image/png": "[encoded data removed]",
      "text/plain": [
       "<Figure size 1080x648 with 1 Axes>"
      ]
     },
     "metadata": {
      "needs_background": "light"
     },
     "output_type": "display_data"
    }
   ],
   "source": [
    "## Comparison of parental education and test course\n",
    "plt.rcParams['figure.figsize'] = (15, 9)\n",
    "sns.countplot(x = 'parental level of education', data = df, hue = 'test preparation course', palette = 'dark')\n",
    "plt.title('Parental Education vs Test Preparation Course', fontweight = 30, fontsize = 20)\n",
    "plt.show()"
   ]
  },
  {
   "cell_type": "code",
   "execution_count": 37,
   "id": "e7cb860d",
   "metadata": {
    "execution": {
     "iopub.execute_input": "2022-04-12T04:36:37.117273Z",
     "iopub.status.busy": "2022-04-12T04:36:37.116528Z",
     "iopub.status.idle": "2022-04-12T04:36:37.379352Z",
     "shell.execute_reply": "2022-04-12T04:36:37.379872Z",
     "shell.execute_reply.started": "2022-04-12T04:33:12.695271Z"
    },
    "papermill": {
     "duration": 0.394596,
     "end_time": "2022-04-12T04:36:37.380067",
     "exception": false,
     "start_time": "2022-04-12T04:36:36.985471",
     "status": "completed"
    },
    "tags": []
   },
   "outputs": [
    {
     "data": {
      "image/png": "[encoded data removed]",
      "text/plain": [
       "<Figure size 1080x648 with 1 Axes>"
      ]
     },
     "metadata": {
      "needs_background": "light"
     },
     "output_type": "display_data"
    }
   ],
   "source": [
    "## Comparison of race/ethnicity vs test\n",
    "\n",
    "plt.figure(figsize = (15,9))\n",
    "sns.countplot(x = 'race/ethnicity', data = df, hue = 'test preparation course', palette = 'bright')\n",
    "plt.title('Race/Ethnicity vs test preparation course')\n",
    "plt.show()"
   ]
  },
  {
   "cell_type": "code",
   "execution_count": 38,
   "id": "b7d6abaf",
   "metadata": {
    "execution": {
     "iopub.execute_input": "2022-04-12T04:36:37.655621Z",
     "iopub.status.busy": "2022-04-12T04:36:37.654126Z",
     "iopub.status.idle": "2022-04-12T04:36:37.782683Z",
     "shell.execute_reply": "2022-04-12T04:36:37.783589Z",
     "shell.execute_reply.started": "2022-04-12T04:33:12.945822Z"
    },
    "papermill": {
     "duration": 0.277888,
     "end_time": "2022-04-12T04:36:37.783943",
     "exception": false,
     "start_time": "2022-04-12T04:36:37.506055",
     "status": "completed"
    },
    "tags": []
   },
   "outputs": [
    {
     "data": {
      "image/png": "[encoded data removed]",
      "text/plain": [
       "<Figure size 1080x648 with 1 Axes>"
      ]
     },
     "metadata": {},
     "output_type": "display_data"
    }
   ],
   "source": [
    "## Now we'll do feature engineering on the data to visualize and solve the dataset more accurately\n",
    "\n",
    "## Firstly, we'll set the passing marks \n",
    "pass_marks = 40\n",
    "\n",
    "## create a new column pass_math, this column will tell us whether the student is pass or fail\n",
    "df['pass_math'] = np.where(df['math score'] < pass_marks, 'Fail', 'Pass')\n",
    "df['pass_math'].value_counts().plot.pie(colors = ['lightblue', 'lightgreen'])\n",
    "\n",
    "plt.title('Pass/Fail in Maths')\n",
    "plt.xlabel('status')\n",
    "plt.ylabel('count')\n",
    "plt.show()"
   ]
  },
  {
   "cell_type": "code",
   "execution_count": 39,
   "id": "dbd28f0c",
   "metadata": {
    "execution": {
     "iopub.execute_input": "2022-04-12T04:36:38.072952Z",
     "iopub.status.busy": "2022-04-12T04:36:38.072150Z",
     "iopub.status.idle": "2022-04-12T04:36:38.214074Z",
     "shell.execute_reply": "2022-04-12T04:36:38.215007Z",
     "shell.execute_reply.started": "2022-04-12T04:33:13.083675Z"
    },
    "papermill": {
     "duration": 0.28298,
     "end_time": "2022-04-12T04:36:38.215347",
     "exception": false,
     "start_time": "2022-04-12T04:36:37.932367",
     "status": "completed"
    },
    "tags": []
   },
   "outputs": [
    {
     "data": {
      "image/png": "[encoded data removed]",
      "text/plain": [
       "<Figure size 1080x648 with 1 Axes>"
      ]
     },
     "metadata": {},
     "output_type": "display_data"
    }
   ],
   "source": [
    "## Likewise, we'll do the same for reading and writing score\n",
    "\n",
    "df['pass_reading'] = np.where(df['reading score'] < pass_marks, 'Fail', 'Pass')\n",
    "df['pass_reading'].value_counts(dropna = False).plot.pie(colors = ['pink', 'yellow'])\n",
    "\n",
    "plt.title('Fail/Pass in reading')\n",
    "plt.xlabel('status')\n",
    "plt.ylabel('count')\n",
    "plt.show()"
   ]
  },
  {
   "cell_type": "code",
   "execution_count": 40,
   "id": "f05709ed",
   "metadata": {
    "execution": {
     "iopub.execute_input": "2022-04-12T04:36:38.501293Z",
     "iopub.status.busy": "2022-04-12T04:36:38.500527Z",
     "iopub.status.idle": "2022-04-12T04:36:38.644061Z",
     "shell.execute_reply": "2022-04-12T04:36:38.645005Z",
     "shell.execute_reply.started": "2022-04-12T04:33:13.192960Z"
    },
    "papermill": {
     "duration": 0.278857,
     "end_time": "2022-04-12T04:36:38.645351",
     "exception": false,
     "start_time": "2022-04-12T04:36:38.366494",
     "status": "completed"
    },
    "tags": []
   },
   "outputs": [
    {
     "data": {
      "image/png": "[encoded data removed]",
      "text/plain": [
       "<Figure size 1080x648 with 1 Axes>"
      ]
     },
     "metadata": {},
     "output_type": "display_data"
    }
   ],
   "source": [
    "## For writing score\n",
    "\n",
    "df['pass_writing'] = np.where(df['writing score'] < pass_marks, 'Fail', 'Pass')\n",
    "df['pass_writing'].value_counts(dropna = False).plot.pie(colors = ['orange', 'gray'])\n",
    "\n",
    "plt.title('Fail/Pass in writing')\n",
    "plt.xlabel('status')\n",
    "plt.ylabel('count')\n",
    "plt.show()"
   ]
  },
  {
   "cell_type": "code",
   "execution_count": 41,
   "id": "fff9344d",
   "metadata": {
    "execution": {
     "iopub.execute_input": "2022-04-12T04:36:38.934883Z",
     "iopub.status.busy": "2022-04-12T04:36:38.934102Z",
     "iopub.status.idle": "2022-04-12T04:36:39.254611Z",
     "shell.execute_reply": "2022-04-12T04:36:39.253822Z",
     "shell.execute_reply.started": "2022-04-12T04:33:13.299952Z"
    },
    "papermill": {
     "duration": 0.452248,
     "end_time": "2022-04-12T04:36:39.254844",
     "exception": false,
     "start_time": "2022-04-12T04:36:38.802596",
     "status": "completed"
    },
    "tags": []
   },
   "outputs": [
    {
     "name": "stderr",
     "output_type": "stream",
     "text": [
      "/opt/conda/lib/python3.7/site-packages/seaborn/distributions.py:2619: FutureWarning: `distplot` is a deprecated function and will be removed in a future version. Please adapt your code to use either `displot` (a figure-level function with similar flexibility) or `histplot` (an axes-level function for histograms).\n",
      "  warnings.warn(msg, FutureWarning)\n"
     ]
    },
    {
     "data": {
      "image/png": "[encoded data removed]",
      "text/plain": [
       "<Figure size 1080x648 with 1 Axes>"
      ]
     },
     "metadata": {
      "needs_background": "light"
     },
     "output_type": "display_data"
    }
   ],
   "source": [
    "## compute the total for each student\n",
    "\n",
    "df['total_score'] = df['math score'] + df['reading score'] + df['writing score']\n",
    "\n",
    "sns.distplot(df['total_score'], color = 'magenta')\n",
    "\n",
    "plt.title('comparison of total score of all students')\n",
    "plt.xlabel('total score scored by the students')\n",
    "plt.ylabel('count')\n",
    "plt.show()"
   ]
  },
  {
   "cell_type": "code",
   "execution_count": 42,
   "id": "5d1d777b",
   "metadata": {
    "execution": {
     "iopub.execute_input": "2022-04-12T04:36:39.560195Z",
     "iopub.status.busy": "2022-04-12T04:36:39.556239Z",
     "iopub.status.idle": "2022-04-12T04:36:40.091292Z",
     "shell.execute_reply": "2022-04-12T04:36:40.091815Z",
     "shell.execute_reply.started": "2022-04-12T04:33:13.524728Z"
    },
    "papermill": {
     "duration": 0.701044,
     "end_time": "2022-04-12T04:36:40.092011",
     "exception": false,
     "start_time": "2022-04-12T04:36:39.390967",
     "status": "completed"
    },
    "tags": []
   },
   "outputs": [
    {
     "name": "stderr",
     "output_type": "stream",
     "text": [
      "/opt/conda/lib/python3.7/site-packages/ipykernel_launcher.py:8: SettingWithCopyWarning: \n",
      "A value is trying to be set on a copy of a slice from a DataFrame\n",
      "\n",
      "See the caveats in the documentation: https://pandas.pydata.org/pandas-docs/stable/user_guide/indexing.html#returning-a-view-versus-a-copy\n",
      "  \n",
      "/opt/conda/lib/python3.7/site-packages/seaborn/distributions.py:2619: FutureWarning: `distplot` is a deprecated function and will be removed in a future version. Please adapt your code to use either `displot` (a figure-level function with similar flexibility) or `histplot` (an axes-level function for histograms).\n",
      "  warnings.warn(msg, FutureWarning)\n"
     ]
    },
    {
     "data": {
      "image/png": "[encoded data removed]",
      "text/plain": [
       "<Figure size 1080x648 with 1 Axes>"
      ]
     },
     "metadata": {
      "needs_background": "light"
     },
     "output_type": "display_data"
    }
   ],
   "source": [
    "## compute the percentage for each fo the students\n",
    "\n",
    "from math import *\n",
    "\n",
    "df['Percentage'] = df['total_score']/3\n",
    "\n",
    "for i in range(0, 1000):\n",
    "    df['Percentage'][i] = ceil(df['Percentage'][i])\n",
    "\n",
    "    \n",
    "plt.figure(figsize = (15,9))\n",
    "sns.distplot(df['Percentage'], color = 'orange')\n",
    "\n",
    "plt.title('Comparison of Percentage scored by all students')\n",
    "plt.xlabel('Percentage scored')\n",
    "plt.ylabel('Count')\n",
    "plt.show()"
   ]
  },
  {
   "cell_type": "code",
   "execution_count": 43,
   "id": "6dcbf096",
   "metadata": {
    "execution": {
     "iopub.execute_input": "2022-04-12T04:36:40.364979Z",
     "iopub.status.busy": "2022-04-12T04:36:40.363647Z",
     "iopub.status.idle": "2022-04-12T04:36:40.538611Z",
     "shell.execute_reply": "2022-04-12T04:36:40.539642Z",
     "shell.execute_reply.started": "2022-04-12T04:33:14.082946Z"
    },
    "papermill": {
     "duration": 0.312092,
     "end_time": "2022-04-12T04:36:40.539986",
     "exception": false,
     "start_time": "2022-04-12T04:36:40.227894",
     "status": "completed"
    },
    "tags": []
   },
   "outputs": [
    {
     "data": {
      "image/png": "[encoded data removed]",
      "text/plain": [
       "<Figure size 1080x648 with 1 Axes>"
      ]
     },
     "metadata": {},
     "output_type": "display_data"
    }
   ],
   "source": [
    "## Checking which student fail overall\n",
    "\n",
    "df['status'] = df.apply(lambda x : 'Fail' if x['pass_math'] == 'Fail' or\n",
    "                       x['pass_reading'] == 'Fail' or x['pass_writing'] == 'Fail'\n",
    "                       else 'Pass', axis = 1)\n",
    "\n",
    "df['status'].value_counts(dropna = False).plot.pie(colors = ['grey', 'crimson'])\n",
    "\n",
    "plt.title('Overall Results')\n",
    "plt.xlabel('status')\n",
    "plt.ylabel('count')\n",
    "plt.show()"
   ]
  },
  {
   "cell_type": "code",
   "execution_count": 44,
   "id": "376112c8",
   "metadata": {
    "execution": {
     "iopub.execute_input": "2022-04-12T04:36:40.837290Z",
     "iopub.status.busy": "2022-04-12T04:36:40.836490Z",
     "iopub.status.idle": "2022-04-12T04:36:40.865184Z",
     "shell.execute_reply": "2022-04-12T04:36:40.865838Z",
     "shell.execute_reply.started": "2022-04-12T04:33:14.238617Z"
    },
    "papermill": {
     "duration": 0.171388,
     "end_time": "2022-04-12T04:36:40.866073",
     "exception": false,
     "start_time": "2022-04-12T04:36:40.694685",
     "status": "completed"
    },
    "tags": []
   },
   "outputs": [
    {
     "data": {
      "text/plain": [
       "B    260\n",
       "C    252\n",
       "D    223\n",
       "A    156\n",
       "O     58\n",
       "E     51\n",
       "Name: grades, dtype: int64"
      ]
     },
     "execution_count": 44,
     "metadata": {},
     "output_type": "execute_result"
    }
   ],
   "source": [
    "## Now, we'll assign the grades according to the following criteria\n",
    "# 0  - 40 marks : grade E\n",
    "# 41 - 60 marks : grade D\n",
    "# 60 - 70 marks : grade C\n",
    "# 70 - 80 marks : grade B\n",
    "# 80 - 90 marks : grade A\n",
    "# 90 - 100 marks : grade O\n",
    "\n",
    "def getgrade(Percentage, status):\n",
    "    if status == 'Fail':\n",
    "        return 'E'\n",
    "    if (Percentage >= 90):\n",
    "        return 'O'\n",
    "    if (Percentage >= 80):\n",
    "        return 'A'\n",
    "    if (Percentage >= 70):\n",
    "        return 'B'\n",
    "    if (Percentage >= 60):\n",
    "        return 'C'\n",
    "    if (Percentage >= 40):\n",
    "        return 'D'\n",
    "    else: \n",
    "        return 'E'\n",
    "    \n",
    "df['grades'] = df.apply(lambda x : getgrade(x['Percentage'], x['status']), axis = 1)\n",
    "df['grades'].value_counts()"
   ]
  },
  {
   "cell_type": "code",
   "execution_count": 45,
   "id": "1e8acebf",
   "metadata": {
    "execution": {
     "iopub.execute_input": "2022-04-12T04:36:41.143417Z",
     "iopub.status.busy": "2022-04-12T04:36:41.142735Z",
     "iopub.status.idle": "2022-04-12T04:36:41.646338Z",
     "shell.execute_reply": "2022-04-12T04:36:41.645649Z",
     "shell.execute_reply.started": "2022-04-12T04:33:14.288749Z"
    },
    "papermill": {
     "duration": 0.644755,
     "end_time": "2022-04-12T04:36:41.646522",
     "exception": false,
     "start_time": "2022-04-12T04:36:41.001767",
     "status": "completed"
    },
    "tags": []
   },
   "outputs": [
    {
     "data": {
      "image/png": "[encoded data removed]",
      "text/plain": [
       "<Figure size 1080x648 with 1 Axes>"
      ]
     },
     "metadata": {},
     "output_type": "display_data"
    }
   ],
   "source": [
    "## Now,we'll plot a pie chart for the distribution of various grades amongst the students\n",
    "\n",
    "labels = ['Grade 0', 'Grade A', 'Grade B', 'Grade C', 'Grade D', 'Grade E']\n",
    "sizes = [58,156,260,252,223,51]\n",
    "colors = ['yellow', 'gold', 'lightskyblue', 'lightcoral', 'pink', 'cyan']\n",
    "explode = (0.0001,0.0001,0.0001,0.0001,0.0001,0.0001)\n",
    "\n",
    "patches, texts = plt.pie(sizes, colors = colors, shadow = True, startangle = 90)\n",
    "\n",
    "plt.legend(patches, labels)\n",
    "plt.title('Distribution of Grades amongst students')\n",
    "plt.axis('equal')\n",
    "plt.tight_layout()\n",
    "plt.show()"
   ]
  },
  {
   "cell_type": "code",
   "execution_count": 46,
   "id": "09ae38f2",
   "metadata": {
    "execution": {
     "iopub.execute_input": "2022-04-12T04:36:41.929519Z",
     "iopub.status.busy": "2022-04-12T04:36:41.928826Z",
     "iopub.status.idle": "2022-04-12T04:36:42.284495Z",
     "shell.execute_reply": "2022-04-12T04:36:42.283847Z",
     "shell.execute_reply.started": "2022-04-12T04:33:14.762870Z"
    },
    "papermill": {
     "duration": 0.499989,
     "end_time": "2022-04-12T04:36:42.284667",
     "exception": false,
     "start_time": "2022-04-12T04:36:41.784678",
     "status": "completed"
    },
    "tags": []
   },
   "outputs": [
    {
     "data": {
      "image/png": "[encoded data removed]",
      "text/plain": [
       "<Figure size 1080x648 with 1 Axes>"
      ]
     },
     "metadata": {
      "needs_background": "light"
     },
     "output_type": "display_data"
    }
   ],
   "source": [
    "## Parental Education vs Student's Grades\n",
    "\n",
    "sns.countplot(x = df['parental level of education'], data = df, hue = df['grades'], palette = 'pastel')\n",
    "plt.title('Parental Education vs Students grades')\n",
    "plt.show()"
   ]
  },
  {
   "cell_type": "code",
   "execution_count": 47,
   "id": "b30202a5",
   "metadata": {
    "execution": {
     "iopub.execute_input": "2022-04-12T04:36:42.574999Z",
     "iopub.status.busy": "2022-04-12T04:36:42.574234Z",
     "iopub.status.idle": "2022-04-12T04:36:42.829527Z",
     "shell.execute_reply": "2022-04-12T04:36:42.830134Z",
     "shell.execute_reply.started": "2022-04-12T04:33:15.105823Z"
    },
    "papermill": {
     "duration": 0.409152,
     "end_time": "2022-04-12T04:36:42.830342",
     "exception": false,
     "start_time": "2022-04-12T04:36:42.421190",
     "status": "completed"
    },
    "tags": []
   },
   "outputs": [
    {
     "data": {
      "image/png": "[encoded data removed]",
      "text/plain": [
       "<Figure size 1080x648 with 1 Axes>"
      ]
     },
     "metadata": {
      "needs_background": "light"
     },
     "output_type": "display_data"
    }
   ],
   "source": [
    "## Now, we'll compare the distribution of grades among males and females\n",
    "\n",
    "sns.countplot(x = df['grades'], data = df, hue = df['gender'], palette = 'cubehelix')\n",
    "plt.title('Grade vs Gender')\n",
    "plt.show()"
   ]
  },
  {
   "cell_type": "markdown",
   "id": "98d60634",
   "metadata": {
    "papermill": {
     "duration": 0.139995,
     "end_time": "2022-04-12T04:36:43.108989",
     "exception": false,
     "start_time": "2022-04-12T04:36:42.968994",
     "status": "completed"
    },
    "tags": []
   },
   "source": [
    "### Label Encoding"
   ]
  },
  {
   "cell_type": "code",
   "execution_count": 48,
   "id": "be9dfce8",
   "metadata": {
    "execution": {
     "iopub.execute_input": "2022-04-12T04:36:43.390598Z",
     "iopub.status.busy": "2022-04-12T04:36:43.389944Z",
     "iopub.status.idle": "2022-04-12T04:36:43.407390Z",
     "shell.execute_reply": "2022-04-12T04:36:43.408035Z",
     "shell.execute_reply.started": "2022-04-12T04:33:15.359334Z"
    },
    "papermill": {
     "duration": 0.163528,
     "end_time": "2022-04-12T04:36:43.408213",
     "exception": false,
     "start_time": "2022-04-12T04:36:43.244685",
     "status": "completed"
    },
    "tags": []
   },
   "outputs": [
    {
     "data": {
      "text/html": [
       "<div>\n",
       "<style scoped>\n",
       "    .dataframe tbody tr th:only-of-type {\n",
       "        vertical-align: middle;\n",
       "    }\n",
       "\n",
       "    .dataframe tbody tr th {\n",
       "        vertical-align: top;\n",
       "    }\n",
       "\n",
       "    .dataframe thead th {\n",
       "        text-align: right;\n",
       "    }\n",
       "</style>\n",
       "<table border=\"1\" class=\"dataframe\">\n",
       "  <thead>\n",
       "    <tr style=\"text-align: right;\">\n",
       "      <th></th>\n",
       "      <th>gender</th>\n",
       "      <th>race/ethnicity</th>\n",
       "      <th>parental level of education</th>\n",
       "      <th>lunch</th>\n",
       "      <th>test preparation course</th>\n",
       "      <th>math score</th>\n",
       "      <th>reading score</th>\n",
       "      <th>writing score</th>\n",
       "      <th>pass_math</th>\n",
       "      <th>pass_reading</th>\n",
       "      <th>pass_writing</th>\n",
       "      <th>total_score</th>\n",
       "      <th>Percentage</th>\n",
       "      <th>status</th>\n",
       "      <th>grades</th>\n",
       "    </tr>\n",
       "  </thead>\n",
       "  <tbody>\n",
       "    <tr>\n",
       "      <th>0</th>\n",
       "      <td>female</td>\n",
       "      <td>group B</td>\n",
       "      <td>bachelor's degree</td>\n",
       "      <td>standard</td>\n",
       "      <td>none</td>\n",
       "      <td>72</td>\n",
       "      <td>72</td>\n",
       "      <td>74</td>\n",
       "      <td>Pass</td>\n",
       "      <td>Pass</td>\n",
       "      <td>Pass</td>\n",
       "      <td>218</td>\n",
       "      <td>73.0</td>\n",
       "      <td>Pass</td>\n",
       "      <td>B</td>\n",
       "    </tr>\n",
       "    <tr>\n",
       "      <th>1</th>\n",
       "      <td>female</td>\n",
       "      <td>group C</td>\n",
       "      <td>some college</td>\n",
       "      <td>standard</td>\n",
       "      <td>completed</td>\n",
       "      <td>69</td>\n",
       "      <td>90</td>\n",
       "      <td>88</td>\n",
       "      <td>Pass</td>\n",
       "      <td>Pass</td>\n",
       "      <td>Pass</td>\n",
       "      <td>247</td>\n",
       "      <td>83.0</td>\n",
       "      <td>Pass</td>\n",
       "      <td>A</td>\n",
       "    </tr>\n",
       "    <tr>\n",
       "      <th>2</th>\n",
       "      <td>female</td>\n",
       "      <td>group B</td>\n",
       "      <td>master's degree</td>\n",
       "      <td>standard</td>\n",
       "      <td>none</td>\n",
       "      <td>90</td>\n",
       "      <td>95</td>\n",
       "      <td>93</td>\n",
       "      <td>Pass</td>\n",
       "      <td>Pass</td>\n",
       "      <td>Pass</td>\n",
       "      <td>278</td>\n",
       "      <td>93.0</td>\n",
       "      <td>Pass</td>\n",
       "      <td>O</td>\n",
       "    </tr>\n",
       "    <tr>\n",
       "      <th>3</th>\n",
       "      <td>male</td>\n",
       "      <td>group A</td>\n",
       "      <td>associate's degree</td>\n",
       "      <td>free/reduced</td>\n",
       "      <td>none</td>\n",
       "      <td>47</td>\n",
       "      <td>57</td>\n",
       "      <td>44</td>\n",
       "      <td>Pass</td>\n",
       "      <td>Pass</td>\n",
       "      <td>Pass</td>\n",
       "      <td>148</td>\n",
       "      <td>50.0</td>\n",
       "      <td>Pass</td>\n",
       "      <td>D</td>\n",
       "    </tr>\n",
       "    <tr>\n",
       "      <th>4</th>\n",
       "      <td>male</td>\n",
       "      <td>group C</td>\n",
       "      <td>some college</td>\n",
       "      <td>standard</td>\n",
       "      <td>none</td>\n",
       "      <td>76</td>\n",
       "      <td>78</td>\n",
       "      <td>75</td>\n",
       "      <td>Pass</td>\n",
       "      <td>Pass</td>\n",
       "      <td>Pass</td>\n",
       "      <td>229</td>\n",
       "      <td>77.0</td>\n",
       "      <td>Pass</td>\n",
       "      <td>B</td>\n",
       "    </tr>\n",
       "  </tbody>\n",
       "</table>\n",
       "</div>"
      ],
      "text/plain": [
       "   gender race/ethnicity parental level of education         lunch  \\\n",
       "0  female        group B           bachelor's degree      standard   \n",
       "1  female        group C                some college      standard   \n",
       "2  female        group B             master's degree      standard   \n",
       "3    male        group A          associate's degree  free/reduced   \n",
       "4    male        group C                some college      standard   \n",
       "\n",
       "  test preparation course  math score  reading score  writing score pass_math  \\\n",
       "0                    none          72             72             74      Pass   \n",
       "1               completed          69             90             88      Pass   \n",
       "2                    none          90             95             93      Pass   \n",
       "3                    none          47             57             44      Pass   \n",
       "4                    none          76             78             75      Pass   \n",
       "\n",
       "  pass_reading pass_writing  total_score  Percentage status grades  \n",
       "0         Pass         Pass          218        73.0   Pass      B  \n",
       "1         Pass         Pass          247        83.0   Pass      A  \n",
       "2         Pass         Pass          278        93.0   Pass      O  \n",
       "3         Pass         Pass          148        50.0   Pass      D  \n",
       "4         Pass         Pass          229        77.0   Pass      B  "
      ]
     },
     "execution_count": 48,
     "metadata": {},
     "output_type": "execute_result"
    }
   ],
   "source": [
    "df.head()"
   ]
  },
  {
   "cell_type": "code",
   "execution_count": 49,
   "id": "231a7af0",
   "metadata": {
    "execution": {
     "iopub.execute_input": "2022-04-12T04:36:43.691748Z",
     "iopub.status.busy": "2022-04-12T04:36:43.690966Z",
     "iopub.status.idle": "2022-04-12T04:36:43.711354Z",
     "shell.execute_reply": "2022-04-12T04:36:43.711863Z",
     "shell.execute_reply.started": "2022-04-12T04:33:15.379939Z"
    },
    "papermill": {
     "duration": 0.161903,
     "end_time": "2022-04-12T04:36:43.712061",
     "exception": false,
     "start_time": "2022-04-12T04:36:43.550158",
     "status": "completed"
    },
    "tags": []
   },
   "outputs": [],
   "source": [
    "from sklearn.preprocessing import LabelEncoder\n",
    "\n",
    "le = LabelEncoder()\n",
    "\n",
    "## Label encoding for test preparation course\n",
    "df['test preparation course'] = le.fit_transform(df['test preparation course'])\n",
    "\n",
    "## for lunch\n",
    "df['lunch'] = le.fit_transform(df['lunch'])\n",
    "\n",
    "## Label encoding for race/ethnicity, we'll do this by mapping values to each categories\n",
    "df['race/ethnicity'] = df['race/ethnicity'].replace('group A', 1)\n",
    "df['race/ethnicity'] = df['race/ethnicity'].replace('group B', 2)\n",
    "df['race/ethnicity'] = df['race/ethnicity'].replace('group C', 3)\n",
    "df['race/ethnicity'] = df['race/ethnicity'].replace('group D', 4)\n",
    "df['race/ethnicity'] = df['race/ethnicity'].replace('group E', 5)\n",
    "\n",
    "## label encoding for parental level of education\n",
    "df['parental level of education'] = le.fit_transform(df['parental level of education'])\n",
    "\n",
    "## for gender\n",
    "df['gender'] = le.fit_transform(df['gender'])\n",
    "\n",
    "## for pass_math\n",
    "df['pass_math'] = le.fit_transform(df['pass_math'])\n",
    "\n",
    "## for pass_reading\n",
    "df['pass_reading'] = le.fit_transform(df['pass_reading'])\n",
    "\n",
    "## for pass_writing\n",
    "df['pass_writing'] = le.fit_transform(df['pass_writing'])\n",
    "\n",
    "## for status\n",
    "df['status'] = le.fit_transform(df['status'])"
   ]
  },
  {
   "cell_type": "code",
   "execution_count": 50,
   "id": "d98256b8",
   "metadata": {
    "execution": {
     "iopub.execute_input": "2022-04-12T04:36:43.995891Z",
     "iopub.status.busy": "2022-04-12T04:36:43.995146Z",
     "iopub.status.idle": "2022-04-12T04:36:44.015586Z",
     "shell.execute_reply": "2022-04-12T04:36:44.016118Z",
     "shell.execute_reply.started": "2022-04-12T04:33:15.404481Z"
    },
    "papermill": {
     "duration": 0.164224,
     "end_time": "2022-04-12T04:36:44.016318",
     "exception": false,
     "start_time": "2022-04-12T04:36:43.852094",
     "status": "completed"
    },
    "tags": []
   },
   "outputs": [
    {
     "data": {
      "text/html": [
       "<div>\n",
       "<style scoped>\n",
       "    .dataframe tbody tr th:only-of-type {\n",
       "        vertical-align: middle;\n",
       "    }\n",
       "\n",
       "    .dataframe tbody tr th {\n",
       "        vertical-align: top;\n",
       "    }\n",
       "\n",
       "    .dataframe thead th {\n",
       "        text-align: right;\n",
       "    }\n",
       "</style>\n",
       "<table border=\"1\" class=\"dataframe\">\n",
       "  <thead>\n",
       "    <tr style=\"text-align: right;\">\n",
       "      <th></th>\n",
       "      <th>gender</th>\n",
       "      <th>race/ethnicity</th>\n",
       "      <th>parental level of education</th>\n",
       "      <th>lunch</th>\n",
       "      <th>test preparation course</th>\n",
       "      <th>math score</th>\n",
       "      <th>reading score</th>\n",
       "      <th>writing score</th>\n",
       "      <th>pass_math</th>\n",
       "      <th>pass_reading</th>\n",
       "      <th>pass_writing</th>\n",
       "      <th>total_score</th>\n",
       "      <th>Percentage</th>\n",
       "      <th>status</th>\n",
       "      <th>grades</th>\n",
       "    </tr>\n",
       "  </thead>\n",
       "  <tbody>\n",
       "    <tr>\n",
       "      <th>0</th>\n",
       "      <td>0</td>\n",
       "      <td>2</td>\n",
       "      <td>1</td>\n",
       "      <td>1</td>\n",
       "      <td>1</td>\n",
       "      <td>72</td>\n",
       "      <td>72</td>\n",
       "      <td>74</td>\n",
       "      <td>1</td>\n",
       "      <td>1</td>\n",
       "      <td>1</td>\n",
       "      <td>218</td>\n",
       "      <td>73.0</td>\n",
       "      <td>1</td>\n",
       "      <td>B</td>\n",
       "    </tr>\n",
       "    <tr>\n",
       "      <th>1</th>\n",
       "      <td>0</td>\n",
       "      <td>3</td>\n",
       "      <td>4</td>\n",
       "      <td>1</td>\n",
       "      <td>0</td>\n",
       "      <td>69</td>\n",
       "      <td>90</td>\n",
       "      <td>88</td>\n",
       "      <td>1</td>\n",
       "      <td>1</td>\n",
       "      <td>1</td>\n",
       "      <td>247</td>\n",
       "      <td>83.0</td>\n",
       "      <td>1</td>\n",
       "      <td>A</td>\n",
       "    </tr>\n",
       "    <tr>\n",
       "      <th>2</th>\n",
       "      <td>0</td>\n",
       "      <td>2</td>\n",
       "      <td>3</td>\n",
       "      <td>1</td>\n",
       "      <td>1</td>\n",
       "      <td>90</td>\n",
       "      <td>95</td>\n",
       "      <td>93</td>\n",
       "      <td>1</td>\n",
       "      <td>1</td>\n",
       "      <td>1</td>\n",
       "      <td>278</td>\n",
       "      <td>93.0</td>\n",
       "      <td>1</td>\n",
       "      <td>O</td>\n",
       "    </tr>\n",
       "    <tr>\n",
       "      <th>3</th>\n",
       "      <td>1</td>\n",
       "      <td>1</td>\n",
       "      <td>0</td>\n",
       "      <td>0</td>\n",
       "      <td>1</td>\n",
       "      <td>47</td>\n",
       "      <td>57</td>\n",
       "      <td>44</td>\n",
       "      <td>1</td>\n",
       "      <td>1</td>\n",
       "      <td>1</td>\n",
       "      <td>148</td>\n",
       "      <td>50.0</td>\n",
       "      <td>1</td>\n",
       "      <td>D</td>\n",
       "    </tr>\n",
       "    <tr>\n",
       "      <th>4</th>\n",
       "      <td>1</td>\n",
       "      <td>3</td>\n",
       "      <td>4</td>\n",
       "      <td>1</td>\n",
       "      <td>1</td>\n",
       "      <td>76</td>\n",
       "      <td>78</td>\n",
       "      <td>75</td>\n",
       "      <td>1</td>\n",
       "      <td>1</td>\n",
       "      <td>1</td>\n",
       "      <td>229</td>\n",
       "      <td>77.0</td>\n",
       "      <td>1</td>\n",
       "      <td>B</td>\n",
       "    </tr>\n",
       "    <tr>\n",
       "      <th>5</th>\n",
       "      <td>0</td>\n",
       "      <td>2</td>\n",
       "      <td>0</td>\n",
       "      <td>1</td>\n",
       "      <td>1</td>\n",
       "      <td>71</td>\n",
       "      <td>83</td>\n",
       "      <td>78</td>\n",
       "      <td>1</td>\n",
       "      <td>1</td>\n",
       "      <td>1</td>\n",
       "      <td>232</td>\n",
       "      <td>78.0</td>\n",
       "      <td>1</td>\n",
       "      <td>B</td>\n",
       "    </tr>\n",
       "    <tr>\n",
       "      <th>6</th>\n",
       "      <td>0</td>\n",
       "      <td>2</td>\n",
       "      <td>4</td>\n",
       "      <td>1</td>\n",
       "      <td>0</td>\n",
       "      <td>88</td>\n",
       "      <td>95</td>\n",
       "      <td>92</td>\n",
       "      <td>1</td>\n",
       "      <td>1</td>\n",
       "      <td>1</td>\n",
       "      <td>275</td>\n",
       "      <td>92.0</td>\n",
       "      <td>1</td>\n",
       "      <td>O</td>\n",
       "    </tr>\n",
       "    <tr>\n",
       "      <th>7</th>\n",
       "      <td>1</td>\n",
       "      <td>2</td>\n",
       "      <td>4</td>\n",
       "      <td>0</td>\n",
       "      <td>1</td>\n",
       "      <td>40</td>\n",
       "      <td>43</td>\n",
       "      <td>39</td>\n",
       "      <td>1</td>\n",
       "      <td>1</td>\n",
       "      <td>0</td>\n",
       "      <td>122</td>\n",
       "      <td>41.0</td>\n",
       "      <td>0</td>\n",
       "      <td>E</td>\n",
       "    </tr>\n",
       "    <tr>\n",
       "      <th>8</th>\n",
       "      <td>1</td>\n",
       "      <td>4</td>\n",
       "      <td>2</td>\n",
       "      <td>0</td>\n",
       "      <td>0</td>\n",
       "      <td>64</td>\n",
       "      <td>64</td>\n",
       "      <td>67</td>\n",
       "      <td>1</td>\n",
       "      <td>1</td>\n",
       "      <td>1</td>\n",
       "      <td>195</td>\n",
       "      <td>65.0</td>\n",
       "      <td>1</td>\n",
       "      <td>C</td>\n",
       "    </tr>\n",
       "    <tr>\n",
       "      <th>9</th>\n",
       "      <td>0</td>\n",
       "      <td>2</td>\n",
       "      <td>2</td>\n",
       "      <td>0</td>\n",
       "      <td>1</td>\n",
       "      <td>38</td>\n",
       "      <td>60</td>\n",
       "      <td>50</td>\n",
       "      <td>0</td>\n",
       "      <td>1</td>\n",
       "      <td>1</td>\n",
       "      <td>148</td>\n",
       "      <td>50.0</td>\n",
       "      <td>0</td>\n",
       "      <td>E</td>\n",
       "    </tr>\n",
       "    <tr>\n",
       "      <th>10</th>\n",
       "      <td>1</td>\n",
       "      <td>3</td>\n",
       "      <td>0</td>\n",
       "      <td>1</td>\n",
       "      <td>1</td>\n",
       "      <td>58</td>\n",
       "      <td>54</td>\n",
       "      <td>52</td>\n",
       "      <td>1</td>\n",
       "      <td>1</td>\n",
       "      <td>1</td>\n",
       "      <td>164</td>\n",
       "      <td>55.0</td>\n",
       "      <td>1</td>\n",
       "      <td>D</td>\n",
       "    </tr>\n",
       "    <tr>\n",
       "      <th>11</th>\n",
       "      <td>1</td>\n",
       "      <td>4</td>\n",
       "      <td>0</td>\n",
       "      <td>1</td>\n",
       "      <td>1</td>\n",
       "      <td>40</td>\n",
       "      <td>52</td>\n",
       "      <td>43</td>\n",
       "      <td>1</td>\n",
       "      <td>1</td>\n",
       "      <td>1</td>\n",
       "      <td>135</td>\n",
       "      <td>45.0</td>\n",
       "      <td>1</td>\n",
       "      <td>D</td>\n",
       "    </tr>\n",
       "    <tr>\n",
       "      <th>12</th>\n",
       "      <td>0</td>\n",
       "      <td>2</td>\n",
       "      <td>2</td>\n",
       "      <td>1</td>\n",
       "      <td>1</td>\n",
       "      <td>65</td>\n",
       "      <td>81</td>\n",
       "      <td>73</td>\n",
       "      <td>1</td>\n",
       "      <td>1</td>\n",
       "      <td>1</td>\n",
       "      <td>219</td>\n",
       "      <td>73.0</td>\n",
       "      <td>1</td>\n",
       "      <td>B</td>\n",
       "    </tr>\n",
       "    <tr>\n",
       "      <th>13</th>\n",
       "      <td>1</td>\n",
       "      <td>1</td>\n",
       "      <td>4</td>\n",
       "      <td>1</td>\n",
       "      <td>0</td>\n",
       "      <td>78</td>\n",
       "      <td>72</td>\n",
       "      <td>70</td>\n",
       "      <td>1</td>\n",
       "      <td>1</td>\n",
       "      <td>1</td>\n",
       "      <td>220</td>\n",
       "      <td>74.0</td>\n",
       "      <td>1</td>\n",
       "      <td>B</td>\n",
       "    </tr>\n",
       "    <tr>\n",
       "      <th>14</th>\n",
       "      <td>0</td>\n",
       "      <td>1</td>\n",
       "      <td>3</td>\n",
       "      <td>1</td>\n",
       "      <td>1</td>\n",
       "      <td>50</td>\n",
       "      <td>53</td>\n",
       "      <td>58</td>\n",
       "      <td>1</td>\n",
       "      <td>1</td>\n",
       "      <td>1</td>\n",
       "      <td>161</td>\n",
       "      <td>54.0</td>\n",
       "      <td>1</td>\n",
       "      <td>D</td>\n",
       "    </tr>\n",
       "    <tr>\n",
       "      <th>15</th>\n",
       "      <td>0</td>\n",
       "      <td>3</td>\n",
       "      <td>5</td>\n",
       "      <td>1</td>\n",
       "      <td>1</td>\n",
       "      <td>69</td>\n",
       "      <td>75</td>\n",
       "      <td>78</td>\n",
       "      <td>1</td>\n",
       "      <td>1</td>\n",
       "      <td>1</td>\n",
       "      <td>222</td>\n",
       "      <td>74.0</td>\n",
       "      <td>1</td>\n",
       "      <td>B</td>\n",
       "    </tr>\n",
       "    <tr>\n",
       "      <th>16</th>\n",
       "      <td>1</td>\n",
       "      <td>3</td>\n",
       "      <td>2</td>\n",
       "      <td>1</td>\n",
       "      <td>1</td>\n",
       "      <td>88</td>\n",
       "      <td>89</td>\n",
       "      <td>86</td>\n",
       "      <td>1</td>\n",
       "      <td>1</td>\n",
       "      <td>1</td>\n",
       "      <td>263</td>\n",
       "      <td>88.0</td>\n",
       "      <td>1</td>\n",
       "      <td>A</td>\n",
       "    </tr>\n",
       "    <tr>\n",
       "      <th>17</th>\n",
       "      <td>0</td>\n",
       "      <td>2</td>\n",
       "      <td>5</td>\n",
       "      <td>0</td>\n",
       "      <td>1</td>\n",
       "      <td>18</td>\n",
       "      <td>32</td>\n",
       "      <td>28</td>\n",
       "      <td>0</td>\n",
       "      <td>0</td>\n",
       "      <td>0</td>\n",
       "      <td>78</td>\n",
       "      <td>26.0</td>\n",
       "      <td>0</td>\n",
       "      <td>E</td>\n",
       "    </tr>\n",
       "    <tr>\n",
       "      <th>18</th>\n",
       "      <td>1</td>\n",
       "      <td>3</td>\n",
       "      <td>3</td>\n",
       "      <td>0</td>\n",
       "      <td>0</td>\n",
       "      <td>46</td>\n",
       "      <td>42</td>\n",
       "      <td>46</td>\n",
       "      <td>1</td>\n",
       "      <td>1</td>\n",
       "      <td>1</td>\n",
       "      <td>134</td>\n",
       "      <td>45.0</td>\n",
       "      <td>1</td>\n",
       "      <td>D</td>\n",
       "    </tr>\n",
       "    <tr>\n",
       "      <th>19</th>\n",
       "      <td>0</td>\n",
       "      <td>3</td>\n",
       "      <td>0</td>\n",
       "      <td>0</td>\n",
       "      <td>1</td>\n",
       "      <td>54</td>\n",
       "      <td>58</td>\n",
       "      <td>61</td>\n",
       "      <td>1</td>\n",
       "      <td>1</td>\n",
       "      <td>1</td>\n",
       "      <td>173</td>\n",
       "      <td>58.0</td>\n",
       "      <td>1</td>\n",
       "      <td>D</td>\n",
       "    </tr>\n",
       "  </tbody>\n",
       "</table>\n",
       "</div>"
      ],
      "text/plain": [
       "    gender  race/ethnicity  parental level of education  lunch  \\\n",
       "0        0               2                            1      1   \n",
       "1        0               3                            4      1   \n",
       "2        0               2                            3      1   \n",
       "3        1               1                            0      0   \n",
       "4        1               3                            4      1   \n",
       "5        0               2                            0      1   \n",
       "6        0               2                            4      1   \n",
       "7        1               2                            4      0   \n",
       "8        1               4                            2      0   \n",
       "9        0               2                            2      0   \n",
       "10       1               3                            0      1   \n",
       "11       1               4                            0      1   \n",
       "12       0               2                            2      1   \n",
       "13       1               1                            4      1   \n",
       "14       0               1                            3      1   \n",
       "15       0               3                            5      1   \n",
       "16       1               3                            2      1   \n",
       "17       0               2                            5      0   \n",
       "18       1               3                            3      0   \n",
       "19       0               3                            0      0   \n",
       "\n",
       "    test preparation course  math score  reading score  writing score  \\\n",
       "0                         1          72             72             74   \n",
       "1                         0          69             90             88   \n",
       "2                         1          90             95             93   \n",
       "3                         1          47             57             44   \n",
       "4                         1          76             78             75   \n",
       "5                         1          71             83             78   \n",
       "6                         0          88             95             92   \n",
       "7                         1          40             43             39   \n",
       "8                         0          64             64             67   \n",
       "9                         1          38             60             50   \n",
       "10                        1          58             54             52   \n",
       "11                        1          40             52             43   \n",
       "12                        1          65             81             73   \n",
       "13                        0          78             72             70   \n",
       "14                        1          50             53             58   \n",
       "15                        1          69             75             78   \n",
       "16                        1          88             89             86   \n",
       "17                        1          18             32             28   \n",
       "18                        0          46             42             46   \n",
       "19                        1          54             58             61   \n",
       "\n",
       "    pass_math  pass_reading  pass_writing  total_score  Percentage  status  \\\n",
       "0           1             1             1          218        73.0       1   \n",
       "1           1             1             1          247        83.0       1   \n",
       "2           1             1             1          278        93.0       1   \n",
       "3           1             1             1          148        50.0       1   \n",
       "4           1             1             1          229        77.0       1   \n",
       "5           1             1             1          232        78.0       1   \n",
       "6           1             1             1          275        92.0       1   \n",
       "7           1             1             0          122        41.0       0   \n",
       "8           1             1             1          195        65.0       1   \n",
       "9           0             1             1          148        50.0       0   \n",
       "10          1             1             1          164        55.0       1   \n",
       "11          1             1             1          135        45.0       1   \n",
       "12          1             1             1          219        73.0       1   \n",
       "13          1             1             1          220        74.0       1   \n",
       "14          1             1             1          161        54.0       1   \n",
       "15          1             1             1          222        74.0       1   \n",
       "16          1             1             1          263        88.0       1   \n",
       "17          0             0             0           78        26.0       0   \n",
       "18          1             1             1          134        45.0       1   \n",
       "19          1             1             1          173        58.0       1   \n",
       "\n",
       "   grades  \n",
       "0       B  \n",
       "1       A  \n",
       "2       O  \n",
       "3       D  \n",
       "4       B  \n",
       "5       B  \n",
       "6       O  \n",
       "7       E  \n",
       "8       C  \n",
       "9       E  \n",
       "10      D  \n",
       "11      D  \n",
       "12      B  \n",
       "13      B  \n",
       "14      D  \n",
       "15      B  \n",
       "16      A  \n",
       "17      E  \n",
       "18      D  \n",
       "19      D  "
      ]
     },
     "execution_count": 50,
     "metadata": {},
     "output_type": "execute_result"
    }
   ],
   "source": [
    "df.head(20)"
   ]
  },
  {
   "cell_type": "markdown",
   "id": "73058b21",
   "metadata": {
    "papermill": {
     "duration": 0.13989,
     "end_time": "2022-04-12T04:36:44.296967",
     "exception": false,
     "start_time": "2022-04-12T04:36:44.157077",
     "status": "completed"
    },
    "tags": []
   },
   "source": [
    "### Data Preparation"
   ]
  },
  {
   "cell_type": "code",
   "execution_count": 51,
   "id": "ff8a1f70",
   "metadata": {
    "execution": {
     "iopub.execute_input": "2022-04-12T04:36:44.584981Z",
     "iopub.status.busy": "2022-04-12T04:36:44.584252Z",
     "iopub.status.idle": "2022-04-12T04:36:44.588747Z",
     "shell.execute_reply": "2022-04-12T04:36:44.589264Z",
     "shell.execute_reply.started": "2022-04-12T04:33:15.428749Z"
    },
    "papermill": {
     "duration": 0.151699,
     "end_time": "2022-04-12T04:36:44.589461",
     "exception": false,
     "start_time": "2022-04-12T04:36:44.437762",
     "status": "completed"
    },
    "tags": []
   },
   "outputs": [],
   "source": [
    "## independent and dependent features\n",
    "\n",
    "X = df.iloc[:, :14]\n",
    "y = df.iloc[:,14]"
   ]
  },
  {
   "cell_type": "code",
   "execution_count": 52,
   "id": "cbb84d9e",
   "metadata": {
    "execution": {
     "iopub.execute_input": "2022-04-12T04:36:44.870753Z",
     "iopub.status.busy": "2022-04-12T04:36:44.870081Z",
     "iopub.status.idle": "2022-04-12T04:36:44.883438Z",
     "shell.execute_reply": "2022-04-12T04:36:44.884065Z",
     "shell.execute_reply.started": "2022-04-12T04:33:15.434626Z"
    },
    "papermill": {
     "duration": 0.155786,
     "end_time": "2022-04-12T04:36:44.884267",
     "exception": false,
     "start_time": "2022-04-12T04:36:44.728481",
     "status": "completed"
    },
    "tags": []
   },
   "outputs": [
    {
     "data": {
      "text/html": [
       "<div>\n",
       "<style scoped>\n",
       "    .dataframe tbody tr th:only-of-type {\n",
       "        vertical-align: middle;\n",
       "    }\n",
       "\n",
       "    .dataframe tbody tr th {\n",
       "        vertical-align: top;\n",
       "    }\n",
       "\n",
       "    .dataframe thead th {\n",
       "        text-align: right;\n",
       "    }\n",
       "</style>\n",
       "<table border=\"1\" class=\"dataframe\">\n",
       "  <thead>\n",
       "    <tr style=\"text-align: right;\">\n",
       "      <th></th>\n",
       "      <th>gender</th>\n",
       "      <th>race/ethnicity</th>\n",
       "      <th>parental level of education</th>\n",
       "      <th>lunch</th>\n",
       "      <th>test preparation course</th>\n",
       "      <th>math score</th>\n",
       "      <th>reading score</th>\n",
       "      <th>writing score</th>\n",
       "      <th>pass_math</th>\n",
       "      <th>pass_reading</th>\n",
       "      <th>pass_writing</th>\n",
       "      <th>total_score</th>\n",
       "      <th>Percentage</th>\n",
       "      <th>status</th>\n",
       "    </tr>\n",
       "  </thead>\n",
       "  <tbody>\n",
       "    <tr>\n",
       "      <th>0</th>\n",
       "      <td>0</td>\n",
       "      <td>2</td>\n",
       "      <td>1</td>\n",
       "      <td>1</td>\n",
       "      <td>1</td>\n",
       "      <td>72</td>\n",
       "      <td>72</td>\n",
       "      <td>74</td>\n",
       "      <td>1</td>\n",
       "      <td>1</td>\n",
       "      <td>1</td>\n",
       "      <td>218</td>\n",
       "      <td>73.0</td>\n",
       "      <td>1</td>\n",
       "    </tr>\n",
       "    <tr>\n",
       "      <th>1</th>\n",
       "      <td>0</td>\n",
       "      <td>3</td>\n",
       "      <td>4</td>\n",
       "      <td>1</td>\n",
       "      <td>0</td>\n",
       "      <td>69</td>\n",
       "      <td>90</td>\n",
       "      <td>88</td>\n",
       "      <td>1</td>\n",
       "      <td>1</td>\n",
       "      <td>1</td>\n",
       "      <td>247</td>\n",
       "      <td>83.0</td>\n",
       "      <td>1</td>\n",
       "    </tr>\n",
       "    <tr>\n",
       "      <th>2</th>\n",
       "      <td>0</td>\n",
       "      <td>2</td>\n",
       "      <td>3</td>\n",
       "      <td>1</td>\n",
       "      <td>1</td>\n",
       "      <td>90</td>\n",
       "      <td>95</td>\n",
       "      <td>93</td>\n",
       "      <td>1</td>\n",
       "      <td>1</td>\n",
       "      <td>1</td>\n",
       "      <td>278</td>\n",
       "      <td>93.0</td>\n",
       "      <td>1</td>\n",
       "    </tr>\n",
       "    <tr>\n",
       "      <th>3</th>\n",
       "      <td>1</td>\n",
       "      <td>1</td>\n",
       "      <td>0</td>\n",
       "      <td>0</td>\n",
       "      <td>1</td>\n",
       "      <td>47</td>\n",
       "      <td>57</td>\n",
       "      <td>44</td>\n",
       "      <td>1</td>\n",
       "      <td>1</td>\n",
       "      <td>1</td>\n",
       "      <td>148</td>\n",
       "      <td>50.0</td>\n",
       "      <td>1</td>\n",
       "    </tr>\n",
       "    <tr>\n",
       "      <th>4</th>\n",
       "      <td>1</td>\n",
       "      <td>3</td>\n",
       "      <td>4</td>\n",
       "      <td>1</td>\n",
       "      <td>1</td>\n",
       "      <td>76</td>\n",
       "      <td>78</td>\n",
       "      <td>75</td>\n",
       "      <td>1</td>\n",
       "      <td>1</td>\n",
       "      <td>1</td>\n",
       "      <td>229</td>\n",
       "      <td>77.0</td>\n",
       "      <td>1</td>\n",
       "    </tr>\n",
       "  </tbody>\n",
       "</table>\n",
       "</div>"
      ],
      "text/plain": [
       "   gender  race/ethnicity  parental level of education  lunch  \\\n",
       "0       0               2                            1      1   \n",
       "1       0               3                            4      1   \n",
       "2       0               2                            3      1   \n",
       "3       1               1                            0      0   \n",
       "4       1               3                            4      1   \n",
       "\n",
       "   test preparation course  math score  reading score  writing score  \\\n",
       "0                        1          72             72             74   \n",
       "1                        0          69             90             88   \n",
       "2                        1          90             95             93   \n",
       "3                        1          47             57             44   \n",
       "4                        1          76             78             75   \n",
       "\n",
       "   pass_math  pass_reading  pass_writing  total_score  Percentage  status  \n",
       "0          1             1             1          218        73.0       1  \n",
       "1          1             1             1          247        83.0       1  \n",
       "2          1             1             1          278        93.0       1  \n",
       "3          1             1             1          148        50.0       1  \n",
       "4          1             1             1          229        77.0       1  "
      ]
     },
     "execution_count": 52,
     "metadata": {},
     "output_type": "execute_result"
    }
   ],
   "source": [
    "X.head()"
   ]
  },
  {
   "cell_type": "code",
   "execution_count": 53,
   "id": "3ed2c85b",
   "metadata": {
    "execution": {
     "iopub.execute_input": "2022-04-12T04:36:45.174211Z",
     "iopub.status.busy": "2022-04-12T04:36:45.173466Z",
     "iopub.status.idle": "2022-04-12T04:36:45.176291Z",
     "shell.execute_reply": "2022-04-12T04:36:45.176797Z",
     "shell.execute_reply.started": "2022-04-12T04:33:15.457547Z"
    },
    "papermill": {
     "duration": 0.150907,
     "end_time": "2022-04-12T04:36:45.177000",
     "exception": false,
     "start_time": "2022-04-12T04:36:45.026093",
     "status": "completed"
    },
    "tags": []
   },
   "outputs": [
    {
     "data": {
      "text/plain": [
       "0    B\n",
       "1    A\n",
       "2    O\n",
       "3    D\n",
       "4    B\n",
       "Name: grades, dtype: object"
      ]
     },
     "execution_count": 53,
     "metadata": {},
     "output_type": "execute_result"
    }
   ],
   "source": [
    "y.head()"
   ]
  },
  {
   "cell_type": "code",
   "execution_count": 54,
   "id": "937bf7f8",
   "metadata": {
    "execution": {
     "iopub.execute_input": "2022-04-12T04:36:45.464100Z",
     "iopub.status.busy": "2022-04-12T04:36:45.463324Z",
     "iopub.status.idle": "2022-04-12T04:36:45.469565Z",
     "shell.execute_reply": "2022-04-12T04:36:45.470191Z",
     "shell.execute_reply.started": "2022-04-12T04:33:15.473042Z"
    },
    "papermill": {
     "duration": 0.151592,
     "end_time": "2022-04-12T04:36:45.470409",
     "exception": false,
     "start_time": "2022-04-12T04:36:45.318817",
     "status": "completed"
    },
    "tags": []
   },
   "outputs": [
    {
     "name": "stdout",
     "output_type": "stream",
     "text": [
      "(1000, 14)\n",
      "(1000,)\n"
     ]
    }
   ],
   "source": [
    "print(X.shape)\n",
    "print(y.shape)"
   ]
  },
  {
   "cell_type": "code",
   "execution_count": 55,
   "id": "2b0c8ef3",
   "metadata": {
    "execution": {
     "iopub.execute_input": "2022-04-12T04:36:45.765854Z",
     "iopub.status.busy": "2022-04-12T04:36:45.762784Z",
     "iopub.status.idle": "2022-04-12T04:36:45.768202Z",
     "shell.execute_reply": "2022-04-12T04:36:45.768839Z",
     "shell.execute_reply.started": "2022-04-12T04:33:15.488530Z"
    },
    "papermill": {
     "duration": 0.154262,
     "end_time": "2022-04-12T04:36:45.769015",
     "exception": false,
     "start_time": "2022-04-12T04:36:45.614753",
     "status": "completed"
    },
    "tags": []
   },
   "outputs": [
    {
     "name": "stdout",
     "output_type": "stream",
     "text": [
      "(750, 14)\n",
      "(250, 14)\n",
      "(750,)\n",
      "(250,)\n"
     ]
    }
   ],
   "source": [
    "## Splitting our data into train and test\n",
    "\n",
    "from sklearn.model_selection import train_test_split\n",
    "\n",
    "X_train, X_test, y_train, y_test = train_test_split(X, y, test_size = 0.25, random_state = 42)\n",
    "\n",
    "print(X_train.shape)\n",
    "print(X_test.shape)\n",
    "print(y_train.shape)\n",
    "print(y_test.shape)"
   ]
  },
  {
   "cell_type": "code",
   "execution_count": 56,
   "id": "1ffa73c2",
   "metadata": {
    "execution": {
     "iopub.execute_input": "2022-04-12T04:36:46.065040Z",
     "iopub.status.busy": "2022-04-12T04:36:46.063936Z",
     "iopub.status.idle": "2022-04-12T04:36:46.074368Z",
     "shell.execute_reply": "2022-04-12T04:36:46.073783Z",
     "shell.execute_reply.started": "2022-04-12T04:33:15.502813Z"
    },
    "papermill": {
     "duration": 0.161323,
     "end_time": "2022-04-12T04:36:46.074526",
     "exception": false,
     "start_time": "2022-04-12T04:36:45.913203",
     "status": "completed"
    },
    "tags": []
   },
   "outputs": [],
   "source": [
    "## Scaling using MinMaxScaler\n",
    "\n",
    "from sklearn.preprocessing import MinMaxScaler\n",
    "\n",
    "mms = MinMaxScaler()\n",
    "\n",
    "X_train = mms.fit_transform(X_train)\n",
    "X_test = mms.fit_transform(X_test)"
   ]
  },
  {
   "cell_type": "code",
   "execution_count": 57,
   "id": "3711a87b",
   "metadata": {
    "execution": {
     "iopub.execute_input": "2022-04-12T04:36:46.367718Z",
     "iopub.status.busy": "2022-04-12T04:36:46.363380Z",
     "iopub.status.idle": "2022-04-12T04:36:46.372416Z",
     "shell.execute_reply": "2022-04-12T04:36:46.371853Z",
     "shell.execute_reply.started": "2022-04-12T04:33:15.526609Z"
    },
    "papermill": {
     "duration": 0.154342,
     "end_time": "2022-04-12T04:36:46.372587",
     "exception": false,
     "start_time": "2022-04-12T04:36:46.218245",
     "status": "completed"
    },
    "tags": []
   },
   "outputs": [
    {
     "data": {
      "text/plain": [
       "array([[1.        , 0.        , 0.8       , ..., 0.39183673, 0.39506173,\n",
       "        1.        ],\n",
       "       [0.        , 0.25      , 1.        , ..., 0.69387755, 0.69135802,\n",
       "        1.        ],\n",
       "       [0.        , 0.5       , 0.6       , ..., 0.50204082, 0.50617284,\n",
       "        1.        ],\n",
       "       ...,\n",
       "       [0.        , 0.5       , 0.        , ..., 0.46122449, 0.45679012,\n",
       "        1.        ],\n",
       "       [1.        , 0.5       , 0.8       , ..., 0.39183673, 0.39506173,\n",
       "        1.        ],\n",
       "       [0.        , 0.75      , 0.        , ..., 0.85714286, 0.86419753,\n",
       "        1.        ]])"
      ]
     },
     "execution_count": 57,
     "metadata": {},
     "output_type": "execute_result"
    }
   ],
   "source": [
    "X_train"
   ]
  },
  {
   "cell_type": "markdown",
   "id": "a2181ba2",
   "metadata": {
    "papermill": {
     "duration": 0.145286,
     "end_time": "2022-04-12T04:36:46.662567",
     "exception": false,
     "start_time": "2022-04-12T04:36:46.517281",
     "status": "completed"
    },
    "tags": []
   },
   "source": [
    "### Modelling"
   ]
  },
  {
   "cell_type": "markdown",
   "id": "d5c67a1c",
   "metadata": {
    "papermill": {
     "duration": 0.140779,
     "end_time": "2022-04-12T04:36:46.946783",
     "exception": false,
     "start_time": "2022-04-12T04:36:46.806004",
     "status": "completed"
    },
    "tags": []
   },
   "source": [
    "### Logistic Regression"
   ]
  },
  {
   "cell_type": "code",
   "execution_count": 58,
   "id": "f398acdf",
   "metadata": {
    "execution": {
     "iopub.execute_input": "2022-04-12T04:36:47.250321Z",
     "iopub.status.busy": "2022-04-12T04:36:47.248793Z",
     "iopub.status.idle": "2022-04-12T04:36:47.317973Z",
     "shell.execute_reply": "2022-04-12T04:36:47.318517Z",
     "shell.execute_reply.started": "2022-04-12T04:33:15.538198Z"
    },
    "papermill": {
     "duration": 0.227169,
     "end_time": "2022-04-12T04:36:47.318764",
     "exception": false,
     "start_time": "2022-04-12T04:36:47.091595",
     "status": "completed"
    },
    "tags": []
   },
   "outputs": [
    {
     "name": "stderr",
     "output_type": "stream",
     "text": [
      "/opt/conda/lib/python3.7/site-packages/sklearn/linear_model/_logistic.py:818: ConvergenceWarning: lbfgs failed to converge (status=1):\n",
      "STOP: TOTAL NO. of ITERATIONS REACHED LIMIT.\n",
      "\n",
      "Increase the number of iterations (max_iter) or scale the data as shown in:\n",
      "    https://scikit-learn.org/stable/modules/preprocessing.html\n",
      "Please also refer to the documentation for alternative solver options:\n",
      "    https://scikit-learn.org/stable/modules/linear_model.html#logistic-regression\n",
      "  extra_warning_msg=_LOGISTIC_SOLVER_CONVERGENCE_MSG,\n"
     ]
    }
   ],
   "source": [
    "from sklearn.linear_model import LogisticRegression\n",
    "\n",
    "modelLR = LogisticRegression()\n",
    "\n",
    "modelLR.fit(X_train, y_train)\n",
    "\n",
    "pred = modelLR.predict(X_test)"
   ]
  },
  {
   "cell_type": "code",
   "execution_count": 59,
   "id": "be60659e",
   "metadata": {
    "execution": {
     "iopub.execute_input": "2022-04-12T04:36:47.613002Z",
     "iopub.status.busy": "2022-04-12T04:36:47.612289Z",
     "iopub.status.idle": "2022-04-12T04:36:47.620162Z",
     "shell.execute_reply": "2022-04-12T04:36:47.620937Z",
     "shell.execute_reply.started": "2022-04-12T04:33:15.613082Z"
    },
    "papermill": {
     "duration": 0.159239,
     "end_time": "2022-04-12T04:36:47.621255",
     "exception": false,
     "start_time": "2022-04-12T04:36:47.462016",
     "status": "completed"
    },
    "tags": []
   },
   "outputs": [
    {
     "name": "stdout",
     "output_type": "stream",
     "text": [
      "Training Accuracy:  0.8666666666666667\n",
      "Testing Accuracy:  0.748\n"
     ]
    }
   ],
   "source": [
    "## calculating classification accuracies\n",
    "print('Training Accuracy: ', modelLR.score(X_train, y_train))\n",
    "print('Testing Accuracy: ', modelLR.score(X_test, y_test))"
   ]
  },
  {
   "cell_type": "code",
   "execution_count": 60,
   "id": "4f6b1502",
   "metadata": {
    "execution": {
     "iopub.execute_input": "2022-04-12T04:36:47.944481Z",
     "iopub.status.busy": "2022-04-12T04:36:47.924591Z",
     "iopub.status.idle": "2022-04-12T04:36:48.276310Z",
     "shell.execute_reply": "2022-04-12T04:36:48.275745Z",
     "shell.execute_reply.started": "2022-04-12T04:33:15.624888Z"
    },
    "papermill": {
     "duration": 0.512843,
     "end_time": "2022-04-12T04:36:48.276474",
     "exception": false,
     "start_time": "2022-04-12T04:36:47.763631",
     "status": "completed"
    },
    "tags": []
   },
   "outputs": [
    {
     "data": {
      "image/png": "[encoded data removed]",
      "text/plain": [
       "<Figure size 576x576 with 2 Axes>"
      ]
     },
     "metadata": {
      "needs_background": "light"
     },
     "output_type": "display_data"
    }
   ],
   "source": [
    "## Printing the confusion matrix\n",
    "\n",
    "from sklearn.metrics import confusion_matrix\n",
    "\n",
    "cm = confusion_matrix(y_test,pred)\n",
    "\n",
    "plt.figure(figsize = (8,8))\n",
    "sns.heatmap(cm, annot = True, cmap = 'Greens')\n",
    "plt.title('Confusion Matrix for logistic Regression')\n",
    "plt.show()"
   ]
  },
  {
   "cell_type": "markdown",
   "id": "3d8481ad",
   "metadata": {
    "papermill": {
     "duration": 0.146114,
     "end_time": "2022-04-12T04:36:48.566972",
     "exception": false,
     "start_time": "2022-04-12T04:36:48.420858",
     "status": "completed"
    },
    "tags": []
   },
   "source": [
    "## Random Forest"
   ]
  },
  {
   "cell_type": "code",
   "execution_count": 61,
   "id": "db086a89",
   "metadata": {
    "execution": {
     "iopub.execute_input": "2022-04-12T04:36:48.879096Z",
     "iopub.status.busy": "2022-04-12T04:36:48.868302Z",
     "iopub.status.idle": "2022-04-12T04:36:49.120062Z",
     "shell.execute_reply": "2022-04-12T04:36:49.119332Z",
     "shell.execute_reply.started": "2022-04-12T04:33:16.399892Z"
    },
    "papermill": {
     "duration": 0.4049,
     "end_time": "2022-04-12T04:36:49.120227",
     "exception": false,
     "start_time": "2022-04-12T04:36:48.715327",
     "status": "completed"
    },
    "tags": []
   },
   "outputs": [
    {
     "name": "stdout",
     "output_type": "stream",
     "text": [
      "Training Accuracy:  1.0\n",
      "Testing Accuracy:  0.664\n"
     ]
    }
   ],
   "source": [
    "from sklearn.ensemble import RandomForestClassifier\n",
    "\n",
    "modelRF = RandomForestClassifier()\n",
    "\n",
    "modelRF.fit(X_train, y_train)\n",
    "\n",
    "predictions = modelRF.predict(X_test)\n",
    "\n",
    "## calculating accuracies\n",
    "print('Training Accuracy: ', modelRF.score(X_train, y_train))\n",
    "print('Testing Accuracy: ', modelRF.score(X_test, y_test))"
   ]
  },
  {
   "cell_type": "code",
   "execution_count": 62,
   "id": "e6b3b959",
   "metadata": {
    "execution": {
     "iopub.execute_input": "2022-04-12T04:36:49.486572Z",
     "iopub.status.busy": "2022-04-12T04:36:49.469542Z",
     "iopub.status.idle": "2022-04-12T04:36:49.804619Z",
     "shell.execute_reply": "2022-04-12T04:36:49.804022Z",
     "shell.execute_reply.started": "2022-04-12T04:35:17.685324Z"
    },
    "papermill": {
     "duration": 0.538835,
     "end_time": "2022-04-12T04:36:49.804814",
     "exception": false,
     "start_time": "2022-04-12T04:36:49.265979",
     "status": "completed"
    },
    "tags": []
   },
   "outputs": [
    {
     "data": {
      "image/png": "[encoded data removed]",
      "text/plain": [
       "<Figure size 576x576 with 2 Axes>"
      ]
     },
     "metadata": {
      "needs_background": "light"
     },
     "output_type": "display_data"
    }
   ],
   "source": [
    "## Printing confusion matrix for random forest\n",
    "\n",
    "cm = confusion_matrix(y_test, predictions)\n",
    "\n",
    "plt.figure(figsize = (8,8))\n",
    "sns.heatmap(cm, annot = True, cmap = 'Reds')\n",
    "plt.title('Confusion Matrix for Random Forest')\n",
    "plt.show()"
   ]
  },
  {
   "cell_type": "code",
   "execution_count": null,
   "id": "ddf06106",
   "metadata": {
    "papermill": {
     "duration": 0.163222,
     "end_time": "2022-04-12T04:36:50.115662",
     "exception": false,
     "start_time": "2022-04-12T04:36:49.952440",
     "status": "completed"
    },
    "tags": []
   },
   "outputs": [],
   "source": []
  }
 ],
 "metadata": {
  "kernelspec": {
   "display_name": "Python 3 (ipykernel)",
   "language": "python",
   "name": "python3"
  },
  "language_info": {
   "codemirror_mode": {
    "name": "ipython",
    "version": 3
   },
   "file_extension": ".py",
   "mimetype": "text/x-python",
   "name": "python",
   "nbconvert_exporter": "python",
   "pygments_lexer": "ipython3",
   "version": "3.9.7"
  },
  "papermill": {
   "default_parameters": {},
   "duration": 65.26019,
   "end_time": "2022-04-12T04:36:51.684831",
   "environment_variables": {},
   "exception": null,
   "input_path": "__notebook__.ipynb",
   "output_path": "__notebook__.ipynb",
   "parameters": {},
   "start_time": "2022-04-12T04:35:46.424641",
   "version": "2.3.3"
  }
 },
 "nbformat": 4,
 "nbformat_minor": 5
}
