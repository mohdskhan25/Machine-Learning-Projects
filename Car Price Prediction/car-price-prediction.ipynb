{
 "cells": [
  {
   "cell_type": "code",
   "execution_count": 1,
   "id": "ff05b9fa",
   "metadata": {
    "_cell_guid": "b1076dfc-b9ad-4769-8c92-a6c4dae69d19",
    "_uuid": "8f2839f25d086af736a60e9eeb907d3b93b6e0e5",
    "execution": {
     "iopub.execute_input": "2022-03-19T04:31:53.111337Z",
     "iopub.status.busy": "2022-03-19T04:31:53.109543Z",
     "iopub.status.idle": "2022-03-19T04:31:53.130243Z",
     "shell.execute_reply": "2022-03-19T04:31:53.130947Z",
     "shell.execute_reply.started": "2022-03-19T04:30:00.797193Z"
    },
    "papermill": {
     "duration": 0.079248,
     "end_time": "2022-03-19T04:31:53.131327",
     "exception": false,
     "start_time": "2022-03-19T04:31:53.052079",
     "status": "completed"
    },
    "tags": []
   },
   "outputs": [],
   "source": [
    "import numpy as np # linear algebra\n",
    "import pandas as pd # data processing, CSV file I/O (e.g. pd.read_csv)\n",
    "pd.set_option('display.max_columns', None)\n"
   ]
  },
  {
   "cell_type": "code",
   "execution_count": 2,
   "id": "a8544dbd",
   "metadata": {
    "execution": {
     "iopub.execute_input": "2022-03-19T04:31:53.219169Z",
     "iopub.status.busy": "2022-03-19T04:31:53.218462Z",
     "iopub.status.idle": "2022-03-19T04:31:53.232529Z",
     "shell.execute_reply": "2022-03-19T04:31:53.233082Z",
     "shell.execute_reply.started": "2022-03-19T04:30:00.812342Z"
    },
    "papermill": {
     "duration": 0.059723,
     "end_time": "2022-03-19T04:31:53.233259",
     "exception": false,
     "start_time": "2022-03-19T04:31:53.173536",
     "status": "completed"
    },
    "tags": []
   },
   "outputs": [],
   "source": [
    "df = pd.read_csv('../input/vehicle-dataset/car_data.csv')"
   ]
  },
  {
   "cell_type": "code",
   "execution_count": 3,
   "id": "fa824f33",
   "metadata": {
    "execution": {
     "iopub.execute_input": "2022-03-19T04:31:53.323688Z",
     "iopub.status.busy": "2022-03-19T04:31:53.322998Z",
     "iopub.status.idle": "2022-03-19T04:31:53.340522Z",
     "shell.execute_reply": "2022-03-19T04:31:53.341003Z",
     "shell.execute_reply.started": "2022-03-19T04:30:00.832909Z"
    },
    "papermill": {
     "duration": 0.066896,
     "end_time": "2022-03-19T04:31:53.341169",
     "exception": false,
     "start_time": "2022-03-19T04:31:53.274273",
     "status": "completed"
    },
    "tags": []
   },
   "outputs": [
    {
     "data": {
      "text/html": [
       "<div>\n",
       "<style scoped>\n",
       "    .dataframe tbody tr th:only-of-type {\n",
       "        vertical-align: middle;\n",
       "    }\n",
       "\n",
       "    .dataframe tbody tr th {\n",
       "        vertical-align: top;\n",
       "    }\n",
       "\n",
       "    .dataframe thead th {\n",
       "        text-align: right;\n",
       "    }\n",
       "</style>\n",
       "<table border=\"1\" class=\"dataframe\">\n",
       "  <thead>\n",
       "    <tr style=\"text-align: right;\">\n",
       "      <th></th>\n",
       "      <th>Car_Name</th>\n",
       "      <th>Year</th>\n",
       "      <th>Selling_Price</th>\n",
       "      <th>Present_Price</th>\n",
       "      <th>Kms_Driven</th>\n",
       "      <th>Fuel_Type</th>\n",
       "      <th>Seller_Type</th>\n",
       "      <th>Transmission</th>\n",
       "      <th>Owner</th>\n",
       "    </tr>\n",
       "  </thead>\n",
       "  <tbody>\n",
       "    <tr>\n",
       "      <th>0</th>\n",
       "      <td>ritz</td>\n",
       "      <td>2014</td>\n",
       "      <td>3.35</td>\n",
       "      <td>5.59</td>\n",
       "      <td>27000</td>\n",
       "      <td>Petrol</td>\n",
       "      <td>Dealer</td>\n",
       "      <td>Manual</td>\n",
       "      <td>0</td>\n",
       "    </tr>\n",
       "    <tr>\n",
       "      <th>1</th>\n",
       "      <td>sx4</td>\n",
       "      <td>2013</td>\n",
       "      <td>4.75</td>\n",
       "      <td>9.54</td>\n",
       "      <td>43000</td>\n",
       "      <td>Diesel</td>\n",
       "      <td>Dealer</td>\n",
       "      <td>Manual</td>\n",
       "      <td>0</td>\n",
       "    </tr>\n",
       "    <tr>\n",
       "      <th>2</th>\n",
       "      <td>ciaz</td>\n",
       "      <td>2017</td>\n",
       "      <td>7.25</td>\n",
       "      <td>9.85</td>\n",
       "      <td>6900</td>\n",
       "      <td>Petrol</td>\n",
       "      <td>Dealer</td>\n",
       "      <td>Manual</td>\n",
       "      <td>0</td>\n",
       "    </tr>\n",
       "    <tr>\n",
       "      <th>3</th>\n",
       "      <td>wagon r</td>\n",
       "      <td>2011</td>\n",
       "      <td>2.85</td>\n",
       "      <td>4.15</td>\n",
       "      <td>5200</td>\n",
       "      <td>Petrol</td>\n",
       "      <td>Dealer</td>\n",
       "      <td>Manual</td>\n",
       "      <td>0</td>\n",
       "    </tr>\n",
       "    <tr>\n",
       "      <th>4</th>\n",
       "      <td>swift</td>\n",
       "      <td>2014</td>\n",
       "      <td>4.60</td>\n",
       "      <td>6.87</td>\n",
       "      <td>42450</td>\n",
       "      <td>Diesel</td>\n",
       "      <td>Dealer</td>\n",
       "      <td>Manual</td>\n",
       "      <td>0</td>\n",
       "    </tr>\n",
       "  </tbody>\n",
       "</table>\n",
       "</div>"
      ],
      "text/plain": [
       "  Car_Name  Year  Selling_Price  Present_Price  Kms_Driven Fuel_Type  \\\n",
       "0     ritz  2014           3.35           5.59       27000    Petrol   \n",
       "1      sx4  2013           4.75           9.54       43000    Diesel   \n",
       "2     ciaz  2017           7.25           9.85        6900    Petrol   \n",
       "3  wagon r  2011           2.85           4.15        5200    Petrol   \n",
       "4    swift  2014           4.60           6.87       42450    Diesel   \n",
       "\n",
       "  Seller_Type Transmission  Owner  \n",
       "0      Dealer       Manual      0  \n",
       "1      Dealer       Manual      0  \n",
       "2      Dealer       Manual      0  \n",
       "3      Dealer       Manual      0  \n",
       "4      Dealer       Manual      0  "
      ]
     },
     "execution_count": 3,
     "metadata": {},
     "output_type": "execute_result"
    }
   ],
   "source": [
    "df.head()"
   ]
  },
  {
   "cell_type": "code",
   "execution_count": 4,
   "id": "10c5cdcc",
   "metadata": {
    "execution": {
     "iopub.execute_input": "2022-03-19T04:31:53.426176Z",
     "iopub.status.busy": "2022-03-19T04:31:53.425128Z",
     "iopub.status.idle": "2022-03-19T04:31:53.431093Z",
     "shell.execute_reply": "2022-03-19T04:31:53.431646Z",
     "shell.execute_reply.started": "2022-03-19T04:30:00.859276Z"
    },
    "papermill": {
     "duration": 0.050302,
     "end_time": "2022-03-19T04:31:53.431820",
     "exception": false,
     "start_time": "2022-03-19T04:31:53.381518",
     "status": "completed"
    },
    "tags": []
   },
   "outputs": [
    {
     "data": {
      "text/plain": [
       "(301, 9)"
      ]
     },
     "execution_count": 4,
     "metadata": {},
     "output_type": "execute_result"
    }
   ],
   "source": [
    "df.shape"
   ]
  },
  {
   "cell_type": "code",
   "execution_count": 5,
   "id": "e5632a1b",
   "metadata": {
    "execution": {
     "iopub.execute_input": "2022-03-19T04:31:53.517567Z",
     "iopub.status.busy": "2022-03-19T04:31:53.516864Z",
     "iopub.status.idle": "2022-03-19T04:31:53.543517Z",
     "shell.execute_reply": "2022-03-19T04:31:53.544016Z",
     "shell.execute_reply.started": "2022-03-19T04:30:00.867939Z"
    },
    "papermill": {
     "duration": 0.071384,
     "end_time": "2022-03-19T04:31:53.544199",
     "exception": false,
     "start_time": "2022-03-19T04:31:53.472815",
     "status": "completed"
    },
    "tags": []
   },
   "outputs": [
    {
     "name": "stdout",
     "output_type": "stream",
     "text": [
      "<class 'pandas.core.frame.DataFrame'>\n",
      "RangeIndex: 301 entries, 0 to 300\n",
      "Data columns (total 9 columns):\n",
      " #   Column         Non-Null Count  Dtype  \n",
      "---  ------         --------------  -----  \n",
      " 0   Car_Name       301 non-null    object \n",
      " 1   Year           301 non-null    int64  \n",
      " 2   Selling_Price  301 non-null    float64\n",
      " 3   Present_Price  301 non-null    float64\n",
      " 4   Kms_Driven     301 non-null    int64  \n",
      " 5   Fuel_Type      301 non-null    object \n",
      " 6   Seller_Type    301 non-null    object \n",
      " 7   Transmission   301 non-null    object \n",
      " 8   Owner          301 non-null    int64  \n",
      "dtypes: float64(2), int64(3), object(4)\n",
      "memory usage: 21.3+ KB\n"
     ]
    }
   ],
   "source": [
    "df.info()"
   ]
  },
  {
   "cell_type": "code",
   "execution_count": 6,
   "id": "2eed97dd",
   "metadata": {
    "execution": {
     "iopub.execute_input": "2022-03-19T04:31:53.632911Z",
     "iopub.status.busy": "2022-03-19T04:31:53.632222Z",
     "iopub.status.idle": "2022-03-19T04:31:53.638915Z",
     "shell.execute_reply": "2022-03-19T04:31:53.639519Z",
     "shell.execute_reply.started": "2022-03-19T04:30:00.897907Z"
    },
    "papermill": {
     "duration": 0.052182,
     "end_time": "2022-03-19T04:31:53.639721",
     "exception": false,
     "start_time": "2022-03-19T04:31:53.587539",
     "status": "completed"
    },
    "tags": []
   },
   "outputs": [
    {
     "name": "stdout",
     "output_type": "stream",
     "text": [
      "['Petrol' 'Diesel' 'CNG']\n",
      "['Dealer' 'Individual']\n",
      "['Manual' 'Automatic']\n",
      "[0 1 3]\n"
     ]
    }
   ],
   "source": [
    "print(df.Fuel_Type.unique())\n",
    "print(df.Seller_Type.unique())\n",
    "print(df.Transmission.unique())\n",
    "print(df.Owner.unique())"
   ]
  },
  {
   "cell_type": "code",
   "execution_count": 7,
   "id": "41817711",
   "metadata": {
    "execution": {
     "iopub.execute_input": "2022-03-19T04:31:53.729361Z",
     "iopub.status.busy": "2022-03-19T04:31:53.728710Z",
     "iopub.status.idle": "2022-03-19T04:31:53.754542Z",
     "shell.execute_reply": "2022-03-19T04:31:53.755032Z",
     "shell.execute_reply.started": "2022-03-19T04:30:00.905364Z"
    },
    "papermill": {
     "duration": 0.070995,
     "end_time": "2022-03-19T04:31:53.755225",
     "exception": false,
     "start_time": "2022-03-19T04:31:53.684230",
     "status": "completed"
    },
    "tags": []
   },
   "outputs": [
    {
     "data": {
      "text/html": [
       "<div>\n",
       "<style scoped>\n",
       "    .dataframe tbody tr th:only-of-type {\n",
       "        vertical-align: middle;\n",
       "    }\n",
       "\n",
       "    .dataframe tbody tr th {\n",
       "        vertical-align: top;\n",
       "    }\n",
       "\n",
       "    .dataframe thead th {\n",
       "        text-align: right;\n",
       "    }\n",
       "</style>\n",
       "<table border=\"1\" class=\"dataframe\">\n",
       "  <thead>\n",
       "    <tr style=\"text-align: right;\">\n",
       "      <th></th>\n",
       "      <th>Year</th>\n",
       "      <th>Selling_Price</th>\n",
       "      <th>Present_Price</th>\n",
       "      <th>Kms_Driven</th>\n",
       "      <th>Owner</th>\n",
       "    </tr>\n",
       "  </thead>\n",
       "  <tbody>\n",
       "    <tr>\n",
       "      <th>count</th>\n",
       "      <td>301.000000</td>\n",
       "      <td>301.000000</td>\n",
       "      <td>301.000000</td>\n",
       "      <td>301.000000</td>\n",
       "      <td>301.000000</td>\n",
       "    </tr>\n",
       "    <tr>\n",
       "      <th>mean</th>\n",
       "      <td>2013.627907</td>\n",
       "      <td>4.661296</td>\n",
       "      <td>7.628472</td>\n",
       "      <td>36947.205980</td>\n",
       "      <td>0.043189</td>\n",
       "    </tr>\n",
       "    <tr>\n",
       "      <th>std</th>\n",
       "      <td>2.891554</td>\n",
       "      <td>5.082812</td>\n",
       "      <td>8.644115</td>\n",
       "      <td>38886.883882</td>\n",
       "      <td>0.247915</td>\n",
       "    </tr>\n",
       "    <tr>\n",
       "      <th>min</th>\n",
       "      <td>2003.000000</td>\n",
       "      <td>0.100000</td>\n",
       "      <td>0.320000</td>\n",
       "      <td>500.000000</td>\n",
       "      <td>0.000000</td>\n",
       "    </tr>\n",
       "    <tr>\n",
       "      <th>25%</th>\n",
       "      <td>2012.000000</td>\n",
       "      <td>0.900000</td>\n",
       "      <td>1.200000</td>\n",
       "      <td>15000.000000</td>\n",
       "      <td>0.000000</td>\n",
       "    </tr>\n",
       "    <tr>\n",
       "      <th>50%</th>\n",
       "      <td>2014.000000</td>\n",
       "      <td>3.600000</td>\n",
       "      <td>6.400000</td>\n",
       "      <td>32000.000000</td>\n",
       "      <td>0.000000</td>\n",
       "    </tr>\n",
       "    <tr>\n",
       "      <th>75%</th>\n",
       "      <td>2016.000000</td>\n",
       "      <td>6.000000</td>\n",
       "      <td>9.900000</td>\n",
       "      <td>48767.000000</td>\n",
       "      <td>0.000000</td>\n",
       "    </tr>\n",
       "    <tr>\n",
       "      <th>max</th>\n",
       "      <td>2018.000000</td>\n",
       "      <td>35.000000</td>\n",
       "      <td>92.600000</td>\n",
       "      <td>500000.000000</td>\n",
       "      <td>3.000000</td>\n",
       "    </tr>\n",
       "  </tbody>\n",
       "</table>\n",
       "</div>"
      ],
      "text/plain": [
       "              Year  Selling_Price  Present_Price     Kms_Driven       Owner\n",
       "count   301.000000     301.000000     301.000000     301.000000  301.000000\n",
       "mean   2013.627907       4.661296       7.628472   36947.205980    0.043189\n",
       "std       2.891554       5.082812       8.644115   38886.883882    0.247915\n",
       "min    2003.000000       0.100000       0.320000     500.000000    0.000000\n",
       "25%    2012.000000       0.900000       1.200000   15000.000000    0.000000\n",
       "50%    2014.000000       3.600000       6.400000   32000.000000    0.000000\n",
       "75%    2016.000000       6.000000       9.900000   48767.000000    0.000000\n",
       "max    2018.000000      35.000000      92.600000  500000.000000    3.000000"
      ]
     },
     "execution_count": 7,
     "metadata": {},
     "output_type": "execute_result"
    }
   ],
   "source": [
    "df.describe()"
   ]
  },
  {
   "cell_type": "code",
   "execution_count": 8,
   "id": "e8efaf0a",
   "metadata": {
    "execution": {
     "iopub.execute_input": "2022-03-19T04:31:53.843766Z",
     "iopub.status.busy": "2022-03-19T04:31:53.842767Z",
     "iopub.status.idle": "2022-03-19T04:31:53.846387Z",
     "shell.execute_reply": "2022-03-19T04:31:53.846916Z",
     "shell.execute_reply.started": "2022-03-19T04:30:00.936118Z"
    },
    "papermill": {
     "duration": 0.049555,
     "end_time": "2022-03-19T04:31:53.847093",
     "exception": false,
     "start_time": "2022-03-19T04:31:53.797538",
     "status": "completed"
    },
    "tags": []
   },
   "outputs": [],
   "source": [
    "import datetime"
   ]
  },
  {
   "cell_type": "code",
   "execution_count": 9,
   "id": "d050ef1b",
   "metadata": {
    "execution": {
     "iopub.execute_input": "2022-03-19T04:31:53.935820Z",
     "iopub.status.busy": "2022-03-19T04:31:53.935153Z",
     "iopub.status.idle": "2022-03-19T04:31:53.948282Z",
     "shell.execute_reply": "2022-03-19T04:31:53.948962Z",
     "shell.execute_reply.started": "2022-03-19T04:30:00.941727Z"
    },
    "papermill": {
     "duration": 0.059012,
     "end_time": "2022-03-19T04:31:53.949148",
     "exception": false,
     "start_time": "2022-03-19T04:31:53.890136",
     "status": "completed"
    },
    "tags": []
   },
   "outputs": [
    {
     "data": {
      "text/html": [
       "<div>\n",
       "<style scoped>\n",
       "    .dataframe tbody tr th:only-of-type {\n",
       "        vertical-align: middle;\n",
       "    }\n",
       "\n",
       "    .dataframe tbody tr th {\n",
       "        vertical-align: top;\n",
       "    }\n",
       "\n",
       "    .dataframe thead th {\n",
       "        text-align: right;\n",
       "    }\n",
       "</style>\n",
       "<table border=\"1\" class=\"dataframe\">\n",
       "  <thead>\n",
       "    <tr style=\"text-align: right;\">\n",
       "      <th></th>\n",
       "      <th>Year</th>\n",
       "      <th>Selling_Price</th>\n",
       "      <th>Present_Price</th>\n",
       "      <th>Kms_Driven</th>\n",
       "      <th>Owner</th>\n",
       "    </tr>\n",
       "  </thead>\n",
       "  <tbody>\n",
       "    <tr>\n",
       "      <th>Year</th>\n",
       "      <td>1.000000</td>\n",
       "      <td>0.236141</td>\n",
       "      <td>-0.047584</td>\n",
       "      <td>-0.524342</td>\n",
       "      <td>-0.182104</td>\n",
       "    </tr>\n",
       "    <tr>\n",
       "      <th>Selling_Price</th>\n",
       "      <td>0.236141</td>\n",
       "      <td>1.000000</td>\n",
       "      <td>0.878983</td>\n",
       "      <td>0.029187</td>\n",
       "      <td>-0.088344</td>\n",
       "    </tr>\n",
       "    <tr>\n",
       "      <th>Present_Price</th>\n",
       "      <td>-0.047584</td>\n",
       "      <td>0.878983</td>\n",
       "      <td>1.000000</td>\n",
       "      <td>0.203647</td>\n",
       "      <td>0.008057</td>\n",
       "    </tr>\n",
       "    <tr>\n",
       "      <th>Kms_Driven</th>\n",
       "      <td>-0.524342</td>\n",
       "      <td>0.029187</td>\n",
       "      <td>0.203647</td>\n",
       "      <td>1.000000</td>\n",
       "      <td>0.089216</td>\n",
       "    </tr>\n",
       "    <tr>\n",
       "      <th>Owner</th>\n",
       "      <td>-0.182104</td>\n",
       "      <td>-0.088344</td>\n",
       "      <td>0.008057</td>\n",
       "      <td>0.089216</td>\n",
       "      <td>1.000000</td>\n",
       "    </tr>\n",
       "  </tbody>\n",
       "</table>\n",
       "</div>"
      ],
      "text/plain": [
       "                   Year  Selling_Price  Present_Price  Kms_Driven     Owner\n",
       "Year           1.000000       0.236141      -0.047584   -0.524342 -0.182104\n",
       "Selling_Price  0.236141       1.000000       0.878983    0.029187 -0.088344\n",
       "Present_Price -0.047584       0.878983       1.000000    0.203647  0.008057\n",
       "Kms_Driven    -0.524342       0.029187       0.203647    1.000000  0.089216\n",
       "Owner         -0.182104      -0.088344       0.008057    0.089216  1.000000"
      ]
     },
     "execution_count": 9,
     "metadata": {},
     "output_type": "execute_result"
    }
   ],
   "source": [
    "df.corr()"
   ]
  },
  {
   "cell_type": "code",
   "execution_count": 10,
   "id": "fa6b7d75",
   "metadata": {
    "execution": {
     "iopub.execute_input": "2022-03-19T04:31:54.039670Z",
     "iopub.status.busy": "2022-03-19T04:31:54.038934Z",
     "iopub.status.idle": "2022-03-19T04:31:55.122602Z",
     "shell.execute_reply": "2022-03-19T04:31:55.123121Z",
     "shell.execute_reply.started": "2022-03-19T04:30:00.961107Z"
    },
    "papermill": {
     "duration": 1.130607,
     "end_time": "2022-03-19T04:31:55.123290",
     "exception": false,
     "start_time": "2022-03-19T04:31:53.992683",
     "status": "completed"
    },
    "tags": []
   },
   "outputs": [],
   "source": [
    "import matplotlib.pyplot as plt\n",
    "import seaborn as sns"
   ]
  },
  {
   "cell_type": "code",
   "execution_count": 11,
   "id": "079eeb68",
   "metadata": {
    "execution": {
     "iopub.execute_input": "2022-03-19T04:31:55.212514Z",
     "iopub.status.busy": "2022-03-19T04:31:55.211888Z",
     "iopub.status.idle": "2022-03-19T04:31:55.574414Z",
     "shell.execute_reply": "2022-03-19T04:31:55.574905Z",
     "shell.execute_reply.started": "2022-03-19T04:30:01.084887Z"
    },
    "papermill": {
     "duration": 0.408141,
     "end_time": "2022-03-19T04:31:55.575074",
     "exception": false,
     "start_time": "2022-03-19T04:31:55.166933",
     "status": "completed"
    },
    "tags": []
   },
   "outputs": [
    {
     "data": {
      "image/png": "[encoded data removed]",
      "text/plain": [
       "<Figure size 720x720 with 2 Axes>"
      ]
     },
     "metadata": {
      "needs_background": "light"
     },
     "output_type": "display_data"
    }
   ],
   "source": [
    "plt.figure(figsize = (10,10))\n",
    "sns.heatmap(df.corr(), annot = True)\n",
    "plt.show()"
   ]
  },
  {
   "cell_type": "code",
   "execution_count": 12,
   "id": "912b4ca8",
   "metadata": {
    "execution": {
     "iopub.execute_input": "2022-03-19T04:31:55.670475Z",
     "iopub.status.busy": "2022-03-19T04:31:55.667875Z",
     "iopub.status.idle": "2022-03-19T04:31:55.674192Z",
     "shell.execute_reply": "2022-03-19T04:31:55.674752Z",
     "shell.execute_reply.started": "2022-03-19T04:30:01.395570Z"
    },
    "papermill": {
     "duration": 0.053837,
     "end_time": "2022-03-19T04:31:55.674935",
     "exception": false,
     "start_time": "2022-03-19T04:31:55.621098",
     "status": "completed"
    },
    "tags": []
   },
   "outputs": [
    {
     "data": {
      "text/plain": [
       "Index(['Car_Name', 'Year', 'Selling_Price', 'Present_Price', 'Kms_Driven',\n",
       "       'Fuel_Type', 'Seller_Type', 'Transmission', 'Owner'],\n",
       "      dtype='object')"
      ]
     },
     "execution_count": 12,
     "metadata": {},
     "output_type": "execute_result"
    }
   ],
   "source": [
    "df.columns"
   ]
  },
  {
   "cell_type": "code",
   "execution_count": 13,
   "id": "10dfad0e",
   "metadata": {
    "execution": {
     "iopub.execute_input": "2022-03-19T04:31:55.768891Z",
     "iopub.status.busy": "2022-03-19T04:31:55.767875Z",
     "iopub.status.idle": "2022-03-19T04:31:55.783743Z",
     "shell.execute_reply": "2022-03-19T04:31:55.783082Z",
     "shell.execute_reply.started": "2022-03-19T04:30:01.402399Z"
    },
    "papermill": {
     "duration": 0.06328,
     "end_time": "2022-03-19T04:31:55.783886",
     "exception": false,
     "start_time": "2022-03-19T04:31:55.720606",
     "status": "completed"
    },
    "tags": []
   },
   "outputs": [
    {
     "data": {
      "text/html": [
       "<div>\n",
       "<style scoped>\n",
       "    .dataframe tbody tr th:only-of-type {\n",
       "        vertical-align: middle;\n",
       "    }\n",
       "\n",
       "    .dataframe tbody tr th {\n",
       "        vertical-align: top;\n",
       "    }\n",
       "\n",
       "    .dataframe thead th {\n",
       "        text-align: right;\n",
       "    }\n",
       "</style>\n",
       "<table border=\"1\" class=\"dataframe\">\n",
       "  <thead>\n",
       "    <tr style=\"text-align: right;\">\n",
       "      <th></th>\n",
       "      <th>Year</th>\n",
       "      <th>Selling_Price</th>\n",
       "      <th>Present_Price</th>\n",
       "      <th>Kms_Driven</th>\n",
       "      <th>Fuel_Type</th>\n",
       "      <th>Seller_Type</th>\n",
       "      <th>Transmission</th>\n",
       "      <th>Owner</th>\n",
       "    </tr>\n",
       "  </thead>\n",
       "  <tbody>\n",
       "    <tr>\n",
       "      <th>0</th>\n",
       "      <td>2014</td>\n",
       "      <td>3.35</td>\n",
       "      <td>5.59</td>\n",
       "      <td>27000</td>\n",
       "      <td>Petrol</td>\n",
       "      <td>Dealer</td>\n",
       "      <td>Manual</td>\n",
       "      <td>0</td>\n",
       "    </tr>\n",
       "    <tr>\n",
       "      <th>1</th>\n",
       "      <td>2013</td>\n",
       "      <td>4.75</td>\n",
       "      <td>9.54</td>\n",
       "      <td>43000</td>\n",
       "      <td>Diesel</td>\n",
       "      <td>Dealer</td>\n",
       "      <td>Manual</td>\n",
       "      <td>0</td>\n",
       "    </tr>\n",
       "    <tr>\n",
       "      <th>2</th>\n",
       "      <td>2017</td>\n",
       "      <td>7.25</td>\n",
       "      <td>9.85</td>\n",
       "      <td>6900</td>\n",
       "      <td>Petrol</td>\n",
       "      <td>Dealer</td>\n",
       "      <td>Manual</td>\n",
       "      <td>0</td>\n",
       "    </tr>\n",
       "    <tr>\n",
       "      <th>3</th>\n",
       "      <td>2011</td>\n",
       "      <td>2.85</td>\n",
       "      <td>4.15</td>\n",
       "      <td>5200</td>\n",
       "      <td>Petrol</td>\n",
       "      <td>Dealer</td>\n",
       "      <td>Manual</td>\n",
       "      <td>0</td>\n",
       "    </tr>\n",
       "    <tr>\n",
       "      <th>4</th>\n",
       "      <td>2014</td>\n",
       "      <td>4.60</td>\n",
       "      <td>6.87</td>\n",
       "      <td>42450</td>\n",
       "      <td>Diesel</td>\n",
       "      <td>Dealer</td>\n",
       "      <td>Manual</td>\n",
       "      <td>0</td>\n",
       "    </tr>\n",
       "  </tbody>\n",
       "</table>\n",
       "</div>"
      ],
      "text/plain": [
       "   Year  Selling_Price  Present_Price  Kms_Driven Fuel_Type Seller_Type  \\\n",
       "0  2014           3.35           5.59       27000    Petrol      Dealer   \n",
       "1  2013           4.75           9.54       43000    Diesel      Dealer   \n",
       "2  2017           7.25           9.85        6900    Petrol      Dealer   \n",
       "3  2011           2.85           4.15        5200    Petrol      Dealer   \n",
       "4  2014           4.60           6.87       42450    Diesel      Dealer   \n",
       "\n",
       "  Transmission  Owner  \n",
       "0       Manual      0  \n",
       "1       Manual      0  \n",
       "2       Manual      0  \n",
       "3       Manual      0  \n",
       "4       Manual      0  "
      ]
     },
     "execution_count": 13,
     "metadata": {},
     "output_type": "execute_result"
    }
   ],
   "source": [
    "## We'll drop car_name column as this is not useful for our prediction\n",
    "\n",
    "final_df = df[['Year', 'Selling_Price', 'Present_Price', 'Kms_Driven',\n",
    "       'Fuel_Type', 'Seller_Type', 'Transmission', 'Owner' ]]\n",
    "final_df.head()"
   ]
  },
  {
   "cell_type": "code",
   "execution_count": 14,
   "id": "8819bebd",
   "metadata": {
    "execution": {
     "iopub.execute_input": "2022-03-19T04:31:55.879209Z",
     "iopub.status.busy": "2022-03-19T04:31:55.878531Z",
     "iopub.status.idle": "2022-03-19T04:31:55.893031Z",
     "shell.execute_reply": "2022-03-19T04:31:55.892498Z",
     "shell.execute_reply.started": "2022-03-19T04:30:01.425873Z"
    },
    "papermill": {
     "duration": 0.063914,
     "end_time": "2022-03-19T04:31:55.893176",
     "exception": false,
     "start_time": "2022-03-19T04:31:55.829262",
     "status": "completed"
    },
    "tags": []
   },
   "outputs": [
    {
     "data": {
      "text/html": [
       "<div>\n",
       "<style scoped>\n",
       "    .dataframe tbody tr th:only-of-type {\n",
       "        vertical-align: middle;\n",
       "    }\n",
       "\n",
       "    .dataframe tbody tr th {\n",
       "        vertical-align: top;\n",
       "    }\n",
       "\n",
       "    .dataframe thead th {\n",
       "        text-align: right;\n",
       "    }\n",
       "</style>\n",
       "<table border=\"1\" class=\"dataframe\">\n",
       "  <thead>\n",
       "    <tr style=\"text-align: right;\">\n",
       "      <th></th>\n",
       "      <th>Year</th>\n",
       "      <th>Selling_Price</th>\n",
       "      <th>Present_Price</th>\n",
       "      <th>Kms_Driven</th>\n",
       "      <th>Fuel_Type</th>\n",
       "      <th>Seller_Type</th>\n",
       "      <th>Transmission</th>\n",
       "      <th>Owner</th>\n",
       "      <th>Current_Year</th>\n",
       "    </tr>\n",
       "  </thead>\n",
       "  <tbody>\n",
       "    <tr>\n",
       "      <th>0</th>\n",
       "      <td>2014</td>\n",
       "      <td>3.35</td>\n",
       "      <td>5.59</td>\n",
       "      <td>27000</td>\n",
       "      <td>Petrol</td>\n",
       "      <td>Dealer</td>\n",
       "      <td>Manual</td>\n",
       "      <td>0</td>\n",
       "      <td>2022</td>\n",
       "    </tr>\n",
       "    <tr>\n",
       "      <th>1</th>\n",
       "      <td>2013</td>\n",
       "      <td>4.75</td>\n",
       "      <td>9.54</td>\n",
       "      <td>43000</td>\n",
       "      <td>Diesel</td>\n",
       "      <td>Dealer</td>\n",
       "      <td>Manual</td>\n",
       "      <td>0</td>\n",
       "      <td>2022</td>\n",
       "    </tr>\n",
       "    <tr>\n",
       "      <th>2</th>\n",
       "      <td>2017</td>\n",
       "      <td>7.25</td>\n",
       "      <td>9.85</td>\n",
       "      <td>6900</td>\n",
       "      <td>Petrol</td>\n",
       "      <td>Dealer</td>\n",
       "      <td>Manual</td>\n",
       "      <td>0</td>\n",
       "      <td>2022</td>\n",
       "    </tr>\n",
       "    <tr>\n",
       "      <th>3</th>\n",
       "      <td>2011</td>\n",
       "      <td>2.85</td>\n",
       "      <td>4.15</td>\n",
       "      <td>5200</td>\n",
       "      <td>Petrol</td>\n",
       "      <td>Dealer</td>\n",
       "      <td>Manual</td>\n",
       "      <td>0</td>\n",
       "      <td>2022</td>\n",
       "    </tr>\n",
       "    <tr>\n",
       "      <th>4</th>\n",
       "      <td>2014</td>\n",
       "      <td>4.60</td>\n",
       "      <td>6.87</td>\n",
       "      <td>42450</td>\n",
       "      <td>Diesel</td>\n",
       "      <td>Dealer</td>\n",
       "      <td>Manual</td>\n",
       "      <td>0</td>\n",
       "      <td>2022</td>\n",
       "    </tr>\n",
       "  </tbody>\n",
       "</table>\n",
       "</div>"
      ],
      "text/plain": [
       "   Year  Selling_Price  Present_Price  Kms_Driven Fuel_Type Seller_Type  \\\n",
       "0  2014           3.35           5.59       27000    Petrol      Dealer   \n",
       "1  2013           4.75           9.54       43000    Diesel      Dealer   \n",
       "2  2017           7.25           9.85        6900    Petrol      Dealer   \n",
       "3  2011           2.85           4.15        5200    Petrol      Dealer   \n",
       "4  2014           4.60           6.87       42450    Diesel      Dealer   \n",
       "\n",
       "  Transmission  Owner  Current_Year  \n",
       "0       Manual      0          2022  \n",
       "1       Manual      0          2022  \n",
       "2       Manual      0          2022  \n",
       "3       Manual      0          2022  \n",
       "4       Manual      0          2022  "
      ]
     },
     "execution_count": 14,
     "metadata": {},
     "output_type": "execute_result"
    }
   ],
   "source": [
    "final_df['Current_Year'] = 2022\n",
    "final_df.head()"
   ]
  },
  {
   "cell_type": "code",
   "execution_count": 15,
   "id": "45883ca1",
   "metadata": {
    "execution": {
     "iopub.execute_input": "2022-03-19T04:31:55.994726Z",
     "iopub.status.busy": "2022-03-19T04:31:55.990701Z",
     "iopub.status.idle": "2022-03-19T04:31:56.005530Z",
     "shell.execute_reply": "2022-03-19T04:31:56.006025Z",
     "shell.execute_reply.started": "2022-03-19T04:30:01.443574Z"
    },
    "papermill": {
     "duration": 0.06512,
     "end_time": "2022-03-19T04:31:56.006194",
     "exception": false,
     "start_time": "2022-03-19T04:31:55.941074",
     "status": "completed"
    },
    "tags": []
   },
   "outputs": [
    {
     "data": {
      "text/html": [
       "<div>\n",
       "<style scoped>\n",
       "    .dataframe tbody tr th:only-of-type {\n",
       "        vertical-align: middle;\n",
       "    }\n",
       "\n",
       "    .dataframe tbody tr th {\n",
       "        vertical-align: top;\n",
       "    }\n",
       "\n",
       "    .dataframe thead th {\n",
       "        text-align: right;\n",
       "    }\n",
       "</style>\n",
       "<table border=\"1\" class=\"dataframe\">\n",
       "  <thead>\n",
       "    <tr style=\"text-align: right;\">\n",
       "      <th></th>\n",
       "      <th>Year</th>\n",
       "      <th>Selling_Price</th>\n",
       "      <th>Present_Price</th>\n",
       "      <th>Kms_Driven</th>\n",
       "      <th>Fuel_Type</th>\n",
       "      <th>Seller_Type</th>\n",
       "      <th>Transmission</th>\n",
       "      <th>Owner</th>\n",
       "      <th>Current_Year</th>\n",
       "      <th>year_diff</th>\n",
       "    </tr>\n",
       "  </thead>\n",
       "  <tbody>\n",
       "    <tr>\n",
       "      <th>0</th>\n",
       "      <td>2014</td>\n",
       "      <td>3.35</td>\n",
       "      <td>5.59</td>\n",
       "      <td>27000</td>\n",
       "      <td>Petrol</td>\n",
       "      <td>Dealer</td>\n",
       "      <td>Manual</td>\n",
       "      <td>0</td>\n",
       "      <td>2022</td>\n",
       "      <td>8</td>\n",
       "    </tr>\n",
       "    <tr>\n",
       "      <th>1</th>\n",
       "      <td>2013</td>\n",
       "      <td>4.75</td>\n",
       "      <td>9.54</td>\n",
       "      <td>43000</td>\n",
       "      <td>Diesel</td>\n",
       "      <td>Dealer</td>\n",
       "      <td>Manual</td>\n",
       "      <td>0</td>\n",
       "      <td>2022</td>\n",
       "      <td>9</td>\n",
       "    </tr>\n",
       "    <tr>\n",
       "      <th>2</th>\n",
       "      <td>2017</td>\n",
       "      <td>7.25</td>\n",
       "      <td>9.85</td>\n",
       "      <td>6900</td>\n",
       "      <td>Petrol</td>\n",
       "      <td>Dealer</td>\n",
       "      <td>Manual</td>\n",
       "      <td>0</td>\n",
       "      <td>2022</td>\n",
       "      <td>5</td>\n",
       "    </tr>\n",
       "    <tr>\n",
       "      <th>3</th>\n",
       "      <td>2011</td>\n",
       "      <td>2.85</td>\n",
       "      <td>4.15</td>\n",
       "      <td>5200</td>\n",
       "      <td>Petrol</td>\n",
       "      <td>Dealer</td>\n",
       "      <td>Manual</td>\n",
       "      <td>0</td>\n",
       "      <td>2022</td>\n",
       "      <td>11</td>\n",
       "    </tr>\n",
       "    <tr>\n",
       "      <th>4</th>\n",
       "      <td>2014</td>\n",
       "      <td>4.60</td>\n",
       "      <td>6.87</td>\n",
       "      <td>42450</td>\n",
       "      <td>Diesel</td>\n",
       "      <td>Dealer</td>\n",
       "      <td>Manual</td>\n",
       "      <td>0</td>\n",
       "      <td>2022</td>\n",
       "      <td>8</td>\n",
       "    </tr>\n",
       "  </tbody>\n",
       "</table>\n",
       "</div>"
      ],
      "text/plain": [
       "   Year  Selling_Price  Present_Price  Kms_Driven Fuel_Type Seller_Type  \\\n",
       "0  2014           3.35           5.59       27000    Petrol      Dealer   \n",
       "1  2013           4.75           9.54       43000    Diesel      Dealer   \n",
       "2  2017           7.25           9.85        6900    Petrol      Dealer   \n",
       "3  2011           2.85           4.15        5200    Petrol      Dealer   \n",
       "4  2014           4.60           6.87       42450    Diesel      Dealer   \n",
       "\n",
       "  Transmission  Owner  Current_Year  year_diff  \n",
       "0       Manual      0          2022          8  \n",
       "1       Manual      0          2022          9  \n",
       "2       Manual      0          2022          5  \n",
       "3       Manual      0          2022         11  \n",
       "4       Manual      0          2022          8  "
      ]
     },
     "execution_count": 15,
     "metadata": {},
     "output_type": "execute_result"
    }
   ],
   "source": [
    "## Now find year difference \n",
    "\n",
    "final_df['year_diff'] = final_df['Current_Year'] - final_df['Year']\n",
    "\n",
    "final_df.head()"
   ]
  },
  {
   "cell_type": "code",
   "execution_count": 16,
   "id": "c26012f7",
   "metadata": {
    "execution": {
     "iopub.execute_input": "2022-03-19T04:31:56.102091Z",
     "iopub.status.busy": "2022-03-19T04:31:56.101439Z",
     "iopub.status.idle": "2022-03-19T04:31:56.106444Z",
     "shell.execute_reply": "2022-03-19T04:31:56.107022Z",
     "shell.execute_reply.started": "2022-03-19T04:30:01.464580Z"
    },
    "papermill": {
     "duration": 0.054662,
     "end_time": "2022-03-19T04:31:56.107186",
     "exception": false,
     "start_time": "2022-03-19T04:31:56.052524",
     "status": "completed"
    },
    "tags": []
   },
   "outputs": [],
   "source": [
    "## Now we'll drop year and current year column\n",
    "\n",
    "final_df.drop(['Year', 'Current_Year'], axis = 1, inplace = True)"
   ]
  },
  {
   "cell_type": "code",
   "execution_count": 17,
   "id": "eff5217f",
   "metadata": {
    "execution": {
     "iopub.execute_input": "2022-03-19T04:31:56.202776Z",
     "iopub.status.busy": "2022-03-19T04:31:56.202158Z",
     "iopub.status.idle": "2022-03-19T04:31:56.215312Z",
     "shell.execute_reply": "2022-03-19T04:31:56.215928Z",
     "shell.execute_reply.started": "2022-03-19T04:30:01.471253Z"
    },
    "papermill": {
     "duration": 0.062527,
     "end_time": "2022-03-19T04:31:56.216098",
     "exception": false,
     "start_time": "2022-03-19T04:31:56.153571",
     "status": "completed"
    },
    "tags": []
   },
   "outputs": [
    {
     "data": {
      "text/html": [
       "<div>\n",
       "<style scoped>\n",
       "    .dataframe tbody tr th:only-of-type {\n",
       "        vertical-align: middle;\n",
       "    }\n",
       "\n",
       "    .dataframe tbody tr th {\n",
       "        vertical-align: top;\n",
       "    }\n",
       "\n",
       "    .dataframe thead th {\n",
       "        text-align: right;\n",
       "    }\n",
       "</style>\n",
       "<table border=\"1\" class=\"dataframe\">\n",
       "  <thead>\n",
       "    <tr style=\"text-align: right;\">\n",
       "      <th></th>\n",
       "      <th>Selling_Price</th>\n",
       "      <th>Present_Price</th>\n",
       "      <th>Kms_Driven</th>\n",
       "      <th>Fuel_Type</th>\n",
       "      <th>Seller_Type</th>\n",
       "      <th>Transmission</th>\n",
       "      <th>Owner</th>\n",
       "      <th>year_diff</th>\n",
       "    </tr>\n",
       "  </thead>\n",
       "  <tbody>\n",
       "    <tr>\n",
       "      <th>0</th>\n",
       "      <td>3.35</td>\n",
       "      <td>5.59</td>\n",
       "      <td>27000</td>\n",
       "      <td>Petrol</td>\n",
       "      <td>Dealer</td>\n",
       "      <td>Manual</td>\n",
       "      <td>0</td>\n",
       "      <td>8</td>\n",
       "    </tr>\n",
       "    <tr>\n",
       "      <th>1</th>\n",
       "      <td>4.75</td>\n",
       "      <td>9.54</td>\n",
       "      <td>43000</td>\n",
       "      <td>Diesel</td>\n",
       "      <td>Dealer</td>\n",
       "      <td>Manual</td>\n",
       "      <td>0</td>\n",
       "      <td>9</td>\n",
       "    </tr>\n",
       "    <tr>\n",
       "      <th>2</th>\n",
       "      <td>7.25</td>\n",
       "      <td>9.85</td>\n",
       "      <td>6900</td>\n",
       "      <td>Petrol</td>\n",
       "      <td>Dealer</td>\n",
       "      <td>Manual</td>\n",
       "      <td>0</td>\n",
       "      <td>5</td>\n",
       "    </tr>\n",
       "    <tr>\n",
       "      <th>3</th>\n",
       "      <td>2.85</td>\n",
       "      <td>4.15</td>\n",
       "      <td>5200</td>\n",
       "      <td>Petrol</td>\n",
       "      <td>Dealer</td>\n",
       "      <td>Manual</td>\n",
       "      <td>0</td>\n",
       "      <td>11</td>\n",
       "    </tr>\n",
       "    <tr>\n",
       "      <th>4</th>\n",
       "      <td>4.60</td>\n",
       "      <td>6.87</td>\n",
       "      <td>42450</td>\n",
       "      <td>Diesel</td>\n",
       "      <td>Dealer</td>\n",
       "      <td>Manual</td>\n",
       "      <td>0</td>\n",
       "      <td>8</td>\n",
       "    </tr>\n",
       "  </tbody>\n",
       "</table>\n",
       "</div>"
      ],
      "text/plain": [
       "   Selling_Price  Present_Price  Kms_Driven Fuel_Type Seller_Type  \\\n",
       "0           3.35           5.59       27000    Petrol      Dealer   \n",
       "1           4.75           9.54       43000    Diesel      Dealer   \n",
       "2           7.25           9.85        6900    Petrol      Dealer   \n",
       "3           2.85           4.15        5200    Petrol      Dealer   \n",
       "4           4.60           6.87       42450    Diesel      Dealer   \n",
       "\n",
       "  Transmission  Owner  year_diff  \n",
       "0       Manual      0          8  \n",
       "1       Manual      0          9  \n",
       "2       Manual      0          5  \n",
       "3       Manual      0         11  \n",
       "4       Manual      0          8  "
      ]
     },
     "execution_count": 17,
     "metadata": {},
     "output_type": "execute_result"
    }
   ],
   "source": [
    "final_df.head()"
   ]
  },
  {
   "cell_type": "code",
   "execution_count": 18,
   "id": "45ddfaa3",
   "metadata": {
    "execution": {
     "iopub.execute_input": "2022-03-19T04:31:56.312616Z",
     "iopub.status.busy": "2022-03-19T04:31:56.311992Z",
     "iopub.status.idle": "2022-03-19T04:31:56.329478Z",
     "shell.execute_reply": "2022-03-19T04:31:56.330028Z",
     "shell.execute_reply.started": "2022-03-19T04:30:01.493087Z"
    },
    "papermill": {
     "duration": 0.06735,
     "end_time": "2022-03-19T04:31:56.330197",
     "exception": false,
     "start_time": "2022-03-19T04:31:56.262847",
     "status": "completed"
    },
    "tags": []
   },
   "outputs": [
    {
     "data": {
      "text/html": [
       "<div>\n",
       "<style scoped>\n",
       "    .dataframe tbody tr th:only-of-type {\n",
       "        vertical-align: middle;\n",
       "    }\n",
       "\n",
       "    .dataframe tbody tr th {\n",
       "        vertical-align: top;\n",
       "    }\n",
       "\n",
       "    .dataframe thead th {\n",
       "        text-align: right;\n",
       "    }\n",
       "</style>\n",
       "<table border=\"1\" class=\"dataframe\">\n",
       "  <thead>\n",
       "    <tr style=\"text-align: right;\">\n",
       "      <th></th>\n",
       "      <th>Selling_Price</th>\n",
       "      <th>Present_Price</th>\n",
       "      <th>Kms_Driven</th>\n",
       "      <th>Owner</th>\n",
       "      <th>year_diff</th>\n",
       "      <th>Fuel_Type_Diesel</th>\n",
       "      <th>Fuel_Type_Petrol</th>\n",
       "      <th>Seller_Type_Individual</th>\n",
       "      <th>Transmission_Manual</th>\n",
       "    </tr>\n",
       "  </thead>\n",
       "  <tbody>\n",
       "    <tr>\n",
       "      <th>0</th>\n",
       "      <td>3.35</td>\n",
       "      <td>5.59</td>\n",
       "      <td>27000</td>\n",
       "      <td>0</td>\n",
       "      <td>8</td>\n",
       "      <td>0</td>\n",
       "      <td>1</td>\n",
       "      <td>0</td>\n",
       "      <td>1</td>\n",
       "    </tr>\n",
       "    <tr>\n",
       "      <th>1</th>\n",
       "      <td>4.75</td>\n",
       "      <td>9.54</td>\n",
       "      <td>43000</td>\n",
       "      <td>0</td>\n",
       "      <td>9</td>\n",
       "      <td>1</td>\n",
       "      <td>0</td>\n",
       "      <td>0</td>\n",
       "      <td>1</td>\n",
       "    </tr>\n",
       "    <tr>\n",
       "      <th>2</th>\n",
       "      <td>7.25</td>\n",
       "      <td>9.85</td>\n",
       "      <td>6900</td>\n",
       "      <td>0</td>\n",
       "      <td>5</td>\n",
       "      <td>0</td>\n",
       "      <td>1</td>\n",
       "      <td>0</td>\n",
       "      <td>1</td>\n",
       "    </tr>\n",
       "    <tr>\n",
       "      <th>3</th>\n",
       "      <td>2.85</td>\n",
       "      <td>4.15</td>\n",
       "      <td>5200</td>\n",
       "      <td>0</td>\n",
       "      <td>11</td>\n",
       "      <td>0</td>\n",
       "      <td>1</td>\n",
       "      <td>0</td>\n",
       "      <td>1</td>\n",
       "    </tr>\n",
       "    <tr>\n",
       "      <th>4</th>\n",
       "      <td>4.60</td>\n",
       "      <td>6.87</td>\n",
       "      <td>42450</td>\n",
       "      <td>0</td>\n",
       "      <td>8</td>\n",
       "      <td>1</td>\n",
       "      <td>0</td>\n",
       "      <td>0</td>\n",
       "      <td>1</td>\n",
       "    </tr>\n",
       "  </tbody>\n",
       "</table>\n",
       "</div>"
      ],
      "text/plain": [
       "   Selling_Price  Present_Price  Kms_Driven  Owner  year_diff  \\\n",
       "0           3.35           5.59       27000      0          8   \n",
       "1           4.75           9.54       43000      0          9   \n",
       "2           7.25           9.85        6900      0          5   \n",
       "3           2.85           4.15        5200      0         11   \n",
       "4           4.60           6.87       42450      0          8   \n",
       "\n",
       "   Fuel_Type_Diesel  Fuel_Type_Petrol  Seller_Type_Individual  \\\n",
       "0                 0                 1                       0   \n",
       "1                 1                 0                       0   \n",
       "2                 0                 1                       0   \n",
       "3                 0                 1                       0   \n",
       "4                 1                 0                       0   \n",
       "\n",
       "   Transmission_Manual  \n",
       "0                    1  \n",
       "1                    1  \n",
       "2                    1  \n",
       "3                    1  \n",
       "4                    1  "
      ]
     },
     "execution_count": 18,
     "metadata": {},
     "output_type": "execute_result"
    }
   ],
   "source": [
    "final_df = pd.get_dummies(final_df, drop_first = True)\n",
    "final_df.head()"
   ]
  },
  {
   "cell_type": "code",
   "execution_count": 19,
   "id": "3c6aa27b",
   "metadata": {
    "execution": {
     "iopub.execute_input": "2022-03-19T04:31:56.431833Z",
     "iopub.status.busy": "2022-03-19T04:31:56.431186Z",
     "iopub.status.idle": "2022-03-19T04:32:12.965554Z",
     "shell.execute_reply": "2022-03-19T04:32:12.966060Z",
     "shell.execute_reply.started": "2022-03-19T04:30:01.512643Z"
    },
    "papermill": {
     "duration": 16.585372,
     "end_time": "2022-03-19T04:32:12.966235",
     "exception": false,
     "start_time": "2022-03-19T04:31:56.380863",
     "status": "completed"
    },
    "tags": []
   },
   "outputs": [
    {
     "data": {
      "text/plain": [
       "<seaborn.axisgrid.PairGrid at 0x7fb5ccd69d10>"
      ]
     },
     "execution_count": 19,
     "metadata": {},
     "output_type": "execute_result"
    },
    {
     "data": {
      "image/png": "[encoded data removed]",
      "text/plain": [
       "<Figure size 1620x1620 with 90 Axes>"
      ]
     },
     "metadata": {
      "needs_background": "light"
     },
     "output_type": "display_data"
    }
   ],
   "source": [
    "sns.pairplot(final_df)"
   ]
  },
  {
   "cell_type": "code",
   "execution_count": 20,
   "id": "8e4ed314",
   "metadata": {
    "execution": {
     "iopub.execute_input": "2022-03-19T04:32:13.079227Z",
     "iopub.status.busy": "2022-03-19T04:32:13.078583Z",
     "iopub.status.idle": "2022-03-19T04:32:13.883457Z",
     "shell.execute_reply": "2022-03-19T04:32:13.883952Z",
     "shell.execute_reply.started": "2022-03-19T04:30:15.686675Z"
    },
    "papermill": {
     "duration": 0.863118,
     "end_time": "2022-03-19T04:32:13.884134",
     "exception": false,
     "start_time": "2022-03-19T04:32:13.021016",
     "status": "completed"
    },
    "tags": []
   },
   "outputs": [
    {
     "data": {
      "image/png": "[encoded data removed]",
      "text/plain": [
       "<Figure size 1080x1080 with 2 Axes>"
      ]
     },
     "metadata": {
      "needs_background": "light"
     },
     "output_type": "display_data"
    }
   ],
   "source": [
    "correlation = final_df.corr()\n",
    "top_cor_features = correlation.index\n",
    "plt.figure(figsize = (15,15))\n",
    "g = sns.heatmap(final_df[top_cor_features].corr(), annot = True, cmap = 'RdYlGn')"
   ]
  },
  {
   "cell_type": "code",
   "execution_count": 21,
   "id": "f7ddc7d2",
   "metadata": {
    "execution": {
     "iopub.execute_input": "2022-03-19T04:32:14.002472Z",
     "iopub.status.busy": "2022-03-19T04:32:14.001805Z",
     "iopub.status.idle": "2022-03-19T04:32:14.006059Z",
     "shell.execute_reply": "2022-03-19T04:32:14.006715Z",
     "shell.execute_reply.started": "2022-03-19T04:30:16.428200Z"
    },
    "papermill": {
     "duration": 0.065645,
     "end_time": "2022-03-19T04:32:14.006892",
     "exception": false,
     "start_time": "2022-03-19T04:32:13.941247",
     "status": "completed"
    },
    "tags": []
   },
   "outputs": [],
   "source": [
    "## Dependent and Independent features\n",
    "\n",
    "X = final_df.iloc[:,1:]\n",
    "y = final_df.iloc[:,0]"
   ]
  },
  {
   "cell_type": "code",
   "execution_count": 22,
   "id": "1e2c5ee9",
   "metadata": {
    "execution": {
     "iopub.execute_input": "2022-03-19T04:32:14.123944Z",
     "iopub.status.busy": "2022-03-19T04:32:14.123305Z",
     "iopub.status.idle": "2022-03-19T04:32:14.134556Z",
     "shell.execute_reply": "2022-03-19T04:32:14.135141Z",
     "shell.execute_reply.started": "2022-03-19T04:30:16.434371Z"
    },
    "papermill": {
     "duration": 0.07169,
     "end_time": "2022-03-19T04:32:14.135310",
     "exception": false,
     "start_time": "2022-03-19T04:32:14.063620",
     "status": "completed"
    },
    "tags": []
   },
   "outputs": [
    {
     "data": {
      "text/html": [
       "<div>\n",
       "<style scoped>\n",
       "    .dataframe tbody tr th:only-of-type {\n",
       "        vertical-align: middle;\n",
       "    }\n",
       "\n",
       "    .dataframe tbody tr th {\n",
       "        vertical-align: top;\n",
       "    }\n",
       "\n",
       "    .dataframe thead th {\n",
       "        text-align: right;\n",
       "    }\n",
       "</style>\n",
       "<table border=\"1\" class=\"dataframe\">\n",
       "  <thead>\n",
       "    <tr style=\"text-align: right;\">\n",
       "      <th></th>\n",
       "      <th>Present_Price</th>\n",
       "      <th>Kms_Driven</th>\n",
       "      <th>Owner</th>\n",
       "      <th>year_diff</th>\n",
       "      <th>Fuel_Type_Diesel</th>\n",
       "      <th>Fuel_Type_Petrol</th>\n",
       "      <th>Seller_Type_Individual</th>\n",
       "      <th>Transmission_Manual</th>\n",
       "    </tr>\n",
       "  </thead>\n",
       "  <tbody>\n",
       "    <tr>\n",
       "      <th>0</th>\n",
       "      <td>5.59</td>\n",
       "      <td>27000</td>\n",
       "      <td>0</td>\n",
       "      <td>8</td>\n",
       "      <td>0</td>\n",
       "      <td>1</td>\n",
       "      <td>0</td>\n",
       "      <td>1</td>\n",
       "    </tr>\n",
       "    <tr>\n",
       "      <th>1</th>\n",
       "      <td>9.54</td>\n",
       "      <td>43000</td>\n",
       "      <td>0</td>\n",
       "      <td>9</td>\n",
       "      <td>1</td>\n",
       "      <td>0</td>\n",
       "      <td>0</td>\n",
       "      <td>1</td>\n",
       "    </tr>\n",
       "    <tr>\n",
       "      <th>2</th>\n",
       "      <td>9.85</td>\n",
       "      <td>6900</td>\n",
       "      <td>0</td>\n",
       "      <td>5</td>\n",
       "      <td>0</td>\n",
       "      <td>1</td>\n",
       "      <td>0</td>\n",
       "      <td>1</td>\n",
       "    </tr>\n",
       "    <tr>\n",
       "      <th>3</th>\n",
       "      <td>4.15</td>\n",
       "      <td>5200</td>\n",
       "      <td>0</td>\n",
       "      <td>11</td>\n",
       "      <td>0</td>\n",
       "      <td>1</td>\n",
       "      <td>0</td>\n",
       "      <td>1</td>\n",
       "    </tr>\n",
       "    <tr>\n",
       "      <th>4</th>\n",
       "      <td>6.87</td>\n",
       "      <td>42450</td>\n",
       "      <td>0</td>\n",
       "      <td>8</td>\n",
       "      <td>1</td>\n",
       "      <td>0</td>\n",
       "      <td>0</td>\n",
       "      <td>1</td>\n",
       "    </tr>\n",
       "  </tbody>\n",
       "</table>\n",
       "</div>"
      ],
      "text/plain": [
       "   Present_Price  Kms_Driven  Owner  year_diff  Fuel_Type_Diesel  \\\n",
       "0           5.59       27000      0          8                 0   \n",
       "1           9.54       43000      0          9                 1   \n",
       "2           9.85        6900      0          5                 0   \n",
       "3           4.15        5200      0         11                 0   \n",
       "4           6.87       42450      0          8                 1   \n",
       "\n",
       "   Fuel_Type_Petrol  Seller_Type_Individual  Transmission_Manual  \n",
       "0                 1                       0                    1  \n",
       "1                 0                       0                    1  \n",
       "2                 1                       0                    1  \n",
       "3                 1                       0                    1  \n",
       "4                 0                       0                    1  "
      ]
     },
     "execution_count": 22,
     "metadata": {},
     "output_type": "execute_result"
    }
   ],
   "source": [
    "X.head()"
   ]
  },
  {
   "cell_type": "code",
   "execution_count": 23,
   "id": "c999f205",
   "metadata": {
    "execution": {
     "iopub.execute_input": "2022-03-19T04:32:14.256301Z",
     "iopub.status.busy": "2022-03-19T04:32:14.255412Z",
     "iopub.status.idle": "2022-03-19T04:32:14.258740Z",
     "shell.execute_reply": "2022-03-19T04:32:14.259233Z",
     "shell.execute_reply.started": "2022-03-19T04:30:16.453857Z"
    },
    "papermill": {
     "duration": 0.067092,
     "end_time": "2022-03-19T04:32:14.259419",
     "exception": false,
     "start_time": "2022-03-19T04:32:14.192327",
     "status": "completed"
    },
    "tags": []
   },
   "outputs": [
    {
     "data": {
      "text/plain": [
       "0    3.35\n",
       "1    4.75\n",
       "2    7.25\n",
       "3    2.85\n",
       "4    4.60\n",
       "Name: Selling_Price, dtype: float64"
      ]
     },
     "execution_count": 23,
     "metadata": {},
     "output_type": "execute_result"
    }
   ],
   "source": [
    "y.head()"
   ]
  },
  {
   "cell_type": "code",
   "execution_count": 24,
   "id": "4996ad3d",
   "metadata": {
    "execution": {
     "iopub.execute_input": "2022-03-19T04:32:14.378700Z",
     "iopub.status.busy": "2022-03-19T04:32:14.378012Z",
     "iopub.status.idle": "2022-03-19T04:32:14.925997Z",
     "shell.execute_reply": "2022-03-19T04:32:14.926526Z",
     "shell.execute_reply.started": "2022-03-19T04:30:16.463529Z"
    },
    "papermill": {
     "duration": 0.610191,
     "end_time": "2022-03-19T04:32:14.926700",
     "exception": false,
     "start_time": "2022-03-19T04:32:14.316509",
     "status": "completed"
    },
    "tags": []
   },
   "outputs": [
    {
     "data": {
      "text/plain": [
       "ExtraTreesRegressor()"
      ]
     },
     "execution_count": 24,
     "metadata": {},
     "output_type": "execute_result"
    }
   ],
   "source": [
    "## feature importance \n",
    "\n",
    "from sklearn.ensemble import ExtraTreesRegressor\n",
    "model = ExtraTreesRegressor()\n",
    "model.fit(X, y)"
   ]
  },
  {
   "cell_type": "code",
   "execution_count": 25,
   "id": "2a76bff0",
   "metadata": {
    "execution": {
     "iopub.execute_input": "2022-03-19T04:32:15.066960Z",
     "iopub.status.busy": "2022-03-19T04:32:15.065912Z",
     "iopub.status.idle": "2022-03-19T04:32:15.076232Z",
     "shell.execute_reply": "2022-03-19T04:32:15.071615Z",
     "shell.execute_reply.started": "2022-03-19T04:30:16.770877Z"
    },
    "papermill": {
     "duration": 0.090424,
     "end_time": "2022-03-19T04:32:15.076474",
     "exception": false,
     "start_time": "2022-03-19T04:32:14.986050",
     "status": "completed"
    },
    "tags": []
   },
   "outputs": [
    {
     "data": {
      "text/plain": [
       "{'bootstrap': False,\n",
       " 'ccp_alpha': 0.0,\n",
       " 'criterion': 'squared_error',\n",
       " 'max_depth': None,\n",
       " 'max_features': 'auto',\n",
       " 'max_leaf_nodes': None,\n",
       " 'max_samples': None,\n",
       " 'min_impurity_decrease': 0.0,\n",
       " 'min_samples_leaf': 1,\n",
       " 'min_samples_split': 2,\n",
       " 'min_weight_fraction_leaf': 0.0,\n",
       " 'n_estimators': 100,\n",
       " 'n_jobs': None,\n",
       " 'oob_score': False,\n",
       " 'random_state': None,\n",
       " 'verbose': 0,\n",
       " 'warm_start': False}"
      ]
     },
     "execution_count": 25,
     "metadata": {},
     "output_type": "execute_result"
    }
   ],
   "source": [
    "model.get_params()"
   ]
  },
  {
   "cell_type": "code",
   "execution_count": 26,
   "id": "e41fa624",
   "metadata": {
    "execution": {
     "iopub.execute_input": "2022-03-19T04:32:15.200704Z",
     "iopub.status.busy": "2022-03-19T04:32:15.200064Z",
     "iopub.status.idle": "2022-03-19T04:32:15.214862Z",
     "shell.execute_reply": "2022-03-19T04:32:15.215461Z",
     "shell.execute_reply.started": "2022-03-19T04:30:16.778101Z"
    },
    "papermill": {
     "duration": 0.077011,
     "end_time": "2022-03-19T04:32:15.215638",
     "exception": false,
     "start_time": "2022-03-19T04:32:15.138627",
     "status": "completed"
    },
    "tags": []
   },
   "outputs": [
    {
     "data": {
      "text/plain": [
       "array([0.36948761, 0.04184763, 0.00119292, 0.07317965, 0.23021941,\n",
       "       0.00937517, 0.12541228, 0.14928534])"
      ]
     },
     "execution_count": 26,
     "metadata": {},
     "output_type": "execute_result"
    }
   ],
   "source": [
    "model.feature_importances_"
   ]
  },
  {
   "cell_type": "code",
   "execution_count": 27,
   "id": "0a985328",
   "metadata": {
    "execution": {
     "iopub.execute_input": "2022-03-19T04:32:15.335459Z",
     "iopub.status.busy": "2022-03-19T04:32:15.334834Z",
     "iopub.status.idle": "2022-03-19T04:32:15.569276Z",
     "shell.execute_reply": "2022-03-19T04:32:15.568768Z",
     "shell.execute_reply.started": "2022-03-19T04:30:16.799875Z"
    },
    "papermill": {
     "duration": 0.296028,
     "end_time": "2022-03-19T04:32:15.569446",
     "exception": false,
     "start_time": "2022-03-19T04:32:15.273418",
     "status": "completed"
    },
    "tags": []
   },
   "outputs": [
    {
     "data": {
      "image/png": "[encoded data removed]",
      "text/plain": [
       "<Figure size 432x288 with 1 Axes>"
      ]
     },
     "metadata": {
      "needs_background": "light"
     },
     "output_type": "display_data"
    }
   ],
   "source": [
    "feature_importances = pd.Series(model.feature_importances_, index= X.columns)\n",
    "feature_importances.plot(kind = 'barh')\n",
    "plt.show()"
   ]
  },
  {
   "cell_type": "code",
   "execution_count": 28,
   "id": "4936ff56",
   "metadata": {
    "execution": {
     "iopub.execute_input": "2022-03-19T04:32:15.696583Z",
     "iopub.status.busy": "2022-03-19T04:32:15.692254Z",
     "iopub.status.idle": "2022-03-19T04:32:15.698417Z",
     "shell.execute_reply": "2022-03-19T04:32:15.698900Z",
     "shell.execute_reply.started": "2022-03-19T04:30:17.015390Z"
    },
    "papermill": {
     "duration": 0.07006,
     "end_time": "2022-03-19T04:32:15.699073",
     "exception": false,
     "start_time": "2022-03-19T04:32:15.629013",
     "status": "completed"
    },
    "tags": []
   },
   "outputs": [],
   "source": [
    "## Split into train and test\n",
    "\n",
    "from sklearn.model_selection import train_test_split\n",
    "\n",
    "X_train, X_test, y_train, y_test = train_test_split(X, y, test_size = 0.25, random_state = 42)"
   ]
  },
  {
   "cell_type": "code",
   "execution_count": 29,
   "id": "b83c9b82",
   "metadata": {
    "execution": {
     "iopub.execute_input": "2022-03-19T04:32:15.822755Z",
     "iopub.status.busy": "2022-03-19T04:32:15.821915Z",
     "iopub.status.idle": "2022-03-19T04:32:15.825159Z",
     "shell.execute_reply": "2022-03-19T04:32:15.825719Z",
     "shell.execute_reply.started": "2022-03-19T04:30:17.024288Z"
    },
    "papermill": {
     "duration": 0.067897,
     "end_time": "2022-03-19T04:32:15.825904",
     "exception": false,
     "start_time": "2022-03-19T04:32:15.758007",
     "status": "completed"
    },
    "tags": []
   },
   "outputs": [
    {
     "name": "stdout",
     "output_type": "stream",
     "text": [
      "(225, 8)\n",
      "(76, 8)\n",
      "(225,)\n",
      "(76,)\n"
     ]
    }
   ],
   "source": [
    "print(X_train.shape)\n",
    "print(X_test.shape)\n",
    "print(y_train.shape)\n",
    "print(y_test.shape)"
   ]
  },
  {
   "cell_type": "code",
   "execution_count": 30,
   "id": "33ee6ffb",
   "metadata": {
    "execution": {
     "iopub.execute_input": "2022-03-19T04:32:15.952077Z",
     "iopub.status.busy": "2022-03-19T04:32:15.951160Z",
     "iopub.status.idle": "2022-03-19T04:32:15.953965Z",
     "shell.execute_reply": "2022-03-19T04:32:15.953435Z",
     "shell.execute_reply.started": "2022-03-19T04:30:17.036202Z"
    },
    "papermill": {
     "duration": 0.067576,
     "end_time": "2022-03-19T04:32:15.954117",
     "exception": false,
     "start_time": "2022-03-19T04:32:15.886541",
     "status": "completed"
    },
    "tags": []
   },
   "outputs": [],
   "source": [
    "## now we'll apply Random Forest Regressor to our model\n",
    "\n",
    "from sklearn.ensemble import RandomForestRegressor\n",
    "\n",
    "rfr = RandomForestRegressor()"
   ]
  },
  {
   "cell_type": "code",
   "execution_count": 31,
   "id": "3ed41ccf",
   "metadata": {
    "execution": {
     "iopub.execute_input": "2022-03-19T04:32:16.086252Z",
     "iopub.status.busy": "2022-03-19T04:32:16.085453Z",
     "iopub.status.idle": "2022-03-19T04:32:16.088617Z",
     "shell.execute_reply": "2022-03-19T04:32:16.087931Z",
     "shell.execute_reply.started": "2022-03-19T04:30:17.045073Z"
    },
    "papermill": {
     "duration": 0.072272,
     "end_time": "2022-03-19T04:32:16.088767",
     "exception": false,
     "start_time": "2022-03-19T04:32:16.016495",
     "status": "completed"
    },
    "tags": []
   },
   "outputs": [],
   "source": [
    "## Now we'll use RandomizedSearchCV for hyperparameter tuning\n",
    "\n",
    "n_estimators = [int(x) for x in np.linspace(start = 200, stop = 1200, num = 12)]\n",
    "max_features = ['auto', 'sqrt', 'log2']\n",
    "max_depth = [int(x) for x in np.linspace(5,30, num = 6)]\n",
    "min_samples_split = [2,5,10,15,100]\n",
    "min_samples_leaf = [1,2,5,6,7,9,10] \n",
    "\n",
    "from sklearn.model_selection import RandomizedSearchCV\n",
    "\n"
   ]
  },
  {
   "cell_type": "code",
   "execution_count": 32,
   "id": "02eb83de",
   "metadata": {
    "execution": {
     "iopub.execute_input": "2022-03-19T04:32:16.214248Z",
     "iopub.status.busy": "2022-03-19T04:32:16.213438Z",
     "iopub.status.idle": "2022-03-19T04:32:16.217023Z",
     "shell.execute_reply": "2022-03-19T04:32:16.216417Z",
     "shell.execute_reply.started": "2022-03-19T04:30:17.057212Z"
    },
    "papermill": {
     "duration": 0.068548,
     "end_time": "2022-03-19T04:32:16.217156",
     "exception": false,
     "start_time": "2022-03-19T04:32:16.148608",
     "status": "completed"
    },
    "tags": []
   },
   "outputs": [
    {
     "name": "stdout",
     "output_type": "stream",
     "text": [
      "{'n_estimators': [200, 290, 381, 472, 563, 654, 745, 836, 927, 1018, 1109, 1200], 'max_features': ['auto', 'sqrt', 'log2'], 'max_depth': [5, 10, 15, 20, 25, 30], 'min_samples_split': [2, 5, 10, 15, 100], 'min_samples_leaf': [1, 2, 5, 6, 7, 9, 10]}\n"
     ]
    }
   ],
   "source": [
    "random_grid = {\n",
    "    'n_estimators' : n_estimators,\n",
    "    'max_features' : max_features, \n",
    "    'max_depth' : max_depth,\n",
    "    'min_samples_split' : min_samples_split,\n",
    "    'min_samples_leaf' : min_samples_leaf,\n",
    "}\n",
    "print(random_grid)"
   ]
  },
  {
   "cell_type": "code",
   "execution_count": 33,
   "id": "5bc8adde",
   "metadata": {
    "execution": {
     "iopub.execute_input": "2022-03-19T04:32:16.342215Z",
     "iopub.status.busy": "2022-03-19T04:32:16.341504Z",
     "iopub.status.idle": "2022-03-19T04:32:16.344406Z",
     "shell.execute_reply": "2022-03-19T04:32:16.343781Z",
     "shell.execute_reply.started": "2022-03-19T04:30:17.065852Z"
    },
    "papermill": {
     "duration": 0.067508,
     "end_time": "2022-03-19T04:32:16.344542",
     "exception": false,
     "start_time": "2022-03-19T04:32:16.277034",
     "status": "completed"
    },
    "tags": []
   },
   "outputs": [],
   "source": [
    "rfr_random = RandomizedSearchCV(estimator = rfr, param_distributions = random_grid, scoring ='neg_mean_squared_error', \n",
    "                               n_iter = 10, cv = 5, verbose = 2, random_state = 42, n_jobs = 1)"
   ]
  },
  {
   "cell_type": "code",
   "execution_count": 34,
   "id": "82e93dbb",
   "metadata": {
    "execution": {
     "iopub.execute_input": "2022-03-19T04:32:16.505727Z",
     "iopub.status.busy": "2022-03-19T04:32:16.500422Z",
     "iopub.status.idle": "2022-03-19T04:33:20.424192Z",
     "shell.execute_reply": "2022-03-19T04:33:20.423660Z",
     "shell.execute_reply.started": "2022-03-19T04:30:17.074857Z"
    },
    "papermill": {
     "duration": 64.020073,
     "end_time": "2022-03-19T04:33:20.424357",
     "exception": false,
     "start_time": "2022-03-19T04:32:16.404284",
     "status": "completed"
    },
    "tags": []
   },
   "outputs": [
    {
     "name": "stdout",
     "output_type": "stream",
     "text": [
      "Fitting 5 folds for each of 10 candidates, totalling 50 fits\n",
      "[CV] END max_depth=30, max_features=log2, min_samples_leaf=5, min_samples_split=2, n_estimators=1109; total time=   1.7s\n",
      "[CV] END max_depth=30, max_features=log2, min_samples_leaf=5, min_samples_split=2, n_estimators=1109; total time=   1.7s\n",
      "[CV] END max_depth=30, max_features=log2, min_samples_leaf=5, min_samples_split=2, n_estimators=1109; total time=   1.8s\n",
      "[CV] END max_depth=30, max_features=log2, min_samples_leaf=5, min_samples_split=2, n_estimators=1109; total time=   1.7s\n",
      "[CV] END max_depth=30, max_features=log2, min_samples_leaf=5, min_samples_split=2, n_estimators=1109; total time=   1.7s\n",
      "[CV] END max_depth=5, max_features=log2, min_samples_leaf=1, min_samples_split=5, n_estimators=927; total time=   1.5s\n",
      "[CV] END max_depth=5, max_features=log2, min_samples_leaf=1, min_samples_split=5, n_estimators=927; total time=   1.4s\n",
      "[CV] END max_depth=5, max_features=log2, min_samples_leaf=1, min_samples_split=5, n_estimators=927; total time=   1.4s\n",
      "[CV] END max_depth=5, max_features=log2, min_samples_leaf=1, min_samples_split=5, n_estimators=927; total time=   1.4s\n",
      "[CV] END max_depth=5, max_features=log2, min_samples_leaf=1, min_samples_split=5, n_estimators=927; total time=   1.4s\n",
      "[CV] END max_depth=25, max_features=auto, min_samples_leaf=9, min_samples_split=100, n_estimators=381; total time=   0.6s\n",
      "[CV] END max_depth=25, max_features=auto, min_samples_leaf=9, min_samples_split=100, n_estimators=381; total time=   0.6s\n",
      "[CV] END max_depth=25, max_features=auto, min_samples_leaf=9, min_samples_split=100, n_estimators=381; total time=   0.6s\n",
      "[CV] END max_depth=25, max_features=auto, min_samples_leaf=9, min_samples_split=100, n_estimators=381; total time=   0.6s\n",
      "[CV] END max_depth=25, max_features=auto, min_samples_leaf=9, min_samples_split=100, n_estimators=381; total time=   0.6s\n",
      "[CV] END max_depth=25, max_features=auto, min_samples_leaf=6, min_samples_split=2, n_estimators=745; total time=   1.2s\n",
      "[CV] END max_depth=25, max_features=auto, min_samples_leaf=6, min_samples_split=2, n_estimators=745; total time=   1.2s\n",
      "[CV] END max_depth=25, max_features=auto, min_samples_leaf=6, min_samples_split=2, n_estimators=745; total time=   1.2s\n",
      "[CV] END max_depth=25, max_features=auto, min_samples_leaf=6, min_samples_split=2, n_estimators=745; total time=   1.2s\n",
      "[CV] END max_depth=25, max_features=auto, min_samples_leaf=6, min_samples_split=2, n_estimators=745; total time=   1.2s\n",
      "[CV] END max_depth=25, max_features=auto, min_samples_leaf=5, min_samples_split=10, n_estimators=836; total time=   1.4s\n",
      "[CV] END max_depth=25, max_features=auto, min_samples_leaf=5, min_samples_split=10, n_estimators=836; total time=   1.4s\n",
      "[CV] END max_depth=25, max_features=auto, min_samples_leaf=5, min_samples_split=10, n_estimators=836; total time=   1.3s\n",
      "[CV] END max_depth=25, max_features=auto, min_samples_leaf=5, min_samples_split=10, n_estimators=836; total time=   1.4s\n",
      "[CV] END max_depth=25, max_features=auto, min_samples_leaf=5, min_samples_split=10, n_estimators=836; total time=   1.4s\n",
      "[CV] END max_depth=15, max_features=log2, min_samples_leaf=10, min_samples_split=100, n_estimators=563; total time=   0.8s\n",
      "[CV] END max_depth=15, max_features=log2, min_samples_leaf=10, min_samples_split=100, n_estimators=563; total time=   0.8s\n",
      "[CV] END max_depth=15, max_features=log2, min_samples_leaf=10, min_samples_split=100, n_estimators=563; total time=   0.8s\n",
      "[CV] END max_depth=15, max_features=log2, min_samples_leaf=10, min_samples_split=100, n_estimators=563; total time=   0.9s\n",
      "[CV] END max_depth=15, max_features=log2, min_samples_leaf=10, min_samples_split=100, n_estimators=563; total time=   0.8s\n",
      "[CV] END max_depth=15, max_features=sqrt, min_samples_leaf=5, min_samples_split=10, n_estimators=927; total time=   1.5s\n",
      "[CV] END max_depth=15, max_features=sqrt, min_samples_leaf=5, min_samples_split=10, n_estimators=927; total time=   1.6s\n",
      "[CV] END max_depth=15, max_features=sqrt, min_samples_leaf=5, min_samples_split=10, n_estimators=927; total time=   1.4s\n",
      "[CV] END max_depth=15, max_features=sqrt, min_samples_leaf=5, min_samples_split=10, n_estimators=927; total time=   1.4s\n",
      "[CV] END max_depth=15, max_features=sqrt, min_samples_leaf=5, min_samples_split=10, n_estimators=927; total time=   1.4s\n",
      "[CV] END max_depth=25, max_features=sqrt, min_samples_leaf=7, min_samples_split=10, n_estimators=1109; total time=   1.7s\n",
      "[CV] END max_depth=25, max_features=sqrt, min_samples_leaf=7, min_samples_split=10, n_estimators=1109; total time=   1.7s\n",
      "[CV] END max_depth=25, max_features=sqrt, min_samples_leaf=7, min_samples_split=10, n_estimators=1109; total time=   1.7s\n",
      "[CV] END max_depth=25, max_features=sqrt, min_samples_leaf=7, min_samples_split=10, n_estimators=1109; total time=   1.7s\n",
      "[CV] END max_depth=25, max_features=sqrt, min_samples_leaf=7, min_samples_split=10, n_estimators=1109; total time=   1.7s\n",
      "[CV] END max_depth=25, max_features=log2, min_samples_leaf=10, min_samples_split=10, n_estimators=290; total time=   0.4s\n",
      "[CV] END max_depth=25, max_features=log2, min_samples_leaf=10, min_samples_split=10, n_estimators=290; total time=   0.5s\n",
      "[CV] END max_depth=25, max_features=log2, min_samples_leaf=10, min_samples_split=10, n_estimators=290; total time=   0.4s\n",
      "[CV] END max_depth=25, max_features=log2, min_samples_leaf=10, min_samples_split=10, n_estimators=290; total time=   0.5s\n",
      "[CV] END max_depth=25, max_features=log2, min_samples_leaf=10, min_samples_split=10, n_estimators=290; total time=   0.5s\n",
      "[CV] END max_depth=5, max_features=sqrt, min_samples_leaf=1, min_samples_split=15, n_estimators=1109; total time=   1.7s\n",
      "[CV] END max_depth=5, max_features=sqrt, min_samples_leaf=1, min_samples_split=15, n_estimators=1109; total time=   1.7s\n",
      "[CV] END max_depth=5, max_features=sqrt, min_samples_leaf=1, min_samples_split=15, n_estimators=1109; total time=   1.7s\n",
      "[CV] END max_depth=5, max_features=sqrt, min_samples_leaf=1, min_samples_split=15, n_estimators=1109; total time=   1.7s\n",
      "[CV] END max_depth=5, max_features=sqrt, min_samples_leaf=1, min_samples_split=15, n_estimators=1109; total time=   1.7s\n"
     ]
    },
    {
     "data": {
      "text/plain": [
       "RandomizedSearchCV(cv=5, estimator=RandomForestRegressor(), n_jobs=1,\n",
       "                   param_distributions={'max_depth': [5, 10, 15, 20, 25, 30],\n",
       "                                        'max_features': ['auto', 'sqrt',\n",
       "                                                         'log2'],\n",
       "                                        'min_samples_leaf': [1, 2, 5, 6, 7, 9,\n",
       "                                                             10],\n",
       "                                        'min_samples_split': [2, 5, 10, 15,\n",
       "                                                              100],\n",
       "                                        'n_estimators': [200, 290, 381, 472,\n",
       "                                                         563, 654, 745, 836,\n",
       "                                                         927, 1018, 1109,\n",
       "                                                         1200]},\n",
       "                   random_state=42, scoring='neg_mean_squared_error',\n",
       "                   verbose=2)"
      ]
     },
     "execution_count": 34,
     "metadata": {},
     "output_type": "execute_result"
    }
   ],
   "source": [
    "rfr_random.fit(X_train, y_train)"
   ]
  },
  {
   "cell_type": "code",
   "execution_count": 35,
   "id": "8e5fc412",
   "metadata": {
    "execution": {
     "iopub.execute_input": "2022-03-19T04:33:20.596081Z",
     "iopub.status.busy": "2022-03-19T04:33:20.589170Z",
     "iopub.status.idle": "2022-03-19T04:33:20.678082Z",
     "shell.execute_reply": "2022-03-19T04:33:20.677467Z",
     "shell.execute_reply.started": "2022-03-19T04:31:02.877263Z"
    },
    "papermill": {
     "duration": 0.174097,
     "end_time": "2022-03-19T04:33:20.678221",
     "exception": false,
     "start_time": "2022-03-19T04:33:20.504124",
     "status": "completed"
    },
    "tags": []
   },
   "outputs": [],
   "source": [
    "predictions = rfr_random.predict(X_test)"
   ]
  },
  {
   "cell_type": "code",
   "execution_count": 36,
   "id": "4a1f32a6",
   "metadata": {
    "execution": {
     "iopub.execute_input": "2022-03-19T04:33:20.883170Z",
     "iopub.status.busy": "2022-03-19T04:33:20.880590Z",
     "iopub.status.idle": "2022-03-19T04:33:21.224586Z",
     "shell.execute_reply": "2022-03-19T04:33:21.225066Z",
     "shell.execute_reply.started": "2022-03-19T04:31:02.961349Z"
    },
    "papermill": {
     "duration": 0.466568,
     "end_time": "2022-03-19T04:33:21.225234",
     "exception": false,
     "start_time": "2022-03-19T04:33:20.758666",
     "status": "completed"
    },
    "tags": []
   },
   "outputs": [
    {
     "data": {
      "text/plain": [
       "<seaborn.axisgrid.FacetGrid at 0x7fb5bff8bc10>"
      ]
     },
     "execution_count": 36,
     "metadata": {},
     "output_type": "execute_result"
    },
    {
     "data": {
      "image/png": "[encoded data removed]",
      "text/plain": [
       "<Figure size 360x360 with 1 Axes>"
      ]
     },
     "metadata": {
      "needs_background": "light"
     },
     "output_type": "display_data"
    }
   ],
   "source": [
    "sns.displot(y_test - predictions)"
   ]
  },
  {
   "cell_type": "code",
   "execution_count": 37,
   "id": "468888da",
   "metadata": {
    "execution": {
     "iopub.execute_input": "2022-03-19T04:33:21.391905Z",
     "iopub.status.busy": "2022-03-19T04:33:21.391214Z",
     "iopub.status.idle": "2022-03-19T04:33:21.404584Z",
     "shell.execute_reply": "2022-03-19T04:33:21.404066Z",
     "shell.execute_reply.started": "2022-03-19T04:31:03.290212Z"
    },
    "papermill": {
     "duration": 0.098956,
     "end_time": "2022-03-19T04:33:21.404728",
     "exception": false,
     "start_time": "2022-03-19T04:33:21.305772",
     "status": "completed"
    },
    "tags": []
   },
   "outputs": [
    {
     "data": {
      "text/html": [
       "<div>\n",
       "<style scoped>\n",
       "    .dataframe tbody tr th:only-of-type {\n",
       "        vertical-align: middle;\n",
       "    }\n",
       "\n",
       "    .dataframe tbody tr th {\n",
       "        vertical-align: top;\n",
       "    }\n",
       "\n",
       "    .dataframe thead th {\n",
       "        text-align: right;\n",
       "    }\n",
       "</style>\n",
       "<table border=\"1\" class=\"dataframe\">\n",
       "  <thead>\n",
       "    <tr style=\"text-align: right;\">\n",
       "      <th></th>\n",
       "      <th>Actual</th>\n",
       "      <th>Predicted</th>\n",
       "    </tr>\n",
       "  </thead>\n",
       "  <tbody>\n",
       "    <tr>\n",
       "      <th>177</th>\n",
       "      <td>0.35</td>\n",
       "      <td>0.649514</td>\n",
       "    </tr>\n",
       "    <tr>\n",
       "      <th>289</th>\n",
       "      <td>10.11</td>\n",
       "      <td>8.648313</td>\n",
       "    </tr>\n",
       "    <tr>\n",
       "      <th>228</th>\n",
       "      <td>4.95</td>\n",
       "      <td>5.474174</td>\n",
       "    </tr>\n",
       "    <tr>\n",
       "      <th>198</th>\n",
       "      <td>0.15</td>\n",
       "      <td>0.476197</td>\n",
       "    </tr>\n",
       "    <tr>\n",
       "      <th>60</th>\n",
       "      <td>6.95</td>\n",
       "      <td>6.422435</td>\n",
       "    </tr>\n",
       "    <tr>\n",
       "      <th>...</th>\n",
       "      <td>...</td>\n",
       "      <td>...</td>\n",
       "    </tr>\n",
       "    <tr>\n",
       "      <th>22</th>\n",
       "      <td>4.40</td>\n",
       "      <td>3.972025</td>\n",
       "    </tr>\n",
       "    <tr>\n",
       "      <th>286</th>\n",
       "      <td>5.65</td>\n",
       "      <td>5.563708</td>\n",
       "    </tr>\n",
       "    <tr>\n",
       "      <th>56</th>\n",
       "      <td>4.50</td>\n",
       "      <td>5.025241</td>\n",
       "    </tr>\n",
       "    <tr>\n",
       "      <th>239</th>\n",
       "      <td>2.00</td>\n",
       "      <td>3.306915</td>\n",
       "    </tr>\n",
       "    <tr>\n",
       "      <th>113</th>\n",
       "      <td>1.15</td>\n",
       "      <td>0.944503</td>\n",
       "    </tr>\n",
       "  </tbody>\n",
       "</table>\n",
       "<p>76 rows × 2 columns</p>\n",
       "</div>"
      ],
      "text/plain": [
       "     Actual  Predicted\n",
       "177    0.35   0.649514\n",
       "289   10.11   8.648313\n",
       "228    4.95   5.474174\n",
       "198    0.15   0.476197\n",
       "60     6.95   6.422435\n",
       "..      ...        ...\n",
       "22     4.40   3.972025\n",
       "286    5.65   5.563708\n",
       "56     4.50   5.025241\n",
       "239    2.00   3.306915\n",
       "113    1.15   0.944503\n",
       "\n",
       "[76 rows x 2 columns]"
      ]
     },
     "execution_count": 37,
     "metadata": {},
     "output_type": "execute_result"
    }
   ],
   "source": [
    "pd.DataFrame({'Actual' : y_test, 'Predicted' : predictions})"
   ]
  },
  {
   "cell_type": "code",
   "execution_count": 38,
   "id": "a3ca8d68",
   "metadata": {
    "execution": {
     "iopub.execute_input": "2022-03-19T04:33:21.574446Z",
     "iopub.status.busy": "2022-03-19T04:33:21.573475Z",
     "iopub.status.idle": "2022-03-19T04:33:21.576304Z",
     "shell.execute_reply": "2022-03-19T04:33:21.575832Z",
     "shell.execute_reply.started": "2022-03-19T04:31:03.304249Z"
    },
    "papermill": {
     "duration": 0.089998,
     "end_time": "2022-03-19T04:33:21.576470",
     "exception": false,
     "start_time": "2022-03-19T04:33:21.486472",
     "status": "completed"
    },
    "tags": []
   },
   "outputs": [],
   "source": [
    "from sklearn.metrics import r2_score"
   ]
  },
  {
   "cell_type": "code",
   "execution_count": 39,
   "id": "54cf9b33",
   "metadata": {
    "execution": {
     "iopub.execute_input": "2022-03-19T04:33:21.744569Z",
     "iopub.status.busy": "2022-03-19T04:33:21.742356Z",
     "iopub.status.idle": "2022-03-19T04:33:21.748205Z",
     "shell.execute_reply": "2022-03-19T04:33:21.748722Z",
     "shell.execute_reply.started": "2022-03-19T04:31:03.313753Z"
    },
    "papermill": {
     "duration": 0.091462,
     "end_time": "2022-03-19T04:33:21.748894",
     "exception": false,
     "start_time": "2022-03-19T04:33:21.657432",
     "status": "completed"
    },
    "tags": []
   },
   "outputs": [
    {
     "name": "stdout",
     "output_type": "stream",
     "text": [
      "0.9347630804274097\n"
     ]
    }
   ],
   "source": [
    "r2 = r2_score(y_test, predictions)\n",
    "print(r2)"
   ]
  },
  {
   "cell_type": "code",
   "execution_count": null,
   "id": "ce407612",
   "metadata": {
    "papermill": {
     "duration": 0.080781,
     "end_time": "2022-03-19T04:33:21.910562",
     "exception": false,
     "start_time": "2022-03-19T04:33:21.829781",
     "status": "completed"
    },
    "tags": []
   },
   "outputs": [],
   "source": []
  }
 ],
 "metadata": {
  "kernelspec": {
   "display_name": "Python 3 (ipykernel)",
   "language": "python",
   "name": "python3"
  },
  "language_info": {
   "codemirror_mode": {
    "name": "ipython",
    "version": 3
   },
   "file_extension": ".py",
   "mimetype": "text/x-python",
   "name": "python",
   "nbconvert_exporter": "python",
   "pygments_lexer": "ipython3",
   "version": "3.9.7"
  },
  "papermill": {
   "default_parameters": {},
   "duration": 99.996701,
   "end_time": "2022-03-19T04:33:23.003740",
   "environment_variables": {},
   "exception": null,
   "input_path": "__notebook__.ipynb",
   "output_path": "__notebook__.ipynb",
   "parameters": {},
   "start_time": "2022-03-19T04:31:43.007039",
   "version": "2.3.3"
  }
 },
 "nbformat": 4,
 "nbformat_minor": 5
}
