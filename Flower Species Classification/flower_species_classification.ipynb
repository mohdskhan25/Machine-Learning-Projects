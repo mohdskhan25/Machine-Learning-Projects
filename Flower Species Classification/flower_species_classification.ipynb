{
 "cells": [
  {
   "cell_type": "code",
   "execution_count": 1,
   "id": "5e758fb5",
   "metadata": {
    "_cell_guid": "b1076dfc-b9ad-4769-8c92-a6c4dae69d19",
    "_uuid": "8f2839f25d086af736a60e9eeb907d3b93b6e0e5",
    "execution": {
     "iopub.execute_input": "2022-03-23T04:01:19.275458Z",
     "iopub.status.busy": "2022-03-23T04:01:19.274147Z",
     "iopub.status.idle": "2022-03-23T04:01:20.466504Z",
     "shell.execute_reply": "2022-03-23T04:01:20.467444Z",
     "shell.execute_reply.started": "2022-03-23T03:40:59.700456Z"
    },
    "papermill": {
     "duration": 1.224861,
     "end_time": "2022-03-23T04:01:20.467892",
     "exception": false,
     "start_time": "2022-03-23T04:01:19.243031",
     "status": "completed"
    },
    "tags": []
   },
   "outputs": [],
   "source": [
    "import numpy as np # linear algebra\n",
    "import pandas as pd # data processing, CSV file I/O (e.g. pd.read_csv)\n",
    "import seaborn as sns\n"
   ]
  },
  {
   "cell_type": "code",
   "execution_count": 2,
   "id": "576869c2",
   "metadata": {
    "execution": {
     "iopub.execute_input": "2022-03-23T04:01:20.521731Z",
     "iopub.status.busy": "2022-03-23T04:01:20.520991Z",
     "iopub.status.idle": "2022-03-23T04:01:21.200896Z",
     "shell.execute_reply": "2022-03-23T04:01:21.201441Z",
     "shell.execute_reply.started": "2022-03-23T03:41:33.541372Z"
    },
    "papermill": {
     "duration": 0.708267,
     "end_time": "2022-03-23T04:01:21.201635",
     "exception": false,
     "start_time": "2022-03-23T04:01:20.493368",
     "status": "completed"
    },
    "tags": []
   },
   "outputs": [
    {
     "data": {
      "text/plain": [
       "['anagrams',\n",
       " 'anscombe',\n",
       " 'attention',\n",
       " 'brain_networks',\n",
       " 'car_crashes',\n",
       " 'diamonds',\n",
       " 'dots',\n",
       " 'exercise',\n",
       " 'flights',\n",
       " 'fmri',\n",
       " 'gammas',\n",
       " 'geyser',\n",
       " 'iris',\n",
       " 'mpg',\n",
       " 'penguins',\n",
       " 'planets',\n",
       " 'taxis',\n",
       " 'tips',\n",
       " 'titanic']"
      ]
     },
     "execution_count": 2,
     "metadata": {},
     "output_type": "execute_result"
    }
   ],
   "source": [
    "## Get the name of datasets present in Seaborn library\n",
    "\n",
    "sns.get_dataset_names()"
   ]
  },
  {
   "cell_type": "code",
   "execution_count": 3,
   "id": "9c8efb43",
   "metadata": {
    "execution": {
     "iopub.execute_input": "2022-03-23T04:01:21.256651Z",
     "iopub.status.busy": "2022-03-23T04:01:21.255602Z",
     "iopub.status.idle": "2022-03-23T04:01:21.856307Z",
     "shell.execute_reply": "2022-03-23T04:01:21.855463Z",
     "shell.execute_reply.started": "2022-03-23T03:42:10.781890Z"
    },
    "papermill": {
     "duration": 0.629321,
     "end_time": "2022-03-23T04:01:21.856475",
     "exception": false,
     "start_time": "2022-03-23T04:01:21.227154",
     "status": "completed"
    },
    "tags": []
   },
   "outputs": [],
   "source": [
    "## we'll load the iris dataset\n",
    "\n",
    "df = sns.load_dataset('iris')"
   ]
  },
  {
   "cell_type": "code",
   "execution_count": 4,
   "id": "d09e3522",
   "metadata": {
    "execution": {
     "iopub.execute_input": "2022-03-23T04:01:21.913598Z",
     "iopub.status.busy": "2022-03-23T04:01:21.912524Z",
     "iopub.status.idle": "2022-03-23T04:01:21.933336Z",
     "shell.execute_reply": "2022-03-23T04:01:21.933879Z",
     "shell.execute_reply.started": "2022-03-23T03:42:15.158297Z"
    },
    "papermill": {
     "duration": 0.050538,
     "end_time": "2022-03-23T04:01:21.934062",
     "exception": false,
     "start_time": "2022-03-23T04:01:21.883524",
     "status": "completed"
    },
    "tags": []
   },
   "outputs": [
    {
     "data": {
      "text/html": [
       "<div>\n",
       "<style scoped>\n",
       "    .dataframe tbody tr th:only-of-type {\n",
       "        vertical-align: middle;\n",
       "    }\n",
       "\n",
       "    .dataframe tbody tr th {\n",
       "        vertical-align: top;\n",
       "    }\n",
       "\n",
       "    .dataframe thead th {\n",
       "        text-align: right;\n",
       "    }\n",
       "</style>\n",
       "<table border=\"1\" class=\"dataframe\">\n",
       "  <thead>\n",
       "    <tr style=\"text-align: right;\">\n",
       "      <th></th>\n",
       "      <th>sepal_length</th>\n",
       "      <th>sepal_width</th>\n",
       "      <th>petal_length</th>\n",
       "      <th>petal_width</th>\n",
       "      <th>species</th>\n",
       "    </tr>\n",
       "  </thead>\n",
       "  <tbody>\n",
       "    <tr>\n",
       "      <th>0</th>\n",
       "      <td>5.1</td>\n",
       "      <td>3.5</td>\n",
       "      <td>1.4</td>\n",
       "      <td>0.2</td>\n",
       "      <td>setosa</td>\n",
       "    </tr>\n",
       "    <tr>\n",
       "      <th>1</th>\n",
       "      <td>4.9</td>\n",
       "      <td>3.0</td>\n",
       "      <td>1.4</td>\n",
       "      <td>0.2</td>\n",
       "      <td>setosa</td>\n",
       "    </tr>\n",
       "    <tr>\n",
       "      <th>2</th>\n",
       "      <td>4.7</td>\n",
       "      <td>3.2</td>\n",
       "      <td>1.3</td>\n",
       "      <td>0.2</td>\n",
       "      <td>setosa</td>\n",
       "    </tr>\n",
       "    <tr>\n",
       "      <th>3</th>\n",
       "      <td>4.6</td>\n",
       "      <td>3.1</td>\n",
       "      <td>1.5</td>\n",
       "      <td>0.2</td>\n",
       "      <td>setosa</td>\n",
       "    </tr>\n",
       "    <tr>\n",
       "      <th>4</th>\n",
       "      <td>5.0</td>\n",
       "      <td>3.6</td>\n",
       "      <td>1.4</td>\n",
       "      <td>0.2</td>\n",
       "      <td>setosa</td>\n",
       "    </tr>\n",
       "  </tbody>\n",
       "</table>\n",
       "</div>"
      ],
      "text/plain": [
       "   sepal_length  sepal_width  petal_length  petal_width species\n",
       "0           5.1          3.5           1.4          0.2  setosa\n",
       "1           4.9          3.0           1.4          0.2  setosa\n",
       "2           4.7          3.2           1.3          0.2  setosa\n",
       "3           4.6          3.1           1.5          0.2  setosa\n",
       "4           5.0          3.6           1.4          0.2  setosa"
      ]
     },
     "execution_count": 4,
     "metadata": {},
     "output_type": "execute_result"
    }
   ],
   "source": [
    "df.head()"
   ]
  },
  {
   "cell_type": "code",
   "execution_count": 5,
   "id": "ce401a4c",
   "metadata": {
    "execution": {
     "iopub.execute_input": "2022-03-23T04:01:21.989736Z",
     "iopub.status.busy": "2022-03-23T04:01:21.988719Z",
     "iopub.status.idle": "2022-03-23T04:01:21.994169Z",
     "shell.execute_reply": "2022-03-23T04:01:21.994814Z",
     "shell.execute_reply.started": "2022-03-23T03:42:25.293241Z"
    },
    "papermill": {
     "duration": 0.034775,
     "end_time": "2022-03-23T04:01:21.994992",
     "exception": false,
     "start_time": "2022-03-23T04:01:21.960217",
     "status": "completed"
    },
    "tags": []
   },
   "outputs": [
    {
     "data": {
      "text/plain": [
       "(150, 5)"
      ]
     },
     "execution_count": 5,
     "metadata": {},
     "output_type": "execute_result"
    }
   ],
   "source": [
    "df.shape"
   ]
  },
  {
   "cell_type": "code",
   "execution_count": 6,
   "id": "fd6b2d83",
   "metadata": {
    "execution": {
     "iopub.execute_input": "2022-03-23T04:01:22.051312Z",
     "iopub.status.busy": "2022-03-23T04:01:22.050342Z",
     "iopub.status.idle": "2022-03-23T04:01:22.064722Z",
     "shell.execute_reply": "2022-03-23T04:01:22.065235Z",
     "shell.execute_reply.started": "2022-03-23T03:43:44.178341Z"
    },
    "papermill": {
     "duration": 0.044643,
     "end_time": "2022-03-23T04:01:22.065423",
     "exception": false,
     "start_time": "2022-03-23T04:01:22.020780",
     "status": "completed"
    },
    "tags": []
   },
   "outputs": [
    {
     "data": {
      "text/plain": [
       "setosa        50\n",
       "versicolor    50\n",
       "virginica     50\n",
       "Name: species, dtype: int64"
      ]
     },
     "execution_count": 6,
     "metadata": {},
     "output_type": "execute_result"
    }
   ],
   "source": [
    "## count the species present in the species column\n",
    "df.species.value_counts()"
   ]
  },
  {
   "cell_type": "code",
   "execution_count": 7,
   "id": "7050c501",
   "metadata": {
    "execution": {
     "iopub.execute_input": "2022-03-23T04:01:22.121796Z",
     "iopub.status.busy": "2022-03-23T04:01:22.120741Z",
     "iopub.status.idle": "2022-03-23T04:01:22.420375Z",
     "shell.execute_reply": "2022-03-23T04:01:22.419736Z",
     "shell.execute_reply.started": "2022-03-23T03:46:38.600748Z"
    },
    "papermill": {
     "duration": 0.328864,
     "end_time": "2022-03-23T04:01:22.420547",
     "exception": false,
     "start_time": "2022-03-23T04:01:22.091683",
     "status": "completed"
    },
    "tags": []
   },
   "outputs": [
    {
     "data": {
      "text/plain": [
       "Text(0, 0.5, 'sepal_legth')"
      ]
     },
     "execution_count": 7,
     "metadata": {},
     "output_type": "execute_result"
    },
    {
     "data": {
      "image/png": "[encoded data removed]",
      "text/plain": [
       "<Figure size 1080x720 with 1 Axes>"
      ]
     },
     "metadata": {
      "needs_background": "light"
     },
     "output_type": "display_data"
    }
   ],
   "source": [
    "## scatter plot of species_length and species_width\n",
    "import matplotlib.pyplot as plt\n",
    "\n",
    "plt.figure(figsize = (15,10))\n",
    "plt.scatter(df['sepal_length'], df['sepal_width'])\n",
    "plt.xlabel('sepal_width')\n",
    "plt.ylabel('sepal_legth')"
   ]
  },
  {
   "cell_type": "code",
   "execution_count": 8,
   "id": "9f233d98",
   "metadata": {
    "execution": {
     "iopub.execute_input": "2022-03-23T04:01:22.489609Z",
     "iopub.status.busy": "2022-03-23T04:01:22.484708Z",
     "iopub.status.idle": "2022-03-23T04:01:22.729219Z",
     "shell.execute_reply": "2022-03-23T04:01:22.729725Z",
     "shell.execute_reply.started": "2022-03-23T03:48:32.688105Z"
    },
    "papermill": {
     "duration": 0.280736,
     "end_time": "2022-03-23T04:01:22.729945",
     "exception": false,
     "start_time": "2022-03-23T04:01:22.449209",
     "status": "completed"
    },
    "tags": []
   },
   "outputs": [
    {
     "data": {
      "text/plain": [
       "Text(0, 0.5, 'petal_length')"
      ]
     },
     "execution_count": 8,
     "metadata": {},
     "output_type": "execute_result"
    },
    {
     "data": {
      "image/png": "[encoded data removed]",
      "text/plain": [
       "<Figure size 1080x720 with 1 Axes>"
      ]
     },
     "metadata": {
      "needs_background": "light"
     },
     "output_type": "display_data"
    }
   ],
   "source": [
    "## scatter plot of petal_length and petal width\n",
    "\n",
    "plt.figure(figsize = (15,10))\n",
    "plt.scatter(df['petal_length'], df['petal_width'])\n",
    "plt.xlabel('petal_width')\n",
    "plt.ylabel('petal_length')"
   ]
  },
  {
   "cell_type": "code",
   "execution_count": 9,
   "id": "870810f3",
   "metadata": {
    "execution": {
     "iopub.execute_input": "2022-03-23T04:01:22.813225Z",
     "iopub.status.busy": "2022-03-23T04:01:22.812432Z",
     "iopub.status.idle": "2022-03-23T04:01:22.816933Z",
     "shell.execute_reply": "2022-03-23T04:01:22.816303Z",
     "shell.execute_reply.started": "2022-03-23T03:49:05.516049Z"
    },
    "papermill": {
     "duration": 0.050448,
     "end_time": "2022-03-23T04:01:22.817121",
     "exception": false,
     "start_time": "2022-03-23T04:01:22.766673",
     "status": "completed"
    },
    "tags": []
   },
   "outputs": [
    {
     "data": {
      "text/plain": [
       "sepal_length    0\n",
       "sepal_width     0\n",
       "petal_length    0\n",
       "petal_width     0\n",
       "species         0\n",
       "dtype: int64"
      ]
     },
     "execution_count": 9,
     "metadata": {},
     "output_type": "execute_result"
    }
   ],
   "source": [
    "## Now we'll check for null values\n",
    "\n",
    "df.isnull().sum()"
   ]
  },
  {
   "cell_type": "code",
   "execution_count": 10,
   "id": "210c7e2a",
   "metadata": {
    "execution": {
     "iopub.execute_input": "2022-03-23T04:01:22.885071Z",
     "iopub.status.busy": "2022-03-23T04:01:22.884314Z",
     "iopub.status.idle": "2022-03-23T04:01:22.888642Z",
     "shell.execute_reply": "2022-03-23T04:01:22.889328Z",
     "shell.execute_reply.started": "2022-03-23T03:50:33.978681Z"
    },
    "papermill": {
     "duration": 0.039507,
     "end_time": "2022-03-23T04:01:22.889532",
     "exception": false,
     "start_time": "2022-03-23T04:01:22.850025",
     "status": "completed"
    },
    "tags": []
   },
   "outputs": [],
   "source": [
    "## convert species into label encoding\n",
    "\n",
    "def species(f):\n",
    "    if f == 'setosa':\n",
    "        f = 0\n",
    "    elif f == 'versicolor':\n",
    "        f = 1\n",
    "    elif f == 'virginica':\n",
    "        f = 2\n",
    "    return f"
   ]
  },
  {
   "cell_type": "code",
   "execution_count": 11,
   "id": "1456c1ab",
   "metadata": {
    "execution": {
     "iopub.execute_input": "2022-03-23T04:01:22.953005Z",
     "iopub.status.busy": "2022-03-23T04:01:22.952242Z",
     "iopub.status.idle": "2022-03-23T04:01:22.956842Z",
     "shell.execute_reply": "2022-03-23T04:01:22.957463Z",
     "shell.execute_reply.started": "2022-03-23T03:50:58.092353Z"
    },
    "papermill": {
     "duration": 0.038369,
     "end_time": "2022-03-23T04:01:22.957655",
     "exception": false,
     "start_time": "2022-03-23T04:01:22.919286",
     "status": "completed"
    },
    "tags": []
   },
   "outputs": [],
   "source": [
    "df['species'] = df.species.map(species)"
   ]
  },
  {
   "cell_type": "code",
   "execution_count": 12,
   "id": "f62fd5a1",
   "metadata": {
    "execution": {
     "iopub.execute_input": "2022-03-23T04:01:23.021827Z",
     "iopub.status.busy": "2022-03-23T04:01:23.021020Z",
     "iopub.status.idle": "2022-03-23T04:01:23.035065Z",
     "shell.execute_reply": "2022-03-23T04:01:23.034379Z",
     "shell.execute_reply.started": "2022-03-23T03:51:02.280891Z"
    },
    "papermill": {
     "duration": 0.047533,
     "end_time": "2022-03-23T04:01:23.035220",
     "exception": false,
     "start_time": "2022-03-23T04:01:22.987687",
     "status": "completed"
    },
    "tags": []
   },
   "outputs": [
    {
     "data": {
      "text/html": [
       "<div>\n",
       "<style scoped>\n",
       "    .dataframe tbody tr th:only-of-type {\n",
       "        vertical-align: middle;\n",
       "    }\n",
       "\n",
       "    .dataframe tbody tr th {\n",
       "        vertical-align: top;\n",
       "    }\n",
       "\n",
       "    .dataframe thead th {\n",
       "        text-align: right;\n",
       "    }\n",
       "</style>\n",
       "<table border=\"1\" class=\"dataframe\">\n",
       "  <thead>\n",
       "    <tr style=\"text-align: right;\">\n",
       "      <th></th>\n",
       "      <th>sepal_length</th>\n",
       "      <th>sepal_width</th>\n",
       "      <th>petal_length</th>\n",
       "      <th>petal_width</th>\n",
       "      <th>species</th>\n",
       "    </tr>\n",
       "  </thead>\n",
       "  <tbody>\n",
       "    <tr>\n",
       "      <th>0</th>\n",
       "      <td>5.1</td>\n",
       "      <td>3.5</td>\n",
       "      <td>1.4</td>\n",
       "      <td>0.2</td>\n",
       "      <td>0</td>\n",
       "    </tr>\n",
       "    <tr>\n",
       "      <th>1</th>\n",
       "      <td>4.9</td>\n",
       "      <td>3.0</td>\n",
       "      <td>1.4</td>\n",
       "      <td>0.2</td>\n",
       "      <td>0</td>\n",
       "    </tr>\n",
       "    <tr>\n",
       "      <th>2</th>\n",
       "      <td>4.7</td>\n",
       "      <td>3.2</td>\n",
       "      <td>1.3</td>\n",
       "      <td>0.2</td>\n",
       "      <td>0</td>\n",
       "    </tr>\n",
       "    <tr>\n",
       "      <th>3</th>\n",
       "      <td>4.6</td>\n",
       "      <td>3.1</td>\n",
       "      <td>1.5</td>\n",
       "      <td>0.2</td>\n",
       "      <td>0</td>\n",
       "    </tr>\n",
       "    <tr>\n",
       "      <th>4</th>\n",
       "      <td>5.0</td>\n",
       "      <td>3.6</td>\n",
       "      <td>1.4</td>\n",
       "      <td>0.2</td>\n",
       "      <td>0</td>\n",
       "    </tr>\n",
       "  </tbody>\n",
       "</table>\n",
       "</div>"
      ],
      "text/plain": [
       "   sepal_length  sepal_width  petal_length  petal_width  species\n",
       "0           5.1          3.5           1.4          0.2        0\n",
       "1           4.9          3.0           1.4          0.2        0\n",
       "2           4.7          3.2           1.3          0.2        0\n",
       "3           4.6          3.1           1.5          0.2        0\n",
       "4           5.0          3.6           1.4          0.2        0"
      ]
     },
     "execution_count": 12,
     "metadata": {},
     "output_type": "execute_result"
    }
   ],
   "source": [
    "df.head()"
   ]
  },
  {
   "cell_type": "code",
   "execution_count": 13,
   "id": "20dabc47",
   "metadata": {
    "execution": {
     "iopub.execute_input": "2022-03-23T04:01:23.105056Z",
     "iopub.status.busy": "2022-03-23T04:01:23.104339Z",
     "iopub.status.idle": "2022-03-23T04:01:23.732491Z",
     "shell.execute_reply": "2022-03-23T04:01:23.731784Z",
     "shell.execute_reply.started": "2022-03-23T03:52:53.928901Z"
    },
    "papermill": {
     "duration": 0.666109,
     "end_time": "2022-03-23T04:01:23.732698",
     "exception": false,
     "start_time": "2022-03-23T04:01:23.066589",
     "status": "completed"
    },
    "tags": []
   },
   "outputs": [
    {
     "name": "stderr",
     "output_type": "stream",
     "text": [
      "/opt/conda/lib/python3.7/site-packages/seaborn/_decorators.py:43: FutureWarning: Pass the following variable as a keyword arg: x. From version 0.12, the only valid positional argument will be `data`, and passing other arguments without an explicit keyword will result in an error or misinterpretation.\n",
      "  FutureWarning\n",
      "/opt/conda/lib/python3.7/site-packages/seaborn/_decorators.py:43: FutureWarning: Pass the following variable as a keyword arg: x. From version 0.12, the only valid positional argument will be `data`, and passing other arguments without an explicit keyword will result in an error or misinterpretation.\n",
      "  FutureWarning\n",
      "/opt/conda/lib/python3.7/site-packages/seaborn/_decorators.py:43: FutureWarning: Pass the following variable as a keyword arg: x. From version 0.12, the only valid positional argument will be `data`, and passing other arguments without an explicit keyword will result in an error or misinterpretation.\n",
      "  FutureWarning\n",
      "/opt/conda/lib/python3.7/site-packages/seaborn/_decorators.py:43: FutureWarning: Pass the following variable as a keyword arg: x. From version 0.12, the only valid positional argument will be `data`, and passing other arguments without an explicit keyword will result in an error or misinterpretation.\n",
      "  FutureWarning\n"
     ]
    },
    {
     "data": {
      "image/png": "[encoded data removed]",
      "text/plain": [
       "<Figure size 720x360 with 1 Axes>"
      ]
     },
     "metadata": {
      "needs_background": "light"
     },
     "output_type": "display_data"
    },
    {
     "data": {
      "image/png": "[encoded data removed]",
      "text/plain": [
       "<Figure size 720x360 with 1 Axes>"
      ]
     },
     "metadata": {
      "needs_background": "light"
     },
     "output_type": "display_data"
    },
    {
     "data": {
      "image/png": "[encoded data removed]",
      "text/plain": [
       "<Figure size 720x360 with 1 Axes>"
      ]
     },
     "metadata": {
      "needs_background": "light"
     },
     "output_type": "display_data"
    },
    {
     "data": {
      "image/png": "[encoded data removed]",
      "text/plain": [
       "<Figure size 720x360 with 1 Axes>"
      ]
     },
     "metadata": {
      "needs_background": "light"
     },
     "output_type": "display_data"
    }
   ],
   "source": [
    "## boxplot \n",
    "\n",
    "for f in ['sepal_length', 'sepal_width', 'petal_length', 'petal_width']:\n",
    "    plt.figure(figsize = (10,5))\n",
    "    sns.boxplot(df[f])\n",
    "    plt.title(f)"
   ]
  },
  {
   "cell_type": "code",
   "execution_count": 14,
   "id": "72085d07",
   "metadata": {
    "execution": {
     "iopub.execute_input": "2022-03-23T04:01:23.813311Z",
     "iopub.status.busy": "2022-03-23T04:01:23.812532Z",
     "iopub.status.idle": "2022-03-23T04:01:23.815132Z",
     "shell.execute_reply": "2022-03-23T04:01:23.815690Z",
     "shell.execute_reply.started": "2022-03-23T03:53:59.478961Z"
    },
    "papermill": {
     "duration": 0.047369,
     "end_time": "2022-03-23T04:01:23.815902",
     "exception": false,
     "start_time": "2022-03-23T04:01:23.768533",
     "status": "completed"
    },
    "tags": []
   },
   "outputs": [],
   "source": [
    "## dependent and independent features\n",
    "\n",
    "X = df.iloc[:, :-1].values\n",
    "y = df.iloc[:, -1].values"
   ]
  },
  {
   "cell_type": "code",
   "execution_count": 15,
   "id": "43e0a60e",
   "metadata": {
    "execution": {
     "iopub.execute_input": "2022-03-23T04:01:23.888352Z",
     "iopub.status.busy": "2022-03-23T04:01:23.887658Z",
     "iopub.status.idle": "2022-03-23T04:01:23.902414Z",
     "shell.execute_reply": "2022-03-23T04:01:23.903067Z",
     "shell.execute_reply.started": "2022-03-23T03:54:08.748663Z"
    },
    "papermill": {
     "duration": 0.052774,
     "end_time": "2022-03-23T04:01:23.903293",
     "exception": false,
     "start_time": "2022-03-23T04:01:23.850519",
     "status": "completed"
    },
    "tags": []
   },
   "outputs": [
    {
     "data": {
      "text/plain": [
       "(array([[5.1, 3.5, 1.4, 0.2],\n",
       "        [4.9, 3. , 1.4, 0.2],\n",
       "        [4.7, 3.2, 1.3, 0.2],\n",
       "        [4.6, 3.1, 1.5, 0.2],\n",
       "        [5. , 3.6, 1.4, 0.2],\n",
       "        [5.4, 3.9, 1.7, 0.4],\n",
       "        [4.6, 3.4, 1.4, 0.3],\n",
       "        [5. , 3.4, 1.5, 0.2],\n",
       "        [4.4, 2.9, 1.4, 0.2],\n",
       "        [4.9, 3.1, 1.5, 0.1],\n",
       "        [5.4, 3.7, 1.5, 0.2],\n",
       "        [4.8, 3.4, 1.6, 0.2],\n",
       "        [4.8, 3. , 1.4, 0.1],\n",
       "        [4.3, 3. , 1.1, 0.1],\n",
       "        [5.8, 4. , 1.2, 0.2],\n",
       "        [5.7, 4.4, 1.5, 0.4],\n",
       "        [5.4, 3.9, 1.3, 0.4],\n",
       "        [5.1, 3.5, 1.4, 0.3],\n",
       "        [5.7, 3.8, 1.7, 0.3],\n",
       "        [5.1, 3.8, 1.5, 0.3],\n",
       "        [5.4, 3.4, 1.7, 0.2],\n",
       "        [5.1, 3.7, 1.5, 0.4],\n",
       "        [4.6, 3.6, 1. , 0.2],\n",
       "        [5.1, 3.3, 1.7, 0.5],\n",
       "        [4.8, 3.4, 1.9, 0.2],\n",
       "        [5. , 3. , 1.6, 0.2],\n",
       "        [5. , 3.4, 1.6, 0.4],\n",
       "        [5.2, 3.5, 1.5, 0.2],\n",
       "        [5.2, 3.4, 1.4, 0.2],\n",
       "        [4.7, 3.2, 1.6, 0.2],\n",
       "        [4.8, 3.1, 1.6, 0.2],\n",
       "        [5.4, 3.4, 1.5, 0.4],\n",
       "        [5.2, 4.1, 1.5, 0.1],\n",
       "        [5.5, 4.2, 1.4, 0.2],\n",
       "        [4.9, 3.1, 1.5, 0.2],\n",
       "        [5. , 3.2, 1.2, 0.2],\n",
       "        [5.5, 3.5, 1.3, 0.2],\n",
       "        [4.9, 3.6, 1.4, 0.1],\n",
       "        [4.4, 3. , 1.3, 0.2],\n",
       "        [5.1, 3.4, 1.5, 0.2],\n",
       "        [5. , 3.5, 1.3, 0.3],\n",
       "        [4.5, 2.3, 1.3, 0.3],\n",
       "        [4.4, 3.2, 1.3, 0.2],\n",
       "        [5. , 3.5, 1.6, 0.6],\n",
       "        [5.1, 3.8, 1.9, 0.4],\n",
       "        [4.8, 3. , 1.4, 0.3],\n",
       "        [5.1, 3.8, 1.6, 0.2],\n",
       "        [4.6, 3.2, 1.4, 0.2],\n",
       "        [5.3, 3.7, 1.5, 0.2],\n",
       "        [5. , 3.3, 1.4, 0.2],\n",
       "        [7. , 3.2, 4.7, 1.4],\n",
       "        [6.4, 3.2, 4.5, 1.5],\n",
       "        [6.9, 3.1, 4.9, 1.5],\n",
       "        [5.5, 2.3, 4. , 1.3],\n",
       "        [6.5, 2.8, 4.6, 1.5],\n",
       "        [5.7, 2.8, 4.5, 1.3],\n",
       "        [6.3, 3.3, 4.7, 1.6],\n",
       "        [4.9, 2.4, 3.3, 1. ],\n",
       "        [6.6, 2.9, 4.6, 1.3],\n",
       "        [5.2, 2.7, 3.9, 1.4],\n",
       "        [5. , 2. , 3.5, 1. ],\n",
       "        [5.9, 3. , 4.2, 1.5],\n",
       "        [6. , 2.2, 4. , 1. ],\n",
       "        [6.1, 2.9, 4.7, 1.4],\n",
       "        [5.6, 2.9, 3.6, 1.3],\n",
       "        [6.7, 3.1, 4.4, 1.4],\n",
       "        [5.6, 3. , 4.5, 1.5],\n",
       "        [5.8, 2.7, 4.1, 1. ],\n",
       "        [6.2, 2.2, 4.5, 1.5],\n",
       "        [5.6, 2.5, 3.9, 1.1],\n",
       "        [5.9, 3.2, 4.8, 1.8],\n",
       "        [6.1, 2.8, 4. , 1.3],\n",
       "        [6.3, 2.5, 4.9, 1.5],\n",
       "        [6.1, 2.8, 4.7, 1.2],\n",
       "        [6.4, 2.9, 4.3, 1.3],\n",
       "        [6.6, 3. , 4.4, 1.4],\n",
       "        [6.8, 2.8, 4.8, 1.4],\n",
       "        [6.7, 3. , 5. , 1.7],\n",
       "        [6. , 2.9, 4.5, 1.5],\n",
       "        [5.7, 2.6, 3.5, 1. ],\n",
       "        [5.5, 2.4, 3.8, 1.1],\n",
       "        [5.5, 2.4, 3.7, 1. ],\n",
       "        [5.8, 2.7, 3.9, 1.2],\n",
       "        [6. , 2.7, 5.1, 1.6],\n",
       "        [5.4, 3. , 4.5, 1.5],\n",
       "        [6. , 3.4, 4.5, 1.6],\n",
       "        [6.7, 3.1, 4.7, 1.5],\n",
       "        [6.3, 2.3, 4.4, 1.3],\n",
       "        [5.6, 3. , 4.1, 1.3],\n",
       "        [5.5, 2.5, 4. , 1.3],\n",
       "        [5.5, 2.6, 4.4, 1.2],\n",
       "        [6.1, 3. , 4.6, 1.4],\n",
       "        [5.8, 2.6, 4. , 1.2],\n",
       "        [5. , 2.3, 3.3, 1. ],\n",
       "        [5.6, 2.7, 4.2, 1.3],\n",
       "        [5.7, 3. , 4.2, 1.2],\n",
       "        [5.7, 2.9, 4.2, 1.3],\n",
       "        [6.2, 2.9, 4.3, 1.3],\n",
       "        [5.1, 2.5, 3. , 1.1],\n",
       "        [5.7, 2.8, 4.1, 1.3],\n",
       "        [6.3, 3.3, 6. , 2.5],\n",
       "        [5.8, 2.7, 5.1, 1.9],\n",
       "        [7.1, 3. , 5.9, 2.1],\n",
       "        [6.3, 2.9, 5.6, 1.8],\n",
       "        [6.5, 3. , 5.8, 2.2],\n",
       "        [7.6, 3. , 6.6, 2.1],\n",
       "        [4.9, 2.5, 4.5, 1.7],\n",
       "        [7.3, 2.9, 6.3, 1.8],\n",
       "        [6.7, 2.5, 5.8, 1.8],\n",
       "        [7.2, 3.6, 6.1, 2.5],\n",
       "        [6.5, 3.2, 5.1, 2. ],\n",
       "        [6.4, 2.7, 5.3, 1.9],\n",
       "        [6.8, 3. , 5.5, 2.1],\n",
       "        [5.7, 2.5, 5. , 2. ],\n",
       "        [5.8, 2.8, 5.1, 2.4],\n",
       "        [6.4, 3.2, 5.3, 2.3],\n",
       "        [6.5, 3. , 5.5, 1.8],\n",
       "        [7.7, 3.8, 6.7, 2.2],\n",
       "        [7.7, 2.6, 6.9, 2.3],\n",
       "        [6. , 2.2, 5. , 1.5],\n",
       "        [6.9, 3.2, 5.7, 2.3],\n",
       "        [5.6, 2.8, 4.9, 2. ],\n",
       "        [7.7, 2.8, 6.7, 2. ],\n",
       "        [6.3, 2.7, 4.9, 1.8],\n",
       "        [6.7, 3.3, 5.7, 2.1],\n",
       "        [7.2, 3.2, 6. , 1.8],\n",
       "        [6.2, 2.8, 4.8, 1.8],\n",
       "        [6.1, 3. , 4.9, 1.8],\n",
       "        [6.4, 2.8, 5.6, 2.1],\n",
       "        [7.2, 3. , 5.8, 1.6],\n",
       "        [7.4, 2.8, 6.1, 1.9],\n",
       "        [7.9, 3.8, 6.4, 2. ],\n",
       "        [6.4, 2.8, 5.6, 2.2],\n",
       "        [6.3, 2.8, 5.1, 1.5],\n",
       "        [6.1, 2.6, 5.6, 1.4],\n",
       "        [7.7, 3. , 6.1, 2.3],\n",
       "        [6.3, 3.4, 5.6, 2.4],\n",
       "        [6.4, 3.1, 5.5, 1.8],\n",
       "        [6. , 3. , 4.8, 1.8],\n",
       "        [6.9, 3.1, 5.4, 2.1],\n",
       "        [6.7, 3.1, 5.6, 2.4],\n",
       "        [6.9, 3.1, 5.1, 2.3],\n",
       "        [5.8, 2.7, 5.1, 1.9],\n",
       "        [6.8, 3.2, 5.9, 2.3],\n",
       "        [6.7, 3.3, 5.7, 2.5],\n",
       "        [6.7, 3. , 5.2, 2.3],\n",
       "        [6.3, 2.5, 5. , 1.9],\n",
       "        [6.5, 3. , 5.2, 2. ],\n",
       "        [6.2, 3.4, 5.4, 2.3],\n",
       "        [5.9, 3. , 5.1, 1.8]]),\n",
       " array([0, 0, 0, 0, 0, 0, 0, 0, 0, 0, 0, 0, 0, 0, 0, 0, 0, 0, 0, 0, 0, 0,\n",
       "        0, 0, 0, 0, 0, 0, 0, 0, 0, 0, 0, 0, 0, 0, 0, 0, 0, 0, 0, 0, 0, 0,\n",
       "        0, 0, 0, 0, 0, 0, 1, 1, 1, 1, 1, 1, 1, 1, 1, 1, 1, 1, 1, 1, 1, 1,\n",
       "        1, 1, 1, 1, 1, 1, 1, 1, 1, 1, 1, 1, 1, 1, 1, 1, 1, 1, 1, 1, 1, 1,\n",
       "        1, 1, 1, 1, 1, 1, 1, 1, 1, 1, 1, 1, 2, 2, 2, 2, 2, 2, 2, 2, 2, 2,\n",
       "        2, 2, 2, 2, 2, 2, 2, 2, 2, 2, 2, 2, 2, 2, 2, 2, 2, 2, 2, 2, 2, 2,\n",
       "        2, 2, 2, 2, 2, 2, 2, 2, 2, 2, 2, 2, 2, 2, 2, 2, 2, 2]))"
      ]
     },
     "execution_count": 15,
     "metadata": {},
     "output_type": "execute_result"
    }
   ],
   "source": [
    "X, y"
   ]
  },
  {
   "cell_type": "code",
   "execution_count": 16,
   "id": "399f2804",
   "metadata": {
    "execution": {
     "iopub.execute_input": "2022-03-23T04:01:23.976404Z",
     "iopub.status.busy": "2022-03-23T04:01:23.975547Z",
     "iopub.status.idle": "2022-03-23T04:01:24.128219Z",
     "shell.execute_reply": "2022-03-23T04:01:24.128792Z",
     "shell.execute_reply.started": "2022-03-23T03:55:12.350374Z"
    },
    "papermill": {
     "duration": 0.191173,
     "end_time": "2022-03-23T04:01:24.128992",
     "exception": false,
     "start_time": "2022-03-23T04:01:23.937819",
     "status": "completed"
    },
    "tags": []
   },
   "outputs": [],
   "source": [
    "## Scaling\n",
    "\n",
    "from sklearn.preprocessing import StandardScaler\n",
    "sc = StandardScaler()\n",
    "X = sc.fit_transform(X)"
   ]
  },
  {
   "cell_type": "code",
   "execution_count": 17,
   "id": "0b4ed1d2",
   "metadata": {
    "execution": {
     "iopub.execute_input": "2022-03-23T04:01:24.202212Z",
     "iopub.status.busy": "2022-03-23T04:01:24.201491Z",
     "iopub.status.idle": "2022-03-23T04:01:24.256452Z",
     "shell.execute_reply": "2022-03-23T04:01:24.257024Z",
     "shell.execute_reply.started": "2022-03-23T03:56:03.901329Z"
    },
    "papermill": {
     "duration": 0.092985,
     "end_time": "2022-03-23T04:01:24.257228",
     "exception": false,
     "start_time": "2022-03-23T04:01:24.164243",
     "status": "completed"
    },
    "tags": []
   },
   "outputs": [],
   "source": [
    "## train test split\n",
    "\n",
    "from sklearn.model_selection import train_test_split\n",
    "X_train, X_test, y_train, y_test = train_test_split(X, y, test_size = 0.25, random_state = 42)"
   ]
  },
  {
   "cell_type": "code",
   "execution_count": 18,
   "id": "bfa057eb",
   "metadata": {
    "execution": {
     "iopub.execute_input": "2022-03-23T04:01:24.329932Z",
     "iopub.status.busy": "2022-03-23T04:01:24.329199Z",
     "iopub.status.idle": "2022-03-23T04:01:24.334919Z",
     "shell.execute_reply": "2022-03-23T04:01:24.335812Z",
     "shell.execute_reply.started": "2022-03-23T03:56:32.848472Z"
    },
    "papermill": {
     "duration": 0.044287,
     "end_time": "2022-03-23T04:01:24.336161",
     "exception": false,
     "start_time": "2022-03-23T04:01:24.291874",
     "status": "completed"
    },
    "tags": []
   },
   "outputs": [
    {
     "name": "stdout",
     "output_type": "stream",
     "text": [
      "(112, 4) (38, 4) (112,) (38,)\n"
     ]
    }
   ],
   "source": [
    "print(X_train.shape, X_test.shape, y_train.shape, y_test.shape)"
   ]
  },
  {
   "cell_type": "code",
   "execution_count": 19,
   "id": "e77b7a79",
   "metadata": {
    "execution": {
     "iopub.execute_input": "2022-03-23T04:01:24.413159Z",
     "iopub.status.busy": "2022-03-23T04:01:24.412407Z",
     "iopub.status.idle": "2022-03-23T04:01:24.497373Z",
     "shell.execute_reply": "2022-03-23T04:01:24.497954Z",
     "shell.execute_reply.started": "2022-03-23T03:57:44.989109Z"
    },
    "papermill": {
     "duration": 0.12543,
     "end_time": "2022-03-23T04:01:24.498176",
     "exception": false,
     "start_time": "2022-03-23T04:01:24.372746",
     "status": "completed"
    },
    "tags": []
   },
   "outputs": [],
   "source": [
    "## applying logistic regression\n",
    "\n",
    "from sklearn.linear_model import LogisticRegression\n",
    "lr = LogisticRegression()"
   ]
  },
  {
   "cell_type": "code",
   "execution_count": 20,
   "id": "eaedac10",
   "metadata": {
    "execution": {
     "iopub.execute_input": "2022-03-23T04:01:24.578390Z",
     "iopub.status.busy": "2022-03-23T04:01:24.577204Z",
     "iopub.status.idle": "2022-03-23T04:01:24.597220Z",
     "shell.execute_reply": "2022-03-23T04:01:24.597779Z",
     "shell.execute_reply.started": "2022-03-23T03:57:51.826317Z"
    },
    "papermill": {
     "duration": 0.064035,
     "end_time": "2022-03-23T04:01:24.597998",
     "exception": false,
     "start_time": "2022-03-23T04:01:24.533963",
     "status": "completed"
    },
    "tags": []
   },
   "outputs": [
    {
     "data": {
      "text/plain": [
       "LogisticRegression()"
      ]
     },
     "execution_count": 20,
     "metadata": {},
     "output_type": "execute_result"
    }
   ],
   "source": [
    "lr.fit(X_train, y_train)"
   ]
  },
  {
   "cell_type": "code",
   "execution_count": 21,
   "id": "6dde4685",
   "metadata": {
    "execution": {
     "iopub.execute_input": "2022-03-23T04:01:24.672630Z",
     "iopub.status.busy": "2022-03-23T04:01:24.671594Z",
     "iopub.status.idle": "2022-03-23T04:01:24.675632Z",
     "shell.execute_reply": "2022-03-23T04:01:24.676141Z",
     "shell.execute_reply.started": "2022-03-23T03:58:03.054336Z"
    },
    "papermill": {
     "duration": 0.043103,
     "end_time": "2022-03-23T04:01:24.676340",
     "exception": false,
     "start_time": "2022-03-23T04:01:24.633237",
     "status": "completed"
    },
    "tags": []
   },
   "outputs": [],
   "source": [
    "pred = lr.predict(X_test)"
   ]
  },
  {
   "cell_type": "code",
   "execution_count": 22,
   "id": "3b6e097f",
   "metadata": {
    "execution": {
     "iopub.execute_input": "2022-03-23T04:01:24.755482Z",
     "iopub.status.busy": "2022-03-23T04:01:24.754375Z",
     "iopub.status.idle": "2022-03-23T04:01:24.767713Z",
     "shell.execute_reply": "2022-03-23T04:01:24.766537Z",
     "shell.execute_reply.started": "2022-03-23T03:59:38.340975Z"
    },
    "papermill": {
     "duration": 0.056518,
     "end_time": "2022-03-23T04:01:24.767963",
     "exception": false,
     "start_time": "2022-03-23T04:01:24.711445",
     "status": "completed"
    },
    "tags": []
   },
   "outputs": [
    {
     "name": "stdout",
     "output_type": "stream",
     "text": [
      "Classification Report               precision    recall  f1-score   support\n",
      "\n",
      "           0       1.00      1.00      1.00        15\n",
      "           1       1.00      1.00      1.00        11\n",
      "           2       1.00      1.00      1.00        12\n",
      "\n",
      "    accuracy                           1.00        38\n",
      "   macro avg       1.00      1.00      1.00        38\n",
      "weighted avg       1.00      1.00      1.00        38\n",
      "\n",
      "Confusion Matrix [[15  0  0]\n",
      " [ 0 11  0]\n",
      " [ 0  0 12]]\n",
      "Accuracy score 1.0\n"
     ]
    }
   ],
   "source": [
    "## Evaluation\n",
    "\n",
    "from sklearn import metrics\n",
    "\n",
    "print('Classification Report', metrics.classification_report(y_test, pred))\n",
    "print('Confusion Matrix', metrics.confusion_matrix(y_test, pred))\n",
    "print('Accuracy score', metrics.accuracy_score(y_test, pred))"
   ]
  },
  {
   "cell_type": "code",
   "execution_count": 23,
   "id": "81ce936f",
   "metadata": {
    "execution": {
     "iopub.execute_input": "2022-03-23T04:01:24.852887Z",
     "iopub.status.busy": "2022-03-23T04:01:24.851992Z",
     "iopub.status.idle": "2022-03-23T04:01:24.855316Z",
     "shell.execute_reply": "2022-03-23T04:01:24.855852Z",
     "shell.execute_reply.started": "2022-03-23T04:00:37.893672Z"
    },
    "papermill": {
     "duration": 0.051957,
     "end_time": "2022-03-23T04:01:24.856063",
     "exception": false,
     "start_time": "2022-03-23T04:01:24.804106",
     "status": "completed"
    },
    "tags": []
   },
   "outputs": [
    {
     "data": {
      "text/html": [
       "<div>\n",
       "<style scoped>\n",
       "    .dataframe tbody tr th:only-of-type {\n",
       "        vertical-align: middle;\n",
       "    }\n",
       "\n",
       "    .dataframe tbody tr th {\n",
       "        vertical-align: top;\n",
       "    }\n",
       "\n",
       "    .dataframe thead th {\n",
       "        text-align: right;\n",
       "    }\n",
       "</style>\n",
       "<table border=\"1\" class=\"dataframe\">\n",
       "  <thead>\n",
       "    <tr style=\"text-align: right;\">\n",
       "      <th></th>\n",
       "      <th>Actual</th>\n",
       "      <th>Predicted</th>\n",
       "    </tr>\n",
       "  </thead>\n",
       "  <tbody>\n",
       "    <tr>\n",
       "      <th>0</th>\n",
       "      <td>1</td>\n",
       "      <td>1</td>\n",
       "    </tr>\n",
       "    <tr>\n",
       "      <th>1</th>\n",
       "      <td>0</td>\n",
       "      <td>0</td>\n",
       "    </tr>\n",
       "    <tr>\n",
       "      <th>2</th>\n",
       "      <td>2</td>\n",
       "      <td>2</td>\n",
       "    </tr>\n",
       "    <tr>\n",
       "      <th>3</th>\n",
       "      <td>1</td>\n",
       "      <td>1</td>\n",
       "    </tr>\n",
       "    <tr>\n",
       "      <th>4</th>\n",
       "      <td>1</td>\n",
       "      <td>1</td>\n",
       "    </tr>\n",
       "    <tr>\n",
       "      <th>5</th>\n",
       "      <td>0</td>\n",
       "      <td>0</td>\n",
       "    </tr>\n",
       "    <tr>\n",
       "      <th>6</th>\n",
       "      <td>1</td>\n",
       "      <td>1</td>\n",
       "    </tr>\n",
       "    <tr>\n",
       "      <th>7</th>\n",
       "      <td>2</td>\n",
       "      <td>2</td>\n",
       "    </tr>\n",
       "    <tr>\n",
       "      <th>8</th>\n",
       "      <td>1</td>\n",
       "      <td>1</td>\n",
       "    </tr>\n",
       "    <tr>\n",
       "      <th>9</th>\n",
       "      <td>1</td>\n",
       "      <td>1</td>\n",
       "    </tr>\n",
       "    <tr>\n",
       "      <th>10</th>\n",
       "      <td>2</td>\n",
       "      <td>2</td>\n",
       "    </tr>\n",
       "    <tr>\n",
       "      <th>11</th>\n",
       "      <td>0</td>\n",
       "      <td>0</td>\n",
       "    </tr>\n",
       "    <tr>\n",
       "      <th>12</th>\n",
       "      <td>0</td>\n",
       "      <td>0</td>\n",
       "    </tr>\n",
       "    <tr>\n",
       "      <th>13</th>\n",
       "      <td>0</td>\n",
       "      <td>0</td>\n",
       "    </tr>\n",
       "    <tr>\n",
       "      <th>14</th>\n",
       "      <td>0</td>\n",
       "      <td>0</td>\n",
       "    </tr>\n",
       "    <tr>\n",
       "      <th>15</th>\n",
       "      <td>1</td>\n",
       "      <td>1</td>\n",
       "    </tr>\n",
       "    <tr>\n",
       "      <th>16</th>\n",
       "      <td>2</td>\n",
       "      <td>2</td>\n",
       "    </tr>\n",
       "    <tr>\n",
       "      <th>17</th>\n",
       "      <td>1</td>\n",
       "      <td>1</td>\n",
       "    </tr>\n",
       "    <tr>\n",
       "      <th>18</th>\n",
       "      <td>1</td>\n",
       "      <td>1</td>\n",
       "    </tr>\n",
       "    <tr>\n",
       "      <th>19</th>\n",
       "      <td>2</td>\n",
       "      <td>2</td>\n",
       "    </tr>\n",
       "    <tr>\n",
       "      <th>20</th>\n",
       "      <td>0</td>\n",
       "      <td>0</td>\n",
       "    </tr>\n",
       "    <tr>\n",
       "      <th>21</th>\n",
       "      <td>2</td>\n",
       "      <td>2</td>\n",
       "    </tr>\n",
       "    <tr>\n",
       "      <th>22</th>\n",
       "      <td>0</td>\n",
       "      <td>0</td>\n",
       "    </tr>\n",
       "    <tr>\n",
       "      <th>23</th>\n",
       "      <td>2</td>\n",
       "      <td>2</td>\n",
       "    </tr>\n",
       "    <tr>\n",
       "      <th>24</th>\n",
       "      <td>2</td>\n",
       "      <td>2</td>\n",
       "    </tr>\n",
       "    <tr>\n",
       "      <th>25</th>\n",
       "      <td>2</td>\n",
       "      <td>2</td>\n",
       "    </tr>\n",
       "    <tr>\n",
       "      <th>26</th>\n",
       "      <td>2</td>\n",
       "      <td>2</td>\n",
       "    </tr>\n",
       "    <tr>\n",
       "      <th>27</th>\n",
       "      <td>2</td>\n",
       "      <td>2</td>\n",
       "    </tr>\n",
       "    <tr>\n",
       "      <th>28</th>\n",
       "      <td>0</td>\n",
       "      <td>0</td>\n",
       "    </tr>\n",
       "    <tr>\n",
       "      <th>29</th>\n",
       "      <td>0</td>\n",
       "      <td>0</td>\n",
       "    </tr>\n",
       "    <tr>\n",
       "      <th>30</th>\n",
       "      <td>0</td>\n",
       "      <td>0</td>\n",
       "    </tr>\n",
       "    <tr>\n",
       "      <th>31</th>\n",
       "      <td>0</td>\n",
       "      <td>0</td>\n",
       "    </tr>\n",
       "    <tr>\n",
       "      <th>32</th>\n",
       "      <td>1</td>\n",
       "      <td>1</td>\n",
       "    </tr>\n",
       "    <tr>\n",
       "      <th>33</th>\n",
       "      <td>0</td>\n",
       "      <td>0</td>\n",
       "    </tr>\n",
       "    <tr>\n",
       "      <th>34</th>\n",
       "      <td>0</td>\n",
       "      <td>0</td>\n",
       "    </tr>\n",
       "    <tr>\n",
       "      <th>35</th>\n",
       "      <td>2</td>\n",
       "      <td>2</td>\n",
       "    </tr>\n",
       "    <tr>\n",
       "      <th>36</th>\n",
       "      <td>1</td>\n",
       "      <td>1</td>\n",
       "    </tr>\n",
       "    <tr>\n",
       "      <th>37</th>\n",
       "      <td>0</td>\n",
       "      <td>0</td>\n",
       "    </tr>\n",
       "  </tbody>\n",
       "</table>\n",
       "</div>"
      ],
      "text/plain": [
       "    Actual  Predicted\n",
       "0        1          1\n",
       "1        0          0\n",
       "2        2          2\n",
       "3        1          1\n",
       "4        1          1\n",
       "5        0          0\n",
       "6        1          1\n",
       "7        2          2\n",
       "8        1          1\n",
       "9        1          1\n",
       "10       2          2\n",
       "11       0          0\n",
       "12       0          0\n",
       "13       0          0\n",
       "14       0          0\n",
       "15       1          1\n",
       "16       2          2\n",
       "17       1          1\n",
       "18       1          1\n",
       "19       2          2\n",
       "20       0          0\n",
       "21       2          2\n",
       "22       0          0\n",
       "23       2          2\n",
       "24       2          2\n",
       "25       2          2\n",
       "26       2          2\n",
       "27       2          2\n",
       "28       0          0\n",
       "29       0          0\n",
       "30       0          0\n",
       "31       0          0\n",
       "32       1          1\n",
       "33       0          0\n",
       "34       0          0\n",
       "35       2          2\n",
       "36       1          1\n",
       "37       0          0"
      ]
     },
     "execution_count": 23,
     "metadata": {},
     "output_type": "execute_result"
    }
   ],
   "source": [
    "pd.DataFrame({'Actual' : y_test, 'Predicted' : pred})"
   ]
  },
  {
   "cell_type": "code",
   "execution_count": null,
   "id": "223d3b03",
   "metadata": {
    "papermill": {
     "duration": 0.037194,
     "end_time": "2022-03-23T04:01:24.930849",
     "exception": false,
     "start_time": "2022-03-23T04:01:24.893655",
     "status": "completed"
    },
    "tags": []
   },
   "outputs": [],
   "source": []
  }
 ],
 "metadata": {
  "kernelspec": {
   "display_name": "Python 3 (ipykernel)",
   "language": "python",
   "name": "python3"
  },
  "language_info": {
   "codemirror_mode": {
    "name": "ipython",
    "version": 3
   },
   "file_extension": ".py",
   "mimetype": "text/x-python",
   "name": "python",
   "nbconvert_exporter": "python",
   "pygments_lexer": "ipython3",
   "version": "3.9.7"
  },
  "papermill": {
   "default_parameters": {},
   "duration": 17.969142,
   "end_time": "2022-03-23T04:01:26.085048",
   "environment_variables": {},
   "exception": null,
   "input_path": "__notebook__.ipynb",
   "output_path": "__notebook__.ipynb",
   "parameters": {},
   "start_time": "2022-03-23T04:01:08.115906",
   "version": "2.3.3"
  }
 },
 "nbformat": 4,
 "nbformat_minor": 5
}
