{
 "cells": [
  {
   "cell_type": "code",
   "execution_count": 1,
   "id": "24fa5d9a",
   "metadata": {
    "_cell_guid": "b1076dfc-b9ad-4769-8c92-a6c4dae69d19",
    "_uuid": "8f2839f25d086af736a60e9eeb907d3b93b6e0e5",
    "execution": {
     "iopub.execute_input": "2022-03-17T04:01:37.697380Z",
     "iopub.status.busy": "2022-03-17T04:01:37.695263Z",
     "iopub.status.idle": "2022-03-17T04:01:37.720983Z",
     "shell.execute_reply": "2022-03-17T04:01:37.719752Z",
     "shell.execute_reply.started": "2022-03-17T03:31:58.795595Z"
    },
    "papermill": {
     "duration": 0.074349,
     "end_time": "2022-03-17T04:01:37.721295",
     "exception": false,
     "start_time": "2022-03-17T04:01:37.646946",
     "status": "completed"
    },
    "tags": []
   },
   "outputs": [],
   "source": [
    "import numpy as np # linear algebra\n",
    "import pandas as pd # data processing, CSV file I/O (e.g. pd.read_csv)\n",
    "pd.set_option('display.max_columns', None)\n"
   ]
  },
  {
   "cell_type": "code",
   "execution_count": 2,
   "id": "12b8ea57",
   "metadata": {
    "execution": {
     "iopub.execute_input": "2022-03-17T04:01:37.812735Z",
     "iopub.status.busy": "2022-03-17T04:01:37.811937Z",
     "iopub.status.idle": "2022-03-17T04:01:37.834615Z",
     "shell.execute_reply": "2022-03-17T04:01:37.835575Z",
     "shell.execute_reply.started": "2022-03-17T03:31:58.834802Z"
    },
    "papermill": {
     "duration": 0.071453,
     "end_time": "2022-03-17T04:01:37.835897",
     "exception": false,
     "start_time": "2022-03-17T04:01:37.764444",
     "status": "completed"
    },
    "tags": []
   },
   "outputs": [],
   "source": [
    "df = pd.read_csv('../input/heart-disease-dataset/heart.csv')"
   ]
  },
  {
   "cell_type": "code",
   "execution_count": 3,
   "id": "889ec6fc",
   "metadata": {
    "execution": {
     "iopub.execute_input": "2022-03-17T04:01:37.928069Z",
     "iopub.status.busy": "2022-03-17T04:01:37.927366Z",
     "iopub.status.idle": "2022-03-17T04:01:37.951355Z",
     "shell.execute_reply": "2022-03-17T04:01:37.951920Z",
     "shell.execute_reply.started": "2022-03-17T03:31:58.857450Z"
    },
    "papermill": {
     "duration": 0.069978,
     "end_time": "2022-03-17T04:01:37.952135",
     "exception": false,
     "start_time": "2022-03-17T04:01:37.882157",
     "status": "completed"
    },
    "tags": []
   },
   "outputs": [
    {
     "data": {
      "text/html": [
       "<div>\n",
       "<style scoped>\n",
       "    .dataframe tbody tr th:only-of-type {\n",
       "        vertical-align: middle;\n",
       "    }\n",
       "\n",
       "    .dataframe tbody tr th {\n",
       "        vertical-align: top;\n",
       "    }\n",
       "\n",
       "    .dataframe thead th {\n",
       "        text-align: right;\n",
       "    }\n",
       "</style>\n",
       "<table border=\"1\" class=\"dataframe\">\n",
       "  <thead>\n",
       "    <tr style=\"text-align: right;\">\n",
       "      <th></th>\n",
       "      <th>age</th>\n",
       "      <th>sex</th>\n",
       "      <th>cp</th>\n",
       "      <th>trestbps</th>\n",
       "      <th>chol</th>\n",
       "      <th>fbs</th>\n",
       "      <th>restecg</th>\n",
       "      <th>thalach</th>\n",
       "      <th>exang</th>\n",
       "      <th>oldpeak</th>\n",
       "      <th>slope</th>\n",
       "      <th>ca</th>\n",
       "      <th>thal</th>\n",
       "      <th>target</th>\n",
       "    </tr>\n",
       "  </thead>\n",
       "  <tbody>\n",
       "    <tr>\n",
       "      <th>0</th>\n",
       "      <td>52</td>\n",
       "      <td>1</td>\n",
       "      <td>0</td>\n",
       "      <td>125</td>\n",
       "      <td>212</td>\n",
       "      <td>0</td>\n",
       "      <td>1</td>\n",
       "      <td>168</td>\n",
       "      <td>0</td>\n",
       "      <td>1.0</td>\n",
       "      <td>2</td>\n",
       "      <td>2</td>\n",
       "      <td>3</td>\n",
       "      <td>0</td>\n",
       "    </tr>\n",
       "    <tr>\n",
       "      <th>1</th>\n",
       "      <td>53</td>\n",
       "      <td>1</td>\n",
       "      <td>0</td>\n",
       "      <td>140</td>\n",
       "      <td>203</td>\n",
       "      <td>1</td>\n",
       "      <td>0</td>\n",
       "      <td>155</td>\n",
       "      <td>1</td>\n",
       "      <td>3.1</td>\n",
       "      <td>0</td>\n",
       "      <td>0</td>\n",
       "      <td>3</td>\n",
       "      <td>0</td>\n",
       "    </tr>\n",
       "    <tr>\n",
       "      <th>2</th>\n",
       "      <td>70</td>\n",
       "      <td>1</td>\n",
       "      <td>0</td>\n",
       "      <td>145</td>\n",
       "      <td>174</td>\n",
       "      <td>0</td>\n",
       "      <td>1</td>\n",
       "      <td>125</td>\n",
       "      <td>1</td>\n",
       "      <td>2.6</td>\n",
       "      <td>0</td>\n",
       "      <td>0</td>\n",
       "      <td>3</td>\n",
       "      <td>0</td>\n",
       "    </tr>\n",
       "    <tr>\n",
       "      <th>3</th>\n",
       "      <td>61</td>\n",
       "      <td>1</td>\n",
       "      <td>0</td>\n",
       "      <td>148</td>\n",
       "      <td>203</td>\n",
       "      <td>0</td>\n",
       "      <td>1</td>\n",
       "      <td>161</td>\n",
       "      <td>0</td>\n",
       "      <td>0.0</td>\n",
       "      <td>2</td>\n",
       "      <td>1</td>\n",
       "      <td>3</td>\n",
       "      <td>0</td>\n",
       "    </tr>\n",
       "    <tr>\n",
       "      <th>4</th>\n",
       "      <td>62</td>\n",
       "      <td>0</td>\n",
       "      <td>0</td>\n",
       "      <td>138</td>\n",
       "      <td>294</td>\n",
       "      <td>1</td>\n",
       "      <td>1</td>\n",
       "      <td>106</td>\n",
       "      <td>0</td>\n",
       "      <td>1.9</td>\n",
       "      <td>1</td>\n",
       "      <td>3</td>\n",
       "      <td>2</td>\n",
       "      <td>0</td>\n",
       "    </tr>\n",
       "  </tbody>\n",
       "</table>\n",
       "</div>"
      ],
      "text/plain": [
       "   age  sex  cp  trestbps  chol  fbs  restecg  thalach  exang  oldpeak  slope  \\\n",
       "0   52    1   0       125   212    0        1      168      0      1.0      2   \n",
       "1   53    1   0       140   203    1        0      155      1      3.1      0   \n",
       "2   70    1   0       145   174    0        1      125      1      2.6      0   \n",
       "3   61    1   0       148   203    0        1      161      0      0.0      2   \n",
       "4   62    0   0       138   294    1        1      106      0      1.9      1   \n",
       "\n",
       "   ca  thal  target  \n",
       "0   2     3       0  \n",
       "1   0     3       0  \n",
       "2   0     3       0  \n",
       "3   1     3       0  \n",
       "4   3     2       0  "
      ]
     },
     "execution_count": 3,
     "metadata": {},
     "output_type": "execute_result"
    }
   ],
   "source": [
    "df.head()"
   ]
  },
  {
   "cell_type": "code",
   "execution_count": 4,
   "id": "8c429b67",
   "metadata": {
    "execution": {
     "iopub.execute_input": "2022-03-17T04:01:38.047025Z",
     "iopub.status.busy": "2022-03-17T04:01:38.046246Z",
     "iopub.status.idle": "2022-03-17T04:01:38.049067Z",
     "shell.execute_reply": "2022-03-17T04:01:38.049639Z",
     "shell.execute_reply.started": "2022-03-17T03:31:58.883303Z"
    },
    "papermill": {
     "duration": 0.05284,
     "end_time": "2022-03-17T04:01:38.049844",
     "exception": false,
     "start_time": "2022-03-17T04:01:37.997004",
     "status": "completed"
    },
    "tags": []
   },
   "outputs": [
    {
     "data": {
      "text/plain": [
       "(1025, 14)"
      ]
     },
     "execution_count": 4,
     "metadata": {},
     "output_type": "execute_result"
    }
   ],
   "source": [
    "df.shape"
   ]
  },
  {
   "cell_type": "code",
   "execution_count": 5,
   "id": "0ea68cb7",
   "metadata": {
    "execution": {
     "iopub.execute_input": "2022-03-17T04:01:38.142230Z",
     "iopub.status.busy": "2022-03-17T04:01:38.141382Z",
     "iopub.status.idle": "2022-03-17T04:01:38.168732Z",
     "shell.execute_reply": "2022-03-17T04:01:38.169491Z",
     "shell.execute_reply.started": "2022-03-17T03:31:58.891577Z"
    },
    "papermill": {
     "duration": 0.077539,
     "end_time": "2022-03-17T04:01:38.169874",
     "exception": false,
     "start_time": "2022-03-17T04:01:38.092335",
     "status": "completed"
    },
    "tags": []
   },
   "outputs": [
    {
     "name": "stdout",
     "output_type": "stream",
     "text": [
      "<class 'pandas.core.frame.DataFrame'>\n",
      "RangeIndex: 1025 entries, 0 to 1024\n",
      "Data columns (total 14 columns):\n",
      " #   Column    Non-Null Count  Dtype  \n",
      "---  ------    --------------  -----  \n",
      " 0   age       1025 non-null   int64  \n",
      " 1   sex       1025 non-null   int64  \n",
      " 2   cp        1025 non-null   int64  \n",
      " 3   trestbps  1025 non-null   int64  \n",
      " 4   chol      1025 non-null   int64  \n",
      " 5   fbs       1025 non-null   int64  \n",
      " 6   restecg   1025 non-null   int64  \n",
      " 7   thalach   1025 non-null   int64  \n",
      " 8   exang     1025 non-null   int64  \n",
      " 9   oldpeak   1025 non-null   float64\n",
      " 10  slope     1025 non-null   int64  \n",
      " 11  ca        1025 non-null   int64  \n",
      " 12  thal      1025 non-null   int64  \n",
      " 13  target    1025 non-null   int64  \n",
      "dtypes: float64(1), int64(13)\n",
      "memory usage: 112.2 KB\n"
     ]
    }
   ],
   "source": [
    "df.info()"
   ]
  },
  {
   "cell_type": "code",
   "execution_count": 6,
   "id": "6f57ddd2",
   "metadata": {
    "execution": {
     "iopub.execute_input": "2022-03-17T04:01:38.262929Z",
     "iopub.status.busy": "2022-03-17T04:01:38.261760Z",
     "iopub.status.idle": "2022-03-17T04:01:39.523016Z",
     "shell.execute_reply": "2022-03-17T04:01:39.522409Z",
     "shell.execute_reply.started": "2022-03-17T03:31:58.921481Z"
    },
    "papermill": {
     "duration": 1.309021,
     "end_time": "2022-03-17T04:01:39.523202",
     "exception": false,
     "start_time": "2022-03-17T04:01:38.214181",
     "status": "completed"
    },
    "tags": []
   },
   "outputs": [],
   "source": [
    "import matplotlib.pyplot as plt\n",
    "import seaborn as sns"
   ]
  },
  {
   "cell_type": "code",
   "execution_count": 7,
   "id": "9b72748e",
   "metadata": {
    "execution": {
     "iopub.execute_input": "2022-03-17T04:01:39.621564Z",
     "iopub.status.busy": "2022-03-17T04:01:39.620058Z",
     "iopub.status.idle": "2022-03-17T04:01:39.844577Z",
     "shell.execute_reply": "2022-03-17T04:01:39.843893Z",
     "shell.execute_reply.started": "2022-03-17T03:32:00.025066Z"
    },
    "papermill": {
     "duration": 0.277313,
     "end_time": "2022-03-17T04:01:39.844745",
     "exception": false,
     "start_time": "2022-03-17T04:01:39.567432",
     "status": "completed"
    },
    "tags": []
   },
   "outputs": [
    {
     "data": {
      "text/plain": [
       "<AxesSubplot:xlabel='sex', ylabel='count'>"
      ]
     },
     "execution_count": 7,
     "metadata": {},
     "output_type": "execute_result"
    },
    {
     "data": {
      "image/png": "[encoded data removed]",
      "text/plain": [
       "<Figure size 720x360 with 1 Axes>"
      ]
     },
     "metadata": {
      "needs_background": "light"
     },
     "output_type": "display_data"
    }
   ],
   "source": [
    "plt.figure(figsize = (10,5))\n",
    "sns.countplot(x = 'sex', data = df)"
   ]
  },
  {
   "cell_type": "code",
   "execution_count": 8,
   "id": "eca5a12e",
   "metadata": {
    "execution": {
     "iopub.execute_input": "2022-03-17T04:01:39.947853Z",
     "iopub.status.busy": "2022-03-17T04:01:39.946970Z",
     "iopub.status.idle": "2022-03-17T04:01:39.950731Z",
     "shell.execute_reply": "2022-03-17T04:01:39.951305Z",
     "shell.execute_reply.started": "2022-03-17T03:32:00.222217Z"
    },
    "papermill": {
     "duration": 0.062975,
     "end_time": "2022-03-17T04:01:39.951502",
     "exception": false,
     "start_time": "2022-03-17T04:01:39.888527",
     "status": "completed"
    },
    "tags": []
   },
   "outputs": [
    {
     "data": {
      "text/plain": [
       "age         0\n",
       "sex         0\n",
       "cp          0\n",
       "trestbps    0\n",
       "chol        0\n",
       "fbs         0\n",
       "restecg     0\n",
       "thalach     0\n",
       "exang       0\n",
       "oldpeak     0\n",
       "slope       0\n",
       "ca          0\n",
       "thal        0\n",
       "target      0\n",
       "dtype: int64"
      ]
     },
     "execution_count": 8,
     "metadata": {},
     "output_type": "execute_result"
    }
   ],
   "source": [
    "## Checking for null values\n",
    "\n",
    "df.isnull().sum()"
   ]
  },
  {
   "cell_type": "code",
   "execution_count": 9,
   "id": "0cb3a2f1",
   "metadata": {
    "execution": {
     "iopub.execute_input": "2022-03-17T04:01:40.050258Z",
     "iopub.status.busy": "2022-03-17T04:01:40.049458Z",
     "iopub.status.idle": "2022-03-17T04:01:40.436601Z",
     "shell.execute_reply": "2022-03-17T04:01:40.435850Z",
     "shell.execute_reply.started": "2022-03-17T03:32:00.233403Z"
    },
    "papermill": {
     "duration": 0.437145,
     "end_time": "2022-03-17T04:01:40.436763",
     "exception": false,
     "start_time": "2022-03-17T04:01:39.999618",
     "status": "completed"
    },
    "tags": []
   },
   "outputs": [
    {
     "data": {
      "text/plain": [
       "<seaborn.axisgrid.FacetGrid at 0x7f103e7f67d0>"
      ]
     },
     "execution_count": 9,
     "metadata": {},
     "output_type": "execute_result"
    },
    {
     "data": {
      "text/plain": [
       "<Figure size 1440x1440 with 0 Axes>"
      ]
     },
     "metadata": {},
     "output_type": "display_data"
    },
    {
     "data": {
      "image/png": "[encoded data removed]",
      "text/plain": [
       "<Figure size 360x360 with 1 Axes>"
      ]
     },
     "metadata": {
      "needs_background": "light"
     },
     "output_type": "display_data"
    }
   ],
   "source": [
    "## distribution plot for the age column\n",
    "\n",
    "plt.figure(figsize = (20,20))\n",
    "sns.displot(df['age'])"
   ]
  },
  {
   "cell_type": "code",
   "execution_count": 10,
   "id": "e5032c2b",
   "metadata": {
    "execution": {
     "iopub.execute_input": "2022-03-17T04:01:40.539289Z",
     "iopub.status.busy": "2022-03-17T04:01:40.537996Z",
     "iopub.status.idle": "2022-03-17T04:01:42.217041Z",
     "shell.execute_reply": "2022-03-17T04:01:42.217620Z",
     "shell.execute_reply.started": "2022-03-17T03:32:00.544061Z"
    },
    "papermill": {
     "duration": 1.735357,
     "end_time": "2022-03-17T04:01:42.217821",
     "exception": false,
     "start_time": "2022-03-17T04:01:40.482464",
     "status": "completed"
    },
    "tags": []
   },
   "outputs": [
    {
     "data": {
      "text/plain": [
       "<AxesSubplot:>"
      ]
     },
     "execution_count": 10,
     "metadata": {},
     "output_type": "execute_result"
    },
    {
     "data": {
      "image/png": "[encoded data removed]",
      "text/plain": [
       "<Figure size 1440x1440 with 2 Axes>"
      ]
     },
     "metadata": {
      "needs_background": "light"
     },
     "output_type": "display_data"
    }
   ],
   "source": [
    "## Check for correlation among features\n",
    "\n",
    "plt.figure(figsize = (20,20))\n",
    "sns.heatmap(df.corr(), annot = True)"
   ]
  },
  {
   "cell_type": "code",
   "execution_count": 11,
   "id": "f012a1d9",
   "metadata": {
    "execution": {
     "iopub.execute_input": "2022-03-17T04:01:42.329045Z",
     "iopub.status.busy": "2022-03-17T04:01:42.328340Z",
     "iopub.status.idle": "2022-03-17T04:01:42.819488Z",
     "shell.execute_reply": "2022-03-17T04:01:42.818877Z",
     "shell.execute_reply.started": "2022-03-17T03:32:01.897678Z"
    },
    "papermill": {
     "duration": 0.549768,
     "end_time": "2022-03-17T04:01:42.819647",
     "exception": false,
     "start_time": "2022-03-17T04:01:42.269879",
     "status": "completed"
    },
    "tags": []
   },
   "outputs": [
    {
     "name": "stderr",
     "output_type": "stream",
     "text": [
      "/opt/conda/lib/python3.7/site-packages/seaborn/_decorators.py:43: FutureWarning: Pass the following variable as a keyword arg: x. From version 0.12, the only valid positional argument will be `data`, and passing other arguments without an explicit keyword will result in an error or misinterpretation.\n",
      "  FutureWarning\n",
      "/opt/conda/lib/python3.7/site-packages/seaborn/_decorators.py:43: FutureWarning: Pass the following variable as a keyword arg: x. From version 0.12, the only valid positional argument will be `data`, and passing other arguments without an explicit keyword will result in an error or misinterpretation.\n",
      "  FutureWarning\n",
      "/opt/conda/lib/python3.7/site-packages/seaborn/_decorators.py:43: FutureWarning: Pass the following variable as a keyword arg: x. From version 0.12, the only valid positional argument will be `data`, and passing other arguments without an explicit keyword will result in an error or misinterpretation.\n",
      "  FutureWarning\n"
     ]
    },
    {
     "data": {
      "image/png": "[encoded data removed]",
      "text/plain": [
       "<Figure size 720x720 with 1 Axes>"
      ]
     },
     "metadata": {
      "needs_background": "light"
     },
     "output_type": "display_data"
    },
    {
     "data": {
      "image/png": "[encoded data removed]",
      "text/plain": [
       "<Figure size 720x720 with 1 Axes>"
      ]
     },
     "metadata": {
      "needs_background": "light"
     },
     "output_type": "display_data"
    },
    {
     "data": {
      "image/png": "[encoded data removed]",
      "text/plain": [
       "<Figure size 720x720 with 1 Axes>"
      ]
     },
     "metadata": {
      "needs_background": "light"
     },
     "output_type": "display_data"
    }
   ],
   "source": [
    "## Check for outliers\n",
    "\n",
    "for f in ['trestbps', 'thalach', 'chol' ]:\n",
    "    plt.figure(figsize = (10,10))\n",
    "    sns.boxplot(df[f])\n",
    "    plt.title(f)"
   ]
  },
  {
   "cell_type": "code",
   "execution_count": 12,
   "id": "4bbd7698",
   "metadata": {
    "execution": {
     "iopub.execute_input": "2022-03-17T04:01:42.941998Z",
     "iopub.status.busy": "2022-03-17T04:01:42.941259Z",
     "iopub.status.idle": "2022-03-17T04:01:44.219975Z",
     "shell.execute_reply": "2022-03-17T04:01:44.220593Z",
     "shell.execute_reply.started": "2022-03-17T03:32:02.320756Z"
    },
    "papermill": {
     "duration": 1.338846,
     "end_time": "2022-03-17T04:01:44.220800",
     "exception": false,
     "start_time": "2022-03-17T04:01:42.881954",
     "status": "completed"
    },
    "tags": []
   },
   "outputs": [
    {
     "data": {
      "text/plain": [
       "<Figure size 720x720 with 0 Axes>"
      ]
     },
     "metadata": {},
     "output_type": "display_data"
    },
    {
     "data": {
      "image/png": "[encoded data removed]",
      "text/plain": [
       "<Figure size 360x360 with 1 Axes>"
      ]
     },
     "metadata": {
      "needs_background": "light"
     },
     "output_type": "display_data"
    },
    {
     "data": {
      "text/plain": [
       "<Figure size 720x720 with 0 Axes>"
      ]
     },
     "metadata": {},
     "output_type": "display_data"
    },
    {
     "data": {
      "image/png": "[encoded data removed]",
      "text/plain": [
       "<Figure size 360x360 with 1 Axes>"
      ]
     },
     "metadata": {
      "needs_background": "light"
     },
     "output_type": "display_data"
    },
    {
     "data": {
      "text/plain": [
       "<Figure size 720x720 with 0 Axes>"
      ]
     },
     "metadata": {},
     "output_type": "display_data"
    },
    {
     "data": {
      "image/png": "[encoded data removed]",
      "text/plain": [
       "<Figure size 360x360 with 1 Axes>"
      ]
     },
     "metadata": {
      "needs_background": "light"
     },
     "output_type": "display_data"
    }
   ],
   "source": [
    "## distribution plot for trestbps, thalach and chol columns\n",
    "for f in ['trestbps', 'thalach', 'chol']:\n",
    "    plt.figure(figsize = (10,10))\n",
    "    sns.displot(df[f])\n",
    "    plt.title(f)"
   ]
  },
  {
   "cell_type": "code",
   "execution_count": 13,
   "id": "1fc3dfb9",
   "metadata": {
    "execution": {
     "iopub.execute_input": "2022-03-17T04:01:44.342200Z",
     "iopub.status.busy": "2022-03-17T04:01:44.340874Z",
     "iopub.status.idle": "2022-03-17T04:01:44.347712Z",
     "shell.execute_reply": "2022-03-17T04:01:44.348318Z",
     "shell.execute_reply.started": "2022-03-17T03:32:03.600056Z"
    },
    "papermill": {
     "duration": 0.06752,
     "end_time": "2022-03-17T04:01:44.348523",
     "exception": false,
     "start_time": "2022-03-17T04:01:44.281003",
     "status": "completed"
    },
    "tags": []
   },
   "outputs": [],
   "source": [
    "## Now since most of the columns are following gaussian distribution, we're going to remove the outliers using 3rd std\n",
    "\n",
    "def rem_outlier(df, feature):\n",
    "    lower_bound = df[feature].mean() - 3*df[feature].std()\n",
    "    upper_bound = df[feature].mean() + 3*df[feature].std()\n",
    "    \n",
    "    df.loc[df[feature] < lower_bound , feature] = lower_bound\n",
    "    df.loc[df[feature] > upper_bound, feature] = upper_bound"
   ]
  },
  {
   "cell_type": "code",
   "execution_count": 14,
   "id": "728dd8af",
   "metadata": {
    "execution": {
     "iopub.execute_input": "2022-03-17T04:01:44.467452Z",
     "iopub.status.busy": "2022-03-17T04:01:44.466710Z",
     "iopub.status.idle": "2022-03-17T04:01:44.479470Z",
     "shell.execute_reply": "2022-03-17T04:01:44.480002Z",
     "shell.execute_reply.started": "2022-03-17T03:32:03.607765Z"
    },
    "papermill": {
     "duration": 0.074021,
     "end_time": "2022-03-17T04:01:44.480231",
     "exception": false,
     "start_time": "2022-03-17T04:01:44.406210",
     "status": "completed"
    },
    "tags": []
   },
   "outputs": [],
   "source": [
    "for f in ['trestbps', 'chol', 'thalach', 'age']:\n",
    "    rem_outlier(df, f)"
   ]
  },
  {
   "cell_type": "code",
   "execution_count": 15,
   "id": "4b3bc352",
   "metadata": {
    "execution": {
     "iopub.execute_input": "2022-03-17T04:01:44.598283Z",
     "iopub.status.busy": "2022-03-17T04:01:44.597219Z",
     "iopub.status.idle": "2022-03-17T04:01:45.136609Z",
     "shell.execute_reply": "2022-03-17T04:01:45.136005Z",
     "shell.execute_reply.started": "2022-03-17T03:32:03.630120Z"
    },
    "papermill": {
     "duration": 0.599354,
     "end_time": "2022-03-17T04:01:45.136791",
     "exception": false,
     "start_time": "2022-03-17T04:01:44.537437",
     "status": "completed"
    },
    "tags": []
   },
   "outputs": [
    {
     "name": "stderr",
     "output_type": "stream",
     "text": [
      "/opt/conda/lib/python3.7/site-packages/seaborn/_decorators.py:43: FutureWarning: Pass the following variable as a keyword arg: x. From version 0.12, the only valid positional argument will be `data`, and passing other arguments without an explicit keyword will result in an error or misinterpretation.\n",
      "  FutureWarning\n",
      "/opt/conda/lib/python3.7/site-packages/seaborn/_decorators.py:43: FutureWarning: Pass the following variable as a keyword arg: x. From version 0.12, the only valid positional argument will be `data`, and passing other arguments without an explicit keyword will result in an error or misinterpretation.\n",
      "  FutureWarning\n",
      "/opt/conda/lib/python3.7/site-packages/seaborn/_decorators.py:43: FutureWarning: Pass the following variable as a keyword arg: x. From version 0.12, the only valid positional argument will be `data`, and passing other arguments without an explicit keyword will result in an error or misinterpretation.\n",
      "  FutureWarning\n"
     ]
    },
    {
     "data": {
      "image/png": "[encoded data removed]",
      "text/plain": [
       "<Figure size 720x720 with 1 Axes>"
      ]
     },
     "metadata": {
      "needs_background": "light"
     },
     "output_type": "display_data"
    },
    {
     "data": {
      "image/png": "[encoded data removed]",
      "text/plain": [
       "<Figure size 720x720 with 1 Axes>"
      ]
     },
     "metadata": {
      "needs_background": "light"
     },
     "output_type": "display_data"
    },
    {
     "data": {
      "image/png": "[encoded data removed]",
      "text/plain": [
       "<Figure size 720x720 with 1 Axes>"
      ]
     },
     "metadata": {
      "needs_background": "light"
     },
     "output_type": "display_data"
    }
   ],
   "source": [
    "for f in ['trestbps', 'thalach', 'chol']:\n",
    "    plt.figure(figsize = (10,10))\n",
    "    sns.boxplot(df[f])\n",
    "    plt.title(f)"
   ]
  },
  {
   "cell_type": "code",
   "execution_count": 16,
   "id": "476affa6",
   "metadata": {
    "execution": {
     "iopub.execute_input": "2022-03-17T04:01:45.262983Z",
     "iopub.status.busy": "2022-03-17T04:01:45.262302Z",
     "iopub.status.idle": "2022-03-17T04:01:45.267865Z",
     "shell.execute_reply": "2022-03-17T04:01:45.268486Z",
     "shell.execute_reply.started": "2022-03-17T03:35:19.278879Z"
    },
    "papermill": {
     "duration": 0.071881,
     "end_time": "2022-03-17T04:01:45.268692",
     "exception": false,
     "start_time": "2022-03-17T04:01:45.196811",
     "status": "completed"
    },
    "tags": []
   },
   "outputs": [],
   "source": [
    "## Dependent and Independent features\n",
    "\n",
    "X = df.iloc[:, :-1]\n",
    "y = df.iloc[:,-1]"
   ]
  },
  {
   "cell_type": "code",
   "execution_count": 17,
   "id": "54440c1d",
   "metadata": {
    "execution": {
     "iopub.execute_input": "2022-03-17T04:01:45.397397Z",
     "iopub.status.busy": "2022-03-17T04:01:45.396600Z",
     "iopub.status.idle": "2022-03-17T04:01:45.402325Z",
     "shell.execute_reply": "2022-03-17T04:01:45.402908Z",
     "shell.execute_reply.started": "2022-03-17T03:35:54.286521Z"
    },
    "papermill": {
     "duration": 0.072827,
     "end_time": "2022-03-17T04:01:45.403131",
     "exception": false,
     "start_time": "2022-03-17T04:01:45.330304",
     "status": "completed"
    },
    "tags": []
   },
   "outputs": [],
   "source": [
    "## Now we'll convert these features into numpy array\n",
    "\n",
    "X = X.values\n",
    "y = y.values"
   ]
  },
  {
   "cell_type": "code",
   "execution_count": 18,
   "id": "e2e48975",
   "metadata": {
    "execution": {
     "iopub.execute_input": "2022-03-17T04:01:45.527889Z",
     "iopub.status.busy": "2022-03-17T04:01:45.527173Z",
     "iopub.status.idle": "2022-03-17T04:01:45.533565Z",
     "shell.execute_reply": "2022-03-17T04:01:45.534277Z",
     "shell.execute_reply.started": "2022-03-17T03:36:03.173266Z"
    },
    "papermill": {
     "duration": 0.070826,
     "end_time": "2022-03-17T04:01:45.534474",
     "exception": false,
     "start_time": "2022-03-17T04:01:45.463648",
     "status": "completed"
    },
    "tags": []
   },
   "outputs": [
    {
     "data": {
      "text/plain": [
       "(array([[52.,  1.,  0., ...,  2.,  2.,  3.],\n",
       "        [53.,  1.,  0., ...,  0.,  0.,  3.],\n",
       "        [70.,  1.,  0., ...,  0.,  0.,  3.],\n",
       "        ...,\n",
       "        [47.,  1.,  0., ...,  1.,  1.,  2.],\n",
       "        [50.,  0.,  0., ...,  2.,  0.,  2.],\n",
       "        [54.,  1.,  0., ...,  1.,  1.,  3.]]),\n",
       " array([0, 0, 0, ..., 0, 1, 0]))"
      ]
     },
     "execution_count": 18,
     "metadata": {},
     "output_type": "execute_result"
    }
   ],
   "source": [
    "X, y"
   ]
  },
  {
   "cell_type": "code",
   "execution_count": 19,
   "id": "2361ed2f",
   "metadata": {
    "execution": {
     "iopub.execute_input": "2022-03-17T04:01:45.661427Z",
     "iopub.status.busy": "2022-03-17T04:01:45.660652Z",
     "iopub.status.idle": "2022-03-17T04:01:45.820527Z",
     "shell.execute_reply": "2022-03-17T04:01:45.819886Z",
     "shell.execute_reply.started": "2022-03-17T03:37:02.824165Z"
    },
    "papermill": {
     "duration": 0.225185,
     "end_time": "2022-03-17T04:01:45.820697",
     "exception": false,
     "start_time": "2022-03-17T04:01:45.595512",
     "status": "completed"
    },
    "tags": []
   },
   "outputs": [],
   "source": [
    "## It's time for scaling of X\n",
    "\n",
    "from sklearn.preprocessing import StandardScaler\n",
    "\n",
    "sc = StandardScaler()\n",
    "X = sc.fit_transform(X)"
   ]
  },
  {
   "cell_type": "code",
   "execution_count": 20,
   "id": "1a1218a3",
   "metadata": {
    "execution": {
     "iopub.execute_input": "2022-03-17T04:01:45.969515Z",
     "iopub.status.busy": "2022-03-17T04:01:45.968485Z",
     "iopub.status.idle": "2022-03-17T04:01:45.976137Z",
     "shell.execute_reply": "2022-03-17T04:01:45.976885Z",
     "shell.execute_reply.started": "2022-03-17T03:37:05.644122Z"
    },
    "papermill": {
     "duration": 0.087565,
     "end_time": "2022-03-17T04:01:45.977134",
     "exception": false,
     "start_time": "2022-03-17T04:01:45.889569",
     "status": "completed"
    },
    "tags": []
   },
   "outputs": [
    {
     "data": {
      "text/plain": [
       "array([[-0.26843658,  0.66150409, -0.91575542, ...,  0.99543334,\n",
       "         1.20922066,  1.08985168],\n",
       "       [-0.15815703,  0.66150409, -0.91575542, ..., -2.24367514,\n",
       "        -0.73197147,  1.08985168],\n",
       "       [ 1.71659547,  0.66150409, -0.91575542, ..., -2.24367514,\n",
       "        -0.73197147,  1.08985168],\n",
       "       ...,\n",
       "       [-0.81983438,  0.66150409, -0.91575542, ..., -0.6241209 ,\n",
       "         0.23862459, -0.52212231],\n",
       "       [-0.4889957 , -1.51170646, -0.91575542, ...,  0.99543334,\n",
       "        -0.73197147, -0.52212231],\n",
       "       [-0.04787747,  0.66150409, -0.91575542, ..., -0.6241209 ,\n",
       "         0.23862459,  1.08985168]])"
      ]
     },
     "execution_count": 20,
     "metadata": {},
     "output_type": "execute_result"
    }
   ],
   "source": [
    "X"
   ]
  },
  {
   "cell_type": "code",
   "execution_count": 21,
   "id": "b7d844fe",
   "metadata": {
    "execution": {
     "iopub.execute_input": "2022-03-17T04:01:46.113250Z",
     "iopub.status.busy": "2022-03-17T04:01:46.112375Z",
     "iopub.status.idle": "2022-03-17T04:01:46.172276Z",
     "shell.execute_reply": "2022-03-17T04:01:46.171657Z",
     "shell.execute_reply.started": "2022-03-17T03:38:31.374196Z"
    },
    "papermill": {
     "duration": 0.126173,
     "end_time": "2022-03-17T04:01:46.172442",
     "exception": false,
     "start_time": "2022-03-17T04:01:46.046269",
     "status": "completed"
    },
    "tags": []
   },
   "outputs": [],
   "source": [
    "## Now splitting the data into train and test\n",
    "\n",
    "from sklearn.model_selection import train_test_split\n",
    "\n",
    "X_train, X_test, y_train, y_test = train_test_split(X, y, test_size = 0.20, random_state = 42)"
   ]
  },
  {
   "cell_type": "code",
   "execution_count": 22,
   "id": "045bf8a8",
   "metadata": {
    "execution": {
     "iopub.execute_input": "2022-03-17T04:01:46.302872Z",
     "iopub.status.busy": "2022-03-17T04:01:46.302138Z",
     "iopub.status.idle": "2022-03-17T04:01:46.304883Z",
     "shell.execute_reply": "2022-03-17T04:01:46.305477Z",
     "shell.execute_reply.started": "2022-03-17T03:39:05.488885Z"
    },
    "papermill": {
     "duration": 0.071098,
     "end_time": "2022-03-17T04:01:46.305671",
     "exception": false,
     "start_time": "2022-03-17T04:01:46.234573",
     "status": "completed"
    },
    "tags": []
   },
   "outputs": [
    {
     "data": {
      "text/plain": [
       "((820, 13), (205, 13), (820,), (205,))"
      ]
     },
     "execution_count": 22,
     "metadata": {},
     "output_type": "execute_result"
    }
   ],
   "source": [
    "X_train.shape, X_test.shape, y_train.shape, y_test.shape"
   ]
  },
  {
   "cell_type": "code",
   "execution_count": 23,
   "id": "01589bea",
   "metadata": {
    "execution": {
     "iopub.execute_input": "2022-03-17T04:01:46.431767Z",
     "iopub.status.busy": "2022-03-17T04:01:46.430927Z",
     "iopub.status.idle": "2022-03-17T04:01:46.519675Z",
     "shell.execute_reply": "2022-03-17T04:01:46.519032Z",
     "shell.execute_reply.started": "2022-03-17T03:39:46.549266Z"
    },
    "papermill": {
     "duration": 0.153127,
     "end_time": "2022-03-17T04:01:46.519846",
     "exception": false,
     "start_time": "2022-03-17T04:01:46.366719",
     "status": "completed"
    },
    "tags": []
   },
   "outputs": [],
   "source": [
    "## Now applying Logistic Regression to our data\n",
    "\n",
    "from sklearn.linear_model import LogisticRegression"
   ]
  },
  {
   "cell_type": "code",
   "execution_count": 24,
   "id": "2de62c54",
   "metadata": {
    "execution": {
     "iopub.execute_input": "2022-03-17T04:01:46.650550Z",
     "iopub.status.busy": "2022-03-17T04:01:46.649801Z",
     "iopub.status.idle": "2022-03-17T04:01:46.685933Z",
     "shell.execute_reply": "2022-03-17T04:01:46.687152Z",
     "shell.execute_reply.started": "2022-03-17T03:40:15.565626Z"
    },
    "papermill": {
     "duration": 0.103266,
     "end_time": "2022-03-17T04:01:46.687482",
     "exception": false,
     "start_time": "2022-03-17T04:01:46.584216",
     "status": "completed"
    },
    "tags": []
   },
   "outputs": [
    {
     "data": {
      "text/plain": [
       "LogisticRegression()"
      ]
     },
     "execution_count": 24,
     "metadata": {},
     "output_type": "execute_result"
    }
   ],
   "source": [
    "lr = LogisticRegression()\n",
    "lr.fit(X_train, y_train)"
   ]
  },
  {
   "cell_type": "code",
   "execution_count": 25,
   "id": "ad6516da",
   "metadata": {
    "execution": {
     "iopub.execute_input": "2022-03-17T04:01:46.873529Z",
     "iopub.status.busy": "2022-03-17T04:01:46.872796Z",
     "iopub.status.idle": "2022-03-17T04:01:46.876367Z",
     "shell.execute_reply": "2022-03-17T04:01:46.875594Z",
     "shell.execute_reply.started": "2022-03-17T03:40:36.514392Z"
    },
    "papermill": {
     "duration": 0.071975,
     "end_time": "2022-03-17T04:01:46.876537",
     "exception": false,
     "start_time": "2022-03-17T04:01:46.804562",
     "status": "completed"
    },
    "tags": []
   },
   "outputs": [],
   "source": [
    "prediction = lr.predict(X_test)"
   ]
  },
  {
   "cell_type": "code",
   "execution_count": 26,
   "id": "a646f7d9",
   "metadata": {
    "execution": {
     "iopub.execute_input": "2022-03-17T04:01:47.010240Z",
     "iopub.status.busy": "2022-03-17T04:01:47.009260Z",
     "iopub.status.idle": "2022-03-17T04:01:47.021218Z",
     "shell.execute_reply": "2022-03-17T04:01:47.021903Z",
     "shell.execute_reply.started": "2022-03-17T03:41:12.530533Z"
    },
    "papermill": {
     "duration": 0.080391,
     "end_time": "2022-03-17T04:01:47.022094",
     "exception": false,
     "start_time": "2022-03-17T04:01:46.941703",
     "status": "completed"
    },
    "tags": []
   },
   "outputs": [
    {
     "data": {
      "text/html": [
       "<div>\n",
       "<style scoped>\n",
       "    .dataframe tbody tr th:only-of-type {\n",
       "        vertical-align: middle;\n",
       "    }\n",
       "\n",
       "    .dataframe tbody tr th {\n",
       "        vertical-align: top;\n",
       "    }\n",
       "\n",
       "    .dataframe thead th {\n",
       "        text-align: right;\n",
       "    }\n",
       "</style>\n",
       "<table border=\"1\" class=\"dataframe\">\n",
       "  <thead>\n",
       "    <tr style=\"text-align: right;\">\n",
       "      <th></th>\n",
       "      <th>Actual</th>\n",
       "      <th>Predicted</th>\n",
       "    </tr>\n",
       "  </thead>\n",
       "  <tbody>\n",
       "    <tr>\n",
       "      <th>0</th>\n",
       "      <td>1</td>\n",
       "      <td>1</td>\n",
       "    </tr>\n",
       "    <tr>\n",
       "      <th>1</th>\n",
       "      <td>1</td>\n",
       "      <td>1</td>\n",
       "    </tr>\n",
       "    <tr>\n",
       "      <th>2</th>\n",
       "      <td>0</td>\n",
       "      <td>0</td>\n",
       "    </tr>\n",
       "    <tr>\n",
       "      <th>3</th>\n",
       "      <td>1</td>\n",
       "      <td>1</td>\n",
       "    </tr>\n",
       "    <tr>\n",
       "      <th>4</th>\n",
       "      <td>0</td>\n",
       "      <td>0</td>\n",
       "    </tr>\n",
       "    <tr>\n",
       "      <th>...</th>\n",
       "      <td>...</td>\n",
       "      <td>...</td>\n",
       "    </tr>\n",
       "    <tr>\n",
       "      <th>200</th>\n",
       "      <td>1</td>\n",
       "      <td>1</td>\n",
       "    </tr>\n",
       "    <tr>\n",
       "      <th>201</th>\n",
       "      <td>1</td>\n",
       "      <td>1</td>\n",
       "    </tr>\n",
       "    <tr>\n",
       "      <th>202</th>\n",
       "      <td>1</td>\n",
       "      <td>1</td>\n",
       "    </tr>\n",
       "    <tr>\n",
       "      <th>203</th>\n",
       "      <td>0</td>\n",
       "      <td>0</td>\n",
       "    </tr>\n",
       "    <tr>\n",
       "      <th>204</th>\n",
       "      <td>0</td>\n",
       "      <td>0</td>\n",
       "    </tr>\n",
       "  </tbody>\n",
       "</table>\n",
       "<p>205 rows × 2 columns</p>\n",
       "</div>"
      ],
      "text/plain": [
       "     Actual  Predicted\n",
       "0         1          1\n",
       "1         1          1\n",
       "2         0          0\n",
       "3         1          1\n",
       "4         0          0\n",
       "..      ...        ...\n",
       "200       1          1\n",
       "201       1          1\n",
       "202       1          1\n",
       "203       0          0\n",
       "204       0          0\n",
       "\n",
       "[205 rows x 2 columns]"
      ]
     },
     "execution_count": 26,
     "metadata": {},
     "output_type": "execute_result"
    }
   ],
   "source": [
    "pd.DataFrame({'Actual' : y_test, 'Predicted' : prediction})"
   ]
  },
  {
   "cell_type": "code",
   "execution_count": 27,
   "id": "5aa8d664",
   "metadata": {
    "execution": {
     "iopub.execute_input": "2022-03-17T04:01:47.153774Z",
     "iopub.status.busy": "2022-03-17T04:01:47.153055Z",
     "iopub.status.idle": "2022-03-17T04:01:47.157636Z",
     "shell.execute_reply": "2022-03-17T04:01:47.158229Z",
     "shell.execute_reply.started": "2022-03-17T03:42:11.287732Z"
    },
    "papermill": {
     "duration": 0.073231,
     "end_time": "2022-03-17T04:01:47.158433",
     "exception": false,
     "start_time": "2022-03-17T04:01:47.085202",
     "status": "completed"
    },
    "tags": []
   },
   "outputs": [],
   "source": [
    "from sklearn.metrics import accuracy_score, classification_report, confusion_matrix"
   ]
  },
  {
   "cell_type": "code",
   "execution_count": 28,
   "id": "8b159339",
   "metadata": {
    "execution": {
     "iopub.execute_input": "2022-03-17T04:01:47.289328Z",
     "iopub.status.busy": "2022-03-17T04:01:47.288585Z",
     "iopub.status.idle": "2022-03-17T04:01:47.305195Z",
     "shell.execute_reply": "2022-03-17T04:01:47.305782Z",
     "shell.execute_reply.started": "2022-03-17T03:42:55.195317Z"
    },
    "papermill": {
     "duration": 0.085544,
     "end_time": "2022-03-17T04:01:47.305999",
     "exception": false,
     "start_time": "2022-03-17T04:01:47.220455",
     "status": "completed"
    },
    "tags": []
   },
   "outputs": [
    {
     "name": "stdout",
     "output_type": "stream",
     "text": [
      "0.8048780487804879\n",
      "              precision    recall  f1-score   support\n",
      "\n",
      "           0       0.87      0.72      0.78       102\n",
      "           1       0.76      0.89      0.82       103\n",
      "\n",
      "    accuracy                           0.80       205\n",
      "   macro avg       0.81      0.80      0.80       205\n",
      "weighted avg       0.81      0.80      0.80       205\n",
      "\n",
      "[[73 29]\n",
      " [11 92]]\n"
     ]
    }
   ],
   "source": [
    "print(accuracy_score(y_test, prediction))\n",
    "print(classification_report(y_test, prediction))\n",
    "print(confusion_matrix(y_test, prediction))"
   ]
  },
  {
   "cell_type": "code",
   "execution_count": 29,
   "id": "0d620f23",
   "metadata": {
    "execution": {
     "iopub.execute_input": "2022-03-17T04:01:47.440337Z",
     "iopub.status.busy": "2022-03-17T04:01:47.439619Z",
     "iopub.status.idle": "2022-03-17T04:01:47.444055Z",
     "shell.execute_reply": "2022-03-17T04:01:47.444612Z",
     "shell.execute_reply.started": "2022-03-17T03:44:18.444229Z"
    },
    "papermill": {
     "duration": 0.072926,
     "end_time": "2022-03-17T04:01:47.444859",
     "exception": false,
     "start_time": "2022-03-17T04:01:47.371933",
     "status": "completed"
    },
    "tags": []
   },
   "outputs": [],
   "source": [
    "## Now we'll try support vector classifier\n",
    "\n",
    "from sklearn.svm import SVC"
   ]
  },
  {
   "cell_type": "code",
   "execution_count": 30,
   "id": "444b686a",
   "metadata": {
    "execution": {
     "iopub.execute_input": "2022-03-17T04:01:47.580475Z",
     "iopub.status.busy": "2022-03-17T04:01:47.579792Z",
     "iopub.status.idle": "2022-03-17T04:01:47.604741Z",
     "shell.execute_reply": "2022-03-17T04:01:47.605284Z",
     "shell.execute_reply.started": "2022-03-17T03:58:37.119146Z"
    },
    "papermill": {
     "duration": 0.093072,
     "end_time": "2022-03-17T04:01:47.605515",
     "exception": false,
     "start_time": "2022-03-17T04:01:47.512443",
     "status": "completed"
    },
    "tags": []
   },
   "outputs": [
    {
     "data": {
      "text/plain": [
       "SVC()"
      ]
     },
     "execution_count": 30,
     "metadata": {},
     "output_type": "execute_result"
    }
   ],
   "source": [
    "svc = SVC()\n",
    "svc.fit(X_train, y_train)"
   ]
  },
  {
   "cell_type": "code",
   "execution_count": 31,
   "id": "dea68d9b",
   "metadata": {
    "execution": {
     "iopub.execute_input": "2022-03-17T04:01:47.740579Z",
     "iopub.status.busy": "2022-03-17T04:01:47.739868Z",
     "iopub.status.idle": "2022-03-17T04:01:47.750241Z",
     "shell.execute_reply": "2022-03-17T04:01:47.749603Z",
     "shell.execute_reply.started": "2022-03-17T03:58:54.348129Z"
    },
    "papermill": {
     "duration": 0.078898,
     "end_time": "2022-03-17T04:01:47.750404",
     "exception": false,
     "start_time": "2022-03-17T04:01:47.671506",
     "status": "completed"
    },
    "tags": []
   },
   "outputs": [],
   "source": [
    "preds = svc.predict(X_test)"
   ]
  },
  {
   "cell_type": "code",
   "execution_count": 32,
   "id": "ad15fb2d",
   "metadata": {
    "execution": {
     "iopub.execute_input": "2022-03-17T04:01:47.893486Z",
     "iopub.status.busy": "2022-03-17T04:01:47.891252Z",
     "iopub.status.idle": "2022-03-17T04:01:47.899772Z",
     "shell.execute_reply": "2022-03-17T04:01:47.900491Z",
     "shell.execute_reply.started": "2022-03-17T03:59:19.564214Z"
    },
    "papermill": {
     "duration": 0.083298,
     "end_time": "2022-03-17T04:01:47.900699",
     "exception": false,
     "start_time": "2022-03-17T04:01:47.817401",
     "status": "completed"
    },
    "tags": []
   },
   "outputs": [
    {
     "name": "stdout",
     "output_type": "stream",
     "text": [
      "0.8878048780487805\n"
     ]
    }
   ],
   "source": [
    "print(accuracy_score(y_test, preds))"
   ]
  },
  {
   "cell_type": "code",
   "execution_count": 33,
   "id": "89c17262",
   "metadata": {
    "execution": {
     "iopub.execute_input": "2022-03-17T04:01:48.039912Z",
     "iopub.status.busy": "2022-03-17T04:01:48.039246Z",
     "iopub.status.idle": "2022-03-17T04:01:48.050258Z",
     "shell.execute_reply": "2022-03-17T04:01:48.051125Z",
     "shell.execute_reply.started": "2022-03-17T03:59:35.745844Z"
    },
    "papermill": {
     "duration": 0.081289,
     "end_time": "2022-03-17T04:01:48.051436",
     "exception": false,
     "start_time": "2022-03-17T04:01:47.970147",
     "status": "completed"
    },
    "tags": []
   },
   "outputs": [
    {
     "name": "stdout",
     "output_type": "stream",
     "text": [
      "              precision    recall  f1-score   support\n",
      "\n",
      "           0       0.93      0.83      0.88       102\n",
      "           1       0.85      0.94      0.89       103\n",
      "\n",
      "    accuracy                           0.89       205\n",
      "   macro avg       0.89      0.89      0.89       205\n",
      "weighted avg       0.89      0.89      0.89       205\n",
      "\n"
     ]
    }
   ],
   "source": [
    "print(classification_report(y_test, preds))"
   ]
  },
  {
   "cell_type": "code",
   "execution_count": 34,
   "id": "11a8ef41",
   "metadata": {
    "execution": {
     "iopub.execute_input": "2022-03-17T04:01:48.200183Z",
     "iopub.status.busy": "2022-03-17T04:01:48.189036Z",
     "iopub.status.idle": "2022-03-17T04:01:48.204719Z",
     "shell.execute_reply": "2022-03-17T04:01:48.205529Z",
     "shell.execute_reply.started": "2022-03-17T04:00:48.405171Z"
    },
    "papermill": {
     "duration": 0.085598,
     "end_time": "2022-03-17T04:01:48.205742",
     "exception": false,
     "start_time": "2022-03-17T04:01:48.120144",
     "status": "completed"
    },
    "tags": []
   },
   "outputs": [
    {
     "data": {
      "text/html": [
       "<div>\n",
       "<style scoped>\n",
       "    .dataframe tbody tr th:only-of-type {\n",
       "        vertical-align: middle;\n",
       "    }\n",
       "\n",
       "    .dataframe tbody tr th {\n",
       "        vertical-align: top;\n",
       "    }\n",
       "\n",
       "    .dataframe thead th {\n",
       "        text-align: right;\n",
       "    }\n",
       "</style>\n",
       "<table border=\"1\" class=\"dataframe\">\n",
       "  <thead>\n",
       "    <tr style=\"text-align: right;\">\n",
       "      <th></th>\n",
       "      <th>Actual</th>\n",
       "      <th>Predicted</th>\n",
       "    </tr>\n",
       "  </thead>\n",
       "  <tbody>\n",
       "    <tr>\n",
       "      <th>0</th>\n",
       "      <td>1</td>\n",
       "      <td>1</td>\n",
       "    </tr>\n",
       "    <tr>\n",
       "      <th>1</th>\n",
       "      <td>1</td>\n",
       "      <td>1</td>\n",
       "    </tr>\n",
       "    <tr>\n",
       "      <th>2</th>\n",
       "      <td>0</td>\n",
       "      <td>0</td>\n",
       "    </tr>\n",
       "    <tr>\n",
       "      <th>3</th>\n",
       "      <td>1</td>\n",
       "      <td>1</td>\n",
       "    </tr>\n",
       "    <tr>\n",
       "      <th>4</th>\n",
       "      <td>0</td>\n",
       "      <td>0</td>\n",
       "    </tr>\n",
       "    <tr>\n",
       "      <th>...</th>\n",
       "      <td>...</td>\n",
       "      <td>...</td>\n",
       "    </tr>\n",
       "    <tr>\n",
       "      <th>200</th>\n",
       "      <td>1</td>\n",
       "      <td>1</td>\n",
       "    </tr>\n",
       "    <tr>\n",
       "      <th>201</th>\n",
       "      <td>1</td>\n",
       "      <td>1</td>\n",
       "    </tr>\n",
       "    <tr>\n",
       "      <th>202</th>\n",
       "      <td>1</td>\n",
       "      <td>1</td>\n",
       "    </tr>\n",
       "    <tr>\n",
       "      <th>203</th>\n",
       "      <td>0</td>\n",
       "      <td>0</td>\n",
       "    </tr>\n",
       "    <tr>\n",
       "      <th>204</th>\n",
       "      <td>0</td>\n",
       "      <td>0</td>\n",
       "    </tr>\n",
       "  </tbody>\n",
       "</table>\n",
       "<p>205 rows × 2 columns</p>\n",
       "</div>"
      ],
      "text/plain": [
       "     Actual  Predicted\n",
       "0         1          1\n",
       "1         1          1\n",
       "2         0          0\n",
       "3         1          1\n",
       "4         0          0\n",
       "..      ...        ...\n",
       "200       1          1\n",
       "201       1          1\n",
       "202       1          1\n",
       "203       0          0\n",
       "204       0          0\n",
       "\n",
       "[205 rows x 2 columns]"
      ]
     },
     "execution_count": 34,
     "metadata": {},
     "output_type": "execute_result"
    }
   ],
   "source": [
    "pd.DataFrame({'Actual' : y_test, 'Predicted' : preds})"
   ]
  },
  {
   "cell_type": "code",
   "execution_count": 35,
   "id": "1a16c839",
   "metadata": {
    "execution": {
     "iopub.execute_input": "2022-03-17T04:01:48.350229Z",
     "iopub.status.busy": "2022-03-17T04:01:48.348823Z",
     "iopub.status.idle": "2022-03-17T04:01:48.353494Z",
     "shell.execute_reply": "2022-03-17T04:01:48.354091Z"
    },
    "papermill": {
     "duration": 0.078443,
     "end_time": "2022-03-17T04:01:48.354325",
     "exception": false,
     "start_time": "2022-03-17T04:01:48.275882",
     "status": "completed"
    },
    "tags": []
   },
   "outputs": [],
   "source": [
    "### Among the two classifiers SVC performs better than logistic regression "
   ]
  }
 ],
 "metadata": {
  "kernelspec": {
   "display_name": "Python 3 (ipykernel)",
   "language": "python",
   "name": "python3"
  },
  "language_info": {
   "codemirror_mode": {
    "name": "ipython",
    "version": 3
   },
   "file_extension": ".py",
   "mimetype": "text/x-python",
   "name": "python",
   "nbconvert_exporter": "python",
   "pygments_lexer": "ipython3",
   "version": "3.9.7"
  },
  "papermill": {
   "default_parameters": {},
   "duration": 24.330852,
   "end_time": "2022-03-17T04:01:49.338461",
   "environment_variables": {},
   "exception": null,
   "input_path": "__notebook__.ipynb",
   "output_path": "__notebook__.ipynb",
   "parameters": {},
   "start_time": "2022-03-17T04:01:25.007609",
   "version": "2.3.3"
  }
 },
 "nbformat": 4,
 "nbformat_minor": 5
}
